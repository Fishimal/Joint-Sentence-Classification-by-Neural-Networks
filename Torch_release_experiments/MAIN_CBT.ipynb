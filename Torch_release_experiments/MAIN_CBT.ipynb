{
 "cells": [
  {
   "cell_type": "code",
   "execution_count": 1,
   "id": "ec53007b",
   "metadata": {},
   "outputs": [
    {
     "name": "stderr",
     "output_type": "stream",
     "text": [
      "2022-09-24 19:47:09.695860: I tensorflow/core/platform/cpu_feature_guard.cc:193] This TensorFlow binary is optimized with oneAPI Deep Neural Network Library (oneDNN) to use the following CPU instructions in performance-critical operations:  AVX2 FMA\n",
      "To enable them in other operations, rebuild TensorFlow with the appropriate compiler flags.\n",
      "2022-09-24 19:47:09.849504: E tensorflow/stream_executor/cuda/cuda_blas.cc:2981] Unable to register cuBLAS factory: Attempting to register factory for plugin cuBLAS when one has already been registered\n",
      "2022-09-24 19:47:10.396094: W tensorflow/stream_executor/platform/default/dso_loader.cc:64] Could not load dynamic library 'libnvinfer.so.7'; dlerror: libnvinfer.so.7: cannot open shared object file: No such file or directory\n",
      "2022-09-24 19:47:10.396163: W tensorflow/stream_executor/platform/default/dso_loader.cc:64] Could not load dynamic library 'libnvinfer_plugin.so.7'; dlerror: libnvinfer_plugin.so.7: cannot open shared object file: No such file or directory\n",
      "2022-09-24 19:47:10.396171: W tensorflow/compiler/tf2tensorrt/utils/py_utils.cc:38] TF-TRT Warning: Cannot dlopen some TensorRT libraries. If you would like to use Nvidia GPU with TensorRT, please make sure the missing libraries mentioned above are installed properly.\n"
     ]
    }
   ],
   "source": [
    "import numpy as np\n",
    "import pandas as pd\n",
    "import matplotlib.pyplot as plt\n",
    "import seaborn as sns\n",
    "import tensorflow as tf\n",
    "from py_help import torch_helper as tc_help\n",
    "import torch\n",
    "import torch.nn as nn\n",
    "import torch.optim as optim\n",
    "import torch.nn.functional as F\n",
    "from torch.utils.data import Dataset, DataLoader\n",
    "import nltk \n",
    "from nltk.corpus import stopwords\n",
    "from nltk.stem import PorterStemmer\n",
    "import re\n",
    "from tqdm.notebook import tqdm \n",
    "import os\n",
    "from more_itertools import take\n",
    "\n",
    "import transformers\n",
    "from transformers import DistilBertTokenizer, RobertaTokenizer, DistilBertTokenizerFast, DistilBertConfig, TFDistilBertModel, BertModel, BertTokenizerFast, DistilBertModel\n",
    "from transformers import BertForSequenceClassification, AdamW, get_linear_schedule_with_warmup"
   ]
  },
  {
   "cell_type": "markdown",
   "id": "0b099965",
   "metadata": {},
   "source": [
    "# Device setup"
   ]
  },
  {
   "cell_type": "code",
   "execution_count": 2,
   "id": "f189760a",
   "metadata": {},
   "outputs": [
    {
     "name": "stdout",
     "output_type": "stream",
     "text": [
      "cuda\n"
     ]
    }
   ],
   "source": [
    "device = torch.device('cuda' if torch.cuda.is_available() else 'cpu')\n",
    "print(device)\n",
    "\n",
    "batch_size = 64\n",
    "\n",
    "max_length = 128"
   ]
  },
  {
   "cell_type": "code",
   "execution_count": 3,
   "id": "33cd1fae",
   "metadata": {},
   "outputs": [
    {
     "data": {
      "text/plain": [
       "['../Dataset/pubmed-rct/PubMed_20k_RCT_numbers_replaced_with_at_sign/test.txt',\n",
       " '../Dataset/pubmed-rct/PubMed_20k_RCT_numbers_replaced_with_at_sign/train.txt',\n",
       " '../Dataset/pubmed-rct/PubMed_20k_RCT_numbers_replaced_with_at_sign/dev.txt']"
      ]
     },
     "execution_count": 3,
     "metadata": {},
     "output_type": "execute_result"
    }
   ],
   "source": [
    "\n",
    "files = ['../Dataset/pubmed-rct/PubMed_20k_RCT_numbers_replaced_with_at_sign/' + file for file in os.listdir('../Dataset/pubmed-rct/PubMed_20k_RCT_numbers_replaced_with_at_sign/')]\n",
    "files"
   ]
  },
  {
   "cell_type": "markdown",
   "id": "24cf27c8",
   "metadata": {},
   "source": [
    "# Preparing the dataset for label encoding"
   ]
  },
  {
   "cell_type": "code",
   "execution_count": 4,
   "id": "0a4ada07",
   "metadata": {},
   "outputs": [
    {
     "data": {
      "text/plain": [
       "['###24293578\\n',\n",
       " 'OBJECTIVE\\tTo investigate the efficacy of @ weeks of daily low-dose oral prednisolone in improving pain , mobility , and systemic low-grade inflammation in the short term and whether the effect would be sustained at @ weeks in older adults with moderate to severe knee osteoarthritis ( OA ) .\\n',\n",
       " 'METHODS\\tA total of @ patients with primary knee OA were randomized @:@ ; @ received @ mg/day of prednisolone and @ received placebo for @ weeks .\\n',\n",
       " 'METHODS\\tOutcome measures included pain reduction and improvement in function scores and systemic inflammation markers .\\n',\n",
       " 'METHODS\\tPain was assessed using the visual analog pain scale ( @-@ mm ) .\\n']"
      ]
     },
     "execution_count": 4,
     "metadata": {},
     "output_type": "execute_result"
    }
   ],
   "source": [
    "train_data = tc_help().get_lines(files[1])\n",
    "train_data[:5]"
   ]
  },
  {
   "cell_type": "code",
   "execution_count": 5,
   "id": "6bf06359",
   "metadata": {},
   "outputs": [],
   "source": [
    "train_contents = tc_help().pre_processor(files[1])\n",
    "test_contents = tc_help().pre_processor(files[0])\n",
    "val_contents = tc_help().pre_processor(files[2])\n",
    "\n",
    "train_df = pd.DataFrame(train_contents)\n",
    "test_df = pd.DataFrame(test_contents)\n",
    "val_df = pd.DataFrame(val_contents)"
   ]
  },
  {
   "cell_type": "code",
   "execution_count": 6,
   "id": "cedfeae1",
   "metadata": {},
   "outputs": [
    {
     "data": {
      "text/plain": [
       "(180040, 30135, 30212)"
      ]
     },
     "execution_count": 6,
     "metadata": {},
     "output_type": "execute_result"
    }
   ],
   "source": [
    "len(train_contents), len(test_contents), len(val_contents)"
   ]
  },
  {
   "cell_type": "code",
   "execution_count": 7,
   "id": "721ad500",
   "metadata": {
    "scrolled": true
   },
   "outputs": [
    {
     "data": {
      "text/html": [
       "<div>\n",
       "<style scoped>\n",
       "    .dataframe tbody tr th:only-of-type {\n",
       "        vertical-align: middle;\n",
       "    }\n",
       "\n",
       "    .dataframe tbody tr th {\n",
       "        vertical-align: top;\n",
       "    }\n",
       "\n",
       "    .dataframe thead th {\n",
       "        text-align: right;\n",
       "    }\n",
       "</style>\n",
       "<table border=\"1\" class=\"dataframe\">\n",
       "  <thead>\n",
       "    <tr style=\"text-align: right;\">\n",
       "      <th></th>\n",
       "      <th>target</th>\n",
       "      <th>text</th>\n",
       "      <th>line_number</th>\n",
       "      <th>total_lines</th>\n",
       "    </tr>\n",
       "  </thead>\n",
       "  <tbody>\n",
       "    <tr>\n",
       "      <th>0</th>\n",
       "      <td>OBJECTIVE</td>\n",
       "      <td>to investigate the efficacy of @ weeks of dail...</td>\n",
       "      <td>0</td>\n",
       "      <td>11</td>\n",
       "    </tr>\n",
       "    <tr>\n",
       "      <th>1</th>\n",
       "      <td>METHODS</td>\n",
       "      <td>a total of @ patients with primary knee oa wer...</td>\n",
       "      <td>1</td>\n",
       "      <td>11</td>\n",
       "    </tr>\n",
       "    <tr>\n",
       "      <th>2</th>\n",
       "      <td>METHODS</td>\n",
       "      <td>outcome measures included pain reduction and i...</td>\n",
       "      <td>2</td>\n",
       "      <td>11</td>\n",
       "    </tr>\n",
       "    <tr>\n",
       "      <th>3</th>\n",
       "      <td>METHODS</td>\n",
       "      <td>pain was assessed using the visual analog pain...</td>\n",
       "      <td>3</td>\n",
       "      <td>11</td>\n",
       "    </tr>\n",
       "    <tr>\n",
       "      <th>4</th>\n",
       "      <td>METHODS</td>\n",
       "      <td>secondary outcome measures included the wester...</td>\n",
       "      <td>4</td>\n",
       "      <td>11</td>\n",
       "    </tr>\n",
       "  </tbody>\n",
       "</table>\n",
       "</div>"
      ],
      "text/plain": [
       "      target                                               text  line_number  \\\n",
       "0  OBJECTIVE  to investigate the efficacy of @ weeks of dail...            0   \n",
       "1    METHODS  a total of @ patients with primary knee oa wer...            1   \n",
       "2    METHODS  outcome measures included pain reduction and i...            2   \n",
       "3    METHODS  pain was assessed using the visual analog pain...            3   \n",
       "4    METHODS  secondary outcome measures included the wester...            4   \n",
       "\n",
       "   total_lines  \n",
       "0           11  \n",
       "1           11  \n",
       "2           11  \n",
       "3           11  \n",
       "4           11  "
      ]
     },
     "execution_count": 7,
     "metadata": {},
     "output_type": "execute_result"
    }
   ],
   "source": [
    "train_df.head()"
   ]
  },
  {
   "cell_type": "code",
   "execution_count": 8,
   "id": "902b1d6e",
   "metadata": {},
   "outputs": [
    {
     "name": "stdout",
     "output_type": "stream",
     "text": [
      "METHODS        59353\n",
      "RESULTS        57953\n",
      "CONCLUSIONS    27168\n",
      "BACKGROUND     21727\n",
      "OBJECTIVE      13839\n",
      "Name: target, dtype: int64\n"
     ]
    },
    {
     "data": {
      "text/plain": [
       "<AxesSubplot: >"
      ]
     },
     "execution_count": 8,
     "metadata": {},
     "output_type": "execute_result"
    },
    {
     "data": {
      "image/png": "[encoded data removed]",
      "text/plain": [
       "<Figure size 640x480 with 1 Axes>"
      ]
     },
     "metadata": {},
     "output_type": "display_data"
    }
   ],
   "source": [
    "# grab the val counts for the targets\n",
    "# train_df['target'].value_counts()\n",
    "# plt.figure(figsize=(10,7))\n",
    "# sns.countplot('target', data=train_df)\n",
    "print(train_df.target.value_counts())\n",
    "train_df.target.value_counts().plot.bar()"
   ]
  },
  {
   "cell_type": "code",
   "execution_count": 9,
   "id": "2979c3f4",
   "metadata": {},
   "outputs": [
    {
     "name": "stderr",
     "output_type": "stream",
     "text": [
      "[nltk_data] Downloading package stopwords to\n",
      "[nltk_data]     /home/markins/nltk_data...\n",
      "[nltk_data]   Package stopwords is already up-to-date!\n"
     ]
    },
    {
     "name": "stdout",
     "output_type": "stream",
     "text": [
      "['i', 'me', 'my', 'myself', 'we', 'our', 'ours', 'ourselves', 'you', \"you're\", \"you've\", \"you'll\", \"you'd\", 'your', 'yours']\n",
      "to investigate the efficacy of @ weeks of daily low-dose oral prednisolone in improving pain , mobility , and systemic low-grade inflammation in the short term and whether the effect would be sustained at @ weeks in older adults with moderate to severe knee osteoarthritis ( oa ) .\n",
      "\n",
      "investigate efficacy weeks daily low dose oral prednisolone improving pain mobility systemic low grade inflammation short term whether effect would sustained weeks older adults moderate severe knee osteoarthritis\n",
      "The number of sentences for training are : 180040 \n",
      "The number of sentences for vaildation are : 30212\n",
      " The number of sentences for testing are : 30135\n"
     ]
    }
   ],
   "source": [
    "# TODO STOP WORD REMOVAL\n",
    "\n",
    "nltk.download(\"stopwords\")\n",
    "swrds = stopwords.words(\"english\")\n",
    "print(swrds[:15])\n",
    "porter = PorterStemmer()\n",
    "\n",
    "\n",
    "def nltk_preprocessor(sentence,stopwords=swrds):\n",
    "        \"\"\"preprocessing the data based on nltk STOPWORDS\n",
    "\n",
    "        Args:\n",
    "            sentence (string): The string or the sentence that is to be passed \n",
    "\n",
    "        Returns:\n",
    "            sentence (string): The pre proceesed result from the function \n",
    "        \"\"\"\n",
    "\n",
    "        sentence = sentence.lower()\n",
    "        # get rid of the stop words\n",
    "        pt = re.compile(r\"\\b(\" + r\"|\".join(stopwords) + r\")\\b\\s*\")\n",
    "        sentence = pt.sub(\"\", sentence)\n",
    "        # paranthesis cases \n",
    "        sentence = re.sub(r\"\\([^)]*\\)\", \"\", sentence)\n",
    "        # handling the spaces and the filters\n",
    "        sentence = re.sub(r\"([-;;.,!?<=>])\", r\" \\1\", sentence)\n",
    "        sentence = re.sub(r\"[^A-Za-z0-9]\", \" \", sentence) # removing all cases for non alpha numeric characters \n",
    "        sentence = re.sub(\" +\", \" \", sentence)\n",
    "        sentence = sentence.strip()\n",
    "\n",
    "        return sentence \n",
    "\n",
    "prep_df = train_df.copy()\n",
    "prep_df.text = prep_df.text.apply(nltk_preprocessor)\n",
    "print(f\"{train_df.text.values[0]}\\n\\n{prep_df.text.values[0]}\")\n",
    "print(\"The number of sentences for training are : {} \\nThe number of sentences for vaildation are : {}\\n The number of sentences for testing are : {}\".format(len(train_df['text'].tolist()),len(val_df['text'].tolist()),len(test_df['text'].tolist())))"
   ]
  },
  {
   "cell_type": "code",
   "execution_count": 10,
   "id": "1ede30de",
   "metadata": {},
   "outputs": [
    {
     "data": {
      "text/plain": [
       "(180040, 30212, 30135)"
      ]
     },
     "execution_count": 10,
     "metadata": {},
     "output_type": "execute_result"
    }
   ],
   "source": [
    "train_sentences = train_df['text'].tolist()\n",
    "val_sentences = val_df['text'].tolist()\n",
    "test_sentences = test_df['text'].tolist()\n",
    "\n",
    "len(train_sentences), len(val_sentences), len(test_sentences)"
   ]
  },
  {
   "cell_type": "code",
   "execution_count": 11,
   "id": "27ea9b8d",
   "metadata": {},
   "outputs": [
    {
     "name": "stdout",
     "output_type": "stream",
     "text": [
      "Trained Data shape ----> X_train : (126027,) , Y_train : (126027,) \n",
      "Validation Data Shape -----> X_val : (27006,) , Y_val : (27006,)\n",
      "Testing Data Shape -----> X_test : (27007,) , Y_test : (27007,)\n"
     ]
    }
   ],
   "source": [
    "train_sz,val_sz,test_sz = 0.7,0.2,0.1\n",
    "x,y = prep_df['text'].values,prep_df['target'].values\n",
    "x_train,x_val,x_test,y_train,y_val,y_test = tc_help().data_splitter(x,y,train_sz)\n",
    "print('Trained Data shape ----> X_train : {} , Y_train : {} \\nValidation Data Shape -----> X_val : {} , Y_val : {}\\nTesting Data Shape -----> X_test : {} , Y_test : {}'.format(x_train.shape, y_train.shape, x_val.shape, y_val.shape, x_test.shape, y_test.shape))"
   ]
  },
  {
   "cell_type": "code",
   "execution_count": 12,
   "id": "e88f5c58",
   "metadata": {},
   "outputs": [
    {
     "name": "stdout",
     "output_type": "stream",
     "text": [
      "The nos label encoded classes : 5\n"
     ]
    },
    {
     "data": {
      "text/plain": [
       "{'BACKGROUND': 0, 'CONCLUSIONS': 1, 'METHODS': 2, 'OBJECTIVE': 3, 'RESULTS': 4}"
      ]
     },
     "execution_count": 12,
     "metadata": {},
     "output_type": "execute_result"
    }
   ],
   "source": [
    "lb = tc_help().lb_encoder\n",
    "lb.lb_fit(y_train)\n",
    "classes = len(lb)\n",
    "print('The nos label encoded classes : {}'.format(classes))\n",
    "lb.target_classes\n"
   ]
  },
  {
   "cell_type": "code",
   "execution_count": 13,
   "id": "1e051c81",
   "metadata": {},
   "outputs": [
    {
     "data": {
      "text/plain": [
       "dict_keys(['BACKGROUND', 'CONCLUSIONS', 'METHODS', 'OBJECTIVE', 'RESULTS'])"
      ]
     },
     "execution_count": 13,
     "metadata": {},
     "output_type": "execute_result"
    }
   ],
   "source": [
    "lb.target_classes.keys()"
   ]
  },
  {
   "cell_type": "code",
   "execution_count": 14,
   "id": "59014cbb",
   "metadata": {},
   "outputs": [],
   "source": [
    "# labelling targets to nos \n",
    "y_train,y_val,y_test = lb.lb_encoder(y_train),lb.lb_encoder(y_val),lb.lb_encoder(y_test)\n"
   ]
  },
  {
   "cell_type": "code",
   "execution_count": 15,
   "id": "0c2c5848",
   "metadata": {},
   "outputs": [
    {
     "name": "stdout",
     "output_type": "stream",
     "text": [
      "Counts and weights of the classes respectively : [15209 19017 41547  9687 40567] and \n",
      " {0: 6.575054244197515e-05, 1: 5.258452963138245e-05, 2: 2.4069126531398175e-05, 3: 0.00010323113451016826, 4: 2.4650578056055415e-05} \n"
     ]
    }
   ],
   "source": [
    "cnts = np.bincount(y_train)\n",
    "clw = {index : 1.0/cnts for index , cnts in enumerate(cnts)}\n",
    "print(\"Counts and weights of the classes respectively : {} and \\n {} \".format(cnts,clw))"
   ]
  },
  {
   "cell_type": "markdown",
   "id": "e81f459a",
   "metadata": {},
   "source": [
    "# Tokenizing"
   ]
  },
  {
   "cell_type": "code",
   "execution_count": 16,
   "id": "9d46a00c",
   "metadata": {},
   "outputs": [
    {
     "name": "stdout",
     "output_type": "stream",
     "text": [
      "38831\n"
     ]
    }
   ],
   "source": [
    "tknz = tc_help().ct_tokenzr\n",
    "tknz.__init__(ch_lvl=False, nos_tkns=60000)\n",
    "tknz.txt_fitter(txt=x_train)\n",
    "VOCABULARY_SZ = len(tknz)\n",
    "print(VOCABULARY_SZ)"
   ]
  },
  {
   "cell_type": "code",
   "execution_count": 24,
   "id": "8c5d3318",
   "metadata": {},
   "outputs": [
    {
     "name": "stdout",
     "output_type": "stream",
     "text": [
      "[('<PAD>', 0), ('<UNK>', 1), ('patients', 2), ('group', 3), ('treatment', 4), ('study', 5), ('groups', 6), ('randomized', 7), ('trial', 8), ('compared', 9)]\n",
      "The tokens with the leats significance and freq : 1\n"
     ]
    }
   ],
   "source": [
    "# grab some sample tokens\n",
    "print(take(10, tknz.tkn_to_idx.items()))\n",
    "print(f\"The tokens with the leats significance and freq : {tknz.min_tkn_frq}\")"
   ]
  },
  {
   "cell_type": "code",
   "execution_count": 18,
   "id": "115d69bf",
   "metadata": {},
   "outputs": [],
   "source": [
    "# texts to nums\n",
    "x_train =  tknz.txt_seq(x_train)\n",
    "x_val = tknz.txt_seq(x_val)\n",
    "x_test = tknz.txt_seq(x_test)"
   ]
  },
  {
   "cell_type": "code",
   "execution_count": 19,
   "id": "e0423cb5",
   "metadata": {},
   "outputs": [
    {
     "data": {
      "text/plain": [
       "(1970, 422, 422)"
      ]
     },
     "execution_count": 19,
     "metadata": {},
     "output_type": "execute_result"
    }
   ],
   "source": [
    "class CustomDataset(Dataset):\n",
    "    \"\"\"Generates custom tokenized preprocessed dataset\n",
    "    \"\"\"\n",
    "\n",
    "\n",
    "    def __init__(self, x, y):\n",
    "        self.x = x \n",
    "        self.y = y \n",
    "\n",
    "    def collation(self, data):\n",
    "        \"\"\"Preprocessing on a batch of dataset\n",
    "\n",
    "        Args:\n",
    "            data (ndarray): A batch of dataset in an array format\n",
    "        \"\"\"\n",
    "        # grabbing the input\n",
    "        data = np.array(data)\n",
    "        x = data[:,0]\n",
    "        len_seq, y = data[:,1], data[:,2]\n",
    "        # inputs getting padded\n",
    "        x = tc_help().seq_padder(seq=x)\n",
    "        # inputs -----> tensors\n",
    "        x = torch.LongTensor(x.astype(np.int32))\n",
    "        len_seq = torch.LongTensor(len_seq.astype(np.int32))\n",
    "        y = torch.LongTensor(y.astype(np.int32))\n",
    "        return x, len_seq, y\n",
    "\n",
    "    def create_datald(self, batch_size, shuffle=False,drop_last=False):\n",
    "        dloader = DataLoader(dataset=self, batch_size=batch_size, collate_fn=self.collation, shuffle=shuffle, drop_last=drop_last, pin_memory=True)\n",
    "        return dloader\n",
    "\n",
    "    def __len__(self):\n",
    "        return len(self.y)\n",
    "    \n",
    "    def __getitem__(self, pos):\n",
    "        return [self.x[pos], len(x), self.y[pos]]\n",
    "    \n",
    "    def __str__(self):\n",
    "        return f\"<CustomDataset (N= {len(self)})>\"\n",
    "\n",
    "train_data = CustomDataset(x_train,y_train)\n",
    "test_data = CustomDataset(x_val, y_val)\n",
    "val_data = CustomDataset(x_test, y_test)\n",
    "train_dl = train_data.create_datald(batch_size=64)\n",
    "test_dl = test_data.create_datald(batch_size=64)\n",
    "val_dl = test_data.create_datald(batch_size=64)\n",
    "\n",
    "len(train_dl), len(val_dl), len(test_dl)"
   ]
  },
  {
   "cell_type": "code",
   "execution_count": 20,
   "id": "2578575f",
   "metadata": {},
   "outputs": [
    {
     "data": {
      "text/plain": [
       "[array([7271, 3909,   61,    7,   28]), 180040, 4]"
      ]
     },
     "execution_count": 20,
     "metadata": {},
     "output_type": "execute_result"
    }
   ],
   "source": [
    "train_data[18]"
   ]
  },
  {
   "cell_type": "code",
   "execution_count": 22,
   "id": "a0989fdf",
   "metadata": {},
   "outputs": [
    {
     "name": "stderr",
     "output_type": "stream",
     "text": [
      "/tmp/ipykernel_31071/604025813.py:17: VisibleDeprecationWarning: Creating an ndarray from ragged nested sequences (which is a list-or-tuple of lists-or-tuples-or ndarrays with different lengths or shapes) is deprecated. If you meant to do this, you must specify 'dtype=object' when creating the ndarray.\n",
      "  data = np.array(data)\n"
     ]
    },
    {
     "data": {
      "text/plain": [
       "tensor([231,   0,   0,   0,   0,   0,   0,   0,   0,   0,   0,   0,   0,   0,\n",
       "          0,   0,   0,   0,   0,   0])"
      ]
     },
     "execution_count": 22,
     "metadata": {},
     "output_type": "execute_result"
    }
   ],
   "source": [
    "batchset_x , batch_sq_ln, batchset_y = next(iter(train_dl))\n",
    "batchset_x[0]\n"
   ]
  },
  {
   "cell_type": "code",
   "execution_count": null,
   "id": "e16f9675",
   "metadata": {},
   "outputs": [],
   "source": []
  }
 ],
 "metadata": {
  "kernelspec": {
   "display_name": "Python 3 (ipykernel)",
   "language": "python",
   "name": "python3"
  },
  "language_info": {
   "codemirror_mode": {
    "name": "ipython",
    "version": 3
   },
   "file_extension": ".py",
   "mimetype": "text/x-python",
   "name": "python",
   "nbconvert_exporter": "python",
   "pygments_lexer": "ipython3",
   "version": "3.10.6"
  },
  "vscode": {
   "interpreter": {
    "hash": "916dbcbb3f70747c44a77c7bcd40155683ae19c65e1c03b4aa3499c5328201f1"
   }
  }
 },
 "nbformat": 4,
 "nbformat_minor": 5
}
