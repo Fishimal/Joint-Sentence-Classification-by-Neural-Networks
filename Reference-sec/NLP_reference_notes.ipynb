{
  "cells": [
    {
      "cell_type": "code",
      "execution_count": 1,
      "id": "2dbe40c5",
      "metadata": {
        "colab": {
          "base_uri": "https://localhost:8080/"
        },
        "id": "2dbe40c5",
        "outputId": "c8b1f83a-a0be-4264-aeea-77a67669c5a1"
      },
      "outputs": [
        {
          "output_type": "stream",
          "name": "stdout",
          "text": [
            "Mon Aug 15 04:19:04 2022       \n",
            "+-----------------------------------------------------------------------------+\n",
            "| NVIDIA-SMI 460.32.03    Driver Version: 460.32.03    CUDA Version: 11.2     |\n",
            "|-------------------------------+----------------------+----------------------+\n",
            "| GPU  Name        Persistence-M| Bus-Id        Disp.A | Volatile Uncorr. ECC |\n",
            "| Fan  Temp  Perf  Pwr:Usage/Cap|         Memory-Usage | GPU-Util  Compute M. |\n",
            "|                               |                      |               MIG M. |\n",
            "|===============================+======================+======================|\n",
            "|   0  Tesla T4            Off  | 00000000:00:04.0 Off |                    0 |\n",
            "| N/A   35C    P8     9W /  70W |      0MiB / 15109MiB |      0%      Default |\n",
            "|                               |                      |                  N/A |\n",
            "+-------------------------------+----------------------+----------------------+\n",
            "                                                                               \n",
            "+-----------------------------------------------------------------------------+\n",
            "| Processes:                                                                  |\n",
            "|  GPU   GI   CI        PID   Type   Process name                  GPU Memory |\n",
            "|        ID   ID                                                   Usage      |\n",
            "|=============================================================================|\n",
            "|  No running processes found                                                 |\n",
            "+-----------------------------------------------------------------------------+\n"
          ]
        }
      ],
      "source": [
        "!nvidia-smi"
      ]
    },
    {
      "cell_type": "markdown",
      "id": "924c0a32",
      "metadata": {
        "id": "924c0a32"
      },
      "source": [
        " Do not run this unless required\n",
        " \n",
        " \"\"\"!export LD_LIBRARY_PATH=$LD_LIBRARY_PATH:$CONDA_PREFIX/lib/\"\"\""
      ]
    },
    {
      "cell_type": "code",
      "execution_count": 2,
      "id": "d467c509",
      "metadata": {
        "colab": {
          "base_uri": "https://localhost:8080/"
        },
        "id": "d467c509",
        "outputId": "e4157695-07e8-48a0-ec0f-57b4dfb28a46"
      },
      "outputs": [
        {
          "output_type": "stream",
          "name": "stdout",
          "text": [
            "Number of GPU :  [PhysicalDevice(name='/physical_device:GPU:0', device_type='GPU')]\n"
          ]
        }
      ],
      "source": [
        "!python3 -c 'import tensorflow as tf; print(\"Number of GPU : \",tf.config.list_physical_devices(\"GPU\")) '"
      ]
    },
    {
      "cell_type": "markdown",
      "id": "240d90c1",
      "metadata": {
        "id": "240d90c1"
      },
      "source": [
        "!python3 -c 'import torch as tc; print(\"GPU available : \", tc.cuda.is_available())'"
      ]
    },
    {
      "cell_type": "markdown",
      "id": "998ef527",
      "metadata": {
        "id": "998ef527"
      },
      "source": [
        "NLP problems are classified as sequence problems in the real worlds because the AI in\n",
        "uses word embeddings or vectorised word to train on real world data and then classify textual matters\n",
        "\n",
        "There are various types of sequence problems\n",
        "\n",
        "![image.png](attachment:image.png)"
      ]
    },
    {
      "cell_type": "markdown",
      "id": "60b95dd7",
      "metadata": {
        "id": "60b95dd7"
      },
      "source": [
        "Examples of some sequence problems\n",
        "\n",
        "1.  Many to one - Sentiment Analysis like analysing comments on youtube section,Time series forecasting (like predicting the prices of Bitcoin)\n",
        "2.  One to many - Image Captioning [Passing on an image and the resuly maybe a whole captioned images]\n",
        "3.  Many to many - Google translate"
      ]
    },
    {
      "cell_type": "markdown",
      "id": "24f76d87",
      "metadata": {
        "id": "24f76d87"
      },
      "source": [
        "# Todo update list\n",
        "1. Dataset preprocessing - Done\n",
        "2. Tokenization and embedding - \n",
        "3. RNN/CNN/Transfer-learning model setups\n",
        "4. External model from Tfhub\n",
        "5. Evaluation of the models\n",
        "6. Prediction on custom data\n",
        "\n"
      ]
    },
    {
      "cell_type": "markdown",
      "id": "ed2e5fd9",
      "metadata": {
        "id": "ed2e5fd9"
      },
      "source": [
        "# Inputs and outputs to an NLP problem statement\n",
        "The inputs to an NLP problem is that a sequence of words are passed for example lets take an example of fake news related tweets classification , in this problem the tweets wold get numerical encoded which forms the input in a NLP model, because a Machine learning algorithm prefers values between 0 and 1 so it gets encoded in those ranges by tokenization and Character embedding . The output for this problem would be in probabilities like how much chance is there that it is a fake or how much chance is there\n",
        "that it is real.\n",
        "\n",
        "In simpler words what the machine basically uses is the #BATCH SIZE and the #Embedding_size [these vary as per the problem statement that we are handling].Batch size is basically partitioning the data into batches because for deep learning we need a GPU, and a GPU likes to work on batches on data rather than passing the dataset in one whole go.The embedding size is the size of the tensor because the tweet would be represented as tensor.And the ouputs would be the shape of the output tensor which is equal to the nos of classes the data is getting classified into like 2, 3, 4 ,5. In this case it's getting classified as 2 types like fake or real[this also varies as per your problem statement]."
      ]
    },
    {
      "cell_type": "markdown",
      "id": "4389e669",
      "metadata": {
        "id": "4389e669"
      },
      "source": [
        "# Steps in modelling in Tensorflow\n",
        "![Screenshot_2022-08-04-21-58-55_1920x1080.png](attachment:Screenshot_2022-08-04-21-58-55_1920x1080.png)"
      ]
    },
    {
      "cell_type": "markdown",
      "id": "564aece8",
      "metadata": {
        "id": "564aece8"
      },
      "source": [
        "# Typical Architecture of Recurrent neural network\n",
        "\n",
        "A recurrent neural network (RNN) is a class of artificial neural networks\n",
        "where connections between nodes form a directed \n",
        "or undirected graph along a temporal sequence.\n",
        "\n",
        "Basically it works on data with a temporal sequence that means a data which has a start \n",
        "and a end [Time series problem]\n",
        "\n",
        "![Screenshot_2022-08-04-22-02-30_1920x1080.png](attachment:Screenshot_2022-08-04-22-02-30_1920x1080.png)\n",
        "\n"
      ]
    },
    {
      "cell_type": "raw",
      "id": "3cd09888",
      "metadata": {
        "id": "3cd09888"
      },
      "source": [
        "# Common architecture of a RNN\n",
        "\n",
        "# Creating a LSTM model\n",
        "\n",
        "inputs = layers.Input(shape=(1,),dtype='string')\n",
        "x = text_vectorizer(inputs) # turn the sequence into numbers\n",
        "x = embedding(x) # embedding matrix\n",
        "x = LSTM(64, activation='tanh')(x) # return vector for whole sequence\n",
        "outputs = Dense(1, activation=\"sigmoid\")(x) # output layer\n",
        "model = Model(inputs, outputs, name='LSTM_Model')\n",
        "\n",
        "# Compile the model\n",
        "model.compile(loss=BinaryCrossentropy(),\n",
        "             optimizer=Adam(),\n",
        "             metrics=[\"accuracy\"])\n",
        "# Fitting on the data\n",
        "history = model.fit(train_data, train_labels, epochs=5)\n",
        "\n",
        "https://kawine.github.io/blog/nlp/2019/06/21/word-analogies.html"
      ]
    },
    {
      "cell_type": "code",
      "execution_count": 10,
      "id": "1de791ec",
      "metadata": {
        "colab": {
          "base_uri": "https://localhost:8080/"
        },
        "id": "1de791ec",
        "outputId": "4d55e1bb-e3d0-4775-ecc9-6d289c7aa0c2"
      },
      "outputs": [
        {
          "output_type": "stream",
          "name": "stdout",
          "text": [
            "--2022-08-15 04:25:59--  https://raw.githubusercontent.com/Fishimal/Joint-Sentence-Classification-by-Neural-Networks/main/Reference-sec/train.csv\n",
            "Resolving raw.githubusercontent.com (raw.githubusercontent.com)... 185.199.108.133, 185.199.109.133, 185.199.110.133, ...\n",
            "Connecting to raw.githubusercontent.com (raw.githubusercontent.com)|185.199.108.133|:443... connected.\n",
            "HTTP request sent, awaiting response... 200 OK\n",
            "Length: 987712 (965K) [text/plain]\n",
            "Saving to: ‘train.csv’\n",
            "\n",
            "\rtrain.csv             0%[                    ]       0  --.-KB/s               \rtrain.csv           100%[===================>] 964.56K  --.-KB/s    in 0.007s  \n",
            "\n",
            "2022-08-15 04:25:59 (127 MB/s) - ‘train.csv’ saved [987712/987712]\n",
            "\n"
          ]
        }
      ],
      "source": [
        "# My custom helper functions\n",
        "# !wget https://raw.githubusercontent.com/Purbayan2014/Tensorflow-prac-scripts/master/Transfer-learning/Fine-Tuning/utils.py\n",
        "# !wget https://raw.githubusercontent.com/Fishimal/Joint-Sentence-Classification-by-Neural-Networks/main/Reference-sec/train.csv"
      ]
    },
    {
      "cell_type": "code",
      "execution_count": 11,
      "id": "51c4984d",
      "metadata": {
        "id": "51c4984d"
      },
      "outputs": [],
      "source": [
        "# Libraries used\n",
        "import tensorflow as tf\n",
        "from tensorflow.keras import layers\n",
        "from tensorflow.keras.layers import Embedding\n",
        "from tensorflow.keras.layers.experimental.preprocessing import TextVectorization\n",
        "# from tensorflow.keras.layers import TextVectorization\n",
        "from tensorflow.keras import layers,Model\n",
        "from tensorflow.keras.layers import Input,LSTM,Dense\n",
        "from tensorflow.keras.losses import BinaryCrossentropy\n",
        "from tensorflow.keras.optimizers import Adam\n",
        "from utils import loss_plotter,image_preprocessor,pretty_matrix,pred_image_plt_plot,create_tensorboard_callback,histor_cmp,unzip_data,walker_dt_dir,evaluate_bin_class_model\n",
        "from sklearn.model_selection import train_test_split\n",
        "import pandas as pd\n",
        "import tensorflow_hub as hub\n",
        "import random"
      ]
    },
    {
      "cell_type": "code",
      "execution_count": 12,
      "id": "d7fba559",
      "metadata": {
        "colab": {
          "base_uri": "https://localhost:8080/"
        },
        "id": "d7fba559",
        "outputId": "2dbf66fc-84a2-411e-b1af-335363b0c66d"
      },
      "outputs": [
        {
          "output_type": "stream",
          "name": "stdout",
          "text": [
            "total 1408\n",
            "drwxr-xr-x 1 root root   4096 Aug 15 04:25 .\n",
            "drwxr-xr-x 1 root root   4096 Aug 15 04:15 ..\n",
            "drwxr-xr-x 4 root root   4096 Aug  3 20:20 .config\n",
            "drwxr-xr-x 2 root root   4096 Aug 15 04:20 __pycache__\n",
            "drwxr-xr-x 1 root root   4096 Aug  3 20:21 sample_data\n",
            "-rw-r--r-- 1 root root 420783 Aug 15 04:22 test.csv\n",
            "-rw-r--r-- 1 root root 987712 Aug 15 04:25 train.csv\n",
            "-rw-r--r-- 1 root root   6262 Aug 15 04:20 utils.py\n"
          ]
        }
      ],
      "source": [
        "# getting the dataset [kaggle's introduction to NLP dataset] binary classification\n",
        "!ls -la"
      ]
    },
    {
      "cell_type": "code",
      "execution_count": 13,
      "id": "c40c42ee",
      "metadata": {
        "id": "c40c42ee"
      },
      "outputs": [],
      "source": [
        "# Visualizing the dataset\n",
        "train_df = pd.read_csv('train.csv')\n",
        "test_df = pd.read_csv('test.csv')"
      ]
    },
    {
      "cell_type": "code",
      "execution_count": 14,
      "id": "b54377dc",
      "metadata": {
        "colab": {
          "base_uri": "https://localhost:8080/",
          "height": 285
        },
        "id": "b54377dc",
        "outputId": "43407aed-f99c-4551-95ff-b1b6815ce77f"
      },
      "outputs": [
        {
          "output_type": "execute_result",
          "data": {
            "text/plain": [
              "   id keyword location                                               text  \\\n",
              "0   1     NaN      NaN  Our Deeds are the Reason of this #earthquake M...   \n",
              "1   4     NaN      NaN             Forest fire near La Ronge Sask. Canada   \n",
              "2   5     NaN      NaN  All residents asked to 'shelter in place' are ...   \n",
              "3   6     NaN      NaN  13,000 people receive #wildfires evacuation or...   \n",
              "4   7     NaN      NaN  Just got sent this photo from Ruby #Alaska as ...   \n",
              "\n",
              "   target  \n",
              "0       1  \n",
              "1       1  \n",
              "2       1  \n",
              "3       1  \n",
              "4       1  "
            ],
            "text/html": [
              "\n",
              "  <div id=\"df-00c636a2-c5cb-4470-a255-9c66ddc98b24\">\n",
              "    <div class=\"colab-df-container\">\n",
              "      <div>\n",
              "<style scoped>\n",
              "    .dataframe tbody tr th:only-of-type {\n",
              "        vertical-align: middle;\n",
              "    }\n",
              "\n",
              "    .dataframe tbody tr th {\n",
              "        vertical-align: top;\n",
              "    }\n",
              "\n",
              "    .dataframe thead th {\n",
              "        text-align: right;\n",
              "    }\n",
              "</style>\n",
              "<table border=\"1\" class=\"dataframe\">\n",
              "  <thead>\n",
              "    <tr style=\"text-align: right;\">\n",
              "      <th></th>\n",
              "      <th>id</th>\n",
              "      <th>keyword</th>\n",
              "      <th>location</th>\n",
              "      <th>text</th>\n",
              "      <th>target</th>\n",
              "    </tr>\n",
              "  </thead>\n",
              "  <tbody>\n",
              "    <tr>\n",
              "      <th>0</th>\n",
              "      <td>1</td>\n",
              "      <td>NaN</td>\n",
              "      <td>NaN</td>\n",
              "      <td>Our Deeds are the Reason of this #earthquake M...</td>\n",
              "      <td>1</td>\n",
              "    </tr>\n",
              "    <tr>\n",
              "      <th>1</th>\n",
              "      <td>4</td>\n",
              "      <td>NaN</td>\n",
              "      <td>NaN</td>\n",
              "      <td>Forest fire near La Ronge Sask. Canada</td>\n",
              "      <td>1</td>\n",
              "    </tr>\n",
              "    <tr>\n",
              "      <th>2</th>\n",
              "      <td>5</td>\n",
              "      <td>NaN</td>\n",
              "      <td>NaN</td>\n",
              "      <td>All residents asked to 'shelter in place' are ...</td>\n",
              "      <td>1</td>\n",
              "    </tr>\n",
              "    <tr>\n",
              "      <th>3</th>\n",
              "      <td>6</td>\n",
              "      <td>NaN</td>\n",
              "      <td>NaN</td>\n",
              "      <td>13,000 people receive #wildfires evacuation or...</td>\n",
              "      <td>1</td>\n",
              "    </tr>\n",
              "    <tr>\n",
              "      <th>4</th>\n",
              "      <td>7</td>\n",
              "      <td>NaN</td>\n",
              "      <td>NaN</td>\n",
              "      <td>Just got sent this photo from Ruby #Alaska as ...</td>\n",
              "      <td>1</td>\n",
              "    </tr>\n",
              "  </tbody>\n",
              "</table>\n",
              "</div>\n",
              "      <button class=\"colab-df-convert\" onclick=\"convertToInteractive('df-00c636a2-c5cb-4470-a255-9c66ddc98b24')\"\n",
              "              title=\"Convert this dataframe to an interactive table.\"\n",
              "              style=\"display:none;\">\n",
              "        \n",
              "  <svg xmlns=\"http://www.w3.org/2000/svg\" height=\"24px\"viewBox=\"0 0 24 24\"\n",
              "       width=\"24px\">\n",
              "    <path d=\"M0 0h24v24H0V0z\" fill=\"none\"/>\n",
              "    <path d=\"M18.56 5.44l.94 2.06.94-2.06 2.06-.94-2.06-.94-.94-2.06-.94 2.06-2.06.94zm-11 1L8.5 8.5l.94-2.06 2.06-.94-2.06-.94L8.5 2.5l-.94 2.06-2.06.94zm10 10l.94 2.06.94-2.06 2.06-.94-2.06-.94-.94-2.06-.94 2.06-2.06.94z\"/><path d=\"M17.41 7.96l-1.37-1.37c-.4-.4-.92-.59-1.43-.59-.52 0-1.04.2-1.43.59L10.3 9.45l-7.72 7.72c-.78.78-.78 2.05 0 2.83L4 21.41c.39.39.9.59 1.41.59.51 0 1.02-.2 1.41-.59l7.78-7.78 2.81-2.81c.8-.78.8-2.07 0-2.86zM5.41 20L4 18.59l7.72-7.72 1.47 1.35L5.41 20z\"/>\n",
              "  </svg>\n",
              "      </button>\n",
              "      \n",
              "  <style>\n",
              "    .colab-df-container {\n",
              "      display:flex;\n",
              "      flex-wrap:wrap;\n",
              "      gap: 12px;\n",
              "    }\n",
              "\n",
              "    .colab-df-convert {\n",
              "      background-color: #E8F0FE;\n",
              "      border: none;\n",
              "      border-radius: 50%;\n",
              "      cursor: pointer;\n",
              "      display: none;\n",
              "      fill: #1967D2;\n",
              "      height: 32px;\n",
              "      padding: 0 0 0 0;\n",
              "      width: 32px;\n",
              "    }\n",
              "\n",
              "    .colab-df-convert:hover {\n",
              "      background-color: #E2EBFA;\n",
              "      box-shadow: 0px 1px 2px rgba(60, 64, 67, 0.3), 0px 1px 3px 1px rgba(60, 64, 67, 0.15);\n",
              "      fill: #174EA6;\n",
              "    }\n",
              "\n",
              "    [theme=dark] .colab-df-convert {\n",
              "      background-color: #3B4455;\n",
              "      fill: #D2E3FC;\n",
              "    }\n",
              "\n",
              "    [theme=dark] .colab-df-convert:hover {\n",
              "      background-color: #434B5C;\n",
              "      box-shadow: 0px 1px 3px 1px rgba(0, 0, 0, 0.15);\n",
              "      filter: drop-shadow(0px 1px 2px rgba(0, 0, 0, 0.3));\n",
              "      fill: #FFFFFF;\n",
              "    }\n",
              "  </style>\n",
              "\n",
              "      <script>\n",
              "        const buttonEl =\n",
              "          document.querySelector('#df-00c636a2-c5cb-4470-a255-9c66ddc98b24 button.colab-df-convert');\n",
              "        buttonEl.style.display =\n",
              "          google.colab.kernel.accessAllowed ? 'block' : 'none';\n",
              "\n",
              "        async function convertToInteractive(key) {\n",
              "          const element = document.querySelector('#df-00c636a2-c5cb-4470-a255-9c66ddc98b24');\n",
              "          const dataTable =\n",
              "            await google.colab.kernel.invokeFunction('convertToInteractive',\n",
              "                                                     [key], {});\n",
              "          if (!dataTable) return;\n",
              "\n",
              "          const docLinkHtml = 'Like what you see? Visit the ' +\n",
              "            '<a target=\"_blank\" href=https://colab.research.google.com/notebooks/data_table.ipynb>data table notebook</a>'\n",
              "            + ' to learn more about interactive tables.';\n",
              "          element.innerHTML = '';\n",
              "          dataTable['output_type'] = 'display_data';\n",
              "          await google.colab.output.renderOutput(dataTable, element);\n",
              "          const docLink = document.createElement('div');\n",
              "          docLink.innerHTML = docLinkHtml;\n",
              "          element.appendChild(docLink);\n",
              "        }\n",
              "      </script>\n",
              "    </div>\n",
              "  </div>\n",
              "  "
            ]
          },
          "metadata": {},
          "execution_count": 14
        }
      ],
      "source": [
        "train_df.head()"
      ]
    },
    {
      "cell_type": "code",
      "execution_count": 15,
      "id": "98934a14",
      "metadata": {
        "colab": {
          "base_uri": "https://localhost:8080/",
          "height": 206
        },
        "id": "98934a14",
        "outputId": "4926fa9e-bad4-40b9-f2bf-1287bee79f2b"
      },
      "outputs": [
        {
          "output_type": "execute_result",
          "data": {
            "text/plain": [
              "   id keyword location                                               text\n",
              "0   0     NaN      NaN                 Just happened a terrible car crash\n",
              "1   2     NaN      NaN  Heard about #earthquake is different cities, s...\n",
              "2   3     NaN      NaN  there is a forest fire at spot pond, geese are...\n",
              "3   9     NaN      NaN           Apocalypse lighting. #Spokane #wildfires\n",
              "4  11     NaN      NaN      Typhoon Soudelor kills 28 in China and Taiwan"
            ],
            "text/html": [
              "\n",
              "  <div id=\"df-d4519d75-2f06-4861-8019-41da1384a60c\">\n",
              "    <div class=\"colab-df-container\">\n",
              "      <div>\n",
              "<style scoped>\n",
              "    .dataframe tbody tr th:only-of-type {\n",
              "        vertical-align: middle;\n",
              "    }\n",
              "\n",
              "    .dataframe tbody tr th {\n",
              "        vertical-align: top;\n",
              "    }\n",
              "\n",
              "    .dataframe thead th {\n",
              "        text-align: right;\n",
              "    }\n",
              "</style>\n",
              "<table border=\"1\" class=\"dataframe\">\n",
              "  <thead>\n",
              "    <tr style=\"text-align: right;\">\n",
              "      <th></th>\n",
              "      <th>id</th>\n",
              "      <th>keyword</th>\n",
              "      <th>location</th>\n",
              "      <th>text</th>\n",
              "    </tr>\n",
              "  </thead>\n",
              "  <tbody>\n",
              "    <tr>\n",
              "      <th>0</th>\n",
              "      <td>0</td>\n",
              "      <td>NaN</td>\n",
              "      <td>NaN</td>\n",
              "      <td>Just happened a terrible car crash</td>\n",
              "    </tr>\n",
              "    <tr>\n",
              "      <th>1</th>\n",
              "      <td>2</td>\n",
              "      <td>NaN</td>\n",
              "      <td>NaN</td>\n",
              "      <td>Heard about #earthquake is different cities, s...</td>\n",
              "    </tr>\n",
              "    <tr>\n",
              "      <th>2</th>\n",
              "      <td>3</td>\n",
              "      <td>NaN</td>\n",
              "      <td>NaN</td>\n",
              "      <td>there is a forest fire at spot pond, geese are...</td>\n",
              "    </tr>\n",
              "    <tr>\n",
              "      <th>3</th>\n",
              "      <td>9</td>\n",
              "      <td>NaN</td>\n",
              "      <td>NaN</td>\n",
              "      <td>Apocalypse lighting. #Spokane #wildfires</td>\n",
              "    </tr>\n",
              "    <tr>\n",
              "      <th>4</th>\n",
              "      <td>11</td>\n",
              "      <td>NaN</td>\n",
              "      <td>NaN</td>\n",
              "      <td>Typhoon Soudelor kills 28 in China and Taiwan</td>\n",
              "    </tr>\n",
              "  </tbody>\n",
              "</table>\n",
              "</div>\n",
              "      <button class=\"colab-df-convert\" onclick=\"convertToInteractive('df-d4519d75-2f06-4861-8019-41da1384a60c')\"\n",
              "              title=\"Convert this dataframe to an interactive table.\"\n",
              "              style=\"display:none;\">\n",
              "        \n",
              "  <svg xmlns=\"http://www.w3.org/2000/svg\" height=\"24px\"viewBox=\"0 0 24 24\"\n",
              "       width=\"24px\">\n",
              "    <path d=\"M0 0h24v24H0V0z\" fill=\"none\"/>\n",
              "    <path d=\"M18.56 5.44l.94 2.06.94-2.06 2.06-.94-2.06-.94-.94-2.06-.94 2.06-2.06.94zm-11 1L8.5 8.5l.94-2.06 2.06-.94-2.06-.94L8.5 2.5l-.94 2.06-2.06.94zm10 10l.94 2.06.94-2.06 2.06-.94-2.06-.94-.94-2.06-.94 2.06-2.06.94z\"/><path d=\"M17.41 7.96l-1.37-1.37c-.4-.4-.92-.59-1.43-.59-.52 0-1.04.2-1.43.59L10.3 9.45l-7.72 7.72c-.78.78-.78 2.05 0 2.83L4 21.41c.39.39.9.59 1.41.59.51 0 1.02-.2 1.41-.59l7.78-7.78 2.81-2.81c.8-.78.8-2.07 0-2.86zM5.41 20L4 18.59l7.72-7.72 1.47 1.35L5.41 20z\"/>\n",
              "  </svg>\n",
              "      </button>\n",
              "      \n",
              "  <style>\n",
              "    .colab-df-container {\n",
              "      display:flex;\n",
              "      flex-wrap:wrap;\n",
              "      gap: 12px;\n",
              "    }\n",
              "\n",
              "    .colab-df-convert {\n",
              "      background-color: #E8F0FE;\n",
              "      border: none;\n",
              "      border-radius: 50%;\n",
              "      cursor: pointer;\n",
              "      display: none;\n",
              "      fill: #1967D2;\n",
              "      height: 32px;\n",
              "      padding: 0 0 0 0;\n",
              "      width: 32px;\n",
              "    }\n",
              "\n",
              "    .colab-df-convert:hover {\n",
              "      background-color: #E2EBFA;\n",
              "      box-shadow: 0px 1px 2px rgba(60, 64, 67, 0.3), 0px 1px 3px 1px rgba(60, 64, 67, 0.15);\n",
              "      fill: #174EA6;\n",
              "    }\n",
              "\n",
              "    [theme=dark] .colab-df-convert {\n",
              "      background-color: #3B4455;\n",
              "      fill: #D2E3FC;\n",
              "    }\n",
              "\n",
              "    [theme=dark] .colab-df-convert:hover {\n",
              "      background-color: #434B5C;\n",
              "      box-shadow: 0px 1px 3px 1px rgba(0, 0, 0, 0.15);\n",
              "      filter: drop-shadow(0px 1px 2px rgba(0, 0, 0, 0.3));\n",
              "      fill: #FFFFFF;\n",
              "    }\n",
              "  </style>\n",
              "\n",
              "      <script>\n",
              "        const buttonEl =\n",
              "          document.querySelector('#df-d4519d75-2f06-4861-8019-41da1384a60c button.colab-df-convert');\n",
              "        buttonEl.style.display =\n",
              "          google.colab.kernel.accessAllowed ? 'block' : 'none';\n",
              "\n",
              "        async function convertToInteractive(key) {\n",
              "          const element = document.querySelector('#df-d4519d75-2f06-4861-8019-41da1384a60c');\n",
              "          const dataTable =\n",
              "            await google.colab.kernel.invokeFunction('convertToInteractive',\n",
              "                                                     [key], {});\n",
              "          if (!dataTable) return;\n",
              "\n",
              "          const docLinkHtml = 'Like what you see? Visit the ' +\n",
              "            '<a target=\"_blank\" href=https://colab.research.google.com/notebooks/data_table.ipynb>data table notebook</a>'\n",
              "            + ' to learn more about interactive tables.';\n",
              "          element.innerHTML = '';\n",
              "          dataTable['output_type'] = 'display_data';\n",
              "          await google.colab.output.renderOutput(dataTable, element);\n",
              "          const docLink = document.createElement('div');\n",
              "          docLink.innerHTML = docLinkHtml;\n",
              "          element.appendChild(docLink);\n",
              "        }\n",
              "      </script>\n",
              "    </div>\n",
              "  </div>\n",
              "  "
            ]
          },
          "metadata": {},
          "execution_count": 15
        }
      ],
      "source": [
        "test_df.head()"
      ]
    },
    {
      "cell_type": "code",
      "execution_count": 16,
      "id": "80907d21",
      "metadata": {
        "colab": {
          "base_uri": "https://localhost:8080/",
          "height": 337
        },
        "id": "80907d21",
        "outputId": "3d6939c4-3234-44b6-dc74-28a36a008b16"
      },
      "outputs": [
        {
          "output_type": "execute_result",
          "data": {
            "text/plain": [
              "        id      keyword               location  \\\n",
              "2644  3796  destruction                    NaN   \n",
              "2227  3185       deluge                    NaN   \n",
              "5448  7769       police                     UK   \n",
              "132    191   aftershock                    NaN   \n",
              "6845  9810       trauma  Montgomery County, MD   \n",
              "\n",
              "                                                   text  target  \n",
              "2644  So you have a new weapon that can cause un-ima...       1  \n",
              "2227  The f$&amp;@ing things I do for #GISHWHES Just...       0  \n",
              "5448  DT @georgegalloway: RT @Galloway4Mayor: ÛÏThe...       1  \n",
              "132   Aftershock back to school kick off was great. ...       0  \n",
              "6845  in response to trauma Children of Addicts deve...       0  "
            ],
            "text/html": [
              "\n",
              "  <div id=\"df-3970df76-e54d-4ccf-b82d-ebdaac23fa7e\">\n",
              "    <div class=\"colab-df-container\">\n",
              "      <div>\n",
              "<style scoped>\n",
              "    .dataframe tbody tr th:only-of-type {\n",
              "        vertical-align: middle;\n",
              "    }\n",
              "\n",
              "    .dataframe tbody tr th {\n",
              "        vertical-align: top;\n",
              "    }\n",
              "\n",
              "    .dataframe thead th {\n",
              "        text-align: right;\n",
              "    }\n",
              "</style>\n",
              "<table border=\"1\" class=\"dataframe\">\n",
              "  <thead>\n",
              "    <tr style=\"text-align: right;\">\n",
              "      <th></th>\n",
              "      <th>id</th>\n",
              "      <th>keyword</th>\n",
              "      <th>location</th>\n",
              "      <th>text</th>\n",
              "      <th>target</th>\n",
              "    </tr>\n",
              "  </thead>\n",
              "  <tbody>\n",
              "    <tr>\n",
              "      <th>2644</th>\n",
              "      <td>3796</td>\n",
              "      <td>destruction</td>\n",
              "      <td>NaN</td>\n",
              "      <td>So you have a new weapon that can cause un-ima...</td>\n",
              "      <td>1</td>\n",
              "    </tr>\n",
              "    <tr>\n",
              "      <th>2227</th>\n",
              "      <td>3185</td>\n",
              "      <td>deluge</td>\n",
              "      <td>NaN</td>\n",
              "      <td>The f$&amp;amp;@ing things I do for #GISHWHES Just...</td>\n",
              "      <td>0</td>\n",
              "    </tr>\n",
              "    <tr>\n",
              "      <th>5448</th>\n",
              "      <td>7769</td>\n",
              "      <td>police</td>\n",
              "      <td>UK</td>\n",
              "      <td>DT @georgegalloway: RT @Galloway4Mayor: ÛÏThe...</td>\n",
              "      <td>1</td>\n",
              "    </tr>\n",
              "    <tr>\n",
              "      <th>132</th>\n",
              "      <td>191</td>\n",
              "      <td>aftershock</td>\n",
              "      <td>NaN</td>\n",
              "      <td>Aftershock back to school kick off was great. ...</td>\n",
              "      <td>0</td>\n",
              "    </tr>\n",
              "    <tr>\n",
              "      <th>6845</th>\n",
              "      <td>9810</td>\n",
              "      <td>trauma</td>\n",
              "      <td>Montgomery County, MD</td>\n",
              "      <td>in response to trauma Children of Addicts deve...</td>\n",
              "      <td>0</td>\n",
              "    </tr>\n",
              "  </tbody>\n",
              "</table>\n",
              "</div>\n",
              "      <button class=\"colab-df-convert\" onclick=\"convertToInteractive('df-3970df76-e54d-4ccf-b82d-ebdaac23fa7e')\"\n",
              "              title=\"Convert this dataframe to an interactive table.\"\n",
              "              style=\"display:none;\">\n",
              "        \n",
              "  <svg xmlns=\"http://www.w3.org/2000/svg\" height=\"24px\"viewBox=\"0 0 24 24\"\n",
              "       width=\"24px\">\n",
              "    <path d=\"M0 0h24v24H0V0z\" fill=\"none\"/>\n",
              "    <path d=\"M18.56 5.44l.94 2.06.94-2.06 2.06-.94-2.06-.94-.94-2.06-.94 2.06-2.06.94zm-11 1L8.5 8.5l.94-2.06 2.06-.94-2.06-.94L8.5 2.5l-.94 2.06-2.06.94zm10 10l.94 2.06.94-2.06 2.06-.94-2.06-.94-.94-2.06-.94 2.06-2.06.94z\"/><path d=\"M17.41 7.96l-1.37-1.37c-.4-.4-.92-.59-1.43-.59-.52 0-1.04.2-1.43.59L10.3 9.45l-7.72 7.72c-.78.78-.78 2.05 0 2.83L4 21.41c.39.39.9.59 1.41.59.51 0 1.02-.2 1.41-.59l7.78-7.78 2.81-2.81c.8-.78.8-2.07 0-2.86zM5.41 20L4 18.59l7.72-7.72 1.47 1.35L5.41 20z\"/>\n",
              "  </svg>\n",
              "      </button>\n",
              "      \n",
              "  <style>\n",
              "    .colab-df-container {\n",
              "      display:flex;\n",
              "      flex-wrap:wrap;\n",
              "      gap: 12px;\n",
              "    }\n",
              "\n",
              "    .colab-df-convert {\n",
              "      background-color: #E8F0FE;\n",
              "      border: none;\n",
              "      border-radius: 50%;\n",
              "      cursor: pointer;\n",
              "      display: none;\n",
              "      fill: #1967D2;\n",
              "      height: 32px;\n",
              "      padding: 0 0 0 0;\n",
              "      width: 32px;\n",
              "    }\n",
              "\n",
              "    .colab-df-convert:hover {\n",
              "      background-color: #E2EBFA;\n",
              "      box-shadow: 0px 1px 2px rgba(60, 64, 67, 0.3), 0px 1px 3px 1px rgba(60, 64, 67, 0.15);\n",
              "      fill: #174EA6;\n",
              "    }\n",
              "\n",
              "    [theme=dark] .colab-df-convert {\n",
              "      background-color: #3B4455;\n",
              "      fill: #D2E3FC;\n",
              "    }\n",
              "\n",
              "    [theme=dark] .colab-df-convert:hover {\n",
              "      background-color: #434B5C;\n",
              "      box-shadow: 0px 1px 3px 1px rgba(0, 0, 0, 0.15);\n",
              "      filter: drop-shadow(0px 1px 2px rgba(0, 0, 0, 0.3));\n",
              "      fill: #FFFFFF;\n",
              "    }\n",
              "  </style>\n",
              "\n",
              "      <script>\n",
              "        const buttonEl =\n",
              "          document.querySelector('#df-3970df76-e54d-4ccf-b82d-ebdaac23fa7e button.colab-df-convert');\n",
              "        buttonEl.style.display =\n",
              "          google.colab.kernel.accessAllowed ? 'block' : 'none';\n",
              "\n",
              "        async function convertToInteractive(key) {\n",
              "          const element = document.querySelector('#df-3970df76-e54d-4ccf-b82d-ebdaac23fa7e');\n",
              "          const dataTable =\n",
              "            await google.colab.kernel.invokeFunction('convertToInteractive',\n",
              "                                                     [key], {});\n",
              "          if (!dataTable) return;\n",
              "\n",
              "          const docLinkHtml = 'Like what you see? Visit the ' +\n",
              "            '<a target=\"_blank\" href=https://colab.research.google.com/notebooks/data_table.ipynb>data table notebook</a>'\n",
              "            + ' to learn more about interactive tables.';\n",
              "          element.innerHTML = '';\n",
              "          dataTable['output_type'] = 'display_data';\n",
              "          await google.colab.output.renderOutput(dataTable, element);\n",
              "          const docLink = document.createElement('div');\n",
              "          docLink.innerHTML = docLinkHtml;\n",
              "          element.appendChild(docLink);\n",
              "        }\n",
              "      </script>\n",
              "    </div>\n",
              "  </div>\n",
              "  "
            ]
          },
          "metadata": {},
          "execution_count": 16
        }
      ],
      "source": [
        "# TEXT is the tweets and the targets are the labels\n",
        "# 1 is for disaster and 0 is for safe\n",
        "\n",
        "# shuffling the dataset\n",
        "train_df_sf = train_df.sample(frac=1,random_state=42)\n",
        "train_df_sf.head()"
      ]
    },
    {
      "cell_type": "code",
      "execution_count": 17,
      "id": "890f69a5",
      "metadata": {
        "colab": {
          "base_uri": "https://localhost:8080/"
        },
        "id": "890f69a5",
        "outputId": "ce79d2b2-78c6-4018-dbb9-354032e42b95"
      },
      "outputs": [
        {
          "output_type": "execute_result",
          "data": {
            "text/plain": [
              "0    4342\n",
              "1    3271\n",
              "Name: target, dtype: int64"
            ]
          },
          "metadata": {},
          "execution_count": 17
        }
      ],
      "source": [
        "train_df.target.value_counts() # nos of examples in each classes"
      ]
    },
    {
      "cell_type": "code",
      "execution_count": 18,
      "id": "71c21264",
      "metadata": {
        "colab": {
          "base_uri": "https://localhost:8080/"
        },
        "id": "71c21264",
        "outputId": "50801fab-e616-47ff-a66e-2cd1f7af77db"
      },
      "outputs": [
        {
          "output_type": "stream",
          "name": "stdout",
          "text": [
            "Nos of samples in the dataset : 10876\n"
          ]
        }
      ],
      "source": [
        "print('Nos of samples in the dataset :',len(train_df)+len(test_df))"
      ]
    },
    {
      "cell_type": "code",
      "execution_count": 19,
      "id": "0af59852",
      "metadata": {
        "colab": {
          "base_uri": "https://localhost:8080/"
        },
        "id": "0af59852",
        "outputId": "a5f0fbde-c1b7-48ac-8e47-783e41e24aa0"
      },
      "outputs": [
        {
          "output_type": "stream",
          "name": "stdout",
          "text": [
            "Target : 1 (real disater)\n",
            "Text :\n",
            "@themagickidraps not upset with a rally upset with burning buildings businesses executing cops that have nothing to do with it etc\n",
            "\n",
            "---\n",
            "\n",
            "Target : 1 (real disater)\n",
            "Text :\n",
            "Heat wave warning aa? Ayyo dei. Just when I plan to visit friends after a year.\n",
            "\n",
            "---\n",
            "\n",
            "Target : 1 (real disater)\n",
            "Text :\n",
            "Leeds fan.... rioting in Embra at a lower tier/ league cup final ... dee dum\n",
            "\n",
            "---\n",
            "\n",
            "Target : 0 (not a real disaster)\n",
            "Text :\n",
            "smoke good fuck eat drink drive nice car wear all green mink\n",
            "\n",
            "---\n",
            "\n",
            "Target : 1 (real disater)\n",
            "Text :\n",
            "@CyhiThePrynce bombed on Kanye in that #ElephantInTheRoom ????????\n",
            "\n",
            "---\n",
            "\n"
          ]
        }
      ],
      "source": [
        "# Visualizing on random samples\n",
        "rand_index = random.randint(0, len(train_df)-5)\n",
        "for row in train_df_sf[['text','target']][rand_index:rand_index+5].itertuples(): # grabbing 5 samples\n",
        "    _, text,target = row\n",
        "    print(f\"Target : {target}\", \"(real disater)\" if target > 0 else \"(not a real disaster)\")\n",
        "    print(f\"Text :\\n{text}\\n\")\n",
        "    print(\"---\\n\")"
      ]
    },
    {
      "cell_type": "code",
      "execution_count": 20,
      "id": "8292b324",
      "metadata": {
        "id": "8292b324"
      },
      "outputs": [],
      "source": [
        "# Splitting the data into train and validation data\n",
        "train_sentences, val_sentences, train_labels, val_labels = train_test_split(train_df_sf['text'].to_numpy(),\n",
        "                                                                           train_df_sf['target'].to_numpy(),\n",
        "                                                                           test_size=0.1,\n",
        "                                                                           random_state=42)"
      ]
    },
    {
      "cell_type": "code",
      "execution_count": 21,
      "id": "4c6a4560",
      "metadata": {
        "colab": {
          "base_uri": "https://localhost:8080/"
        },
        "id": "4c6a4560",
        "outputId": "f49b0fa2-1aac-4b12-e8b6-f63013797430"
      },
      "outputs": [
        {
          "output_type": "execute_result",
          "data": {
            "text/plain": [
              "(6851, 762, 762, 6851)"
            ]
          },
          "metadata": {},
          "execution_count": 21
        }
      ],
      "source": [
        "len(train_sentences),len(val_sentences),len(val_labels),len(train_labels)"
      ]
    },
    {
      "cell_type": "code",
      "execution_count": 22,
      "id": "ec6cee56",
      "metadata": {
        "colab": {
          "base_uri": "https://localhost:8080/"
        },
        "id": "ec6cee56",
        "outputId": "af62222d-7f6f-4d88-9e0a-e6a827da281f"
      },
      "outputs": [
        {
          "output_type": "execute_result",
          "data": {
            "text/plain": [
              "(array(['@mogacola @zamtriossu i screamed after hitting tweet',\n",
              "        'Imagine getting flattened by Kurt Zouma',\n",
              "        '@Gurmeetramrahim #MSGDoing111WelfareWorks Green S welfare force ke appx 65000 members har time disaster victim ki help ke liye tyar hai....',\n",
              "        \"@shakjn @C7 @Magnums im shaking in fear he's gonna hack the planet\",\n",
              "        'Somehow find you and I collide http://t.co/Ee8RpOahPk',\n",
              "        '@EvaHanderek @MarleyKnysh great times until the bus driver held us hostage in the mall parking lot lmfao',\n",
              "        'destroy the free fandom honestly',\n",
              "        'Weapons stolen from National Guard Armory in New Albany still missing #Gunsense http://t.co/lKNU8902JE',\n",
              "        '@wfaaweather Pete when will the heat wave pass? Is it really going to be mid month? Frisco Boy Scouts have a canoe trip in Okla.',\n",
              "        'Patient-reported outcomes in long-term survivors of metastatic colorectal cancer - British Journal of Surgery http://t.co/5Yl4DC1Tqt'],\n",
              "       dtype=object), array([0, 0, 1, 0, 0, 1, 1, 0, 1, 1]))"
            ]
          },
          "metadata": {},
          "execution_count": 22
        }
      ],
      "source": [
        "train_sentences[:10], train_labels[:10] # first 10 samples"
      ]
    },
    {
      "cell_type": "markdown",
      "id": "e5c4c3d4",
      "metadata": {
        "id": "e5c4c3d4"
      },
      "source": [
        "![2022-08-04_22-59_1.png](attachment:2022-08-04_22-59_1.png)"
      ]
    },
    {
      "cell_type": "raw",
      "id": "6d5c11b8",
      "metadata": {
        "id": "6d5c11b8"
      },
      "source": [
        "In NLP, there are two main concepts for turning text into numbers:\n",
        "\n",
        "Tokenization - A straight mapping from word or character or sub-word to a numerical value. There are three main levels of tokenization:\n",
        "\n",
        "Using word-level tokenization with the sentence \"I love TensorFlow\" might result in \"I\" being 0, \"love\" being 1 and \"TensorFlow\" being 2. In this case, every word in a sequence considered a single token.\n",
        "\n",
        "Character-level tokenization, such as converting the letters A-Z to values 1-26. In this case, every character in a sequence considered a single token.\n",
        "\n",
        "Sub-word tokenization is in between word-level and character-level tokenization. It involves breaking invidual words into smaller parts and then converting those smaller parts into numbers. For example, \"my favourite food is pineapple pizza\" might become \"my, fav, avour, rite, fo, oo, od, is, pin, ine, app, le, piz, za\". After doing this, these sub-words would then be mapped to a numerical value. In this case, every word could be considered multiple tokens.\n",
        "\n",
        "Embeddings - An embedding is a representation of natural language which can be learned. Representation comes in the form of a feature vector. For example, the word \"dance\" could be represented by the 5-dimensional vector [-0.8547, 0.4559, -0.3332, 0.9877, 0.1112]. It's important to note here, the size of the feature vector is tuneable. There are two ways to use embeddings:\n",
        "\n",
        "Create your own embedding - Once your text has been turned into numbers (required for an embedding), you can put them through an embedding layer (such as tf.keras.layers.Embedding) and an embedding representation will be learned during model training.\n",
        "\n",
        "Reuse a pre-learned embedding - Many pre-trained embeddings exist online. These pre-trained embeddings have often been learned on large corpuses of text (such as all of Wikipedia) and thus have a good underlying representation of natural language. You can use a pre-trained embedding to initialize your model and fine-tune it to your own specific task.\n",
        "\n",
        " Word2vec embeddings, GloVe embeddings and many of the options available on TensorFlow Hub are great places to start.\n",
        " \n",
        " What level of tokenzation should I use? What embedding should should I choose?\n",
        "\n",
        "It depends on your problem. You could try character-level tokenization/embeddings and word-level tokenization/embeddings and see which perform best. You might even want to try stacking them (e.g. combining the outputs of your embedding layers using tf.keras.layers.concatenate"
      ]
    },
    {
      "cell_type": "markdown",
      "id": "68f612ce",
      "metadata": {
        "id": "68f612ce"
      },
      "source": [
        "# Text Vectorization(tokenization)"
      ]
    },
    {
      "cell_type": "code",
      "execution_count": 23,
      "id": "de400385",
      "metadata": {
        "colab": {
          "base_uri": "https://localhost:8080/"
        },
        "id": "de400385",
        "outputId": "3f12ee25-0ac7-438c-8589-fc0f440e47e3"
      },
      "outputs": [
        {
          "output_type": "execute_result",
          "data": {
            "text/plain": [
              "array(['@mogacola @zamtriossu i screamed after hitting tweet',\n",
              "       'Imagine getting flattened by Kurt Zouma',\n",
              "       '@Gurmeetramrahim #MSGDoing111WelfareWorks Green S welfare force ke appx 65000 members har time disaster victim ki help ke liye tyar hai....',\n",
              "       \"@shakjn @C7 @Magnums im shaking in fear he's gonna hack the planet\",\n",
              "       'Somehow find you and I collide http://t.co/Ee8RpOahPk'],\n",
              "      dtype=object)"
            ]
          },
          "metadata": {},
          "execution_count": 23
        }
      ],
      "source": [
        "train_sentences[:5]"
      ]
    },
    {
      "cell_type": "code",
      "execution_count": 24,
      "id": "d0b13cee",
      "metadata": {
        "id": "d0b13cee"
      },
      "outputs": [],
      "source": [
        "# # tf.keras.layers.TextVectorization(\n",
        "# #     max_tokens=None,\n",
        "# #     standardize='lower_and_strip_punctuation',\n",
        "# #     split='whitespace',\n",
        "# #     ngrams=None,\n",
        "# #     output_mode='int',\n",
        "# #     output_sequence_length=None,\n",
        "# #     pad_to_max_tokens=False,\n",
        "# #     vocabulary=None,\n",
        "# #     idf_weights=None,\n",
        "# #     sparse=False,\n",
        "# #     ragged=False,\n",
        "# #     **kwargs\n",
        "# # )\n",
        "\n",
        "# The processing of each example contains the following steps:\n",
        "\n",
        "# Standardize each example (usually lowercasing + punctuation stripping)\n",
        "# Split each example into substrings (usually words)\n",
        "# Recombine substrings into tokens (usually ngrams)\n",
        "# Index tokens (associate a unique int value with each token)\n",
        "# # Transform each example using this index, either into a vector of ints or a dense float vector."
      ]
    },
    {
      "cell_type": "code",
      "execution_count": 25,
      "id": "e574f1eb",
      "metadata": {
        "id": "e574f1eb"
      },
      "outputs": [],
      "source": [
        "max_vocab_length = 10000 # max nos of words to have in our vocabulary\n",
        "max_length = 15 # max length of our sequences will be ? (how many words from a tweet\n",
        "# our model will see)\n",
        "\n",
        "text_vectorizer =  TextVectorization(max_tokens=max_vocab_length, # how many group of words in the train sent\n",
        "                                     # automatically figures out how many classes of words are there\n",
        "                                     # and adds <OVV> which stands for out of vocabulary token\n",
        "                                     # if max token in set 500 then it will pick out the most common \n",
        "                                     # 500 words that are found in the train dataset and rare words \n",
        "                                     # would get replaced by <OVV>\n",
        "                                     standardize=\"lower_and_strip_punctuation\", # convert to lowercase and remov ethe unusall data \n",
        "                                     split = \"whitespace\",\n",
        "                                     ngrams=None, # create group of n words\n",
        "                                     output_mode = \"int\", # how to map tokens to numbers\n",
        "                                     output_sequence_length = max_length,# how long do we want our sequence of words to be\n",
        "                                     pad_to_max_tokens = True # enabling padding for redundant chars in shorter words\n",
        "                                    )"
      ]
    },
    {
      "cell_type": "code",
      "execution_count": 26,
      "id": "d516ca59",
      "metadata": {
        "colab": {
          "base_uri": "https://localhost:8080/"
        },
        "id": "d516ca59",
        "outputId": "354fcdcf-1751-4f3d-95d1-c4afaafb8836"
      },
      "outputs": [
        {
          "output_type": "execute_result",
          "data": {
            "text/plain": [
              "7"
            ]
          },
          "metadata": {},
          "execution_count": 26
        }
      ],
      "source": [
        "len(train_sentences[0].split())"
      ]
    },
    {
      "cell_type": "code",
      "execution_count": 27,
      "id": "34e35164",
      "metadata": {
        "colab": {
          "base_uri": "https://localhost:8080/"
        },
        "id": "34e35164",
        "outputId": "5fe31bff-c908-4d2a-fd1e-4db16e6a60c5"
      },
      "outputs": [
        {
          "output_type": "execute_result",
          "data": {
            "text/plain": [
              "15"
            ]
          },
          "metadata": {},
          "execution_count": 27
        }
      ],
      "source": [
        "# finding the average nos of tokens in the training tweets\n",
        "round(sum([len(i.split()) for i in train_sentences])/len(train_sentences))"
      ]
    },
    {
      "cell_type": "code",
      "execution_count": 28,
      "id": "1ee5bdff",
      "metadata": {
        "id": "1ee5bdff"
      },
      "outputs": [],
      "source": [
        "# mapping the text vectorizer towards the train data\n",
        "# fitting the text vectorizer to the train data\n",
        "text_vectorizer.adapt(train_sentences)"
      ]
    },
    {
      "cell_type": "code",
      "execution_count": 29,
      "id": "78b5a9c6",
      "metadata": {
        "colab": {
          "base_uri": "https://localhost:8080/"
        },
        "id": "78b5a9c6",
        "outputId": "2c394c29-546a-47ed-f8e8-ac1bb81e9d8d"
      },
      "outputs": [
        {
          "output_type": "execute_result",
          "data": {
            "text/plain": [
              "(<tf.Tensor: shape=(1, 15), dtype=int64, numpy=\n",
              " array([[ 970,    8, 1450,   27,   11,    2,  797,  668,    6,    2, 1040,\n",
              "          124,    8, 1205,    1]])>,\n",
              " <tf.Tensor: shape=(1, 15), dtype=int64, numpy=\n",
              " array([[  1,   9,  34, 604,   0,   0,   0,   0,   0,   0,   0,   0,   0,\n",
              "           0,   0]])>)"
            ]
          },
          "metadata": {},
          "execution_count": 29
        }
      ],
      "source": [
        "# creating a sampling sentence and tokenize it\n",
        "sample_sentence  = 'Wow I woke up on the wrong side of the bed , today i guess - Purbayan 2022'\n",
        "sample_sentence_2 =  \"NLP is not fun !!! \"\n",
        "text_vectorizer([sample_sentence]), text_vectorizer([sample_sentence_2])"
      ]
    },
    {
      "cell_type": "code",
      "execution_count": 30,
      "id": "917a8780",
      "metadata": {
        "colab": {
          "base_uri": "https://localhost:8080/"
        },
        "id": "917a8780",
        "outputId": "75b06676-68b8-45d5-de1b-322f2e05a3b1"
      },
      "outputs": [
        {
          "output_type": "stream",
          "name": "stdout",
          "text": [
            "Original sentence:\n",
            " Lol meerkat is fucked. They will get demolished by periscope and Facebook live streaming.        \n",
            "\n",
            "Vectorized version:\n"
          ]
        },
        {
          "output_type": "execute_result",
          "data": {
            "text/plain": [
              "<tf.Tensor: shape=(1, 15), dtype=int64, numpy=\n",
              "array([[ 174,    1,    9, 2986,   64,   38,   52,  606,   18, 9854,    7,\n",
              "        1678,  199, 8032,    0]])>"
            ]
          },
          "metadata": {},
          "execution_count": 30
        }
      ],
      "source": [
        "\"\"\"\n",
        "970 - wow\n",
        "1450 - I\n",
        "woke - up\n",
        ".... and so on\n",
        "\n",
        "In the second mapping we can see a lot of 0 because the redundant characters got converted \n",
        "mapped into 0\n",
        "\"\"\"\n",
        "# choosing a random sentence and tokenize it\n",
        "rand_sentence = random.choice(train_sentences)\n",
        "print(f\"Original sentence:\\n {rand_sentence}\\\n",
        "        \\n\\nVectorized version:\")\n",
        "text_vectorizer([rand_sentence])"
      ]
    },
    {
      "cell_type": "code",
      "execution_count": 31,
      "id": "f8ede1c7",
      "metadata": {
        "colab": {
          "base_uri": "https://localhost:8080/"
        },
        "id": "f8ede1c7",
        "outputId": "bb3a76fb-9704-4be2-a6df-10f580273927"
      },
      "outputs": [
        {
          "output_type": "stream",
          "name": "stdout",
          "text": [
            "5 Most common words in the vocab test : ['', '[UNK]', 'the', 'a', 'in']\n",
            "5 Least common words in the vocab test : ['pages', 'paeds', 'pads', 'padres', 'paddytomlinson1']\n",
            "Number of words in the vocab are 10000\n"
          ]
        }
      ],
      "source": [
        "# gettting the unique words in the training data\n",
        "words_in_vocab = text_vectorizer.get_vocabulary() # getting all the unique words in the sentences\n",
        "top_5_words = words_in_vocab[:5] # get the most common words\n",
        "bottom_5_words = words_in_vocab[-5:] # getting the least common words\n",
        "print(f\"5 Most common words in the vocab test : {top_5_words}\")\n",
        "print(f\"5 Least common words in the vocab test : {bottom_5_words}\")\n",
        "print(f\"Number of words in the vocab are {len(words_in_vocab)}\")\n",
        "\n",
        "# UNK stands for unknow that is basically the words that are out of the top 10000 words in the \n",
        "# dataset and is basically the OOV tokens"
      ]
    },
    {
      "cell_type": "code",
      "execution_count": 32,
      "id": "a941c0ad",
      "metadata": {
        "colab": {
          "base_uri": "https://localhost:8080/",
          "height": 105
        },
        "id": "a941c0ad",
        "outputId": "d7aa6245-4425-44dd-b2c9-45676a9a8951"
      },
      "outputs": [
        {
          "output_type": "execute_result",
          "data": {
            "text/plain": [
              "'\\nThe common parameters that are used in the embedding layer :\\n\\n1. input_dim = the size of the vocabulary\\n2. output_dim = the size of the output embedding vector example {\\nfor a value of 100 would mean each token would get represented by a vector\\nof 100 long\\n3. input_length = length of the sequences being passed to the embedding layer\\n\\n}\\n\\n'"
            ],
            "application/vnd.google.colaboratory.intrinsic+json": {
              "type": "string"
            }
          },
          "metadata": {},
          "execution_count": 32
        }
      ],
      "source": [
        "### Creating an embedding layer \n",
        "\"\"\"\n",
        "The common parameters that are used in the embedding layer :\n",
        "\n",
        "1. input_dim = the size of the vocabulary\n",
        "2. output_dim = the size of the output embedding vector example {\n",
        "for a value of 100 would mean each token would get represented by a vector\n",
        "of 100 long\n",
        "3. input_length = length of the sequences being passed to the embedding layer\n",
        "\n",
        "}\n",
        "\n",
        "\"\"\""
      ]
    },
    {
      "cell_type": "code",
      "execution_count": 33,
      "id": "da43f023",
      "metadata": {
        "colab": {
          "base_uri": "https://localhost:8080/"
        },
        "id": "da43f023",
        "outputId": "283a95da-6fd1-4216-dac8-2894c4982160"
      },
      "outputs": [
        {
          "output_type": "stream",
          "name": "stdout",
          "text": [
            "Original sentence:\n",
            " (  the abomination that maketh desolate: The antichrist desecrates the Jerusalem temple - Dan 9:27 Matt 24:1  )        \n",
            "\n",
            "Embedded version:\n"
          ]
        },
        {
          "output_type": "execute_result",
          "data": {
            "text/plain": [
              "<tf.Tensor: shape=(1, 15, 128), dtype=float32, numpy=\n",
              "array([[[-0.03881355,  0.03633546,  0.04999275, ..., -0.02360059,\n",
              "         -0.04532794,  0.0381296 ],\n",
              "        [ 0.018192  ,  0.02169908,  0.04713352, ..., -0.02134473,\n",
              "         -0.03387342, -0.00853316],\n",
              "        [ 0.04941684,  0.02727452,  0.03218665, ..., -0.00866314,\n",
              "         -0.02087098,  0.01789645],\n",
              "        ...,\n",
              "        [-0.00622132, -0.02835657, -0.04046688, ...,  0.00804846,\n",
              "         -0.00807916, -0.03939103],\n",
              "        [-0.00622132, -0.02835657, -0.04046688, ...,  0.00804846,\n",
              "         -0.00807916, -0.03939103],\n",
              "        [-0.00622132, -0.02835657, -0.04046688, ...,  0.00804846,\n",
              "         -0.00807916, -0.03939103]]], dtype=float32)>"
            ]
          },
          "metadata": {},
          "execution_count": 33
        }
      ],
      "source": [
        "\"\"\"\n",
        "I used the output_dim 128 because the models that i will create will \n",
        "compute on GPU , it is said that a model performs well if its a \n",
        "multiple of 8 that is 8,64,128.. etc\n",
        "\n",
        "\"\"\"\n",
        "\n",
        "embedding = layers.Embedding(input_dim=max_vocab_length, # input shape\n",
        "                            output_dim = 128, # output_shape,\n",
        "                            embeddings_initializer='uniform', # no need to understand this now ignore it\n",
        "                            input_length=max_length,# how long the input\n",
        "                            )\n",
        "                        \n",
        "    \n",
        "# choosing a random sentence and tokenize it\n",
        "rand_sentence = random.choice(train_sentences)\n",
        "print(f\"Original sentence:\\n {rand_sentence}\\\n",
        "        \\n\\nEmbedded version:\")\n",
        "\n",
        "# embedding the random_sent into a dense vector of thick layer\n",
        "sample_embed = embedding(text_vectorizer([rand_sentence]))\n",
        "sample_embed "
      ]
    },
    {
      "cell_type": "code",
      "execution_count": 34,
      "id": "c1226188",
      "metadata": {
        "id": "c1226188"
      },
      "outputs": [],
      "source": [
        "# The shape 1 , 15 , 128 is very important to understand\n",
        "# 1 denotes that only a single token of sequence has been passed\n",
        "# 15 denotes the nos of token generated from the sequence\n",
        "# 128 denotes that all the tokens are in the format of 128 vector "
      ]
    },
    {
      "cell_type": "code",
      "execution_count": 35,
      "id": "26ba222d",
      "metadata": {
        "colab": {
          "base_uri": "https://localhost:8080/"
        },
        "id": "26ba222d",
        "outputId": "fba2a367-808c-4cd3-a91e-c376a8a992fd"
      },
      "outputs": [
        {
          "output_type": "execute_result",
          "data": {
            "text/plain": [
              "(<tf.Tensor: shape=(128,), dtype=float32, numpy=\n",
              " array([-0.03881355,  0.03633546,  0.04999275, -0.04674962, -0.03033096,\n",
              "        -0.03903051,  0.01085695,  0.01676876, -0.00143906,  0.03934363,\n",
              "         0.00899734, -0.03351842, -0.03256162, -0.04672345,  0.02849466,\n",
              "         0.01448083,  0.01918452, -0.04080654, -0.02099842,  0.04830371,\n",
              "         0.00298209,  0.04679685, -0.00329584,  0.04667893, -0.04768844,\n",
              "         0.01713395,  0.03689268, -0.04808423, -0.0233083 , -0.04993227,\n",
              "         0.01763263, -0.00595236,  0.00397683,  0.04298833, -0.00935126,\n",
              "         0.03253499, -0.01286596,  0.0432252 ,  0.01256785, -0.0138414 ,\n",
              "         0.04638125,  0.04929627, -0.04482826,  0.04857859,  0.02651394,\n",
              "        -0.03211591,  0.02226562,  0.04819863,  0.01102524, -0.02723528,\n",
              "        -0.02748097, -0.04095291, -0.03784978, -0.03816434, -0.04802399,\n",
              "         0.01189568, -0.03155446, -0.03777539, -0.02022904, -0.01200528,\n",
              "        -0.03254817,  0.03715758,  0.03325654, -0.00542171, -0.04625536,\n",
              "         0.0010975 , -0.04163929, -0.00706847,  0.04028944, -0.0163808 ,\n",
              "        -0.02093638, -0.00948117,  0.03966259,  0.04036497, -0.00535159,\n",
              "        -0.00364146,  0.03091851, -0.03094436,  0.03284338,  0.03805757,\n",
              "        -0.0050789 ,  0.03917921,  0.01227245, -0.03230201,  0.01472149,\n",
              "         0.02772481,  0.01185987, -0.02153843,  0.02335921,  0.02279055,\n",
              "         0.01482419,  0.01640875, -0.02624394,  0.03835629,  0.03078512,\n",
              "        -0.04455674, -0.01768591, -0.03910482,  0.02135072, -0.02086144,\n",
              "         0.03036333,  0.04671836,  0.03896632,  0.04053536,  0.04772728,\n",
              "         0.03094722, -0.00600044,  0.00733755,  0.01049714, -0.02498255,\n",
              "         0.00921546, -0.02438041,  0.01027901,  0.0005056 , -0.03307785,\n",
              "        -0.04210861,  0.00137699,  0.04928904,  0.04120937,  0.00995878,\n",
              "        -0.03830092,  0.04340068,  0.04450334, -0.00297192, -0.02697008,\n",
              "        -0.02360059, -0.04532794,  0.0381296 ], dtype=float32)>,\n",
              " TensorShape([128]),\n",
              " '(  the abomination that maketh desolate: The antichrist desecrates the Jerusalem temple - Dan 9:27 Matt 24:1  )')"
            ]
          },
          "metadata": {},
          "execution_count": 35
        }
      ],
      "source": [
        "# checking out a single embedding\n",
        "sample_embed[0][0] , sample_embed[0][0].shape, rand_sentence"
      ]
    },
    {
      "cell_type": "code",
      "execution_count": 36,
      "id": "581e5986",
      "metadata": {
        "id": "581e5986"
      },
      "outputs": [],
      "source": [
        "# In the above we can see the numerical \n",
        "# representation of the the sentence with the original sentence printed \n",
        "# below"
      ]
    },
    {
      "cell_type": "code",
      "execution_count": 37,
      "id": "5da75abb",
      "metadata": {
        "colab": {
          "base_uri": "https://localhost:8080/",
          "height": 139
        },
        "id": "5da75abb",
        "outputId": "09d0d05f-aaf3-4e56-8a5f-fc3fd2f7ed77"
      },
      "outputs": [
        {
          "output_type": "execute_result",
          "data": {
            "text/plain": [
              "'\\n0                  Naive Bayes with TF-IDF encoder(baseline model)\\n1                  Feed-forward neural network (dense model)\\n2                  LSTM(RNN) {Long Short Term Memory}\\n3                  GRU(RNN)  {Gated Reccurent Unit}\\n4                  Bidirectional-LSTM(RNN)\\n5                  1D Convulational Neural Network\\n6                  Tensorflow Hub Pretrained Feature Extractor\\n7                  Tensorflow Hub Pretrained Feature Extractor (10% of the data)\\n\\n'"
            ],
            "application/vnd.google.colaboratory.intrinsic+json": {
              "type": "string"
            }
          },
          "metadata": {},
          "execution_count": 37
        }
      ],
      "source": [
        "# Modelling Experiments [TODO]\n",
        "\n",
        "\"\"\"\n",
        "0                  Naive Bayes with TF-IDF encoder(baseline model)\n",
        "1                  Feed-forward neural network (dense model)\n",
        "2                  LSTM(RNN) {Long Short Term Memory}\n",
        "3                  GRU(RNN)  {Gated Reccurent Unit}\n",
        "4                  Bidirectional-LSTM(RNN)\n",
        "5                  1D Convulational Neural Network\n",
        "6                  Tensorflow Hub Pretrained Feature Extractor\n",
        "7                  Tensorflow Hub Pretrained Feature Extractor (10% of the data)\n",
        "\n",
        "\"\"\""
      ]
    },
    {
      "cell_type": "code",
      "execution_count": 38,
      "id": "a16d20ed",
      "metadata": {
        "id": "a16d20ed"
      },
      "outputs": [],
      "source": [
        "# https://scikit-learn.org/stable/tutorial/machine_learning_map/index.html"
      ]
    },
    {
      "cell_type": "code",
      "execution_count": 39,
      "id": "11cda8bc",
      "metadata": {
        "colab": {
          "base_uri": "https://localhost:8080/"
        },
        "id": "11cda8bc",
        "outputId": "311735cc-a73e-402d-f05c-0d25100df991"
      },
      "outputs": [
        {
          "output_type": "execute_result",
          "data": {
            "text/plain": [
              "Pipeline(steps=[('tfidf', TfidfVectorizer()), ('clf', MultinomialNB())])"
            ]
          },
          "metadata": {},
          "execution_count": 39
        }
      ],
      "source": [
        "# Model 0 Baseline Model \n",
        "# Naive Bayes with TF-IDF encoder \n",
        "from sklearn.feature_extraction.text import TfidfVectorizer\n",
        "from sklearn.naive_bayes import MultinomialNB\n",
        "from sklearn.pipeline import Pipeline\n",
        "\n",
        "# creating a tokenization and modelling pipeline\n",
        "model_0 =  Pipeline([\n",
        "    (\"tfidf\", TfidfVectorizer()), # convert the words into nos using tfidf\n",
        "    (\"clf\", MultinomialNB()) # model the text clf stands for classifier\n",
        "])\n",
        "\n",
        "# fit the pipeline to the training data\n",
        "model_0.fit(train_sentences, train_labels)"
      ]
    },
    {
      "cell_type": "code",
      "execution_count": 40,
      "id": "448b4d37",
      "metadata": {
        "colab": {
          "base_uri": "https://localhost:8080/"
        },
        "id": "448b4d37",
        "outputId": "85608781-fe08-49a9-e217-c6320ff50713"
      },
      "outputs": [
        {
          "output_type": "stream",
          "name": "stdout",
          "text": [
            "Accuracy of the baseline model : 79.27%\n"
          ]
        }
      ],
      "source": [
        "# Evaluate the baseline model\n",
        "baseline_score = model_0.score(val_sentences, val_labels)\n",
        "print(f\"Accuracy of the baseline model : {baseline_score*100:.2f}%\")"
      ]
    },
    {
      "cell_type": "code",
      "execution_count": 41,
      "id": "40b9fd4a",
      "metadata": {
        "colab": {
          "base_uri": "https://localhost:8080/"
        },
        "id": "40b9fd4a",
        "outputId": "b7eea8bb-c5eb-42d3-c70d-2283afe3793b"
      },
      "outputs": [
        {
          "output_type": "execute_result",
          "data": {
            "text/plain": [
              "array([1, 1, 1, 0, 0, 1, 1, 1, 1, 0, 0, 1, 0, 0, 0, 0, 0, 0, 0, 1])"
            ]
          },
          "metadata": {},
          "execution_count": 41
        }
      ],
      "source": [
        "# make the predictions\n",
        "baseline_preds = model_0.predict(val_sentences)\n",
        "baseline_preds[:20]"
      ]
    },
    {
      "cell_type": "markdown",
      "id": "71e0c601",
      "metadata": {
        "id": "71e0c601"
      },
      "source": [
        "![Screenshot%20from%202022-08-06%2013-54-05.png](attachment:Screenshot%20from%202022-08-06%2013-54-05.png)"
      ]
    },
    {
      "cell_type": "code",
      "execution_count": 42,
      "id": "fd2942e0",
      "metadata": {
        "id": "fd2942e0"
      },
      "outputs": [],
      "source": [
        "## Creating a evaluation func\n",
        "from sklearn.metrics import accuracy_score, precision_recall_fscore_support\n",
        "\n",
        "def calculate_results(y_true, y_pred):\n",
        "    \"\"\"\n",
        "    Calculate the evaluation metrics for a bin clf model\n",
        "    \"\"\"\n",
        "    model_acc = accuracy_score(y_true,y_pred)*100\n",
        "    model_precision, model_recall, model_f1, _ = precision_recall_fscore_support(y_true,y_pred,average=\"weighted\")\n",
        "    model_results = {\"accuracy\" : model_acc,\n",
        "                    \"precision\" : model_precision,\n",
        "                    \"recall\" : model_recall,\n",
        "                    \"f1\"   : model_f1}\n",
        "    return model_results"
      ]
    },
    {
      "cell_type": "code",
      "execution_count": 43,
      "id": "6a5fc40d",
      "metadata": {
        "colab": {
          "base_uri": "https://localhost:8080/"
        },
        "id": "6a5fc40d",
        "outputId": "8c058844-9262-4af8-e1d9-a36adacfb634"
      },
      "outputs": [
        {
          "output_type": "execute_result",
          "data": {
            "text/plain": [
              "{'accuracy': 79.26509186351706,\n",
              " 'f1': 0.7862189758049549,\n",
              " 'precision': 0.8111390004213173,\n",
              " 'recall': 0.7926509186351706}"
            ]
          },
          "metadata": {},
          "execution_count": 43
        }
      ],
      "source": [
        "# get the metrics\n",
        "\n",
        "baseline_results = calculate_results(y_true=val_labels,\n",
        "                                    y_pred=baseline_preds)\n",
        "baseline_results"
      ]
    },
    {
      "cell_type": "code",
      "execution_count": 44,
      "id": "8df036da",
      "metadata": {
        "id": "8df036da"
      },
      "outputs": [],
      "source": [
        "# Model 1 Feed Forward Neural Network\n",
        "\n",
        "# create a tensorboard callback\n",
        "# create a directory to save the model logs\n",
        "SAVE_DIR = \"MODEL_LOGS\"\n",
        "\n",
        "\n",
        "# Buidling the model with functional API\n",
        "inputs = layers.Input(shape=(1,), dtype=tf.string)\n",
        "x = text_vectorizer(inputs)\n",
        "x = embedding(x)\n",
        "# Using the GlobalAvgPooling1D helps in ordering the dimensions \n",
        "# in the inputs that have been passed from layer to layer. \n",
        "# So at the end, you will have the shape (batch_size , 1 , features) \n",
        "# its more like using the Flatten layer except more efficient than \n",
        "# a Flatten layer. \n",
        "x = layers.GlobalAveragePooling1D()(x)\n",
        "# x = layers.GlobalMaxPool1D()(x)\n",
        "outputs = layers.Dense(1, activation=\"sigmoid\")(x)\n",
        "model_1 = Model(inputs, outputs, name=\"model_1_dense\")"
      ]
    },
    {
      "cell_type": "code",
      "execution_count": 45,
      "id": "e29ed65b",
      "metadata": {
        "colab": {
          "base_uri": "https://localhost:8080/"
        },
        "id": "e29ed65b",
        "outputId": "c44c0de1-82e3-4069-c25e-76b431251483"
      },
      "outputs": [
        {
          "output_type": "stream",
          "name": "stdout",
          "text": [
            "Model: \"model_1_dense\"\n",
            "_________________________________________________________________\n",
            " Layer (type)                Output Shape              Param #   \n",
            "=================================================================\n",
            " input_1 (InputLayer)        [(None, 1)]               0         \n",
            "                                                                 \n",
            " text_vectorization (TextVec  (None, 15)               0         \n",
            " torization)                                                     \n",
            "                                                                 \n",
            " embedding (Embedding)       (None, 15, 128)           1280000   \n",
            "                                                                 \n",
            " global_average_pooling1d (G  (None, 128)              0         \n",
            " lobalAveragePooling1D)                                          \n",
            "                                                                 \n",
            " dense (Dense)               (None, 1)                 129       \n",
            "                                                                 \n",
            "=================================================================\n",
            "Total params: 1,280,129\n",
            "Trainable params: 1,280,129\n",
            "Non-trainable params: 0\n",
            "_________________________________________________________________\n"
          ]
        }
      ],
      "source": [
        "model_1.summary()"
      ]
    },
    {
      "cell_type": "code",
      "execution_count": 46,
      "id": "0564d621",
      "metadata": {
        "colab": {
          "base_uri": "https://localhost:8080/"
        },
        "id": "0564d621",
        "outputId": "69312bf8-5403-4be7-dced-a7c28bb64c9e"
      },
      "outputs": [
        {
          "output_type": "stream",
          "name": "stdout",
          "text": [
            "Gathering the log data and saving in : MODEL_LOGS/model_1_dense/20220815-042716\n",
            "Epoch 1/5\n",
            "215/215 [==============================] - 5s 5ms/step - loss: 0.6144 - accuracy: 0.6913 - val_loss: 0.5362 - val_accuracy: 0.7677\n",
            "Epoch 2/5\n",
            "215/215 [==============================] - 1s 4ms/step - loss: 0.4427 - accuracy: 0.8190 - val_loss: 0.4738 - val_accuracy: 0.7835\n",
            "Epoch 3/5\n",
            "215/215 [==============================] - 1s 4ms/step - loss: 0.3486 - accuracy: 0.8605 - val_loss: 0.4577 - val_accuracy: 0.7835\n",
            "Epoch 4/5\n",
            "215/215 [==============================] - 1s 6ms/step - loss: 0.2854 - accuracy: 0.8924 - val_loss: 0.4649 - val_accuracy: 0.7900\n",
            "Epoch 5/5\n",
            "215/215 [==============================] - 2s 7ms/step - loss: 0.2389 - accuracy: 0.9115 - val_loss: 0.4813 - val_accuracy: 0.7848\n"
          ]
        }
      ],
      "source": [
        "# compile the model\n",
        "model_1.compile(loss=BinaryCrossentropy(),\n",
        "               optimizer=Adam(),\n",
        "               metrics=[\"accuracy\"])\n",
        "\n",
        "# fit the model\n",
        "model_1_history = model_1.fit(x=train_sentences,\n",
        "                             y=train_labels,\n",
        "                             epochs=5,\n",
        "                             validation_data=(val_sentences, val_labels),\n",
        "                             callbacks=[create_tensorboard_callback(dir_name=SAVE_DIR,\n",
        "                                                                  exp_name=\"model_1_dense\")])\n"
      ]
    },
    {
      "cell_type": "code",
      "execution_count": 47,
      "id": "dce110d0",
      "metadata": {
        "colab": {
          "base_uri": "https://localhost:8080/"
        },
        "id": "dce110d0",
        "outputId": "301a19c1-998f-4846-94d3-2653c935a72b"
      },
      "outputs": [
        {
          "output_type": "stream",
          "name": "stdout",
          "text": [
            "24/24 [==============================] - 0s 3ms/step - loss: 0.4813 - accuracy: 0.7848\n"
          ]
        },
        {
          "output_type": "execute_result",
          "data": {
            "text/plain": [
              "[0.48133042454719543, 0.7847769260406494]"
            ]
          },
          "metadata": {},
          "execution_count": 47
        }
      ],
      "source": [
        "# check the results\n",
        "model_1.evaluate(val_sentences, val_labels)"
      ]
    },
    {
      "cell_type": "code",
      "execution_count": 48,
      "id": "76720c88",
      "metadata": {
        "colab": {
          "base_uri": "https://localhost:8080/"
        },
        "id": "76720c88",
        "outputId": "3cbcc2b8-1701-4de3-fbdc-4f2f894c3592"
      },
      "outputs": [
        {
          "output_type": "execute_result",
          "data": {
            "text/plain": [
              "(array([[0.37378272],\n",
              "        [0.74361724],\n",
              "        [0.99702805],\n",
              "        [0.10689031],\n",
              "        [0.11412106],\n",
              "        [0.9314799 ],\n",
              "        [0.8883136 ],\n",
              "        [0.9928831 ],\n",
              "        [0.95468175],\n",
              "        [0.27214718]], dtype=float32),\n",
              " array([0.37378272], dtype=float32),\n",
              " (762, 1))"
            ]
          },
          "metadata": {},
          "execution_count": 48
        }
      ],
      "source": [
        "# make some predictions and evaluate them\n",
        "model_1_prd = model_1.predict(val_sentences)\n",
        "model_1_prd[:10],model_1_prd[0],model_1_prd.shape"
      ]
    },
    {
      "cell_type": "code",
      "execution_count": 49,
      "id": "8af1ad0a",
      "metadata": {
        "colab": {
          "base_uri": "https://localhost:8080/"
        },
        "id": "8af1ad0a",
        "outputId": "70fe41ce-b6a6-47ff-f484-741032ecfae3"
      },
      "outputs": [
        {
          "output_type": "stream",
          "name": "stdout",
          "text": [
            "Model: \"model_1_dense\"\n",
            "_________________________________________________________________\n",
            " Layer (type)                Output Shape              Param #   \n",
            "=================================================================\n",
            " input_1 (InputLayer)        [(None, 1)]               0         \n",
            "                                                                 \n",
            " text_vectorization (TextVec  (None, 15)               0         \n",
            " torization)                                                     \n",
            "                                                                 \n",
            " embedding (Embedding)       (None, 15, 128)           1280000   \n",
            "                                                                 \n",
            " global_average_pooling1d (G  (None, 128)              0         \n",
            " lobalAveragePooling1D)                                          \n",
            "                                                                 \n",
            " dense (Dense)               (None, 1)                 129       \n",
            "                                                                 \n",
            "=================================================================\n",
            "Total params: 1,280,129\n",
            "Trainable params: 1,280,129\n",
            "Non-trainable params: 0\n",
            "_________________________________________________________________\n"
          ]
        }
      ],
      "source": [
        "model_1.summary()"
      ]
    },
    {
      "cell_type": "code",
      "execution_count": 50,
      "id": "08ba3011",
      "metadata": {
        "colab": {
          "base_uri": "https://localhost:8080/"
        },
        "id": "08ba3011",
        "outputId": "3e68f04a-691f-43f8-dc7d-9a3d8328c8f0"
      },
      "outputs": [
        {
          "output_type": "execute_result",
          "data": {
            "text/plain": [
              "<tf.Tensor: shape=(20,), dtype=float32, numpy=\n",
              "array([0., 1., 1., 0., 0., 1., 1., 1., 1., 0., 0., 1., 0., 0., 0., 0., 0.,\n",
              "       0., 0., 1.], dtype=float32)>"
            ]
          },
          "metadata": {},
          "execution_count": 50
        }
      ],
      "source": [
        "# convert the model pred to the label format\n",
        "# remove the single 1 dimension and round off the predictions\n",
        "model_1_pred = tf.squeeze(tf.round(model_1_prd))\n",
        "model_1_pred[:20]"
      ]
    },
    {
      "cell_type": "code",
      "execution_count": 51,
      "id": "ebbb1fe0",
      "metadata": {
        "colab": {
          "base_uri": "https://localhost:8080/"
        },
        "id": "ebbb1fe0",
        "outputId": "34b226b5-72a0-46e3-a448-7cc60c8f91d6"
      },
      "outputs": [
        {
          "output_type": "execute_result",
          "data": {
            "text/plain": [
              "{'accuracy': 78.4776902887139,\n",
              " 'f1': 0.7814477888250547,\n",
              " 'precision': 0.7904782347685264,\n",
              " 'recall': 0.7847769028871391}"
            ]
          },
          "metadata": {},
          "execution_count": 51
        }
      ],
      "source": [
        "# Calculate the reuslts\n",
        "model_1_res = calculate_results(val_labels,model_1_pred)\n",
        "model_1_res"
      ]
    },
    {
      "cell_type": "code",
      "execution_count": 52,
      "id": "c72c4ba0",
      "metadata": {
        "colab": {
          "base_uri": "https://localhost:8080/"
        },
        "id": "c72c4ba0",
        "outputId": "d0d9cf32-ae8b-4992-a99c-e1a063dcf473"
      },
      "outputs": [
        {
          "output_type": "execute_result",
          "data": {
            "text/plain": [
              "{'accuracy': 79.26509186351706,\n",
              " 'f1': 0.7862189758049549,\n",
              " 'precision': 0.8111390004213173,\n",
              " 'recall': 0.7926509186351706}"
            ]
          },
          "metadata": {},
          "execution_count": 52
        }
      ],
      "source": [
        "baseline_results"
      ]
    },
    {
      "cell_type": "code",
      "execution_count": 53,
      "id": "6a21b69c",
      "metadata": {
        "colab": {
          "base_uri": "https://localhost:8080/"
        },
        "id": "6a21b69c",
        "outputId": "fd850107-742a-4179-eb7e-6a058842f483"
      },
      "outputs": [
        {
          "output_type": "execute_result",
          "data": {
            "text/plain": [
              "array([False, False, False, False])"
            ]
          },
          "metadata": {},
          "execution_count": 53
        }
      ],
      "source": [
        "import numpy as np\n",
        "np.array(list(model_1_res.values())) > np.array(list(baseline_results.values()))"
      ]
    },
    {
      "cell_type": "code",
      "execution_count": 54,
      "id": "6c85df70",
      "metadata": {
        "id": "6c85df70"
      },
      "outputs": [],
      "source": [
        "# We get four metrics that are higher than the deep learning  model"
      ]
    },
    {
      "cell_type": "code",
      "execution_count": 55,
      "id": "0c297fee",
      "metadata": {
        "colab": {
          "base_uri": "https://localhost:8080/"
        },
        "id": "0c297fee",
        "outputId": "c66093b8-5da1-46d6-f6bc-ae06d6b816bb"
      },
      "outputs": [
        {
          "output_type": "execute_result",
          "data": {
            "text/plain": [
              "(10000, ['', '[UNK]', 'the', 'a', 'in', 'to', 'of', 'and', 'i', 'is'])"
            ]
          },
          "metadata": {},
          "execution_count": 55
        }
      ],
      "source": [
        "# Visualizing the model's learned word embeddings with Tensorflow's projector tool\n",
        "\n",
        "# get the vocab from the text vectorization layer\n",
        "words_in_vocab = text_vectorizer.get_vocabulary()\n",
        "len(words_in_vocab), words_in_vocab[:10]"
      ]
    },
    {
      "cell_type": "code",
      "execution_count": 56,
      "id": "d5033ce4",
      "metadata": {
        "colab": {
          "base_uri": "https://localhost:8080/"
        },
        "id": "d5033ce4",
        "outputId": "1b9b7048-ecbf-4adf-8030-687b2d3592c9"
      },
      "outputs": [
        {
          "output_type": "stream",
          "name": "stdout",
          "text": [
            "Model: \"model_1_dense\"\n",
            "_________________________________________________________________\n",
            " Layer (type)                Output Shape              Param #   \n",
            "=================================================================\n",
            " input_1 (InputLayer)        [(None, 1)]               0         \n",
            "                                                                 \n",
            " text_vectorization (TextVec  (None, 15)               0         \n",
            " torization)                                                     \n",
            "                                                                 \n",
            " embedding (Embedding)       (None, 15, 128)           1280000   \n",
            "                                                                 \n",
            " global_average_pooling1d (G  (None, 128)              0         \n",
            " lobalAveragePooling1D)                                          \n",
            "                                                                 \n",
            " dense (Dense)               (None, 1)                 129       \n",
            "                                                                 \n",
            "=================================================================\n",
            "Total params: 1,280,129\n",
            "Trainable params: 1,280,129\n",
            "Non-trainable params: 0\n",
            "_________________________________________________________________\n"
          ]
        }
      ],
      "source": [
        "# Model 1 summary\n",
        "model_1.summary()"
      ]
    },
    {
      "cell_type": "code",
      "execution_count": 57,
      "id": "5b0b5cf4",
      "metadata": {
        "colab": {
          "base_uri": "https://localhost:8080/"
        },
        "id": "5b0b5cf4",
        "outputId": "5a0f4778-cba8-44d6-bf95-f89572e46802"
      },
      "outputs": [
        {
          "output_type": "execute_result",
          "data": {
            "text/plain": [
              "((10000, 128), array([[ 4.6393339e-02,  5.2824199e-02, -3.4395747e-02, ...,\n",
              "         -1.9516451e-02,  2.5307145e-02, -7.3611327e-03],\n",
              "        [ 2.0773679e-03, -1.6552858e-02, -4.7847278e-02, ...,\n",
              "          6.7751214e-05, -1.2508793e-02, -3.7557229e-02],\n",
              "        [-2.0812532e-02,  3.8452592e-02,  3.1964567e-02, ...,\n",
              "         -4.1286115e-02, -6.1510846e-02,  5.8002815e-02],\n",
              "        ...,\n",
              "        [ 2.6486862e-02,  1.7524112e-02,  6.5533072e-04, ...,\n",
              "         -8.8546984e-03, -4.5812190e-02, -4.5913376e-02],\n",
              "        [ 6.0245086e-02, -1.5886154e-02, -8.3892941e-02, ...,\n",
              "         -3.9881229e-02,  6.1770831e-03,  2.4584383e-03],\n",
              "        [ 4.5699012e-02, -3.8835455e-02, -5.6964755e-02, ...,\n",
              "         -9.1590896e-02, -1.0887840e-01,  5.0036062e-02]], dtype=float32))"
            ]
          },
          "metadata": {},
          "execution_count": 57
        }
      ],
      "source": [
        "# get the weights matrix of the embedding layer\n",
        "# (these are the numerical representations of each token in our training\n",
        "# data for 5 epochs)\n",
        "\n",
        "embedded_wts = model_1.get_layer(\"embedding\").get_weights()[0]\n",
        "embedded_wts.shape,embedded_wts"
      ]
    },
    {
      "cell_type": "code",
      "execution_count": 58,
      "id": "971924e0",
      "metadata": {
        "id": "971924e0"
      },
      "outputs": [],
      "source": [
        "# gets the all the wts in the embedded layer in the above cell"
      ]
    },
    {
      "cell_type": "code",
      "execution_count": 59,
      "id": "2bf83743",
      "metadata": {
        "id": "2bf83743"
      },
      "outputs": [],
      "source": [
        "# Lets visualize the embedded weghts matrix\n",
        "# https://www.tensorflow.org/text/guide/word_embeddings\n",
        "\n",
        "# Create embedding files {we got this from the documentation}\n",
        "import io\n",
        "\n",
        "out_v = io.open('vectors.tsv', 'w', encoding='utf-8') # vectors \n",
        "out_m = io.open('metadata.tsv', 'w', encoding='utf-8') # metadata that is the words\n",
        "\n",
        "for index, word in enumerate(words_in_vocab):\n",
        "  if index == 0:\n",
        "    continue  # skip 0, it's padding.\n",
        "  vec = embedded_wts[index]\n",
        "  out_v.write('\\t'.join([str(x) for x in vec]) + \"\\n\")\n",
        "  out_m.write(word + \"\\n\")\n",
        "out_v.close()\n",
        "out_m.close()"
      ]
    },
    {
      "cell_type": "code",
      "execution_count": 60,
      "id": "16f1cb71",
      "metadata": {
        "colab": {
          "base_uri": "https://localhost:8080/"
        },
        "id": "16f1cb71",
        "outputId": "38184b93-ad05-4a51-d3cd-80773a7a2a5f"
      },
      "outputs": [
        {
          "output_type": "stream",
          "name": "stdout",
          "text": [
            "metadata.tsv  __pycache__  test.csv   utils.py\n",
            "MODEL_LOGS    sample_data  train.csv  vectors.tsv\n"
          ]
        }
      ],
      "source": [
        "# check the files\n",
        "!ls"
      ]
    },
    {
      "cell_type": "code",
      "execution_count": 61,
      "id": "b599bae0",
      "metadata": {
        "id": "b599bae0"
      },
      "outputs": [],
      "source": [
        "# word2vec\n",
        "# https://www.tensorflow.org/tutorials/text/word2vec\n",
        "# https://towardsdatascience.com/word2vec-explained-49c52b4ccb71\n",
        "\n",
        "# download the files if using a colab to the projector\n",
        "# try:\n",
        "#     from google.colab import files\n",
        "#     files.download('vectors.tsv')\n",
        "#     files.download('metadata.tsv')\n",
        "# except Exception:\n",
        "#     pass\n",
        "\n",
        "# Load in the tsv files in https://projector.tensorflow.org/\n",
        "# to visualize the weights\n",
        "\n",
        "# https://jalammar.github.io/illustrated-word2vec/"
      ]
    },
    {
      "cell_type": "markdown",
      "id": "5c12d090",
      "metadata": {
        "id": "5c12d090"
      },
      "source": [
        "![Screenshot%20from%202022-08-06%2015-28-13.png](attachment:Screenshot%20from%202022-08-06%2015-28-13.png)"
      ]
    },
    {
      "cell_type": "markdown",
      "id": "2593b02f",
      "metadata": {
        "id": "2593b02f"
      },
      "source": [
        "# High level RNN's models\n"
      ]
    },
    {
      "cell_type": "markdown",
      "id": "39fb1c65",
      "metadata": {
        "id": "39fb1c65"
      },
      "source": [
        "![0%20xs3Dya3qQBx6IU7C.png](attachment:0%20xs3Dya3qQBx6IU7C.png)"
      ]
    },
    {
      "cell_type": "markdown",
      "id": "94693eab",
      "metadata": {
        "id": "94693eab"
      },
      "source": [
        "![1%20SKGAqkVVzT6co-sZ29ze-g.png](attachment:1%20SKGAqkVVzT6co-sZ29ze-g.png)"
      ]
    },
    {
      "cell_type": "code",
      "execution_count": 62,
      "id": "d2e44ac4",
      "metadata": {
        "id": "d2e44ac4"
      },
      "outputs": [],
      "source": [
        "# let the T be the current time seq so its taking input \n",
        "# from the seq of t-1\n",
        "\n",
        "# https://www.youtube.com/watch?v=QvkQ1B3FBqA&list=PLtBw6njQRU-rwp5__7C0oIVt26ZgjG9NI&index=2"
      ]
    },
    {
      "cell_type": "code",
      "execution_count": 63,
      "id": "53ef006b",
      "metadata": {
        "id": "53ef006b"
      },
      "outputs": [],
      "source": [
        "# LSTM\n",
        "\n",
        "# https://colah.github.io/posts/2015-08-Understanding-LSTMs/\n",
        "# http://karpathy.github.io/2015/05/21/rnn-effectiveness/"
      ]
    },
    {
      "cell_type": "markdown",
      "id": "05aafd8d",
      "metadata": {
        "id": "05aafd8d"
      },
      "source": [
        "![Screenshot%20from%202022-08-06%2015-46-35.png](attachment:Screenshot%20from%202022-08-06%2015-46-35.png)"
      ]
    },
    {
      "cell_type": "code",
      "execution_count": 64,
      "id": "420b65a4",
      "metadata": {
        "colab": {
          "base_uri": "https://localhost:8080/"
        },
        "id": "420b65a4",
        "outputId": "96263b52-1228-4f59-a8e1-72322c1df78b"
      },
      "outputs": [
        {
          "output_type": "stream",
          "name": "stdout",
          "text": [
            "(None, 15, 128)\n",
            "(None, 15, 64)\n",
            "(None, 64)\n",
            "(None, 64)\n"
          ]
        }
      ],
      "source": [
        "# Model 2 LSTM [RNN]\n",
        "inputs = layers.Input(shape=(1,), dtype='string')\n",
        "x = text_vectorizer(inputs)\n",
        "x = embedding(x)\n",
        "print(x.shape) # output of the embedding layer shape\n",
        "x = layers.LSTM(64, return_sequences=True)(x) # 64 is the hidden units\n",
        "print(x.shape) # shape of the lstm layer , we used return seq = true that's why the seq of the previous layer got repeated \n",
        "x = layers.LSTM(64)(x)\n",
        "print(x.shape) \n",
        "x = layers.Dense(64, activation='relu')(x)\n",
        "print(x.shape)\n",
        "outputs = layers.Dense(1, activation='sigmoid')(x)\n",
        "model_2 = Model(inputs, outputs,name='model_2_LSTM')"
      ]
    },
    {
      "cell_type": "code",
      "execution_count": 65,
      "id": "02416421",
      "metadata": {
        "colab": {
          "base_uri": "https://localhost:8080/"
        },
        "id": "02416421",
        "outputId": "fa0d3c21-7570-40c5-d569-bdd2c99923a5"
      },
      "outputs": [
        {
          "output_type": "stream",
          "name": "stdout",
          "text": [
            "Model: \"model_2_LSTM\"\n",
            "_________________________________________________________________\n",
            " Layer (type)                Output Shape              Param #   \n",
            "=================================================================\n",
            " input_2 (InputLayer)        [(None, 1)]               0         \n",
            "                                                                 \n",
            " text_vectorization (TextVec  (None, 15)               0         \n",
            " torization)                                                     \n",
            "                                                                 \n",
            " embedding (Embedding)       (None, 15, 128)           1280000   \n",
            "                                                                 \n",
            " lstm (LSTM)                 (None, 15, 64)            49408     \n",
            "                                                                 \n",
            " lstm_1 (LSTM)               (None, 64)                33024     \n",
            "                                                                 \n",
            " dense_1 (Dense)             (None, 64)                4160      \n",
            "                                                                 \n",
            " dense_2 (Dense)             (None, 1)                 65        \n",
            "                                                                 \n",
            "=================================================================\n",
            "Total params: 1,366,657\n",
            "Trainable params: 1,366,657\n",
            "Non-trainable params: 0\n",
            "_________________________________________________________________\n"
          ]
        }
      ],
      "source": [
        "model_2.summary()"
      ]
    },
    {
      "cell_type": "code",
      "execution_count": 66,
      "id": "9076d7df",
      "metadata": {
        "id": "9076d7df"
      },
      "outputs": [],
      "source": [
        "# compile the model\n",
        "model_2.compile(loss=BinaryCrossentropy(),\n",
        "               optimizer=Adam(),\n",
        "               metrics=[\"accuracy\"])"
      ]
    },
    {
      "cell_type": "code",
      "execution_count": 67,
      "id": "217e3733",
      "metadata": {
        "colab": {
          "base_uri": "https://localhost:8080/"
        },
        "id": "217e3733",
        "outputId": "ba44164a-7084-4f13-c43f-6fedabebfc13"
      },
      "outputs": [
        {
          "output_type": "stream",
          "name": "stdout",
          "text": [
            "Gathering the log data and saving in : MODEL_LOGS/model_2_LSTM/20220815-042729\n",
            "Epoch 1/5\n",
            "215/215 [==============================] - 10s 16ms/step - loss: 0.2218 - accuracy: 0.9219 - val_loss: 0.6001 - val_accuracy: 0.7913\n",
            "Epoch 2/5\n",
            "215/215 [==============================] - 3s 14ms/step - loss: 0.1581 - accuracy: 0.9425 - val_loss: 0.7111 - val_accuracy: 0.7848\n",
            "Epoch 3/5\n",
            "215/215 [==============================] - 3s 15ms/step - loss: 0.1265 - accuracy: 0.9510 - val_loss: 0.6858 - val_accuracy: 0.7717\n",
            "Epoch 4/5\n",
            "215/215 [==============================] - 3s 13ms/step - loss: 0.1087 - accuracy: 0.9575 - val_loss: 0.8468 - val_accuracy: 0.7808\n",
            "Epoch 5/5\n",
            "215/215 [==============================] - 3s 14ms/step - loss: 0.0842 - accuracy: 0.9653 - val_loss: 0.8209 - val_accuracy: 0.7664\n"
          ]
        }
      ],
      "source": [
        "# fit the model\n",
        "model_2_history = model_2.fit(train_sentences,\n",
        "                             train_labels,\n",
        "                             epochs=5,\n",
        "                             validation_data=(val_sentences, val_labels),\n",
        "                             callbacks=[create_tensorboard_callback(SAVE_DIR,\n",
        "                                                                   \"model_2_LSTM\")])"
      ]
    },
    {
      "cell_type": "code",
      "execution_count": 68,
      "id": "d4cf564d",
      "metadata": {
        "colab": {
          "base_uri": "https://localhost:8080/"
        },
        "id": "d4cf564d",
        "outputId": "902f91d9-de4c-4d38-944c-18946f0b0fae"
      },
      "outputs": [
        {
          "output_type": "execute_result",
          "data": {
            "text/plain": [
              "array([[4.5536426e-03],\n",
              "       [6.3316560e-01],\n",
              "       [9.9986339e-01],\n",
              "       [5.4999337e-02],\n",
              "       [3.4217024e-04],\n",
              "       [9.9639219e-01],\n",
              "       [4.3591651e-01],\n",
              "       [9.9995780e-01],\n",
              "       [9.9982482e-01],\n",
              "       [3.6254627e-01]], dtype=float32)"
            ]
          },
          "metadata": {},
          "execution_count": 68
        }
      ],
      "source": [
        "model_2_pred_probs = model_2.predict(val_sentences)\n",
        "model_2_pred_probs[:10]"
      ]
    },
    {
      "cell_type": "code",
      "execution_count": 69,
      "id": "50f77ac6",
      "metadata": {
        "id": "50f77ac6"
      },
      "outputs": [],
      "source": [
        "model_2_preds = tf.squeeze(tf.round(model_2_pred_probs))"
      ]
    },
    {
      "cell_type": "code",
      "execution_count": 70,
      "id": "3683158b",
      "metadata": {
        "colab": {
          "base_uri": "https://localhost:8080/"
        },
        "id": "3683158b",
        "outputId": "a352e2b9-9468-472f-c2f1-1c3703768a2d"
      },
      "outputs": [
        {
          "output_type": "execute_result",
          "data": {
            "text/plain": [
              "<tf.Tensor: shape=(10,), dtype=float32, numpy=array([0., 1., 1., 0., 0., 1., 0., 1., 1., 0.], dtype=float32)>"
            ]
          },
          "metadata": {},
          "execution_count": 70
        }
      ],
      "source": [
        "model_2_preds[:10]"
      ]
    },
    {
      "cell_type": "code",
      "execution_count": 71,
      "id": "a6a05575",
      "metadata": {
        "colab": {
          "base_uri": "https://localhost:8080/"
        },
        "id": "a6a05575",
        "outputId": "783363a2-802d-4f11-f039-3bc48bd402ef"
      },
      "outputs": [
        {
          "output_type": "execute_result",
          "data": {
            "text/plain": [
              "{'accuracy': 76.64041994750657,\n",
              " 'f1': 0.7600744655442512,\n",
              " 'precision': 0.7790315580631162,\n",
              " 'recall': 0.7664041994750657}"
            ]
          },
          "metadata": {},
          "execution_count": 71
        }
      ],
      "source": [
        "# calculate the model 2 results\n",
        "\n",
        "model_2_results = calculate_results(y_true=val_labels,\n",
        "                                   y_pred=model_2_preds)\n",
        "model_2_results"
      ]
    },
    {
      "cell_type": "code",
      "execution_count": 72,
      "id": "6e5d4ee9",
      "metadata": {
        "colab": {
          "base_uri": "https://localhost:8080/"
        },
        "id": "6e5d4ee9",
        "outputId": "7cedd8a0-39e3-4fcd-aa13-701d07b41c29"
      },
      "outputs": [
        {
          "output_type": "execute_result",
          "data": {
            "text/plain": [
              "{'accuracy': 79.26509186351706,\n",
              " 'f1': 0.7862189758049549,\n",
              " 'precision': 0.8111390004213173,\n",
              " 'recall': 0.7926509186351706}"
            ]
          },
          "metadata": {},
          "execution_count": 72
        }
      ],
      "source": [
        "baseline_results"
      ]
    },
    {
      "cell_type": "code",
      "execution_count": 73,
      "id": "751fb47b",
      "metadata": {
        "id": "751fb47b"
      },
      "outputs": [],
      "source": [
        "# It still seems that the baseline model is performing better than\n",
        "# the LSTM model"
      ]
    },
    {
      "cell_type": "code",
      "execution_count": 74,
      "id": "f03ce0bc",
      "metadata": {
        "colab": {
          "base_uri": "https://localhost:8080/"
        },
        "id": "f03ce0bc",
        "outputId": "0f6322d3-15ad-43a7-f00f-f5fb8852571a"
      },
      "outputs": [
        {
          "output_type": "stream",
          "name": "stdout",
          "text": [
            "total 16516\n",
            "drwxr-xr-x 1 root root     4096 Aug 15 04:27 .\n",
            "drwxr-xr-x 1 root root     4096 Aug 15 04:15 ..\n",
            "drwxr-xr-x 4 root root     4096 Aug  3 20:20 .config\n",
            "-rw-r--r-- 1 root root    80388 Aug 15 04:27 metadata.tsv\n",
            "drwxr-xr-x 4 root root     4096 Aug 15 04:27 MODEL_LOGS\n",
            "drwxr-xr-x 2 root root     4096 Aug 15 04:20 __pycache__\n",
            "drwxr-xr-x 1 root root     4096 Aug  3 20:21 sample_data\n",
            "-rw-r--r-- 1 root root   420783 Aug 15 04:22 test.csv\n",
            "-rw-r--r-- 1 root root   987712 Aug 15 04:25 train.csv\n",
            "-rw-r--r-- 1 root root     6262 Aug 15 04:20 utils.py\n",
            "-rw-r--r-- 1 root root 15384222 Aug 15 04:27 vectors.tsv\n"
          ]
        }
      ],
      "source": [
        "!ls -la"
      ]
    },
    {
      "cell_type": "code",
      "execution_count": 75,
      "id": "fd4b27e9",
      "metadata": {
        "id": "fd4b27e9"
      },
      "outputs": [],
      "source": [
        "# Model 3\n",
        "\n",
        "# GRU MODEL -- Gated recurrent network\n",
        "\"\"\"\n",
        "It is a popular and effective RNN component is, it has similar features\n",
        "to an LSTM cell but has less parameters.\n",
        "\"\"\"\n",
        "\n",
        "inputs = layers.Input(shape=(1,), dtype=tf.string)\n",
        "x = text_vectorizer(inputs)\n",
        "x = embedding(x)\n",
        "# return seq is same as the earlier model func like stacking \n",
        "# the prev layers on top of each other \n",
        "x = layers.GRU(64)(x)\n",
        "# x = layers.LSTM(64, return_sequences=True)(x)\n",
        "# x = layers.Dense(64, activation=\"relu\")(x)\n",
        "x = layers.Dense(1, activation=\"sigmoid\")(x)\n",
        "\n",
        "outputs = layers.Dense(1, activation=\"sigmoid\")(x)\n",
        "model_3 = Model(inputs,outputs,name=\"model_3_GRU\")"
      ]
    },
    {
      "cell_type": "code",
      "execution_count": 76,
      "id": "a43dbe8d",
      "metadata": {
        "colab": {
          "base_uri": "https://localhost:8080/"
        },
        "id": "a43dbe8d",
        "outputId": "728a8df4-4ece-435f-b918-37bb2dcccd72"
      },
      "outputs": [
        {
          "output_type": "stream",
          "name": "stdout",
          "text": [
            "Model: \"model_3_GRU\"\n",
            "_________________________________________________________________\n",
            " Layer (type)                Output Shape              Param #   \n",
            "=================================================================\n",
            " input_3 (InputLayer)        [(None, 1)]               0         \n",
            "                                                                 \n",
            " text_vectorization (TextVec  (None, 15)               0         \n",
            " torization)                                                     \n",
            "                                                                 \n",
            " embedding (Embedding)       (None, 15, 128)           1280000   \n",
            "                                                                 \n",
            " gru (GRU)                   (None, 64)                37248     \n",
            "                                                                 \n",
            " dense_3 (Dense)             (None, 1)                 65        \n",
            "                                                                 \n",
            " dense_4 (Dense)             (None, 1)                 2         \n",
            "                                                                 \n",
            "=================================================================\n",
            "Total params: 1,317,315\n",
            "Trainable params: 1,317,315\n",
            "Non-trainable params: 0\n",
            "_________________________________________________________________\n"
          ]
        }
      ],
      "source": [
        "model_3.summary()"
      ]
    },
    {
      "cell_type": "code",
      "execution_count": 77,
      "id": "38cbc4f1",
      "metadata": {
        "colab": {
          "base_uri": "https://localhost:8080/"
        },
        "id": "38cbc4f1",
        "outputId": "aea70a8b-a22c-4bc1-f9e6-2e01b29459d2"
      },
      "outputs": [
        {
          "output_type": "stream",
          "name": "stdout",
          "text": [
            "Gathering the log data and saving in : MODEL_LOGS/model_3_gru/20220815-042754\n",
            "Epoch 1/5\n",
            "215/215 [==============================] - 3s 9ms/step - loss: 0.6466 - accuracy: 0.9038 - val_loss: 0.6473 - val_accuracy: 0.7835\n",
            "Epoch 2/5\n",
            "215/215 [==============================] - 1s 6ms/step - loss: 0.5929 - accuracy: 0.9656 - val_loss: 0.6253 - val_accuracy: 0.7703\n",
            "Epoch 3/5\n",
            "215/215 [==============================] - 1s 6ms/step - loss: 0.5499 - accuracy: 0.9672 - val_loss: 0.6013 - val_accuracy: 0.7822\n",
            "Epoch 4/5\n",
            "215/215 [==============================] - 1s 6ms/step - loss: 0.5111 - accuracy: 0.9693 - val_loss: 0.5905 - val_accuracy: 0.7690\n",
            "Epoch 5/5\n",
            "215/215 [==============================] - 1s 6ms/step - loss: 0.4776 - accuracy: 0.9676 - val_loss: 0.5758 - val_accuracy: 0.7717\n"
          ]
        }
      ],
      "source": [
        "model_3.compile(loss=BinaryCrossentropy(),\n",
        "               optimizer=Adam(),\n",
        "               metrics=[\"accuracy\"])\n",
        "\n",
        "\n",
        "model_3_history = model_3.fit(train_sentences,\n",
        "                             train_labels,\n",
        "                             epochs=5,\n",
        "                             validation_data=(val_sentences, val_labels),\n",
        "                             callbacks=[create_tensorboard_callback(SAVE_DIR,\"model_3_gru\")])"
      ]
    },
    {
      "cell_type": "code",
      "execution_count": 78,
      "id": "73014098",
      "metadata": {
        "colab": {
          "base_uri": "https://localhost:8080/"
        },
        "id": "73014098",
        "outputId": "1cf9505a-044e-4e3d-b6d0-19df3a6919d6"
      },
      "outputs": [
        {
          "output_type": "execute_result",
          "data": {
            "text/plain": [
              "array([[0.35317647],\n",
              "       [0.6356186 ],\n",
              "       [0.6356187 ],\n",
              "       [0.35229355],\n",
              "       [0.35229313],\n",
              "       [0.6355177 ],\n",
              "       [0.36782774],\n",
              "       [0.6356187 ],\n",
              "       [0.6356187 ],\n",
              "       [0.3639078 ],\n",
              "       [0.3522932 ],\n",
              "       [0.6356075 ],\n",
              "       [0.35229367],\n",
              "       [0.3522956 ],\n",
              "       [0.3522931 ],\n",
              "       [0.35229963],\n",
              "       [0.35229313],\n",
              "       [0.3522932 ],\n",
              "       [0.3522938 ],\n",
              "       [0.6356171 ],\n",
              "       [0.63561857],\n",
              "       [0.35229313],\n",
              "       [0.6299354 ],\n",
              "       [0.3522942 ],\n",
              "       [0.6356187 ],\n",
              "       [0.6356187 ],\n",
              "       [0.35229325],\n",
              "       [0.35229334],\n",
              "       [0.35229313],\n",
              "       [0.35694662],\n",
              "       [0.52425057],\n",
              "       [0.35229325],\n",
              "       [0.40422267],\n",
              "       [0.35229394],\n",
              "       [0.5020916 ],\n",
              "       [0.35229418],\n",
              "       [0.6356187 ],\n",
              "       [0.352299  ],\n",
              "       [0.35229325],\n",
              "       [0.6356187 ],\n",
              "       [0.35486057],\n",
              "       [0.35229313],\n",
              "       [0.35371193],\n",
              "       [0.35229313],\n",
              "       [0.6354311 ],\n",
              "       [0.6356187 ],\n",
              "       [0.6356175 ],\n",
              "       [0.6356187 ],\n",
              "       [0.35229322],\n",
              "       [0.54942214],\n",
              "       [0.35229647],\n",
              "       [0.35229388],\n",
              "       [0.40996978],\n",
              "       [0.35229385],\n",
              "       [0.6309399 ],\n",
              "       [0.35229343],\n",
              "       [0.3522936 ],\n",
              "       [0.6356187 ],\n",
              "       [0.35229412],\n",
              "       [0.35229367],\n",
              "       [0.35229373],\n",
              "       [0.6356187 ],\n",
              "       [0.6356175 ],\n",
              "       [0.35230425],\n",
              "       [0.6356187 ],\n",
              "       [0.6356187 ],\n",
              "       [0.6356176 ],\n",
              "       [0.35229355],\n",
              "       [0.6079825 ],\n",
              "       [0.3522992 ],\n",
              "       [0.35229385],\n",
              "       [0.35229415],\n",
              "       [0.6356187 ],\n",
              "       [0.35229382],\n",
              "       [0.35242608],\n",
              "       [0.63554883],\n",
              "       [0.35229442],\n",
              "       [0.63561773],\n",
              "       [0.35232237],\n",
              "       [0.63442576],\n",
              "       [0.35229492],\n",
              "       [0.35229993],\n",
              "       [0.6356187 ],\n",
              "       [0.35231385],\n",
              "       [0.35229367],\n",
              "       [0.35229927],\n",
              "       [0.3522932 ],\n",
              "       [0.35229582],\n",
              "       [0.35237256],\n",
              "       [0.6356187 ],\n",
              "       [0.6356187 ],\n",
              "       [0.3522931 ],\n",
              "       [0.6355736 ],\n",
              "       [0.35229313],\n",
              "       [0.6356187 ],\n",
              "       [0.6356186 ],\n",
              "       [0.6355966 ],\n",
              "       [0.6356187 ],\n",
              "       [0.63561857],\n",
              "       [0.6356185 ],\n",
              "       [0.6356187 ],\n",
              "       [0.35229945],\n",
              "       [0.35229313],\n",
              "       [0.6337612 ],\n",
              "       [0.6356186 ],\n",
              "       [0.35235623],\n",
              "       [0.63535154],\n",
              "       [0.63530874],\n",
              "       [0.3522965 ],\n",
              "       [0.63561827],\n",
              "       [0.63560146],\n",
              "       [0.35229313],\n",
              "       [0.54066044],\n",
              "       [0.35230032],\n",
              "       [0.3522932 ],\n",
              "       [0.35236153],\n",
              "       [0.35469976],\n",
              "       [0.63561714],\n",
              "       [0.35231248],\n",
              "       [0.3522936 ],\n",
              "       [0.6356187 ],\n",
              "       [0.3522932 ],\n",
              "       [0.35229313],\n",
              "       [0.6340964 ],\n",
              "       [0.35244605],\n",
              "       [0.3522947 ],\n",
              "       [0.63561815],\n",
              "       [0.3522932 ],\n",
              "       [0.3522933 ],\n",
              "       [0.6356185 ],\n",
              "       [0.3522932 ],\n",
              "       [0.6356187 ],\n",
              "       [0.6356187 ],\n",
              "       [0.6356187 ],\n",
              "       [0.6356187 ],\n",
              "       [0.3522932 ],\n",
              "       [0.6356187 ],\n",
              "       [0.35525453],\n",
              "       [0.3523018 ],\n",
              "       [0.35229328],\n",
              "       [0.6356187 ],\n",
              "       [0.63513374],\n",
              "       [0.3522956 ],\n",
              "       [0.6356185 ],\n",
              "       [0.35229394],\n",
              "       [0.47981322],\n",
              "       [0.3522933 ],\n",
              "       [0.3522931 ],\n",
              "       [0.35552156],\n",
              "       [0.6356187 ],\n",
              "       [0.35229832],\n",
              "       [0.35229394],\n",
              "       [0.35234043],\n",
              "       [0.35229343],\n",
              "       [0.3522948 ],\n",
              "       [0.6356152 ],\n",
              "       [0.5846679 ],\n",
              "       [0.35231367],\n",
              "       [0.635617  ],\n",
              "       [0.35229313],\n",
              "       [0.6356175 ],\n",
              "       [0.35229567],\n",
              "       [0.35239115],\n",
              "       [0.5923808 ],\n",
              "       [0.37371188],\n",
              "       [0.35229343],\n",
              "       [0.6356187 ],\n",
              "       [0.35235366],\n",
              "       [0.63561124],\n",
              "       [0.35231653],\n",
              "       [0.63561857],\n",
              "       [0.63558376],\n",
              "       [0.63561827],\n",
              "       [0.35229355],\n",
              "       [0.6356187 ],\n",
              "       [0.35229412],\n",
              "       [0.5439299 ],\n",
              "       [0.35232535],\n",
              "       [0.55531514],\n",
              "       [0.6356187 ],\n",
              "       [0.35229313],\n",
              "       [0.6356159 ],\n",
              "       [0.6356179 ],\n",
              "       [0.6356187 ],\n",
              "       [0.6356187 ],\n",
              "       [0.35229343],\n",
              "       [0.35229325],\n",
              "       [0.6356187 ],\n",
              "       [0.3522931 ],\n",
              "       [0.3522931 ],\n",
              "       [0.35229415],\n",
              "       [0.6354344 ],\n",
              "       [0.35229355],\n",
              "       [0.35229427],\n",
              "       [0.35229313],\n",
              "       [0.3522934 ],\n",
              "       [0.35229322],\n",
              "       [0.35229442],\n",
              "       [0.6356152 ],\n",
              "       [0.35230026],\n",
              "       [0.35229772],\n",
              "       [0.6356187 ],\n",
              "       [0.6356187 ],\n",
              "       [0.35241494],\n",
              "       [0.35229325],\n",
              "       [0.6356185 ],\n",
              "       [0.62861836],\n",
              "       [0.6356181 ],\n",
              "       [0.63456386],\n",
              "       [0.63493514],\n",
              "       [0.3525124 ],\n",
              "       [0.6356187 ],\n",
              "       [0.35229313],\n",
              "       [0.3523055 ],\n",
              "       [0.3522932 ],\n",
              "       [0.3522931 ],\n",
              "       [0.6356187 ],\n",
              "       [0.6356179 ],\n",
              "       [0.6356187 ],\n",
              "       [0.35234767],\n",
              "       [0.37317285],\n",
              "       [0.35229352],\n",
              "       [0.35229346],\n",
              "       [0.35229427],\n",
              "       [0.6356187 ],\n",
              "       [0.4821611 ],\n",
              "       [0.35594004],\n",
              "       [0.6356187 ],\n",
              "       [0.63561636],\n",
              "       [0.6356066 ],\n",
              "       [0.35229325],\n",
              "       [0.35230213],\n",
              "       [0.6356185 ],\n",
              "       [0.38352004],\n",
              "       [0.35231522],\n",
              "       [0.35229418],\n",
              "       [0.475621  ],\n",
              "       [0.5621698 ],\n",
              "       [0.3523001 ],\n",
              "       [0.35229638],\n",
              "       [0.6355822 ],\n",
              "       [0.35234421],\n",
              "       [0.6356187 ],\n",
              "       [0.6356187 ],\n",
              "       [0.35229325],\n",
              "       [0.3522931 ],\n",
              "       [0.6356185 ],\n",
              "       [0.35229325],\n",
              "       [0.35229325],\n",
              "       [0.3522949 ],\n",
              "       [0.35229313],\n",
              "       [0.6356183 ],\n",
              "       [0.3522931 ],\n",
              "       [0.35229355],\n",
              "       [0.6356187 ],\n",
              "       [0.352294  ],\n",
              "       [0.6356187 ],\n",
              "       [0.6356187 ],\n",
              "       [0.37235245],\n",
              "       [0.35229334],\n",
              "       [0.35229364],\n",
              "       [0.35230643],\n",
              "       [0.3522931 ],\n",
              "       [0.63560975],\n",
              "       [0.63561845],\n",
              "       [0.353486  ],\n",
              "       [0.6356186 ],\n",
              "       [0.3522932 ],\n",
              "       [0.35230264],\n",
              "       [0.35229313],\n",
              "       [0.35229343],\n",
              "       [0.3522936 ],\n",
              "       [0.6356187 ],\n",
              "       [0.3522938 ],\n",
              "       [0.35229313],\n",
              "       [0.6356186 ],\n",
              "       [0.3522931 ],\n",
              "       [0.3522939 ],\n",
              "       [0.6356187 ],\n",
              "       [0.3522931 ],\n",
              "       [0.3523049 ],\n",
              "       [0.35229313],\n",
              "       [0.6356187 ],\n",
              "       [0.61462855],\n",
              "       [0.3523039 ],\n",
              "       [0.403724  ],\n",
              "       [0.6356134 ],\n",
              "       [0.35229373],\n",
              "       [0.6356187 ],\n",
              "       [0.35229343],\n",
              "       [0.635616  ],\n",
              "       [0.35318425],\n",
              "       [0.36241648],\n",
              "       [0.39595488],\n",
              "       [0.3522967 ],\n",
              "       [0.37490797],\n",
              "       [0.35229638],\n",
              "       [0.35230482],\n",
              "       [0.35229805],\n",
              "       [0.36105168],\n",
              "       [0.3522931 ],\n",
              "       [0.3522932 ],\n",
              "       [0.35229582],\n",
              "       [0.6356186 ],\n",
              "       [0.35229492],\n",
              "       [0.35229325],\n",
              "       [0.35237658],\n",
              "       [0.3522949 ],\n",
              "       [0.35229564],\n",
              "       [0.35229313],\n",
              "       [0.35229313],\n",
              "       [0.6356187 ],\n",
              "       [0.35241792],\n",
              "       [0.35230252],\n",
              "       [0.6356187 ],\n",
              "       [0.3522933 ],\n",
              "       [0.63497955],\n",
              "       [0.35229412],\n",
              "       [0.3522932 ],\n",
              "       [0.35229406],\n",
              "       [0.35229373],\n",
              "       [0.35229385],\n",
              "       [0.6356182 ],\n",
              "       [0.3600551 ],\n",
              "       [0.6356187 ],\n",
              "       [0.35233277],\n",
              "       [0.35229313],\n",
              "       [0.6356187 ],\n",
              "       [0.35230163],\n",
              "       [0.6356187 ],\n",
              "       [0.352294  ],\n",
              "       [0.3522932 ],\n",
              "       [0.6356187 ],\n",
              "       [0.3522931 ],\n",
              "       [0.35229313],\n",
              "       [0.6356187 ],\n",
              "       [0.3522931 ],\n",
              "       [0.35229355],\n",
              "       [0.63509756],\n",
              "       [0.6356179 ],\n",
              "       [0.3522931 ],\n",
              "       [0.35241833],\n",
              "       [0.6356187 ],\n",
              "       [0.63561475],\n",
              "       [0.6355636 ],\n",
              "       [0.35236415],\n",
              "       [0.63527   ],\n",
              "       [0.6355765 ],\n",
              "       [0.3522934 ],\n",
              "       [0.35229325],\n",
              "       [0.35229355],\n",
              "       [0.47958165],\n",
              "       [0.3522932 ],\n",
              "       [0.43298537],\n",
              "       [0.35263163],\n",
              "       [0.35229313],\n",
              "       [0.6356187 ],\n",
              "       [0.6356187 ],\n",
              "       [0.6356187 ],\n",
              "       [0.35229525],\n",
              "       [0.6356065 ],\n",
              "       [0.35885698],\n",
              "       [0.35341156],\n",
              "       [0.63554037],\n",
              "       [0.35230502],\n",
              "       [0.3522931 ],\n",
              "       [0.35229313],\n",
              "       [0.3522933 ],\n",
              "       [0.6356057 ],\n",
              "       [0.35229313],\n",
              "       [0.35229412],\n",
              "       [0.35229313],\n",
              "       [0.35229427],\n",
              "       [0.45288855],\n",
              "       [0.6354462 ],\n",
              "       [0.35229376],\n",
              "       [0.35229537],\n",
              "       [0.35846278],\n",
              "       [0.35229874],\n",
              "       [0.6356187 ],\n",
              "       [0.6356187 ],\n",
              "       [0.63549244],\n",
              "       [0.6356118 ],\n",
              "       [0.3522931 ],\n",
              "       [0.63534015],\n",
              "       [0.6356187 ],\n",
              "       [0.63557917],\n",
              "       [0.3525113 ],\n",
              "       [0.6356185 ],\n",
              "       [0.35235256],\n",
              "       [0.6356187 ],\n",
              "       [0.3522958 ],\n",
              "       [0.35230285],\n",
              "       [0.6081749 ],\n",
              "       [0.3525677 ],\n",
              "       [0.63561827],\n",
              "       [0.35229346],\n",
              "       [0.3522931 ],\n",
              "       [0.3522932 ],\n",
              "       [0.35230502],\n",
              "       [0.6356187 ],\n",
              "       [0.35229313],\n",
              "       [0.48121008],\n",
              "       [0.6356187 ],\n",
              "       [0.35229313],\n",
              "       [0.6356187 ],\n",
              "       [0.35229364],\n",
              "       [0.3522935 ],\n",
              "       [0.35229614],\n",
              "       [0.6356179 ],\n",
              "       [0.6356187 ],\n",
              "       [0.3522989 ],\n",
              "       [0.35229313],\n",
              "       [0.35887155],\n",
              "       [0.6356187 ],\n",
              "       [0.6355929 ],\n",
              "       [0.352294  ],\n",
              "       [0.3544021 ],\n",
              "       [0.35249624],\n",
              "       [0.35229313],\n",
              "       [0.6356187 ],\n",
              "       [0.6342492 ],\n",
              "       [0.6356187 ],\n",
              "       [0.63561857],\n",
              "       [0.35330668],\n",
              "       [0.3729421 ],\n",
              "       [0.35230473],\n",
              "       [0.6356185 ],\n",
              "       [0.63560027],\n",
              "       [0.42415112],\n",
              "       [0.3522933 ],\n",
              "       [0.35243943],\n",
              "       [0.35230064],\n",
              "       [0.3522932 ],\n",
              "       [0.3532062 ],\n",
              "       [0.35230473],\n",
              "       [0.6241788 ],\n",
              "       [0.35232544],\n",
              "       [0.6356187 ],\n",
              "       [0.6356187 ],\n",
              "       [0.3522936 ],\n",
              "       [0.6356186 ],\n",
              "       [0.35240188],\n",
              "       [0.3522932 ],\n",
              "       [0.35237634],\n",
              "       [0.63561696],\n",
              "       [0.35229325],\n",
              "       [0.35229614],\n",
              "       [0.35229313],\n",
              "       [0.35234088],\n",
              "       [0.3522931 ],\n",
              "       [0.6356187 ],\n",
              "       [0.6356043 ],\n",
              "       [0.6356187 ],\n",
              "       [0.6344915 ],\n",
              "       [0.6355787 ],\n",
              "       [0.35229573],\n",
              "       [0.35229313],\n",
              "       [0.6347002 ],\n",
              "       [0.6356183 ],\n",
              "       [0.6356187 ],\n",
              "       [0.3522931 ],\n",
              "       [0.35229602],\n",
              "       [0.3522936 ],\n",
              "       [0.6356187 ],\n",
              "       [0.6356187 ],\n",
              "       [0.35229596],\n",
              "       [0.3523284 ],\n",
              "       [0.6356187 ],\n",
              "       [0.35229325],\n",
              "       [0.35230714],\n",
              "       [0.63554895],\n",
              "       [0.3522936 ],\n",
              "       [0.3522932 ],\n",
              "       [0.6356185 ],\n",
              "       [0.3522942 ],\n",
              "       [0.3523425 ],\n",
              "       [0.6356187 ],\n",
              "       [0.35229346],\n",
              "       [0.3522932 ],\n",
              "       [0.3522931 ],\n",
              "       [0.35229313],\n",
              "       [0.35229355],\n",
              "       [0.6356187 ],\n",
              "       [0.35229313],\n",
              "       [0.3685252 ],\n",
              "       [0.3573904 ],\n",
              "       [0.35229367],\n",
              "       [0.35238376],\n",
              "       [0.35229313],\n",
              "       [0.35231605],\n",
              "       [0.6356187 ],\n",
              "       [0.6356187 ],\n",
              "       [0.35231346],\n",
              "       [0.35229352],\n",
              "       [0.35229325],\n",
              "       [0.3522933 ],\n",
              "       [0.63561857],\n",
              "       [0.35229313],\n",
              "       [0.63561374],\n",
              "       [0.63561803],\n",
              "       [0.3541978 ],\n",
              "       [0.54572237],\n",
              "       [0.38612524],\n",
              "       [0.3522943 ],\n",
              "       [0.35229334],\n",
              "       [0.35235304],\n",
              "       [0.635617  ],\n",
              "       [0.3527134 ],\n",
              "       [0.35229462],\n",
              "       [0.35229388],\n",
              "       [0.3522931 ],\n",
              "       [0.35229325],\n",
              "       [0.39878073],\n",
              "       [0.35307693],\n",
              "       [0.35229337],\n",
              "       [0.6356187 ],\n",
              "       [0.6356187 ],\n",
              "       [0.6356186 ],\n",
              "       [0.6356187 ],\n",
              "       [0.35229367],\n",
              "       [0.3522932 ],\n",
              "       [0.63561857],\n",
              "       [0.35234296],\n",
              "       [0.3522932 ],\n",
              "       [0.35229313],\n",
              "       [0.6321851 ],\n",
              "       [0.3522931 ],\n",
              "       [0.6356185 ],\n",
              "       [0.63560396],\n",
              "       [0.58853704],\n",
              "       [0.6356187 ],\n",
              "       [0.35232657],\n",
              "       [0.3522954 ],\n",
              "       [0.6356165 ],\n",
              "       [0.3522932 ],\n",
              "       [0.35229406],\n",
              "       [0.35229343],\n",
              "       [0.6356165 ],\n",
              "       [0.5947358 ],\n",
              "       [0.35229787],\n",
              "       [0.3522933 ],\n",
              "       [0.63560957],\n",
              "       [0.3522933 ],\n",
              "       [0.35229325],\n",
              "       [0.3522932 ],\n",
              "       [0.35229453],\n",
              "       [0.6356187 ],\n",
              "       [0.63561296],\n",
              "       [0.3523031 ],\n",
              "       [0.63561803],\n",
              "       [0.6356187 ],\n",
              "       [0.35229313],\n",
              "       [0.6356187 ],\n",
              "       [0.3523077 ],\n",
              "       [0.6336632 ],\n",
              "       [0.35236877],\n",
              "       [0.3522938 ],\n",
              "       [0.3522933 ],\n",
              "       [0.35229313],\n",
              "       [0.3522934 ],\n",
              "       [0.35229313],\n",
              "       [0.35276678],\n",
              "       [0.35229337],\n",
              "       [0.6356187 ],\n",
              "       [0.3522934 ],\n",
              "       [0.63249665],\n",
              "       [0.35754016],\n",
              "       [0.3522931 ],\n",
              "       [0.3522932 ],\n",
              "       [0.6356187 ],\n",
              "       [0.35639846],\n",
              "       [0.6356187 ],\n",
              "       [0.3522936 ],\n",
              "       [0.35232896],\n",
              "       [0.35242242],\n",
              "       [0.35229436],\n",
              "       [0.35230052],\n",
              "       [0.6356187 ],\n",
              "       [0.3522931 ],\n",
              "       [0.35229325],\n",
              "       [0.35229385],\n",
              "       [0.6356187 ],\n",
              "       [0.35231704],\n",
              "       [0.3522931 ],\n",
              "       [0.6352389 ],\n",
              "       [0.35229313],\n",
              "       [0.3522994 ],\n",
              "       [0.35229367],\n",
              "       [0.35229877],\n",
              "       [0.35229325],\n",
              "       [0.35229525],\n",
              "       [0.35983828],\n",
              "       [0.35243174],\n",
              "       [0.3522932 ],\n",
              "       [0.352298  ],\n",
              "       [0.3522931 ],\n",
              "       [0.6356187 ],\n",
              "       [0.56090724],\n",
              "       [0.35247794],\n",
              "       [0.35229313],\n",
              "       [0.35229367],\n",
              "       [0.6356187 ],\n",
              "       [0.63561857],\n",
              "       [0.6356187 ],\n",
              "       [0.3523069 ],\n",
              "       [0.6356186 ],\n",
              "       [0.3522932 ],\n",
              "       [0.63561445],\n",
              "       [0.6355519 ],\n",
              "       [0.35229313],\n",
              "       [0.6356187 ],\n",
              "       [0.35229325],\n",
              "       [0.63561773],\n",
              "       [0.6356187 ],\n",
              "       [0.352311  ],\n",
              "       [0.3522932 ],\n",
              "       [0.35833433],\n",
              "       [0.35229313],\n",
              "       [0.35231453],\n",
              "       [0.6356185 ],\n",
              "       [0.35229385],\n",
              "       [0.63537025],\n",
              "       [0.35230178],\n",
              "       [0.6356186 ],\n",
              "       [0.36688343],\n",
              "       [0.3531028 ],\n",
              "       [0.3522931 ],\n",
              "       [0.40271792],\n",
              "       [0.3522931 ],\n",
              "       [0.3522946 ],\n",
              "       [0.6356187 ],\n",
              "       [0.6356187 ],\n",
              "       [0.6356187 ],\n",
              "       [0.635618  ],\n",
              "       [0.35233223],\n",
              "       [0.36787242],\n",
              "       [0.3522931 ],\n",
              "       [0.35234508],\n",
              "       [0.63540226],\n",
              "       [0.63561857],\n",
              "       [0.3522935 ],\n",
              "       [0.63561827],\n",
              "       [0.6356187 ],\n",
              "       [0.35229373],\n",
              "       [0.35229373],\n",
              "       [0.35229462],\n",
              "       [0.3522939 ],\n",
              "       [0.63412213],\n",
              "       [0.63545996],\n",
              "       [0.6356187 ],\n",
              "       [0.35229367],\n",
              "       [0.35229313],\n",
              "       [0.3522934 ],\n",
              "       [0.35229424],\n",
              "       [0.35229507],\n",
              "       [0.3522932 ],\n",
              "       [0.635616  ],\n",
              "       [0.3522934 ],\n",
              "       [0.35328427],\n",
              "       [0.3523294 ],\n",
              "       [0.35230982],\n",
              "       [0.6356186 ],\n",
              "       [0.35231432],\n",
              "       [0.6342338 ],\n",
              "       [0.35257584],\n",
              "       [0.3522931 ],\n",
              "       [0.35229322],\n",
              "       [0.6356187 ],\n",
              "       [0.35229927],\n",
              "       [0.35229313],\n",
              "       [0.35280278],\n",
              "       [0.35267597],\n",
              "       [0.35229388],\n",
              "       [0.6356186 ],\n",
              "       [0.35229388],\n",
              "       [0.63500893],\n",
              "       [0.3530258 ],\n",
              "       [0.35229313],\n",
              "       [0.35234663],\n",
              "       [0.35229447],\n",
              "       [0.35235134],\n",
              "       [0.6356187 ],\n",
              "       [0.35229447],\n",
              "       [0.35570386],\n",
              "       [0.6356187 ],\n",
              "       [0.35275212],\n",
              "       [0.3523747 ],\n",
              "       [0.3522931 ],\n",
              "       [0.35229716],\n",
              "       [0.35246462],\n",
              "       [0.6356187 ],\n",
              "       [0.635537  ],\n",
              "       [0.3522935 ],\n",
              "       [0.6356187 ],\n",
              "       [0.35234994],\n",
              "       [0.6356157 ],\n",
              "       [0.35234994],\n",
              "       [0.6356187 ],\n",
              "       [0.3522931 ],\n",
              "       [0.3523049 ],\n",
              "       [0.35229334],\n",
              "       [0.6356187 ],\n",
              "       [0.35229915],\n",
              "       [0.3595499 ],\n",
              "       [0.3522934 ],\n",
              "       [0.35229656],\n",
              "       [0.3522936 ],\n",
              "       [0.35229447],\n",
              "       [0.3522946 ],\n",
              "       [0.35229325],\n",
              "       [0.35229343],\n",
              "       [0.62234926],\n",
              "       [0.3522934 ],\n",
              "       [0.3522933 ],\n",
              "       [0.35229334],\n",
              "       [0.35229313],\n",
              "       [0.35245943],\n",
              "       [0.63556975],\n",
              "       [0.35229346],\n",
              "       [0.35272348],\n",
              "       [0.35229543],\n",
              "       [0.6355876 ],\n",
              "       [0.6356187 ],\n",
              "       [0.3522939 ],\n",
              "       [0.3522932 ],\n",
              "       [0.35229325],\n",
              "       [0.3522931 ],\n",
              "       [0.6356187 ],\n",
              "       [0.35229313],\n",
              "       [0.35618007],\n",
              "       [0.6235577 ],\n",
              "       [0.6356187 ],\n",
              "       [0.6356187 ],\n",
              "       [0.6356187 ],\n",
              "       [0.6356187 ],\n",
              "       [0.35229352],\n",
              "       [0.35229388],\n",
              "       [0.35231197],\n",
              "       [0.63458246],\n",
              "       [0.6356187 ],\n",
              "       [0.63375574],\n",
              "       [0.35230556],\n",
              "       [0.6356179 ],\n",
              "       [0.6332283 ],\n",
              "       [0.3522931 ],\n",
              "       [0.35229313],\n",
              "       [0.35229388],\n",
              "       [0.35378328],\n",
              "       [0.35229313],\n",
              "       [0.35229334],\n",
              "       [0.63450825],\n",
              "       [0.6356187 ],\n",
              "       [0.3522932 ],\n",
              "       [0.6356187 ],\n",
              "       [0.56819445],\n",
              "       [0.35230166],\n",
              "       [0.35229388],\n",
              "       [0.35237086],\n",
              "       [0.6356185 ],\n",
              "       [0.35229746],\n",
              "       [0.35229325]], dtype=float32)"
            ]
          },
          "metadata": {},
          "execution_count": 78
        }
      ],
      "source": [
        "model_3_pred = model_3.predict(val_sentences)\n",
        "model_3_pred"
      ]
    },
    {
      "cell_type": "code",
      "execution_count": 79,
      "id": "80c46841",
      "metadata": {
        "colab": {
          "base_uri": "https://localhost:8080/"
        },
        "id": "80c46841",
        "outputId": "0252f6b0-9580-4273-a57f-a6f00a1cec64"
      },
      "outputs": [
        {
          "output_type": "execute_result",
          "data": {
            "text/plain": [
              "<tf.Tensor: shape=(10,), dtype=float32, numpy=array([0., 1., 1., 0., 0., 1., 0., 1., 1., 0.], dtype=float32)>"
            ]
          },
          "metadata": {},
          "execution_count": 79
        }
      ],
      "source": [
        "# covert the preds to labels\n",
        "model_3_preds = tf.squeeze(tf.round(model_3_pred))\n",
        "model_3_preds[:10]"
      ]
    },
    {
      "cell_type": "code",
      "execution_count": 80,
      "id": "d65d8c51",
      "metadata": {
        "colab": {
          "base_uri": "https://localhost:8080/"
        },
        "id": "d65d8c51",
        "outputId": "be85d59e-49f9-4e24-f26d-5f3a638050ad"
      },
      "outputs": [
        {
          "output_type": "execute_result",
          "data": {
            "text/plain": [
              "{'accuracy': 77.16535433070865,\n",
              " 'f1': 0.7681214344851189,\n",
              " 'precision': 0.7767213938683196,\n",
              " 'recall': 0.7716535433070866}"
            ]
          },
          "metadata": {},
          "execution_count": 80
        }
      ],
      "source": [
        "model_3_results = calculate_results(val_labels,\n",
        "                                   model_3_preds)\n",
        "model_3_results"
      ]
    },
    {
      "cell_type": "code",
      "execution_count": 81,
      "id": "cd7f2784",
      "metadata": {
        "colab": {
          "base_uri": "https://localhost:8080/"
        },
        "id": "cd7f2784",
        "outputId": "fbe0fa66-4913-4c56-c8ab-34f0dc7bc792"
      },
      "outputs": [
        {
          "output_type": "execute_result",
          "data": {
            "text/plain": [
              "{'accuracy': 79.26509186351706,\n",
              " 'f1': 0.7862189758049549,\n",
              " 'precision': 0.8111390004213173,\n",
              " 'recall': 0.7926509186351706}"
            ]
          },
          "metadata": {},
          "execution_count": 81
        }
      ],
      "source": [
        "baseline_results"
      ]
    },
    {
      "cell_type": "code",
      "execution_count": 82,
      "id": "e3d2ad44",
      "metadata": {
        "id": "e3d2ad44"
      },
      "outputs": [],
      "source": [
        "# Still hasnt beaten the baseline results"
      ]
    },
    {
      "cell_type": "markdown",
      "id": "0d917d76",
      "metadata": {
        "id": "0d917d76"
      },
      "source": [
        "![779461812-1b9c99e2155f995d_articlex-1200599870.png](attachment:779461812-1b9c99e2155f995d_articlex-1200599870.png)"
      ]
    },
    {
      "cell_type": "code",
      "execution_count": 83,
      "id": "c6aded98",
      "metadata": {
        "colab": {
          "base_uri": "https://localhost:8080/"
        },
        "id": "c6aded98",
        "outputId": "fdc28da9-521a-4359-c114-db674cec253c"
      },
      "outputs": [
        {
          "output_type": "stream",
          "name": "stdout",
          "text": [
            "Gathering the log data and saving in : MODEL_LOGS/model_4_callback/20220815-042804\n",
            "Epoch 1/5\n",
            "215/215 [==============================] - 5s 11ms/step - loss: 0.1444 - accuracy: 0.9575 - val_loss: 0.6061 - val_accuracy: 0.7730\n",
            "Epoch 2/5\n",
            "215/215 [==============================] - 2s 8ms/step - loss: 0.0813 - accuracy: 0.9733 - val_loss: 0.7048 - val_accuracy: 0.7690\n",
            "Epoch 3/5\n",
            "215/215 [==============================] - 2s 8ms/step - loss: 0.0663 - accuracy: 0.9765 - val_loss: 0.9992 - val_accuracy: 0.7769\n",
            "Epoch 4/5\n",
            "215/215 [==============================] - 2s 8ms/step - loss: 0.0562 - accuracy: 0.9761 - val_loss: 1.0979 - val_accuracy: 0.7703\n",
            "Epoch 5/5\n",
            "215/215 [==============================] - 2s 8ms/step - loss: 0.0489 - accuracy: 0.9783 - val_loss: 1.0328 - val_accuracy: 0.7677\n"
          ]
        }
      ],
      "source": [
        "# Model 4 \n",
        "# Bidirectional LSTM(RNN)\n",
        "\n",
        "\"\"\"\n",
        "Unidirectional --> left to right\n",
        "Bidirectional --> left to right and right to left\n",
        "\"\"\"\n",
        "inputs = layers.Input(shape=(1,),dtype=tf.string)\n",
        "x = text_vectorizer(inputs)\n",
        "x = embedding(x)\n",
        "# x = layers.Bidirectional(layers.LSTM(64, return_sequences=True)(x))\n",
        "x = layers.Bidirectional(layers.GRU(64))(x)\n",
        "\n",
        "outputs = layers.Dense(1, activation=\"sigmoid\")(x)\n",
        "model_4 = Model(inputs,outputs, name=\"model_4_bidirectional_RNN\")\n",
        "\n",
        "\n",
        "# compile the model\n",
        "model_4.compile(loss=BinaryCrossentropy(),\n",
        "               optimizer=Adam(),\n",
        "               metrics=[\"accuracy\"])\n",
        "\n",
        "# fit the model\n",
        "model_4_his = model_4.fit(train_sentences,\n",
        "                         train_labels,\n",
        "                         epochs=5,\n",
        "                         validation_data=(val_sentences,val_labels),\n",
        "                         callbacks=[create_tensorboard_callback(SAVE_DIR,\"model_4_callback\")])"
      ]
    },
    {
      "cell_type": "code",
      "execution_count": 84,
      "id": "d203cb9f",
      "metadata": {
        "colab": {
          "base_uri": "https://localhost:8080/"
        },
        "id": "d203cb9f",
        "outputId": "ed33c2c0-4d0c-488c-c6e5-93b4e6a646be"
      },
      "outputs": [
        {
          "output_type": "execute_result",
          "data": {
            "text/plain": [
              "<tf.Tensor: shape=(10,), dtype=float32, numpy=array([0., 1., 1., 0., 0., 1., 0., 1., 1., 1.], dtype=float32)>"
            ]
          },
          "metadata": {},
          "execution_count": 84
        }
      ],
      "source": [
        "# grab the predictions\n",
        "model_4_pred = model_4.predict(val_sentences)\n",
        "model_4_pred = tf.squeeze(tf.round(model_4_pred))\n",
        "model_4_pred[:10]"
      ]
    },
    {
      "cell_type": "code",
      "execution_count": 85,
      "id": "57c6cb94",
      "metadata": {
        "colab": {
          "base_uri": "https://localhost:8080/"
        },
        "id": "57c6cb94",
        "outputId": "511c1340-dec2-4c46-b1f7-b92c2e560c41"
      },
      "outputs": [
        {
          "output_type": "execute_result",
          "data": {
            "text/plain": [
              "{'accuracy': 76.77165354330708,\n",
              " 'f1': 0.7638693672676267,\n",
              " 'precision': 0.7732501179288073,\n",
              " 'recall': 0.7677165354330708}"
            ]
          },
          "metadata": {},
          "execution_count": 85
        }
      ],
      "source": [
        "model_4_res = calculate_results(val_labels,model_4_pred)\n",
        "model_4_res"
      ]
    },
    {
      "cell_type": "code",
      "execution_count": 86,
      "id": "37d8ec2b",
      "metadata": {
        "colab": {
          "base_uri": "https://localhost:8080/"
        },
        "id": "37d8ec2b",
        "outputId": "3b3693da-e43f-4e1b-dd60-1bf6dd380c75"
      },
      "outputs": [
        {
          "output_type": "execute_result",
          "data": {
            "text/plain": [
              "{'accuracy': 77.16535433070865,\n",
              " 'f1': 0.7681214344851189,\n",
              " 'precision': 0.7767213938683196,\n",
              " 'recall': 0.7716535433070866}"
            ]
          },
          "metadata": {},
          "execution_count": 86
        }
      ],
      "source": [
        "model_3_results"
      ]
    },
    {
      "cell_type": "code",
      "execution_count": 87,
      "id": "9d6b0f75",
      "metadata": {
        "colab": {
          "base_uri": "https://localhost:8080/"
        },
        "id": "9d6b0f75",
        "outputId": "84006259-9fad-4100-98e1-ca8fc369b292"
      },
      "outputs": [
        {
          "output_type": "execute_result",
          "data": {
            "text/plain": [
              "{'accuracy': 79.26509186351706,\n",
              " 'f1': 0.7862189758049549,\n",
              " 'precision': 0.8111390004213173,\n",
              " 'recall': 0.7926509186351706}"
            ]
          },
          "metadata": {},
          "execution_count": 87
        }
      ],
      "source": [
        "baseline_results"
      ]
    },
    {
      "cell_type": "code",
      "execution_count": 88,
      "id": "c29153dd",
      "metadata": {
        "id": "c29153dd"
      },
      "outputs": [],
      "source": [
        "# Even worse than the base and the LSTM model"
      ]
    },
    {
      "cell_type": "markdown",
      "id": "16c586a7",
      "metadata": {
        "id": "16c586a7"
      },
      "source": [
        "![Screenshot_2022-08-15-07-10-12_1920x1080.png](attachment:Screenshot_2022-08-15-07-10-12_1920x1080.png)"
      ]
    },
    {
      "cell_type": "code",
      "execution_count": 89,
      "id": "f6275737",
      "metadata": {
        "colab": {
          "base_uri": "https://localhost:8080/"
        },
        "id": "f6275737",
        "outputId": "caf5e240-55e6-42ff-d5ee-c9f08d4d104c"
      },
      "outputs": [
        {
          "output_type": "execute_result",
          "data": {
            "text/plain": [
              "(TensorShape([1, 15, 128]), TensorShape([1, 15, 64]), TensorShape([1, 64]))"
            ]
          },
          "metadata": {},
          "execution_count": 89
        }
      ],
      "source": [
        "# Model_5_experimental model\n",
        "# 1D ConvNet\n",
        "\n",
        "# Testing out a embedding layer, conv1d layer and max pooling\n",
        "\n",
        "embedding_test = embedding(text_vectorizer([\"This is a test sentence\"]))\n",
        "conv1D =  layers.Conv1D(filters=64,\n",
        "                       kernel_size=5, # referred to as the ngram(of 5) means it looks at 5 words at a time\n",
        "                       activation=\"relu\",\n",
        "                       strides=1, # if set to 2 or more it will hop 2 or x more words at a time\n",
        "                       padding=\"same\") # valid's output is smaller than the input shape\n",
        "                                        # same's output is similar to the output of the input shape\n",
        "\"\"\"\n",
        "https://stackoverflow.com/questions/37674306/what-is-the-difference-between-same-and-valid-padding-in-tf-nn-max-pool-of-t\n",
        "\"\"\"\n",
        "    \n",
        "conv1D_output = conv1D(embedding_test) # pass the embedding test\n",
        "max_pool = layers.GlobalMaxPool1D()\n",
        "max_pool_ouput = max_pool(conv1D_output) # get the most important features\n",
        "\n",
        "embedding_test.shape, conv1D_output.shape, max_pool_ouput.shape"
      ]
    },
    {
      "cell_type": "code",
      "execution_count": 90,
      "id": "9d7b3584",
      "metadata": {
        "colab": {
          "base_uri": "https://localhost:8080/",
          "height": 209
        },
        "id": "9d7b3584",
        "outputId": "eac5f722-bea4-4772-ca8f-0986b964b034"
      },
      "outputs": [
        {
          "output_type": "execute_result",
          "data": {
            "text/plain": [
              "'\\n\\nTensorShape([1, 15, 128]) ---> 1 because of the  output from embedding test layer\\n(1 sequence that is 1 test sentence) and 15 because of the nos of tokens \\nit has formed and 128 is the feature vector \\nthat is each of the tokens is encoded in a 128 feature vector\\n\\nTensorShape([1, 11, 32]) --> 11 because , the parameter {padding=\"valid\"} compresses the \\nnos of tokens from 15 to 11 if it has been enabled with same then it would have compressed \\nfrom 15 to 15 , and 32 is the nos of filters basically the nos of hidden layers or the \\nfilters that is 32 .\\n\\nTensorShape([1, 32] --> After passing through the maxpooling layer , it takes the max of \\neverything and returns them as one big feature feature vector that is 32.\\n\\n\\n'"
            ],
            "application/vnd.google.colaboratory.intrinsic+json": {
              "type": "string"
            }
          },
          "metadata": {},
          "execution_count": 90
        }
      ],
      "source": [
        "\"\"\"\n",
        "\n",
        "TensorShape([1, 15, 128]) ---> 1 because of the  output from embedding test layer\n",
        "(1 sequence that is 1 test sentence) and 15 because of the nos of tokens \n",
        "it has formed and 128 is the feature vector \n",
        "that is each of the tokens is encoded in a 128 feature vector\n",
        "\n",
        "TensorShape([1, 11, 32]) --> 11 because , the parameter {padding=\"valid\"} compresses the \n",
        "nos of tokens from 15 to 11 if it has been enabled with same then it would have compressed \n",
        "from 15 to 15 , and 32 is the nos of filters basically the nos of hidden layers or the \n",
        "filters that is 32 .\n",
        "\n",
        "TensorShape([1, 32] --> After passing through the maxpooling layer , it takes the max of \n",
        "everything and returns them as one big feature feature vector that is 32.\n",
        "\n",
        "\n",
        "\"\"\"\n",
        "\n",
        "# https://poloclub.github.io/cnn-explainer/"
      ]
    },
    {
      "cell_type": "markdown",
      "id": "b2cc2d75",
      "metadata": {
        "id": "b2cc2d75"
      },
      "source": [
        "\n",
        "Since our kernel size is set to 5 it looks at 5 words at a time and grabs them as 1 whole\n",
        "token \"I am sitting with my laptop\", ... and so on\n",
        "\n"
      ]
    },
    {
      "cell_type": "code",
      "execution_count": 91,
      "id": "75e3925a",
      "metadata": {
        "scrolled": true,
        "colab": {
          "base_uri": "https://localhost:8080/"
        },
        "id": "75e3925a",
        "outputId": "98a28612-ac13-48ee-99fa-fe83fbc46022"
      },
      "outputs": [
        {
          "output_type": "execute_result",
          "data": {
            "text/plain": [
              "<tf.Tensor: shape=(1, 15, 128), dtype=float32, numpy=\n",
              "array([[[ 0.0494133 ,  0.07324515, -0.02222492, ..., -0.02968419,\n",
              "          0.0210688 , -0.07577949],\n",
              "        [-0.00215471, -0.02070585, -0.04991289, ..., -0.01498617,\n",
              "         -0.02370007, -0.0393953 ],\n",
              "        [-0.02172324,  0.04207642,  0.02680686, ..., -0.01126337,\n",
              "          0.00861913,  0.03465757],\n",
              "        ...,\n",
              "        [ 0.00543108,  0.0204725 , -0.02433044, ..., -0.02532583,\n",
              "          0.01888749, -0.02989858],\n",
              "        [ 0.00543108,  0.0204725 , -0.02433044, ..., -0.02532583,\n",
              "          0.01888749, -0.02989858],\n",
              "        [ 0.00543108,  0.0204725 , -0.02433044, ..., -0.02532583,\n",
              "          0.01888749, -0.02989858]]], dtype=float32)>"
            ]
          },
          "metadata": {},
          "execution_count": 91
        }
      ],
      "source": [
        "embedding_test"
      ]
    },
    {
      "cell_type": "code",
      "execution_count": 92,
      "id": "54856900",
      "metadata": {
        "scrolled": true,
        "colab": {
          "base_uri": "https://localhost:8080/"
        },
        "id": "54856900",
        "outputId": "4be01cda-1ca3-4067-b11f-ff30da7263d2"
      },
      "outputs": [
        {
          "output_type": "execute_result",
          "data": {
            "text/plain": [
              "<tf.Tensor: shape=(1, 15, 64), dtype=float32, numpy=\n",
              "array([[[0.01849133, 0.0102237 , 0.        , 0.02096596, 0.07753639,\n",
              "         0.00930906, 0.02386604, 0.05250021, 0.        , 0.        ,\n",
              "         0.        , 0.00605211, 0.0354613 , 0.        , 0.        ,\n",
              "         0.01374231, 0.01504876, 0.02114988, 0.        , 0.        ,\n",
              "         0.        , 0.        , 0.02227503, 0.03713014, 0.        ,\n",
              "         0.        , 0.        , 0.        , 0.        , 0.03149579,\n",
              "         0.        , 0.01671756, 0.        , 0.        , 0.        ,\n",
              "         0.01243779, 0.        , 0.        , 0.        , 0.05129534,\n",
              "         0.00944006, 0.01456986, 0.02130339, 0.0163785 , 0.01907432,\n",
              "         0.        , 0.        , 0.00632061, 0.        , 0.05157971,\n",
              "         0.        , 0.        , 0.        , 0.        , 0.02865427,\n",
              "         0.        , 0.00255462, 0.00674929, 0.        , 0.        ,\n",
              "         0.        , 0.        , 0.        , 0.        ],\n",
              "        [0.        , 0.08438832, 0.03098045, 0.        , 0.0184819 ,\n",
              "         0.        , 0.        , 0.00999485, 0.01582217, 0.04133658,\n",
              "         0.        , 0.05763614, 0.        , 0.03684731, 0.00149973,\n",
              "         0.        , 0.00832654, 0.        , 0.06145947, 0.01194068,\n",
              "         0.        , 0.        , 0.        , 0.054236  , 0.03067352,\n",
              "         0.        , 0.        , 0.        , 0.00875025, 0.03505131,\n",
              "         0.02548302, 0.03899568, 0.        , 0.        , 0.        ,\n",
              "         0.027471  , 0.        , 0.        , 0.        , 0.0116534 ,\n",
              "         0.0725276 , 0.04083464, 0.00045443, 0.09000228, 0.        ,\n",
              "         0.        , 0.03582872, 0.01030258, 0.        , 0.01488167,\n",
              "         0.10141737, 0.        , 0.0163547 , 0.00618905, 0.08879949,\n",
              "         0.        , 0.        , 0.        , 0.        , 0.02523943,\n",
              "         0.00774013, 0.        , 0.        , 0.        ],\n",
              "        [0.        , 0.        , 0.        , 0.01335234, 0.        ,\n",
              "         0.00954371, 0.        , 0.        , 0.        , 0.03660281,\n",
              "         0.        , 0.        , 0.        , 0.        , 0.07109867,\n",
              "         0.        , 0.02213819, 0.        , 0.02755466, 0.00795074,\n",
              "         0.03590716, 0.        , 0.04504005, 0.        , 0.00723348,\n",
              "         0.0251453 , 0.        , 0.02356749, 0.05285533, 0.06059576,\n",
              "         0.02544408, 0.        , 0.03952502, 0.        , 0.03467592,\n",
              "         0.        , 0.        , 0.04945873, 0.0084636 , 0.        ,\n",
              "         0.03271358, 0.        , 0.        , 0.        , 0.        ,\n",
              "         0.        , 0.00845839, 0.06367476, 0.00207464, 0.01738762,\n",
              "         0.00421405, 0.04487132, 0.06056199, 0.        , 0.06468133,\n",
              "         0.        , 0.03406154, 0.        , 0.        , 0.        ,\n",
              "         0.        , 0.        , 0.        , 0.02313853],\n",
              "        [0.        , 0.        , 0.04166773, 0.        , 0.        ,\n",
              "         0.        , 0.        , 0.        , 0.02263532, 0.        ,\n",
              "         0.        , 0.0093495 , 0.00270197, 0.        , 0.02273587,\n",
              "         0.        , 0.0643848 , 0.05478267, 0.        , 0.        ,\n",
              "         0.        , 0.        , 0.        , 0.08289178, 0.        ,\n",
              "         0.08155043, 0.        , 0.        , 0.00388147, 0.02184002,\n",
              "         0.00826893, 0.        , 0.01788707, 0.02170202, 0.04559616,\n",
              "         0.03428899, 0.        , 0.        , 0.        , 0.        ,\n",
              "         0.        , 0.0153531 , 0.        , 0.02563945, 0.        ,\n",
              "         0.02154241, 0.02821634, 0.06915972, 0.        , 0.        ,\n",
              "         0.0465291 , 0.04311224, 0.01809139, 0.02906634, 0.05603707,\n",
              "         0.        , 0.        , 0.        , 0.        , 0.06454972,\n",
              "         0.        , 0.        , 0.        , 0.        ],\n",
              "        [0.        , 0.        , 0.01358888, 0.        , 0.        ,\n",
              "         0.02169462, 0.        , 0.        , 0.03559942, 0.01136725,\n",
              "         0.        , 0.        , 0.10187194, 0.09171575, 0.        ,\n",
              "         0.        , 0.00393681, 0.        , 0.        , 0.        ,\n",
              "         0.        , 0.        , 0.03016551, 0.        , 0.        ,\n",
              "         0.        , 0.        , 0.        , 0.01840804, 0.02548468,\n",
              "         0.01844352, 0.00291921, 0.02602123, 0.        , 0.01245233,\n",
              "         0.03672349, 0.        , 0.02387069, 0.00243212, 0.07661867,\n",
              "         0.0387943 , 0.040755  , 0.        , 0.00473229, 0.02410698,\n",
              "         0.01801923, 0.        , 0.02368953, 0.        , 0.        ,\n",
              "         0.04004032, 0.05240486, 0.        , 0.0419757 , 0.        ,\n",
              "         0.        , 0.        , 0.06213633, 0.        , 0.04468188,\n",
              "         0.        , 0.        , 0.046863  , 0.01922075],\n",
              "        [0.        , 0.        , 0.05231356, 0.        , 0.        ,\n",
              "         0.02209577, 0.02705004, 0.        , 0.0173787 , 0.        ,\n",
              "         0.        , 0.        , 0.0279516 , 0.03234255, 0.0422973 ,\n",
              "         0.05025939, 0.01719043, 0.        , 0.        , 0.03983498,\n",
              "         0.        , 0.        , 0.06788908, 0.03679155, 0.        ,\n",
              "         0.01784051, 0.01374073, 0.04894731, 0.        , 0.07347141,\n",
              "         0.        , 0.00604009, 0.        , 0.        , 0.09356886,\n",
              "         0.        , 0.        , 0.        , 0.        , 0.02894478,\n",
              "         0.06170572, 0.00771349, 0.        , 0.0356558 , 0.        ,\n",
              "         0.03294483, 0.04969554, 0.04665776, 0.03257402, 0.04152549,\n",
              "         0.        , 0.03369687, 0.        , 0.00112177, 0.        ,\n",
              "         0.        , 0.        , 0.03984363, 0.00405417, 0.        ,\n",
              "         0.        , 0.        , 0.        , 0.        ],\n",
              "        [0.        , 0.        , 0.05716361, 0.        , 0.        ,\n",
              "         0.00353261, 0.01657848, 0.02146369, 0.03675921, 0.        ,\n",
              "         0.        , 0.        , 0.04471128, 0.04248921, 0.01370487,\n",
              "         0.006383  , 0.00040533, 0.00729799, 0.        , 0.03926789,\n",
              "         0.        , 0.        , 0.        , 0.        , 0.        ,\n",
              "         0.00060776, 0.        , 0.03419369, 0.        , 0.02547218,\n",
              "         0.        , 0.01519775, 0.01389671, 0.        , 0.01600568,\n",
              "         0.        , 0.        , 0.        , 0.        , 0.04365384,\n",
              "         0.0280565 , 0.        , 0.        , 0.01008902, 0.        ,\n",
              "         0.03367116, 0.        , 0.00653607, 0.04883419, 0.0381126 ,\n",
              "         0.01967688, 0.        , 0.        , 0.01828013, 0.        ,\n",
              "         0.01232288, 0.        , 0.        , 0.        , 0.        ,\n",
              "         0.        , 0.        , 0.        , 0.        ],\n",
              "        [0.        , 0.        , 0.04537129, 0.        , 0.        ,\n",
              "         0.01559393, 0.02733185, 0.        , 0.        , 0.        ,\n",
              "         0.        , 0.01896774, 0.02286528, 0.04620527, 0.03178483,\n",
              "         0.01173471, 0.        , 0.02368689, 0.        , 0.00735358,\n",
              "         0.        , 0.        , 0.0178697 , 0.01939415, 0.        ,\n",
              "         0.        , 0.00379924, 0.02988965, 0.0189962 , 0.05179445,\n",
              "         0.        , 0.        , 0.        , 0.        , 0.01478036,\n",
              "         0.        , 0.        , 0.00338591, 0.        , 0.03376491,\n",
              "         0.02942369, 0.        , 0.        , 0.00495808, 0.        ,\n",
              "         0.03163508, 0.        , 0.02240574, 0.05882328, 0.02337082,\n",
              "         0.01855984, 0.        , 0.        , 0.        , 0.        ,\n",
              "         0.02189474, 0.        , 0.        , 0.01940947, 0.        ,\n",
              "         0.        , 0.        , 0.        , 0.00333243],\n",
              "        [0.        , 0.        , 0.04537129, 0.        , 0.        ,\n",
              "         0.01559393, 0.02733186, 0.        , 0.        , 0.        ,\n",
              "         0.        , 0.01896776, 0.02286528, 0.04620527, 0.03178483,\n",
              "         0.01173471, 0.        , 0.02368689, 0.        , 0.00735358,\n",
              "         0.        , 0.        , 0.01786971, 0.01939415, 0.        ,\n",
              "         0.        , 0.00379924, 0.02988965, 0.0189962 , 0.05179446,\n",
              "         0.        , 0.        , 0.        , 0.        , 0.01478036,\n",
              "         0.        , 0.        , 0.00338591, 0.        , 0.03376491,\n",
              "         0.0294237 , 0.        , 0.        , 0.00495808, 0.        ,\n",
              "         0.03163508, 0.        , 0.02240574, 0.05882328, 0.02337082,\n",
              "         0.01855985, 0.        , 0.        , 0.        , 0.        ,\n",
              "         0.02189476, 0.        , 0.        , 0.01940946, 0.        ,\n",
              "         0.        , 0.        , 0.        , 0.00333244],\n",
              "        [0.        , 0.        , 0.0453713 , 0.        , 0.        ,\n",
              "         0.01559393, 0.02733185, 0.        , 0.        , 0.        ,\n",
              "         0.        , 0.01896775, 0.02286528, 0.04620527, 0.03178483,\n",
              "         0.01173471, 0.        , 0.02368689, 0.        , 0.00735358,\n",
              "         0.        , 0.        , 0.01786971, 0.01939415, 0.        ,\n",
              "         0.        , 0.00379925, 0.02988966, 0.01899621, 0.05179446,\n",
              "         0.        , 0.        , 0.        , 0.        , 0.01478036,\n",
              "         0.        , 0.        , 0.00338592, 0.        , 0.0337649 ,\n",
              "         0.0294237 , 0.        , 0.        , 0.00495808, 0.        ,\n",
              "         0.03163506, 0.        , 0.02240575, 0.05882328, 0.02337082,\n",
              "         0.01855985, 0.        , 0.        , 0.        , 0.        ,\n",
              "         0.02189475, 0.        , 0.        , 0.01940946, 0.        ,\n",
              "         0.        , 0.        , 0.        , 0.00333243],\n",
              "        [0.        , 0.        , 0.04537129, 0.        , 0.        ,\n",
              "         0.01559393, 0.02733186, 0.        , 0.        , 0.        ,\n",
              "         0.        , 0.01896775, 0.02286528, 0.04620527, 0.03178483,\n",
              "         0.01173471, 0.        , 0.02368689, 0.        , 0.00735358,\n",
              "         0.        , 0.        , 0.01786971, 0.01939415, 0.        ,\n",
              "         0.        , 0.00379925, 0.02988965, 0.01899621, 0.05179445,\n",
              "         0.        , 0.        , 0.        , 0.        , 0.01478036,\n",
              "         0.        , 0.        , 0.00338592, 0.        , 0.0337649 ,\n",
              "         0.0294237 , 0.        , 0.        , 0.00495808, 0.        ,\n",
              "         0.03163507, 0.        , 0.02240574, 0.05882327, 0.02337082,\n",
              "         0.01855985, 0.        , 0.        , 0.        , 0.        ,\n",
              "         0.02189475, 0.        , 0.        , 0.01940947, 0.        ,\n",
              "         0.        , 0.        , 0.        , 0.00333243],\n",
              "        [0.        , 0.        , 0.04537129, 0.        , 0.        ,\n",
              "         0.01559393, 0.02733185, 0.        , 0.        , 0.        ,\n",
              "         0.        , 0.01896775, 0.02286528, 0.04620527, 0.03178483,\n",
              "         0.0117347 , 0.        , 0.02368689, 0.        , 0.00735357,\n",
              "         0.        , 0.        , 0.0178697 , 0.01939414, 0.        ,\n",
              "         0.        , 0.00379924, 0.02988965, 0.01899621, 0.05179445,\n",
              "         0.        , 0.        , 0.        , 0.        , 0.01478036,\n",
              "         0.        , 0.        , 0.00338592, 0.        , 0.0337649 ,\n",
              "         0.02942368, 0.        , 0.        , 0.00495808, 0.        ,\n",
              "         0.03163506, 0.        , 0.02240574, 0.05882327, 0.02337081,\n",
              "         0.01855985, 0.        , 0.        , 0.        , 0.        ,\n",
              "         0.02189475, 0.        , 0.        , 0.01940946, 0.        ,\n",
              "         0.        , 0.        , 0.        , 0.00333243],\n",
              "        [0.        , 0.        , 0.04537129, 0.        , 0.        ,\n",
              "         0.01559393, 0.02733186, 0.        , 0.        , 0.        ,\n",
              "         0.        , 0.01896775, 0.02286528, 0.04620527, 0.03178483,\n",
              "         0.01173471, 0.        , 0.02368689, 0.        , 0.00735358,\n",
              "         0.        , 0.        , 0.01786971, 0.01939415, 0.        ,\n",
              "         0.        , 0.00379925, 0.02988965, 0.0189962 , 0.05179446,\n",
              "         0.        , 0.        , 0.        , 0.        , 0.01478036,\n",
              "         0.        , 0.        , 0.00338592, 0.        , 0.0337649 ,\n",
              "         0.02942369, 0.        , 0.        , 0.00495808, 0.        ,\n",
              "         0.03163507, 0.        , 0.02240574, 0.05882328, 0.02337081,\n",
              "         0.01855985, 0.        , 0.        , 0.        , 0.        ,\n",
              "         0.02189475, 0.        , 0.        , 0.01940947, 0.        ,\n",
              "         0.        , 0.        , 0.        , 0.00333244],\n",
              "        [0.00592258, 0.        , 0.03891639, 0.        , 0.        ,\n",
              "         0.02014517, 0.02257641, 0.        , 0.        , 0.        ,\n",
              "         0.        , 0.02711876, 0.0074279 , 0.02437554, 0.03336355,\n",
              "         0.01546809, 0.        , 0.02006221, 0.00168   , 0.00547906,\n",
              "         0.        , 0.01209273, 0.01362568, 0.00101768, 0.        ,\n",
              "         0.00307112, 0.        , 0.01909302, 0.03287286, 0.03420883,\n",
              "         0.        , 0.        , 0.        , 0.        , 0.        ,\n",
              "         0.        , 0.        , 0.        , 0.        , 0.01734997,\n",
              "         0.01610001, 0.        , 0.        , 0.        , 0.        ,\n",
              "         0.00226646, 0.        , 0.01884916, 0.0537769 , 0.01119647,\n",
              "         0.03304873, 0.        , 0.        , 0.        , 0.        ,\n",
              "         0.03109953, 0.        , 0.        , 0.02906875, 0.        ,\n",
              "         0.        , 0.        , 0.        , 0.        ],\n",
              "        [0.        , 0.        , 0.02551878, 0.        , 0.        ,\n",
              "         0.01248027, 0.02978086, 0.        , 0.        , 0.        ,\n",
              "         0.        , 0.00380315, 0.00050283, 0.0038784 , 0.02191694,\n",
              "         0.02216115, 0.        , 0.02938612, 0.0163034 , 0.0011055 ,\n",
              "         0.        , 0.00875905, 0.02062277, 0.00441492, 0.        ,\n",
              "         0.00503126, 0.        , 0.00239015, 0.02657879, 0.03061719,\n",
              "         0.        , 0.        , 0.        , 0.        , 0.00567509,\n",
              "         0.        , 0.        , 0.        , 0.00211197, 0.        ,\n",
              "         0.        , 0.        , 0.        , 0.        , 0.        ,\n",
              "         0.        , 0.        , 0.01803402, 0.03237022, 0.        ,\n",
              "         0.02690908, 0.        , 0.02389199, 0.        , 0.        ,\n",
              "         0.00438535, 0.        , 0.        , 0.04202716, 0.        ,\n",
              "         0.        , 0.        , 0.00620967, 0.        ]]], dtype=float32)>"
            ]
          },
          "metadata": {},
          "execution_count": 92
        }
      ],
      "source": [
        "conv1D_output"
      ]
    },
    {
      "cell_type": "code",
      "execution_count": 93,
      "id": "25d24f6f",
      "metadata": {
        "colab": {
          "base_uri": "https://localhost:8080/"
        },
        "id": "25d24f6f",
        "outputId": "801f310a-5d07-4321-8f65-116d0453b76c"
      },
      "outputs": [
        {
          "output_type": "execute_result",
          "data": {
            "text/plain": [
              "<tf.Tensor: shape=(1, 64), dtype=float32, numpy=\n",
              "array([[0.01849133, 0.08438832, 0.05716361, 0.02096596, 0.07753639,\n",
              "        0.02209577, 0.02978086, 0.05250021, 0.03675921, 0.04133658,\n",
              "        0.        , 0.05763614, 0.10187194, 0.09171575, 0.07109867,\n",
              "        0.05025939, 0.0643848 , 0.05478267, 0.06145947, 0.03983498,\n",
              "        0.03590716, 0.01209273, 0.06788908, 0.08289178, 0.03067352,\n",
              "        0.08155043, 0.01374073, 0.04894731, 0.05285533, 0.07347141,\n",
              "        0.02548302, 0.03899568, 0.03952502, 0.02170202, 0.09356886,\n",
              "        0.03672349, 0.        , 0.04945873, 0.0084636 , 0.07661867,\n",
              "        0.0725276 , 0.04083464, 0.02130339, 0.09000228, 0.02410698,\n",
              "        0.03367116, 0.04969554, 0.06915972, 0.05882328, 0.05157971,\n",
              "        0.10141737, 0.05240486, 0.06056199, 0.0419757 , 0.08879949,\n",
              "        0.03109953, 0.03406154, 0.06213633, 0.04202716, 0.06454972,\n",
              "        0.00774013, 0.        , 0.046863  , 0.02313853]], dtype=float32)>"
            ]
          },
          "metadata": {},
          "execution_count": 93
        }
      ],
      "source": [
        "max_pool_ouput"
      ]
    },
    {
      "cell_type": "code",
      "execution_count": 94,
      "id": "2b6d4182",
      "metadata": {
        "colab": {
          "base_uri": "https://localhost:8080/"
        },
        "id": "2b6d4182",
        "outputId": "99a70fb8-70f5-40f5-e75b-9cb68ac8b4f2"
      },
      "outputs": [
        {
          "output_type": "stream",
          "name": "stdout",
          "text": [
            "Gathering the log data and saving in : MODEL_LOGS/model_5_Conv1D/20220815-042824\n",
            "Epoch 1/5\n",
            "215/215 [==============================] - 3s 6ms/step - loss: 0.1279 - accuracy: 0.9552 - val_loss: 0.8691 - val_accuracy: 0.7730\n",
            "Epoch 2/5\n",
            "215/215 [==============================] - 1s 5ms/step - loss: 0.0776 - accuracy: 0.9718 - val_loss: 0.9906 - val_accuracy: 0.7782\n",
            "Epoch 3/5\n",
            "215/215 [==============================] - 1s 5ms/step - loss: 0.0640 - accuracy: 0.9747 - val_loss: 1.1296 - val_accuracy: 0.7638\n",
            "Epoch 4/5\n",
            "215/215 [==============================] - 1s 5ms/step - loss: 0.0598 - accuracy: 0.9752 - val_loss: 1.1468 - val_accuracy: 0.7651\n",
            "Epoch 5/5\n",
            "215/215 [==============================] - 1s 5ms/step - loss: 0.0531 - accuracy: 0.9777 - val_loss: 1.2101 - val_accuracy: 0.7559\n"
          ]
        }
      ],
      "source": [
        "# Model_5\n",
        "# Conv1D model\n",
        "\n",
        "inputs = layers.Input(shape=(1,), dtype=tf.string)\n",
        "x = text_vectorizer(inputs)\n",
        "x = embedding(x)\n",
        "x = layers.Conv1D(filters=64,\n",
        "                 strides=1,\n",
        "                 kernel_size=5,\n",
        "                 activation=\"relu\",\n",
        "                 padding=\"valid\")(x)\n",
        "x = layers.GlobalMaxPool1D()(x)\n",
        "# x = layers.Dense(1,activation=\"relu\")(x)\n",
        "outputs = layers.Dense(1, activation=\"sigmoid\")(x)\n",
        "model_5 = Model(inputs, outputs,name=\"model_5_Conv1D\")\n",
        "\n",
        "model_5.compile(loss=BinaryCrossentropy(),\n",
        "               optimizer=Adam(),\n",
        "               metrics=[\"accuracy\"])\n",
        "\n",
        "model_5_history = model_5.fit(train_sentences,\n",
        "                             train_labels,\n",
        "                             validation_data=(val_sentences, val_labels),\n",
        "                             epochs=5,\n",
        "                             callbacks=[create_tensorboard_callback(SAVE_DIR,\"model_5_Conv1D\")])"
      ]
    },
    {
      "cell_type": "code",
      "execution_count": 95,
      "id": "64d6b3d7",
      "metadata": {
        "colab": {
          "base_uri": "https://localhost:8080/"
        },
        "id": "64d6b3d7",
        "outputId": "e3537b0d-f9a6-4047-d90e-e2d8c09dda3b"
      },
      "outputs": [
        {
          "output_type": "stream",
          "name": "stdout",
          "text": [
            "Model: \"model_5_Conv1D\"\n",
            "_________________________________________________________________\n",
            " Layer (type)                Output Shape              Param #   \n",
            "=================================================================\n",
            " input_5 (InputLayer)        [(None, 1)]               0         \n",
            "                                                                 \n",
            " text_vectorization (TextVec  (None, 15)               0         \n",
            " torization)                                                     \n",
            "                                                                 \n",
            " embedding (Embedding)       (None, 15, 128)           1280000   \n",
            "                                                                 \n",
            " conv1d_1 (Conv1D)           (None, 11, 64)            41024     \n",
            "                                                                 \n",
            " global_max_pooling1d_1 (Glo  (None, 64)               0         \n",
            " balMaxPooling1D)                                                \n",
            "                                                                 \n",
            " dense_6 (Dense)             (None, 1)                 65        \n",
            "                                                                 \n",
            "=================================================================\n",
            "Total params: 1,321,089\n",
            "Trainable params: 1,321,089\n",
            "Non-trainable params: 0\n",
            "_________________________________________________________________\n"
          ]
        }
      ],
      "source": [
        "model_5.summary()"
      ]
    },
    {
      "cell_type": "code",
      "execution_count": 96,
      "id": "6b6a801c",
      "metadata": {
        "colab": {
          "base_uri": "https://localhost:8080/"
        },
        "id": "6b6a801c",
        "outputId": "da2d2409-ff5d-489c-9782-5f7667a0bf27"
      },
      "outputs": [
        {
          "output_type": "execute_result",
          "data": {
            "text/plain": [
              "array([[1.2504974e-01],\n",
              "       [4.5287544e-01],\n",
              "       [9.9994230e-01],\n",
              "       [4.3975469e-02],\n",
              "       [2.1187208e-07],\n",
              "       [9.9200201e-01],\n",
              "       [9.1870999e-01],\n",
              "       [9.9982208e-01],\n",
              "       [9.9999619e-01],\n",
              "       [8.7311828e-01]], dtype=float32)"
            ]
          },
          "metadata": {},
          "execution_count": 96
        }
      ],
      "source": [
        "# grab the predictions\n",
        "model_5_preds = model_5.predict(val_sentences)\n",
        "model_5_preds[:10]"
      ]
    },
    {
      "cell_type": "code",
      "execution_count": 97,
      "id": "e6a6a89b",
      "metadata": {
        "colab": {
          "base_uri": "https://localhost:8080/"
        },
        "id": "e6a6a89b",
        "outputId": "21a23e2f-748b-4c7d-dc95-b29cc553c9fd"
      },
      "outputs": [
        {
          "output_type": "execute_result",
          "data": {
            "text/plain": [
              "{'accuracy': 75.59055118110236,\n",
              " 'f1': 0.7536918613918199,\n",
              " 'precision': 0.7571361526829015,\n",
              " 'recall': 0.7559055118110236}"
            ]
          },
          "metadata": {},
          "execution_count": 97
        }
      ],
      "source": [
        "model_5_preds = tf.squeeze(tf.round(model_5_preds))\n",
        "model_5_results = calculate_results(val_labels,model_5_preds)\n",
        "model_5_results"
      ]
    },
    {
      "cell_type": "code",
      "execution_count": 98,
      "id": "39a9c8c8",
      "metadata": {
        "colab": {
          "base_uri": "https://localhost:8080/"
        },
        "id": "39a9c8c8",
        "outputId": "85ca99f1-76cd-46a5-90f2-368c26e5b735"
      },
      "outputs": [
        {
          "output_type": "execute_result",
          "data": {
            "text/plain": [
              "{'accuracy': 79.26509186351706,\n",
              " 'f1': 0.7862189758049549,\n",
              " 'precision': 0.8111390004213173,\n",
              " 'recall': 0.7926509186351706}"
            ]
          },
          "metadata": {},
          "execution_count": 98
        }
      ],
      "source": [
        "baseline_results"
      ]
    },
    {
      "cell_type": "code",
      "execution_count": 99,
      "id": "ed4c5d09",
      "metadata": {
        "id": "ed4c5d09"
      },
      "outputs": [],
      "source": [
        "# Still cant beat the baseline model"
      ]
    },
    {
      "cell_type": "code",
      "execution_count": 101,
      "id": "d233b941",
      "metadata": {
        "scrolled": true,
        "colab": {
          "base_uri": "https://localhost:8080/"
        },
        "id": "d233b941",
        "outputId": "c7261845-03dd-4905-8d52-4dfe78763212"
      },
      "outputs": [
        {
          "output_type": "stream",
          "name": "stdout",
          "text": [
            "tf.Tensor(\n",
            "[-0.01443893 -0.00599039 -0.04559013  0.04534918 -0.02062652  0.01393014\n",
            " -0.06905753  0.04280511  0.02126483  0.04248023 -0.04659408  0.07505151\n",
            " -0.01405933  0.01019932  0.05304514 -0.02879466 -0.05050775 -0.00089983\n",
            "  0.00952864 -0.03611656 -0.0110835  -0.02132455  0.0691835  -0.05194677\n",
            "  0.07864773 -0.00116064  0.08336279  0.06056589 -0.01787721 -0.02085744\n",
            " -0.01772531  0.00146203  0.08770007 -0.07025129 -0.05233978  0.0097592\n",
            "  0.02252566  0.06257525  0.04666005  0.04641011  0.05046926 -0.04574616\n",
            " -0.0330748   0.02150823 -0.01423052 -0.01759312 -0.09435947  0.10395356\n",
            "  0.04582724 -0.00912383], shape=(50,), dtype=float32)\n"
          ]
        }
      ],
      "source": [
        "# Model_6\n",
        "# Transfer learning Models\n",
        "# TF Hub Pretrained Feature Extractor model\n",
        "\n",
        "#     USE feature extractor model [Universal Feature Encoder]\n",
        "\n",
        "# Model link ---> https://tfhub.dev/google/collections/universal-sentence-encoder/1\n",
        "# \n",
        "embed = hub.load(\"https://tfhub.dev/google/universal-sentence-encoder/4\")\n",
        "# \n",
        "\n",
        "# embed = hub.KerasLayer(\"https://tfhub.dev/google/universal-sentence-encoder/4\",trainable=False)\n",
        "embed_samples = embed([sample_sentence,\n",
        "                      \"When you can the univrsal sentence encoder on a sentence, it turns it into numbers.\"])\n",
        "# embed_samples = embed([sample_sentence,\n",
        "#                        \"Wow, I still have to study and work at the same time geez\"])\n",
        "print(embed_samples[0][:50])"
      ]
    },
    {
      "cell_type": "code",
      "source": [
        "embed_samples"
      ],
      "metadata": {
        "colab": {
          "base_uri": "https://localhost:8080/"
        },
        "id": "uXWq7HTY6puk",
        "outputId": "b73dc51e-195d-47d2-9ff7-94f1ec18d657"
      },
      "id": "uXWq7HTY6puk",
      "execution_count": 104,
      "outputs": [
        {
          "output_type": "execute_result",
          "data": {
            "text/plain": [
              "<tf.Tensor: shape=(2, 512), dtype=float32, numpy=\n",
              "array([[-0.01443893, -0.00599039, -0.04559013, ..., -0.02473616,\n",
              "         0.06314445,  0.02400106],\n",
              "       [ 0.02917226, -0.09069518,  0.00653531, ..., -0.02631373,\n",
              "         0.00687158,  0.0003924 ]], dtype=float32)>"
            ]
          },
          "metadata": {},
          "execution_count": 104
        }
      ]
    },
    {
      "cell_type": "code",
      "source": [
        "embed_samples[0].shape"
      ],
      "metadata": {
        "colab": {
          "base_uri": "https://localhost:8080/"
        },
        "id": "IdJlZqcu6sG9",
        "outputId": "84e3eb9e-c76a-4efa-8f78-5be16a8d1a7e"
      },
      "id": "IdJlZqcu6sG9",
      "execution_count": 105,
      "outputs": [
        {
          "output_type": "execute_result",
          "data": {
            "text/plain": [
              "TensorShape([512])"
            ]
          },
          "metadata": {},
          "execution_count": 105
        }
      ]
    },
    {
      "cell_type": "code",
      "source": [
        "# Creating a layer using the USE pre trained layer\n",
        "sentence_encoder_layer = hub.KerasLayer(\"https://tfhub.dev/google/universal-sentence-encoder/4\",\n",
        "                                        input_shape=[],\n",
        "                                        dtype=tf.string, \n",
        "                                        trainable=False,\n",
        "                                        name=\"USE_model\")\n",
        "\n",
        "# Create model using the sequential API\n",
        "model_6 = tf.keras.Sequential([\n",
        "    sentence_encoder_layer,\n",
        "    layers.Dense(64, activation=\"relu\"),\n",
        "    layers.Dense(1, activation=\"sigmoid\"),\n",
        "], name=\"model_6_USE\")\n",
        "\n",
        "# compile\n",
        "model_6.compile(loss=BinaryCrossentropy(),\n",
        "                optimizer=Adam(),\n",
        "                metrics=[\"accuracy\"])\n",
        "\n",
        "model_6.summary()\n"
      ],
      "metadata": {
        "colab": {
          "base_uri": "https://localhost:8080/"
        },
        "id": "UTjB3Zd9666G",
        "outputId": "18655698-9502-4f6a-f17d-794f17e67ef1"
      },
      "id": "UTjB3Zd9666G",
      "execution_count": 120,
      "outputs": [
        {
          "output_type": "stream",
          "name": "stdout",
          "text": [
            "Model: \"model_6_USE\"\n",
            "_________________________________________________________________\n",
            " Layer (type)                Output Shape              Param #   \n",
            "=================================================================\n",
            " USE_model (KerasLayer)      (None, 512)               256797824 \n",
            "                                                                 \n",
            " dense_10 (Dense)            (None, 64)                32832     \n",
            "                                                                 \n",
            " dense_11 (Dense)            (None, 1)                 65        \n",
            "                                                                 \n",
            "=================================================================\n",
            "Total params: 256,830,721\n",
            "Trainable params: 32,897\n",
            "Non-trainable params: 256,797,824\n",
            "_________________________________________________________________\n"
          ]
        }
      ]
    },
    {
      "cell_type": "code",
      "source": [
        "# MODEL fit\n",
        "model_6.fit(train_sentences,\n",
        "            train_labels,\n",
        "            epochs=5,\n",
        "            validation_data=(val_sentences, val_labels),\n",
        "            callbacks=[create_tensorboard_callback(SAVE_DIR,\"model_6_USE\")])"
      ],
      "metadata": {
        "colab": {
          "base_uri": "https://localhost:8080/"
        },
        "id": "qFLr_p2A9qZ8",
        "outputId": "8bea7265-6c72-46e3-c325-bcf46cd258a9"
      },
      "id": "qFLr_p2A9qZ8",
      "execution_count": 121,
      "outputs": [
        {
          "output_type": "stream",
          "name": "stdout",
          "text": [
            "Gathering the log data and saving in : MODEL_LOGS/model_6_USE/20220815-053930\n",
            "Epoch 1/5\n",
            "215/215 [==============================] - 6s 14ms/step - loss: 0.5072 - accuracy: 0.7907 - val_loss: 0.4450 - val_accuracy: 0.8045\n",
            "Epoch 2/5\n",
            "215/215 [==============================] - 3s 12ms/step - loss: 0.4138 - accuracy: 0.8142 - val_loss: 0.4386 - val_accuracy: 0.8084\n",
            "Epoch 3/5\n",
            "215/215 [==============================] - 2s 12ms/step - loss: 0.3999 - accuracy: 0.8225 - val_loss: 0.4299 - val_accuracy: 0.8123\n",
            "Epoch 4/5\n",
            "215/215 [==============================] - 2s 12ms/step - loss: 0.3912 - accuracy: 0.8269 - val_loss: 0.4326 - val_accuracy: 0.8136\n",
            "Epoch 5/5\n",
            "215/215 [==============================] - 2s 11ms/step - loss: 0.3856 - accuracy: 0.8305 - val_loss: 0.4252 - val_accuracy: 0.8163\n"
          ]
        },
        {
          "output_type": "execute_result",
          "data": {
            "text/plain": [
              "<keras.callbacks.History at 0x7fb82543e810>"
            ]
          },
          "metadata": {},
          "execution_count": 121
        }
      ]
    },
    {
      "cell_type": "code",
      "source": [
        "# predict\n",
        "model_6_preds = model_6.predict(val_sentences)\n",
        "model_6_preds[:10]"
      ],
      "metadata": {
        "colab": {
          "base_uri": "https://localhost:8080/"
        },
        "id": "54tWVwye-TMQ",
        "outputId": "45c9eb40-5014-4530-a962-8be223e9ca79"
      },
      "id": "54tWVwye-TMQ",
      "execution_count": 122,
      "outputs": [
        {
          "output_type": "execute_result",
          "data": {
            "text/plain": [
              "array([[0.19333024],\n",
              "       [0.7689675 ],\n",
              "       [0.98782223],\n",
              "       [0.2127085 ],\n",
              "       [0.7597406 ],\n",
              "       [0.7829812 ],\n",
              "       [0.9852887 ],\n",
              "       [0.98456776],\n",
              "       [0.9290282 ],\n",
              "       [0.11194909]], dtype=float32)"
            ]
          },
          "metadata": {},
          "execution_count": 122
        }
      ]
    },
    {
      "cell_type": "code",
      "source": [
        "model_6_preds = tf.squeeze(tf.round(model_6_preds))\n",
        "model_6_res = calculate_results(val_labels, model_6_preds)\n",
        "model_6_res"
      ],
      "metadata": {
        "colab": {
          "base_uri": "https://localhost:8080/"
        },
        "id": "0CTswcZC_EhR",
        "outputId": "5f673cbf-c26f-4455-f4db-a8c8361b0de4"
      },
      "id": "0CTswcZC_EhR",
      "execution_count": 123,
      "outputs": [
        {
          "output_type": "execute_result",
          "data": {
            "text/plain": [
              "{'accuracy': 81.62729658792651,\n",
              " 'f1': 0.8151782870321896,\n",
              " 'precision': 0.8174065945777478,\n",
              " 'recall': 0.8162729658792651}"
            ]
          },
          "metadata": {},
          "execution_count": 123
        }
      ]
    },
    {
      "cell_type": "code",
      "source": [
        "baseline_results"
      ],
      "metadata": {
        "colab": {
          "base_uri": "https://localhost:8080/"
        },
        "id": "rJiJxKS9_M6P",
        "outputId": "120a79a8-b69f-44d1-b59e-c57af2f90a7e"
      },
      "id": "rJiJxKS9_M6P",
      "execution_count": 124,
      "outputs": [
        {
          "output_type": "execute_result",
          "data": {
            "text/plain": [
              "{'accuracy': 79.26509186351706,\n",
              " 'f1': 0.7862189758049549,\n",
              " 'precision': 0.8111390004213173,\n",
              " 'recall': 0.7926509186351706}"
            ]
          },
          "metadata": {},
          "execution_count": 124
        }
      ]
    },
    {
      "cell_type": "code",
      "source": [
        "# At last beats the baseline_results"
      ],
      "metadata": {
        "id": "NY6_gZPdACgp"
      },
      "id": "NY6_gZPdACgp",
      "execution_count": 125,
      "outputs": []
    },
    {
      "cell_type": "code",
      "source": [
        "# Model_7\n",
        "# Same as model_6 with 10% of the data\n",
        "# frac means the percent of data used for train\n",
        "# Making splits like this leads to data leakage\n",
        "\n",
        "# train_10_per = train_df_sf[[\"text\", \"target\"]].sample(frac=0.1, random_state=42)\n",
        "# # train_10_per.head(), len(train_10_per)"
      ],
      "metadata": {
        "colab": {
          "base_uri": "https://localhost:8080/"
        },
        "id": "JZWFAsbSALrV",
        "outputId": "a9cb6c4e-0f47-43bf-bf02-e94f6fdf9585"
      },
      "id": "JZWFAsbSALrV",
      "execution_count": 127,
      "outputs": [
        {
          "output_type": "execute_result",
          "data": {
            "text/plain": [
              "(                                                   text  target\n",
              " 4955  DFR EP016 Monthly Meltdown - On Dnbheaven 2015...       0\n",
              " 584   FedEx no longer to transport bioterror germs i...       0\n",
              " 7411  Gunmen kill four in El Salvador bus attack: Su...       1\n",
              " 5950  @camilacabello97 Internally and externally scr...       1\n",
              " 5541  Radiation emergency #preparedness starts with ...       1, 761)"
            ]
          },
          "metadata": {},
          "execution_count": 127
        }
      ]
    },
    {
      "cell_type": "code",
      "source": [
        "# len(train_df_sf)"
      ],
      "metadata": {
        "colab": {
          "base_uri": "https://localhost:8080/"
        },
        "id": "L_CxoyRACWPi",
        "outputId": "3f7e5587-b8f1-4fe9-c12c-a14546e8d78f"
      },
      "id": "L_CxoyRACWPi",
      "execution_count": 128,
      "outputs": [
        {
          "output_type": "execute_result",
          "data": {
            "text/plain": [
              "7613"
            ]
          },
          "metadata": {},
          "execution_count": 128
        }
      ]
    },
    {
      "cell_type": "code",
      "source": [
        "# train_sentences_10_percent = train_10_per[\"text\"].to_list()\n",
        "# train_labels_10_percent = train_10_per[\"target\"].to_list()\n",
        "\n",
        "# len(train_df_sf)"
      ],
      "metadata": {
        "colab": {
          "base_uri": "https://localhost:8080/"
        },
        "id": "6uAJHmebCcjR",
        "outputId": "15541a06-e359-4872-a2c4-fa54db9f98af"
      },
      "id": "6uAJHmebCcjR",
      "execution_count": 130,
      "outputs": [
        {
          "output_type": "execute_result",
          "data": {
            "text/plain": [
              "7613"
            ]
          },
          "metadata": {},
          "execution_count": 130
        }
      ]
    },
    {
      "cell_type": "code",
      "source": [
        "# Correct way to do the splits \n",
        "train_sentences_10_split = int(0.1 *  len(train_sentences))\n",
        "train_sentences_10 = train_sentences[:train_sentences_10_split]\n",
        "# len(train_sentences_10)\n",
        "train_labels_10 = train_labels[:train_sentences_10_split]"
      ],
      "metadata": {
        "id": "lMRaKI1pO3NU"
      },
      "id": "lMRaKI1pO3NU",
      "execution_count": 147,
      "outputs": []
    },
    {
      "cell_type": "code",
      "source": [
        "len(train_sentences_10), len(train_labels_10)"
      ],
      "metadata": {
        "colab": {
          "base_uri": "https://localhost:8080/"
        },
        "id": "rroWP57tDAWm",
        "outputId": "5096a6cf-5d12-4083-e8f1-8e1795a6b568"
      },
      "id": "rroWP57tDAWm",
      "execution_count": 148,
      "outputs": [
        {
          "output_type": "execute_result",
          "data": {
            "text/plain": [
              "(685, 685)"
            ]
          },
          "metadata": {},
          "execution_count": 148
        }
      ]
    },
    {
      "cell_type": "code",
      "source": [
        "train_df_sf[\"target\"].value_counts()"
      ],
      "metadata": {
        "colab": {
          "base_uri": "https://localhost:8080/"
        },
        "id": "sTHqHbxdDRCA",
        "outputId": "26b11f31-e067-42ea-f61e-35a153af5749"
      },
      "id": "sTHqHbxdDRCA",
      "execution_count": 132,
      "outputs": [
        {
          "output_type": "execute_result",
          "data": {
            "text/plain": [
              "0    4342\n",
              "1    3271\n",
              "Name: target, dtype: int64"
            ]
          },
          "metadata": {},
          "execution_count": 132
        }
      ]
    },
    {
      "cell_type": "code",
      "source": [
        "# train_sentences_10[\"target\"].value_counts()\n",
        "pd.Series(np.array(train_labels_10)).value_counts()"
      ],
      "metadata": {
        "colab": {
          "base_uri": "https://localhost:8080/"
        },
        "id": "1TeXUxIiDnY8",
        "outputId": "1419e64c-202b-4675-c81d-66c224ed0e18"
      },
      "id": "1TeXUxIiDnY8",
      "execution_count": 152,
      "outputs": [
        {
          "output_type": "execute_result",
          "data": {
            "text/plain": [
              "0    406\n",
              "1    279\n",
              "dtype: int64"
            ]
          },
          "metadata": {},
          "execution_count": 152
        }
      ]
    },
    {
      "cell_type": "code",
      "source": [
        "# Building model 7\n",
        "\n",
        "\"\"\"\n",
        "We can use the Models.clone_model()\n",
        "\n",
        "https://www.tensorflow.org/api_docs/python/tf/keras/models/clone_model\n",
        "\"\"\"\n",
        "\n",
        "model_7 = tf.keras.models.clone_model(model_6)\n",
        "\n",
        "# compile model\n",
        "model_7.compile(loss=BinaryCrossentropy(),\n",
        "                optimizer=Adam(),\n",
        "                metrics=[\"accuracy\"])\n",
        "\n",
        "# fit model\n",
        "model_7_history = model_7.fit(train_sentences_10,\n",
        "            train_labels_10,\n",
        "            validation_data=(val_sentences, val_labels),\n",
        "            epochs=5,\n",
        "            callbacks=[create_tensorboard_callback(SAVE_DIR,\n",
        "                                                   \"model_7_model6_10_percent\")])\n",
        "# summary\n",
        "model_7.summary()\n"
      ],
      "metadata": {
        "colab": {
          "base_uri": "https://localhost:8080/"
        },
        "id": "NDsK88E9DthT",
        "outputId": "9c8fc465-9209-4a1e-94a7-3ecf9dcd0cb0"
      },
      "id": "NDsK88E9DthT",
      "execution_count": 153,
      "outputs": [
        {
          "output_type": "stream",
          "name": "stdout",
          "text": [
            "Gathering the log data and saving in : MODEL_LOGS/model_7_model6_10_percent/20220815-065130\n",
            "Epoch 1/5\n",
            "22/22 [==============================] - 3s 43ms/step - loss: 0.6687 - accuracy: 0.6234 - val_loss: 0.6511 - val_accuracy: 0.6824\n",
            "Epoch 2/5\n",
            "22/22 [==============================] - 0s 21ms/step - loss: 0.6015 - accuracy: 0.7854 - val_loss: 0.5981 - val_accuracy: 0.7507\n",
            "Epoch 3/5\n",
            "22/22 [==============================] - 1s 26ms/step - loss: 0.5273 - accuracy: 0.8175 - val_loss: 0.5405 - val_accuracy: 0.7808\n",
            "Epoch 4/5\n",
            "22/22 [==============================] - 1s 25ms/step - loss: 0.4643 - accuracy: 0.8204 - val_loss: 0.5078 - val_accuracy: 0.7730\n",
            "Epoch 5/5\n",
            "22/22 [==============================] - 1s 26ms/step - loss: 0.4220 - accuracy: 0.8321 - val_loss: 0.4890 - val_accuracy: 0.7795\n",
            "Model: \"model_6_USE\"\n",
            "_________________________________________________________________\n",
            " Layer (type)                Output Shape              Param #   \n",
            "=================================================================\n",
            " USE_model (KerasLayer)      (None, 512)               256797824 \n",
            "                                                                 \n",
            " dense_10 (Dense)            (None, 64)                32832     \n",
            "                                                                 \n",
            " dense_11 (Dense)            (None, 1)                 65        \n",
            "                                                                 \n",
            "=================================================================\n",
            "Total params: 256,830,721\n",
            "Trainable params: 32,897\n",
            "Non-trainable params: 256,797,824\n",
            "_________________________________________________________________\n"
          ]
        }
      ]
    },
    {
      "cell_type": "code",
      "source": [
        "# Calculate the results\n",
        "model_7_prds = model_7.predict(val_sentences)\n",
        "model_7_prds[:10]\n",
        "\n",
        "model_7_preds = tf.squeeze(tf.round(model_7_prds))\n",
        "model_7_results =  calculate_results(val_labels, model_7_preds)"
      ],
      "metadata": {
        "id": "NLZL3ExdGnB-"
      },
      "id": "NLZL3ExdGnB-",
      "execution_count": 157,
      "outputs": []
    },
    {
      "cell_type": "code",
      "source": [
        "model_7_results "
      ],
      "metadata": {
        "colab": {
          "base_uri": "https://localhost:8080/"
        },
        "id": "N8oZOb0qHj-f",
        "outputId": "5495c19c-689b-4f44-ce7f-ffee44fa21bc"
      },
      "id": "N8oZOb0qHj-f",
      "execution_count": 158,
      "outputs": [
        {
          "output_type": "execute_result",
          "data": {
            "text/plain": [
              "{'accuracy': 77.95275590551181,\n",
              " 'f1': 0.7783167829714759,\n",
              " 'precision': 0.7799065773530309,\n",
              " 'recall': 0.7795275590551181}"
            ]
          },
          "metadata": {},
          "execution_count": 158
        }
      ]
    },
    {
      "cell_type": "code",
      "source": [
        "baseline_results"
      ],
      "metadata": {
        "colab": {
          "base_uri": "https://localhost:8080/"
        },
        "id": "kXHSI-OoIGYB",
        "outputId": "326cdda3-b455-4d69-bfcb-38d03a20fd7c"
      },
      "id": "kXHSI-OoIGYB",
      "execution_count": 159,
      "outputs": [
        {
          "output_type": "execute_result",
          "data": {
            "text/plain": [
              "{'accuracy': 79.26509186351706,\n",
              " 'f1': 0.7862189758049549,\n",
              " 'precision': 0.8111390004213173,\n",
              " 'recall': 0.7926509186351706}"
            ]
          },
          "metadata": {},
          "execution_count": 159
        }
      ]
    },
    {
      "cell_type": "code",
      "source": [
        "model_6_res"
      ],
      "metadata": {
        "colab": {
          "base_uri": "https://localhost:8080/"
        },
        "id": "PgSZzsquU85l",
        "outputId": "4d35f07f-74d7-44a7-d895-e0f17b68bb21"
      },
      "id": "PgSZzsquU85l",
      "execution_count": 161,
      "outputs": [
        {
          "output_type": "execute_result",
          "data": {
            "text/plain": [
              "{'accuracy': 81.62729658792651,\n",
              " 'f1': 0.8151782870321896,\n",
              " 'precision': 0.8174065945777478,\n",
              " 'recall': 0.8162729658792651}"
            ]
          },
          "metadata": {},
          "execution_count": 161
        }
      ]
    },
    {
      "cell_type": "code",
      "source": [
        "# Why our model is performing better than 10 % of the data ?\n",
        "# We gotta debug\n",
        "\n",
        "# Update --> Finally we fixed the leakage "
      ],
      "metadata": {
        "id": "ZY77EQbgIKOS"
      },
      "id": "ZY77EQbgIKOS",
      "execution_count": 160,
      "outputs": []
    },
    {
      "cell_type": "code",
      "source": [
        "\"\"\"\n",
        "Some of the validation data is already present in the train_sentences_10_percent \n",
        "thats why we want to fix to this , this is causing a data leakage\n",
        "\"\"\"\n",
        "\n"
      ],
      "metadata": {
        "id": "nJtItq3BJlUO"
      },
      "id": "nJtItq3BJlUO",
      "execution_count": null,
      "outputs": []
    },
    {
      "cell_type": "code",
      "source": [
        "all_model_results= pd.DataFrame({\n",
        "    \"Base-line_res\" : baseline_results,\n",
        "    \"Feed-Forward-Network\": model_1_res,\n",
        "    \"LSTM(RNN)\": model_2_results,\n",
        "    \"GRU(RNN)\": model_3_results,\n",
        "    \"Bidirectional_RNN\": model_4_res,\n",
        "    \"Conv1D\": model_5_results,\n",
        "    \"USE_model\":model_6_res,\n",
        "    \"USE_model_10%\":model_7_results})\n",
        "\n",
        "all_model_results = all_model_results.transpose()\n",
        "all_model_results"
      ],
      "metadata": {
        "colab": {
          "base_uri": "https://localhost:8080/",
          "height": 300
        },
        "id": "MQia6FonYYOI",
        "outputId": "6807e286-4ac9-4f69-c0fe-5fca1a7889df"
      },
      "id": "MQia6FonYYOI",
      "execution_count": 170,
      "outputs": [
        {
          "output_type": "execute_result",
          "data": {
            "text/plain": [
              "                       accuracy  precision    recall        f1\n",
              "Base-line_res         79.265092   0.811139  0.792651  0.786219\n",
              "Feed-Forward-Network  78.477690   0.790478  0.784777  0.781448\n",
              "LSTM(RNN)             76.640420   0.779032  0.766404  0.760074\n",
              "GRU(RNN)              77.165354   0.776721  0.771654  0.768121\n",
              "Bidirectional_RNN     76.771654   0.773250  0.767717  0.763869\n",
              "Conv1D                75.590551   0.757136  0.755906  0.753692\n",
              "USE_model             81.627297   0.817407  0.816273  0.815178\n",
              "USE_model_10%         77.952756   0.779907  0.779528  0.778317"
            ],
            "text/html": [
              "\n",
              "  <div id=\"df-919a3fd8-60d8-4863-9179-6985261aa7b8\">\n",
              "    <div class=\"colab-df-container\">\n",
              "      <div>\n",
              "<style scoped>\n",
              "    .dataframe tbody tr th:only-of-type {\n",
              "        vertical-align: middle;\n",
              "    }\n",
              "\n",
              "    .dataframe tbody tr th {\n",
              "        vertical-align: top;\n",
              "    }\n",
              "\n",
              "    .dataframe thead th {\n",
              "        text-align: right;\n",
              "    }\n",
              "</style>\n",
              "<table border=\"1\" class=\"dataframe\">\n",
              "  <thead>\n",
              "    <tr style=\"text-align: right;\">\n",
              "      <th></th>\n",
              "      <th>accuracy</th>\n",
              "      <th>precision</th>\n",
              "      <th>recall</th>\n",
              "      <th>f1</th>\n",
              "    </tr>\n",
              "  </thead>\n",
              "  <tbody>\n",
              "    <tr>\n",
              "      <th>Base-line_res</th>\n",
              "      <td>79.265092</td>\n",
              "      <td>0.811139</td>\n",
              "      <td>0.792651</td>\n",
              "      <td>0.786219</td>\n",
              "    </tr>\n",
              "    <tr>\n",
              "      <th>Feed-Forward-Network</th>\n",
              "      <td>78.477690</td>\n",
              "      <td>0.790478</td>\n",
              "      <td>0.784777</td>\n",
              "      <td>0.781448</td>\n",
              "    </tr>\n",
              "    <tr>\n",
              "      <th>LSTM(RNN)</th>\n",
              "      <td>76.640420</td>\n",
              "      <td>0.779032</td>\n",
              "      <td>0.766404</td>\n",
              "      <td>0.760074</td>\n",
              "    </tr>\n",
              "    <tr>\n",
              "      <th>GRU(RNN)</th>\n",
              "      <td>77.165354</td>\n",
              "      <td>0.776721</td>\n",
              "      <td>0.771654</td>\n",
              "      <td>0.768121</td>\n",
              "    </tr>\n",
              "    <tr>\n",
              "      <th>Bidirectional_RNN</th>\n",
              "      <td>76.771654</td>\n",
              "      <td>0.773250</td>\n",
              "      <td>0.767717</td>\n",
              "      <td>0.763869</td>\n",
              "    </tr>\n",
              "    <tr>\n",
              "      <th>Conv1D</th>\n",
              "      <td>75.590551</td>\n",
              "      <td>0.757136</td>\n",
              "      <td>0.755906</td>\n",
              "      <td>0.753692</td>\n",
              "    </tr>\n",
              "    <tr>\n",
              "      <th>USE_model</th>\n",
              "      <td>81.627297</td>\n",
              "      <td>0.817407</td>\n",
              "      <td>0.816273</td>\n",
              "      <td>0.815178</td>\n",
              "    </tr>\n",
              "    <tr>\n",
              "      <th>USE_model_10%</th>\n",
              "      <td>77.952756</td>\n",
              "      <td>0.779907</td>\n",
              "      <td>0.779528</td>\n",
              "      <td>0.778317</td>\n",
              "    </tr>\n",
              "  </tbody>\n",
              "</table>\n",
              "</div>\n",
              "      <button class=\"colab-df-convert\" onclick=\"convertToInteractive('df-919a3fd8-60d8-4863-9179-6985261aa7b8')\"\n",
              "              title=\"Convert this dataframe to an interactive table.\"\n",
              "              style=\"display:none;\">\n",
              "        \n",
              "  <svg xmlns=\"http://www.w3.org/2000/svg\" height=\"24px\"viewBox=\"0 0 24 24\"\n",
              "       width=\"24px\">\n",
              "    <path d=\"M0 0h24v24H0V0z\" fill=\"none\"/>\n",
              "    <path d=\"M18.56 5.44l.94 2.06.94-2.06 2.06-.94-2.06-.94-.94-2.06-.94 2.06-2.06.94zm-11 1L8.5 8.5l.94-2.06 2.06-.94-2.06-.94L8.5 2.5l-.94 2.06-2.06.94zm10 10l.94 2.06.94-2.06 2.06-.94-2.06-.94-.94-2.06-.94 2.06-2.06.94z\"/><path d=\"M17.41 7.96l-1.37-1.37c-.4-.4-.92-.59-1.43-.59-.52 0-1.04.2-1.43.59L10.3 9.45l-7.72 7.72c-.78.78-.78 2.05 0 2.83L4 21.41c.39.39.9.59 1.41.59.51 0 1.02-.2 1.41-.59l7.78-7.78 2.81-2.81c.8-.78.8-2.07 0-2.86zM5.41 20L4 18.59l7.72-7.72 1.47 1.35L5.41 20z\"/>\n",
              "  </svg>\n",
              "      </button>\n",
              "      \n",
              "  <style>\n",
              "    .colab-df-container {\n",
              "      display:flex;\n",
              "      flex-wrap:wrap;\n",
              "      gap: 12px;\n",
              "    }\n",
              "\n",
              "    .colab-df-convert {\n",
              "      background-color: #E8F0FE;\n",
              "      border: none;\n",
              "      border-radius: 50%;\n",
              "      cursor: pointer;\n",
              "      display: none;\n",
              "      fill: #1967D2;\n",
              "      height: 32px;\n",
              "      padding: 0 0 0 0;\n",
              "      width: 32px;\n",
              "    }\n",
              "\n",
              "    .colab-df-convert:hover {\n",
              "      background-color: #E2EBFA;\n",
              "      box-shadow: 0px 1px 2px rgba(60, 64, 67, 0.3), 0px 1px 3px 1px rgba(60, 64, 67, 0.15);\n",
              "      fill: #174EA6;\n",
              "    }\n",
              "\n",
              "    [theme=dark] .colab-df-convert {\n",
              "      background-color: #3B4455;\n",
              "      fill: #D2E3FC;\n",
              "    }\n",
              "\n",
              "    [theme=dark] .colab-df-convert:hover {\n",
              "      background-color: #434B5C;\n",
              "      box-shadow: 0px 1px 3px 1px rgba(0, 0, 0, 0.15);\n",
              "      filter: drop-shadow(0px 1px 2px rgba(0, 0, 0, 0.3));\n",
              "      fill: #FFFFFF;\n",
              "    }\n",
              "  </style>\n",
              "\n",
              "      <script>\n",
              "        const buttonEl =\n",
              "          document.querySelector('#df-919a3fd8-60d8-4863-9179-6985261aa7b8 button.colab-df-convert');\n",
              "        buttonEl.style.display =\n",
              "          google.colab.kernel.accessAllowed ? 'block' : 'none';\n",
              "\n",
              "        async function convertToInteractive(key) {\n",
              "          const element = document.querySelector('#df-919a3fd8-60d8-4863-9179-6985261aa7b8');\n",
              "          const dataTable =\n",
              "            await google.colab.kernel.invokeFunction('convertToInteractive',\n",
              "                                                     [key], {});\n",
              "          if (!dataTable) return;\n",
              "\n",
              "          const docLinkHtml = 'Like what you see? Visit the ' +\n",
              "            '<a target=\"_blank\" href=https://colab.research.google.com/notebooks/data_table.ipynb>data table notebook</a>'\n",
              "            + ' to learn more about interactive tables.';\n",
              "          element.innerHTML = '';\n",
              "          dataTable['output_type'] = 'display_data';\n",
              "          await google.colab.output.renderOutput(dataTable, element);\n",
              "          const docLink = document.createElement('div');\n",
              "          docLink.innerHTML = docLinkHtml;\n",
              "          element.appendChild(docLink);\n",
              "        }\n",
              "      </script>\n",
              "    </div>\n",
              "  </div>\n",
              "  "
            ]
          },
          "metadata": {},
          "execution_count": 170
        }
      ]
    },
    {
      "cell_type": "code",
      "source": [
        "# Reduce the accuracy to the same scale as other metrics\n",
        "# all_model_results[\"accuracy\"] = all_model_results[\"accuracy\"]/100\n",
        "all_model_results"
      ],
      "metadata": {
        "colab": {
          "base_uri": "https://localhost:8080/",
          "height": 300
        },
        "id": "ZpGq5ydwa5Aj",
        "outputId": "b0ecf895-6416-4c40-f929-3a781f266d3c"
      },
      "id": "ZpGq5ydwa5Aj",
      "execution_count": 172,
      "outputs": [
        {
          "output_type": "execute_result",
          "data": {
            "text/plain": [
              "                      accuracy  precision    recall        f1\n",
              "Base-line_res         0.792651   0.811139  0.792651  0.786219\n",
              "Feed-Forward-Network  0.784777   0.790478  0.784777  0.781448\n",
              "LSTM(RNN)             0.766404   0.779032  0.766404  0.760074\n",
              "GRU(RNN)              0.771654   0.776721  0.771654  0.768121\n",
              "Bidirectional_RNN     0.767717   0.773250  0.767717  0.763869\n",
              "Conv1D                0.755906   0.757136  0.755906  0.753692\n",
              "USE_model             0.816273   0.817407  0.816273  0.815178\n",
              "USE_model_10%         0.779528   0.779907  0.779528  0.778317"
            ],
            "text/html": [
              "\n",
              "  <div id=\"df-8a978098-63a3-4a54-bd66-96b5d6560bef\">\n",
              "    <div class=\"colab-df-container\">\n",
              "      <div>\n",
              "<style scoped>\n",
              "    .dataframe tbody tr th:only-of-type {\n",
              "        vertical-align: middle;\n",
              "    }\n",
              "\n",
              "    .dataframe tbody tr th {\n",
              "        vertical-align: top;\n",
              "    }\n",
              "\n",
              "    .dataframe thead th {\n",
              "        text-align: right;\n",
              "    }\n",
              "</style>\n",
              "<table border=\"1\" class=\"dataframe\">\n",
              "  <thead>\n",
              "    <tr style=\"text-align: right;\">\n",
              "      <th></th>\n",
              "      <th>accuracy</th>\n",
              "      <th>precision</th>\n",
              "      <th>recall</th>\n",
              "      <th>f1</th>\n",
              "    </tr>\n",
              "  </thead>\n",
              "  <tbody>\n",
              "    <tr>\n",
              "      <th>Base-line_res</th>\n",
              "      <td>0.792651</td>\n",
              "      <td>0.811139</td>\n",
              "      <td>0.792651</td>\n",
              "      <td>0.786219</td>\n",
              "    </tr>\n",
              "    <tr>\n",
              "      <th>Feed-Forward-Network</th>\n",
              "      <td>0.784777</td>\n",
              "      <td>0.790478</td>\n",
              "      <td>0.784777</td>\n",
              "      <td>0.781448</td>\n",
              "    </tr>\n",
              "    <tr>\n",
              "      <th>LSTM(RNN)</th>\n",
              "      <td>0.766404</td>\n",
              "      <td>0.779032</td>\n",
              "      <td>0.766404</td>\n",
              "      <td>0.760074</td>\n",
              "    </tr>\n",
              "    <tr>\n",
              "      <th>GRU(RNN)</th>\n",
              "      <td>0.771654</td>\n",
              "      <td>0.776721</td>\n",
              "      <td>0.771654</td>\n",
              "      <td>0.768121</td>\n",
              "    </tr>\n",
              "    <tr>\n",
              "      <th>Bidirectional_RNN</th>\n",
              "      <td>0.767717</td>\n",
              "      <td>0.773250</td>\n",
              "      <td>0.767717</td>\n",
              "      <td>0.763869</td>\n",
              "    </tr>\n",
              "    <tr>\n",
              "      <th>Conv1D</th>\n",
              "      <td>0.755906</td>\n",
              "      <td>0.757136</td>\n",
              "      <td>0.755906</td>\n",
              "      <td>0.753692</td>\n",
              "    </tr>\n",
              "    <tr>\n",
              "      <th>USE_model</th>\n",
              "      <td>0.816273</td>\n",
              "      <td>0.817407</td>\n",
              "      <td>0.816273</td>\n",
              "      <td>0.815178</td>\n",
              "    </tr>\n",
              "    <tr>\n",
              "      <th>USE_model_10%</th>\n",
              "      <td>0.779528</td>\n",
              "      <td>0.779907</td>\n",
              "      <td>0.779528</td>\n",
              "      <td>0.778317</td>\n",
              "    </tr>\n",
              "  </tbody>\n",
              "</table>\n",
              "</div>\n",
              "      <button class=\"colab-df-convert\" onclick=\"convertToInteractive('df-8a978098-63a3-4a54-bd66-96b5d6560bef')\"\n",
              "              title=\"Convert this dataframe to an interactive table.\"\n",
              "              style=\"display:none;\">\n",
              "        \n",
              "  <svg xmlns=\"http://www.w3.org/2000/svg\" height=\"24px\"viewBox=\"0 0 24 24\"\n",
              "       width=\"24px\">\n",
              "    <path d=\"M0 0h24v24H0V0z\" fill=\"none\"/>\n",
              "    <path d=\"M18.56 5.44l.94 2.06.94-2.06 2.06-.94-2.06-.94-.94-2.06-.94 2.06-2.06.94zm-11 1L8.5 8.5l.94-2.06 2.06-.94-2.06-.94L8.5 2.5l-.94 2.06-2.06.94zm10 10l.94 2.06.94-2.06 2.06-.94-2.06-.94-.94-2.06-.94 2.06-2.06.94z\"/><path d=\"M17.41 7.96l-1.37-1.37c-.4-.4-.92-.59-1.43-.59-.52 0-1.04.2-1.43.59L10.3 9.45l-7.72 7.72c-.78.78-.78 2.05 0 2.83L4 21.41c.39.39.9.59 1.41.59.51 0 1.02-.2 1.41-.59l7.78-7.78 2.81-2.81c.8-.78.8-2.07 0-2.86zM5.41 20L4 18.59l7.72-7.72 1.47 1.35L5.41 20z\"/>\n",
              "  </svg>\n",
              "      </button>\n",
              "      \n",
              "  <style>\n",
              "    .colab-df-container {\n",
              "      display:flex;\n",
              "      flex-wrap:wrap;\n",
              "      gap: 12px;\n",
              "    }\n",
              "\n",
              "    .colab-df-convert {\n",
              "      background-color: #E8F0FE;\n",
              "      border: none;\n",
              "      border-radius: 50%;\n",
              "      cursor: pointer;\n",
              "      display: none;\n",
              "      fill: #1967D2;\n",
              "      height: 32px;\n",
              "      padding: 0 0 0 0;\n",
              "      width: 32px;\n",
              "    }\n",
              "\n",
              "    .colab-df-convert:hover {\n",
              "      background-color: #E2EBFA;\n",
              "      box-shadow: 0px 1px 2px rgba(60, 64, 67, 0.3), 0px 1px 3px 1px rgba(60, 64, 67, 0.15);\n",
              "      fill: #174EA6;\n",
              "    }\n",
              "\n",
              "    [theme=dark] .colab-df-convert {\n",
              "      background-color: #3B4455;\n",
              "      fill: #D2E3FC;\n",
              "    }\n",
              "\n",
              "    [theme=dark] .colab-df-convert:hover {\n",
              "      background-color: #434B5C;\n",
              "      box-shadow: 0px 1px 3px 1px rgba(0, 0, 0, 0.15);\n",
              "      filter: drop-shadow(0px 1px 2px rgba(0, 0, 0, 0.3));\n",
              "      fill: #FFFFFF;\n",
              "    }\n",
              "  </style>\n",
              "\n",
              "      <script>\n",
              "        const buttonEl =\n",
              "          document.querySelector('#df-8a978098-63a3-4a54-bd66-96b5d6560bef button.colab-df-convert');\n",
              "        buttonEl.style.display =\n",
              "          google.colab.kernel.accessAllowed ? 'block' : 'none';\n",
              "\n",
              "        async function convertToInteractive(key) {\n",
              "          const element = document.querySelector('#df-8a978098-63a3-4a54-bd66-96b5d6560bef');\n",
              "          const dataTable =\n",
              "            await google.colab.kernel.invokeFunction('convertToInteractive',\n",
              "                                                     [key], {});\n",
              "          if (!dataTable) return;\n",
              "\n",
              "          const docLinkHtml = 'Like what you see? Visit the ' +\n",
              "            '<a target=\"_blank\" href=https://colab.research.google.com/notebooks/data_table.ipynb>data table notebook</a>'\n",
              "            + ' to learn more about interactive tables.';\n",
              "          element.innerHTML = '';\n",
              "          dataTable['output_type'] = 'display_data';\n",
              "          await google.colab.output.renderOutput(dataTable, element);\n",
              "          const docLink = document.createElement('div');\n",
              "          docLink.innerHTML = docLinkHtml;\n",
              "          element.appendChild(docLink);\n",
              "        }\n",
              "      </script>\n",
              "    </div>\n",
              "  </div>\n",
              "  "
            ]
          },
          "metadata": {},
          "execution_count": 172
        }
      ]
    },
    {
      "cell_type": "code",
      "source": [
        "# Plot and compare all the model results\n",
        "all_model_results.plot(kind=\"bar\", figsize=(10, 7)).legend(bbox_to_anchor=(1.0,1.0))"
      ],
      "metadata": {
        "colab": {
          "base_uri": "https://localhost:8080/",
          "height": 508
        },
        "id": "sBxduCDrbyY7",
        "outputId": "b9e34ef8-c0fa-48a9-ce3b-8bd7e00a01c7"
      },
      "id": "sBxduCDrbyY7",
      "execution_count": 174,
      "outputs": [
        {
          "output_type": "execute_result",
          "data": {
            "text/plain": [
              "<matplotlib.legend.Legend at 0x7fb82548b850>"
            ]
          },
          "metadata": {},
          "execution_count": 174
        },
        {
          "output_type": "display_data",
          "data": {
            "text/plain": [
              "<Figure size 720x504 with 1 Axes>"
            ],
            "image/png": "[encoded data removed]"
          },
          "metadata": {
            "needs_background": "light"
          }
        }
      ]
    },
    {
      "cell_type": "code",
      "source": [
        "# sort the results by the f1 score\n",
        "all_model_results.sort_values(\"f1\", ascending=False)[\"f1\"].plot(kind=\"bar\", figsize=(10,7))"
      ],
      "metadata": {
        "colab": {
          "base_uri": "https://localhost:8080/",
          "height": 548
        },
        "id": "5b_atahKc40c",
        "outputId": "66036965-961d-4bf6-de8b-56567751468e"
      },
      "id": "5b_atahKc40c",
      "execution_count": 176,
      "outputs": [
        {
          "output_type": "execute_result",
          "data": {
            "text/plain": [
              "<matplotlib.axes._subplots.AxesSubplot at 0x7fb71b72bf90>"
            ]
          },
          "metadata": {},
          "execution_count": 176
        },
        {
          "output_type": "display_data",
          "data": {
            "text/plain": [
              "<Figure size 720x504 with 1 Axes>"
            ],
            "image/png": "[encoded data removed]"
          },
          "metadata": {
            "needs_background": "light"
          }
        }
      ]
    },
    {
      "cell_type": "code",
      "source": [
        "!tensorboard dev upload --logdir ./MODEL_LOGS/ \\\n",
        "  --name \"NLP reference notes\" \\\n",
        "  --description \"Models for the NLP reference notes\" \\\n",
        "  --one_shot"
      ],
      "metadata": {
        "colab": {
          "base_uri": "https://localhost:8080/"
        },
        "id": "QyE9E1audjys",
        "outputId": "dc94fdf7-4ce6-419d-ab1e-44ec7db967ca"
      },
      "id": "QyE9E1audjys",
      "execution_count": 179,
      "outputs": [
        {
          "output_type": "stream",
          "name": "stdout",
          "text": [
            "\n",
            "***** TensorBoard Uploader *****\n",
            "\n",
            "This will upload your TensorBoard logs to https://tensorboard.dev/ from\n",
            "the following directory:\n",
            "\n",
            "./MODEL_LOGS/\n",
            "\n",
            "This TensorBoard will be visible to everyone. Do not upload sensitive\n",
            "data.\n",
            "\n",
            "Your use of this service is subject to Google's Terms of Service\n",
            "<https://policies.google.com/terms> and Privacy Policy\n",
            "<https://policies.google.com/privacy>, and TensorBoard.dev's Terms of Service\n",
            "<https://tensorboard.dev/policy/terms/>.\n",
            "\n",
            "This notice will not be shown again while you are logged into the uploader.\n",
            "To log out, run `tensorboard dev auth revoke`.\n",
            "\n",
            "Continue? (yes/NO) yes\n",
            "\n",
            "Please visit this URL to authorize this application: https://accounts.google.com/o/oauth2/auth?response_type=code&client_id=373649185512-8v619h5kft38l4456nm2dj4ubeqsrvh6.apps.googleusercontent.com&redirect_uri=urn%3Aietf%3Awg%3Aoauth%3A2.0%3Aoob&scope=openid+https%3A%2F%2Fwww.googleapis.com%2Fauth%2Fuserinfo.email&state=cF12KuErdsDJBHmSOlDhKE9uJcNpmC&prompt=consent&access_type=offline\n",
            "Enter the authorization code: 4/1AdQt8qjllvJTeGAnlhxaqPSjz0qe0pRjc71U3eMj3sNgqNd5DvRSdXMpR1c\n",
            "\n",
            "\n",
            "New experiment created. View your TensorBoard at: https://tensorboard.dev/experiment/zl76idvGRhGHegAs3l6RBg/\n",
            "\n",
            "\u001b[1m[2022-08-15T07:50:00]\u001b[0m Started scanning logdir.\n",
            "\u001b[1m[2022-08-15T07:50:09]\u001b[0m Total uploaded: 300 scalars, 0 tensors, 10 binary objects (5.6 MB)\n",
            "\u001b[1m[2022-08-15T07:50:09]\u001b[0m Done scanning logdir.\n",
            "\n",
            "\n",
            "Done. View your TensorBoard at https://tensorboard.dev/experiment/zl76idvGRhGHegAs3l6RBg/\n"
          ]
        }
      ]
    },
    {
      "cell_type": "code",
      "source": [
        "# https://tensorboard.dev/experiment/zl76idvGRhGHegAs3l6RBg/ "
      ],
      "metadata": {
        "id": "x20FmRNveK4z"
      },
      "id": "x20FmRNveK4z",
      "execution_count": 180,
      "outputs": []
    },
    {
      "cell_type": "code",
      "source": [
        "!tensorboard dev list"
      ],
      "metadata": {
        "colab": {
          "base_uri": "https://localhost:8080/"
        },
        "id": "v38hvAbSe4yy",
        "outputId": "d8fe336e-0fd1-4783-c947-e4bff5e0dbd0"
      },
      "id": "v38hvAbSe4yy",
      "execution_count": 181,
      "outputs": [
        {
          "output_type": "stream",
          "name": "stdout",
          "text": [
            "https://tensorboard.dev/experiment/zl76idvGRhGHegAs3l6RBg/\n",
            "\tName                 NLP reference notes\n",
            "\tDescription          Models for the NLP reference notes\n",
            "\tId                   zl76idvGRhGHegAs3l6RBg\n",
            "\tCreated              2022-08-15 07:49:59 (4 minutes ago)\n",
            "\tUpdated              2022-08-15 07:50:09 (4 minutes ago)\n",
            "\tRuns                 20\n",
            "\tTags                 5\n",
            "\tScalars              300\n",
            "\tTensor bytes         0\n",
            "\tBinary object bytes  5862667\n",
            "https://tensorboard.dev/experiment/F4Bvtx8GS96dLRRzK47b7Q/\n",
            "\tName                 Resnet50V2 vs EfficientnetB0\n",
            "\tDescription          Results regarding feature extraction tool\n",
            "\tId                   F4Bvtx8GS96dLRRzK47b7Q\n",
            "\tCreated              2022-07-30 08:27:59\n",
            "\tUpdated              2022-07-30 08:28:26\n",
            "\tRuns                 20\n",
            "\tTags                 5\n",
            "\tScalars              300\n",
            "\tTensor bytes         0\n",
            "\tBinary object bytes  22233264\n",
            "Total: 2 experiment(s)\n"
          ]
        }
      ]
    },
    {
      "cell_type": "code",
      "source": [
        "model_6_preds = model_6.predict(val_sentences)\n",
        "# model_pred_probs = tf.squeeze(tf.round(model_6_preds))\n",
        "model_6_preds_probs = tf.squeeze(tf.round(model_6_preds))\n",
        "\n",
        "val_df = pd.DataFrame({\n",
        "    \"text\": val_sentences,\n",
        "    \"target\": val_labels,\n",
        "    \"pred\": model_6_preds_probs,\n",
        "    \"prediction_prob\": tf.squeeze(model_6_preds)})\n",
        "\n",
        "val_df.head()\n"
      ],
      "metadata": {
        "colab": {
          "base_uri": "https://localhost:8080/",
          "height": 302
        },
        "id": "U0nMVWSpfwSL",
        "outputId": "4c13bf39-3860-4248-ca57-fa887991bd12"
      },
      "id": "U0nMVWSpfwSL",
      "execution_count": 205,
      "outputs": [
        {
          "output_type": "execute_result",
          "data": {
            "text/plain": [
              "                                                text  target  pred  \\\n",
              "0  DFR EP016 Monthly Meltdown - On Dnbheaven 2015...       0   0.0   \n",
              "1  FedEx no longer to transport bioterror germs i...       0   1.0   \n",
              "2  Gunmen kill four in El Salvador bus attack: Su...       1   1.0   \n",
              "3  @camilacabello97 Internally and externally scr...       1   0.0   \n",
              "4  Radiation emergency #preparedness starts with ...       1   1.0   \n",
              "\n",
              "   prediction_prob  \n",
              "0         0.193330  \n",
              "1         0.768968  \n",
              "2         0.987822  \n",
              "3         0.212709  \n",
              "4         0.759741  "
            ],
            "text/html": [
              "\n",
              "  <div id=\"df-0afa7d6a-6937-452d-929f-641fe3e3006a\">\n",
              "    <div class=\"colab-df-container\">\n",
              "      <div>\n",
              "<style scoped>\n",
              "    .dataframe tbody tr th:only-of-type {\n",
              "        vertical-align: middle;\n",
              "    }\n",
              "\n",
              "    .dataframe tbody tr th {\n",
              "        vertical-align: top;\n",
              "    }\n",
              "\n",
              "    .dataframe thead th {\n",
              "        text-align: right;\n",
              "    }\n",
              "</style>\n",
              "<table border=\"1\" class=\"dataframe\">\n",
              "  <thead>\n",
              "    <tr style=\"text-align: right;\">\n",
              "      <th></th>\n",
              "      <th>text</th>\n",
              "      <th>target</th>\n",
              "      <th>pred</th>\n",
              "      <th>prediction_prob</th>\n",
              "    </tr>\n",
              "  </thead>\n",
              "  <tbody>\n",
              "    <tr>\n",
              "      <th>0</th>\n",
              "      <td>DFR EP016 Monthly Meltdown - On Dnbheaven 2015...</td>\n",
              "      <td>0</td>\n",
              "      <td>0.0</td>\n",
              "      <td>0.193330</td>\n",
              "    </tr>\n",
              "    <tr>\n",
              "      <th>1</th>\n",
              "      <td>FedEx no longer to transport bioterror germs i...</td>\n",
              "      <td>0</td>\n",
              "      <td>1.0</td>\n",
              "      <td>0.768968</td>\n",
              "    </tr>\n",
              "    <tr>\n",
              "      <th>2</th>\n",
              "      <td>Gunmen kill four in El Salvador bus attack: Su...</td>\n",
              "      <td>1</td>\n",
              "      <td>1.0</td>\n",
              "      <td>0.987822</td>\n",
              "    </tr>\n",
              "    <tr>\n",
              "      <th>3</th>\n",
              "      <td>@camilacabello97 Internally and externally scr...</td>\n",
              "      <td>1</td>\n",
              "      <td>0.0</td>\n",
              "      <td>0.212709</td>\n",
              "    </tr>\n",
              "    <tr>\n",
              "      <th>4</th>\n",
              "      <td>Radiation emergency #preparedness starts with ...</td>\n",
              "      <td>1</td>\n",
              "      <td>1.0</td>\n",
              "      <td>0.759741</td>\n",
              "    </tr>\n",
              "  </tbody>\n",
              "</table>\n",
              "</div>\n",
              "      <button class=\"colab-df-convert\" onclick=\"convertToInteractive('df-0afa7d6a-6937-452d-929f-641fe3e3006a')\"\n",
              "              title=\"Convert this dataframe to an interactive table.\"\n",
              "              style=\"display:none;\">\n",
              "        \n",
              "  <svg xmlns=\"http://www.w3.org/2000/svg\" height=\"24px\"viewBox=\"0 0 24 24\"\n",
              "       width=\"24px\">\n",
              "    <path d=\"M0 0h24v24H0V0z\" fill=\"none\"/>\n",
              "    <path d=\"M18.56 5.44l.94 2.06.94-2.06 2.06-.94-2.06-.94-.94-2.06-.94 2.06-2.06.94zm-11 1L8.5 8.5l.94-2.06 2.06-.94-2.06-.94L8.5 2.5l-.94 2.06-2.06.94zm10 10l.94 2.06.94-2.06 2.06-.94-2.06-.94-.94-2.06-.94 2.06-2.06.94z\"/><path d=\"M17.41 7.96l-1.37-1.37c-.4-.4-.92-.59-1.43-.59-.52 0-1.04.2-1.43.59L10.3 9.45l-7.72 7.72c-.78.78-.78 2.05 0 2.83L4 21.41c.39.39.9.59 1.41.59.51 0 1.02-.2 1.41-.59l7.78-7.78 2.81-2.81c.8-.78.8-2.07 0-2.86zM5.41 20L4 18.59l7.72-7.72 1.47 1.35L5.41 20z\"/>\n",
              "  </svg>\n",
              "      </button>\n",
              "      \n",
              "  <style>\n",
              "    .colab-df-container {\n",
              "      display:flex;\n",
              "      flex-wrap:wrap;\n",
              "      gap: 12px;\n",
              "    }\n",
              "\n",
              "    .colab-df-convert {\n",
              "      background-color: #E8F0FE;\n",
              "      border: none;\n",
              "      border-radius: 50%;\n",
              "      cursor: pointer;\n",
              "      display: none;\n",
              "      fill: #1967D2;\n",
              "      height: 32px;\n",
              "      padding: 0 0 0 0;\n",
              "      width: 32px;\n",
              "    }\n",
              "\n",
              "    .colab-df-convert:hover {\n",
              "      background-color: #E2EBFA;\n",
              "      box-shadow: 0px 1px 2px rgba(60, 64, 67, 0.3), 0px 1px 3px 1px rgba(60, 64, 67, 0.15);\n",
              "      fill: #174EA6;\n",
              "    }\n",
              "\n",
              "    [theme=dark] .colab-df-convert {\n",
              "      background-color: #3B4455;\n",
              "      fill: #D2E3FC;\n",
              "    }\n",
              "\n",
              "    [theme=dark] .colab-df-convert:hover {\n",
              "      background-color: #434B5C;\n",
              "      box-shadow: 0px 1px 3px 1px rgba(0, 0, 0, 0.15);\n",
              "      filter: drop-shadow(0px 1px 2px rgba(0, 0, 0, 0.3));\n",
              "      fill: #FFFFFF;\n",
              "    }\n",
              "  </style>\n",
              "\n",
              "      <script>\n",
              "        const buttonEl =\n",
              "          document.querySelector('#df-0afa7d6a-6937-452d-929f-641fe3e3006a button.colab-df-convert');\n",
              "        buttonEl.style.display =\n",
              "          google.colab.kernel.accessAllowed ? 'block' : 'none';\n",
              "\n",
              "        async function convertToInteractive(key) {\n",
              "          const element = document.querySelector('#df-0afa7d6a-6937-452d-929f-641fe3e3006a');\n",
              "          const dataTable =\n",
              "            await google.colab.kernel.invokeFunction('convertToInteractive',\n",
              "                                                     [key], {});\n",
              "          if (!dataTable) return;\n",
              "\n",
              "          const docLinkHtml = 'Like what you see? Visit the ' +\n",
              "            '<a target=\"_blank\" href=https://colab.research.google.com/notebooks/data_table.ipynb>data table notebook</a>'\n",
              "            + ' to learn more about interactive tables.';\n",
              "          element.innerHTML = '';\n",
              "          dataTable['output_type'] = 'display_data';\n",
              "          await google.colab.output.renderOutput(dataTable, element);\n",
              "          const docLink = document.createElement('div');\n",
              "          docLink.innerHTML = docLinkHtml;\n",
              "          element.appendChild(docLink);\n",
              "        }\n",
              "      </script>\n",
              "    </div>\n",
              "  </div>\n",
              "  "
            ]
          },
          "metadata": {},
          "execution_count": 205
        }
      ]
    },
    {
      "cell_type": "code",
      "source": [
        "# Find thw wrong predictions and sort by the prediction probabilities\n",
        "most_wrong = val_df[val_df[\"target\"] != val_df[\"pred\"]].sort_values(\"pred\")"
      ],
      "metadata": {
        "id": "Ytg8ah71pmk4"
      },
      "id": "Ytg8ah71pmk4",
      "execution_count": 206,
      "outputs": []
    },
    {
      "cell_type": "code",
      "source": [
        "most_wrong[:10]"
      ],
      "metadata": {
        "colab": {
          "base_uri": "https://localhost:8080/",
          "height": 581
        },
        "id": "VrYqzd_jqv0e",
        "outputId": "9d23e5af-f9d3-4075-c343-9e497d4cacd0"
      },
      "id": "VrYqzd_jqv0e",
      "execution_count": 207,
      "outputs": [
        {
          "output_type": "execute_result",
          "data": {
            "text/plain": [
              "                                                  text  target  pred  \\\n",
              "345  How to prepare your #property for a #storm:\\n\\...       1   0.0   \n",
              "352  @reriellechan HE WAS THE LICH KING'S FIRST CAS...       1   0.0   \n",
              "586  World War II book LIGHTNING JOE An Autobiograp...       1   0.0   \n",
              "333  The date for the release of EP03 DESOLATION is...       1   0.0   \n",
              "603  Tension In Bayelsa As Patience Jonathan Plans ...       1   0.0   \n",
              "613  Stupid women nearly collided into me today aft...       1   0.0   \n",
              "306  @Zak_Bagans this is Sabrina my dad rescued her...       1   0.0   \n",
              "617  #Metepec #Mexico - ?NIGHT DISASTER?...E(Oficia...       1   0.0   \n",
              "296  Would a paramedic really do that? Leave someon...       1   0.0   \n",
              "294  Lucas Duda is Ghost Rider. Not the Nic Cage ve...       1   0.0   \n",
              "\n",
              "     prediction_prob  \n",
              "345         0.178422  \n",
              "352         0.076918  \n",
              "586         0.137461  \n",
              "333         0.221382  \n",
              "603         0.490589  \n",
              "613         0.236263  \n",
              "306         0.103515  \n",
              "617         0.380915  \n",
              "296         0.282105  \n",
              "294         0.067803  "
            ],
            "text/html": [
              "\n",
              "  <div id=\"df-e418c5ed-52c3-4c50-b15c-b71f6a4be559\">\n",
              "    <div class=\"colab-df-container\">\n",
              "      <div>\n",
              "<style scoped>\n",
              "    .dataframe tbody tr th:only-of-type {\n",
              "        vertical-align: middle;\n",
              "    }\n",
              "\n",
              "    .dataframe tbody tr th {\n",
              "        vertical-align: top;\n",
              "    }\n",
              "\n",
              "    .dataframe thead th {\n",
              "        text-align: right;\n",
              "    }\n",
              "</style>\n",
              "<table border=\"1\" class=\"dataframe\">\n",
              "  <thead>\n",
              "    <tr style=\"text-align: right;\">\n",
              "      <th></th>\n",
              "      <th>text</th>\n",
              "      <th>target</th>\n",
              "      <th>pred</th>\n",
              "      <th>prediction_prob</th>\n",
              "    </tr>\n",
              "  </thead>\n",
              "  <tbody>\n",
              "    <tr>\n",
              "      <th>345</th>\n",
              "      <td>How to prepare your #property for a #storm:\\n\\...</td>\n",
              "      <td>1</td>\n",
              "      <td>0.0</td>\n",
              "      <td>0.178422</td>\n",
              "    </tr>\n",
              "    <tr>\n",
              "      <th>352</th>\n",
              "      <td>@reriellechan HE WAS THE LICH KING'S FIRST CAS...</td>\n",
              "      <td>1</td>\n",
              "      <td>0.0</td>\n",
              "      <td>0.076918</td>\n",
              "    </tr>\n",
              "    <tr>\n",
              "      <th>586</th>\n",
              "      <td>World War II book LIGHTNING JOE An Autobiograp...</td>\n",
              "      <td>1</td>\n",
              "      <td>0.0</td>\n",
              "      <td>0.137461</td>\n",
              "    </tr>\n",
              "    <tr>\n",
              "      <th>333</th>\n",
              "      <td>The date for the release of EP03 DESOLATION is...</td>\n",
              "      <td>1</td>\n",
              "      <td>0.0</td>\n",
              "      <td>0.221382</td>\n",
              "    </tr>\n",
              "    <tr>\n",
              "      <th>603</th>\n",
              "      <td>Tension In Bayelsa As Patience Jonathan Plans ...</td>\n",
              "      <td>1</td>\n",
              "      <td>0.0</td>\n",
              "      <td>0.490589</td>\n",
              "    </tr>\n",
              "    <tr>\n",
              "      <th>613</th>\n",
              "      <td>Stupid women nearly collided into me today aft...</td>\n",
              "      <td>1</td>\n",
              "      <td>0.0</td>\n",
              "      <td>0.236263</td>\n",
              "    </tr>\n",
              "    <tr>\n",
              "      <th>306</th>\n",
              "      <td>@Zak_Bagans this is Sabrina my dad rescued her...</td>\n",
              "      <td>1</td>\n",
              "      <td>0.0</td>\n",
              "      <td>0.103515</td>\n",
              "    </tr>\n",
              "    <tr>\n",
              "      <th>617</th>\n",
              "      <td>#Metepec #Mexico - ?NIGHT DISASTER?...E(Oficia...</td>\n",
              "      <td>1</td>\n",
              "      <td>0.0</td>\n",
              "      <td>0.380915</td>\n",
              "    </tr>\n",
              "    <tr>\n",
              "      <th>296</th>\n",
              "      <td>Would a paramedic really do that? Leave someon...</td>\n",
              "      <td>1</td>\n",
              "      <td>0.0</td>\n",
              "      <td>0.282105</td>\n",
              "    </tr>\n",
              "    <tr>\n",
              "      <th>294</th>\n",
              "      <td>Lucas Duda is Ghost Rider. Not the Nic Cage ve...</td>\n",
              "      <td>1</td>\n",
              "      <td>0.0</td>\n",
              "      <td>0.067803</td>\n",
              "    </tr>\n",
              "  </tbody>\n",
              "</table>\n",
              "</div>\n",
              "      <button class=\"colab-df-convert\" onclick=\"convertToInteractive('df-e418c5ed-52c3-4c50-b15c-b71f6a4be559')\"\n",
              "              title=\"Convert this dataframe to an interactive table.\"\n",
              "              style=\"display:none;\">\n",
              "        \n",
              "  <svg xmlns=\"http://www.w3.org/2000/svg\" height=\"24px\"viewBox=\"0 0 24 24\"\n",
              "       width=\"24px\">\n",
              "    <path d=\"M0 0h24v24H0V0z\" fill=\"none\"/>\n",
              "    <path d=\"M18.56 5.44l.94 2.06.94-2.06 2.06-.94-2.06-.94-.94-2.06-.94 2.06-2.06.94zm-11 1L8.5 8.5l.94-2.06 2.06-.94-2.06-.94L8.5 2.5l-.94 2.06-2.06.94zm10 10l.94 2.06.94-2.06 2.06-.94-2.06-.94-.94-2.06-.94 2.06-2.06.94z\"/><path d=\"M17.41 7.96l-1.37-1.37c-.4-.4-.92-.59-1.43-.59-.52 0-1.04.2-1.43.59L10.3 9.45l-7.72 7.72c-.78.78-.78 2.05 0 2.83L4 21.41c.39.39.9.59 1.41.59.51 0 1.02-.2 1.41-.59l7.78-7.78 2.81-2.81c.8-.78.8-2.07 0-2.86zM5.41 20L4 18.59l7.72-7.72 1.47 1.35L5.41 20z\"/>\n",
              "  </svg>\n",
              "      </button>\n",
              "      \n",
              "  <style>\n",
              "    .colab-df-container {\n",
              "      display:flex;\n",
              "      flex-wrap:wrap;\n",
              "      gap: 12px;\n",
              "    }\n",
              "\n",
              "    .colab-df-convert {\n",
              "      background-color: #E8F0FE;\n",
              "      border: none;\n",
              "      border-radius: 50%;\n",
              "      cursor: pointer;\n",
              "      display: none;\n",
              "      fill: #1967D2;\n",
              "      height: 32px;\n",
              "      padding: 0 0 0 0;\n",
              "      width: 32px;\n",
              "    }\n",
              "\n",
              "    .colab-df-convert:hover {\n",
              "      background-color: #E2EBFA;\n",
              "      box-shadow: 0px 1px 2px rgba(60, 64, 67, 0.3), 0px 1px 3px 1px rgba(60, 64, 67, 0.15);\n",
              "      fill: #174EA6;\n",
              "    }\n",
              "\n",
              "    [theme=dark] .colab-df-convert {\n",
              "      background-color: #3B4455;\n",
              "      fill: #D2E3FC;\n",
              "    }\n",
              "\n",
              "    [theme=dark] .colab-df-convert:hover {\n",
              "      background-color: #434B5C;\n",
              "      box-shadow: 0px 1px 3px 1px rgba(0, 0, 0, 0.15);\n",
              "      filter: drop-shadow(0px 1px 2px rgba(0, 0, 0, 0.3));\n",
              "      fill: #FFFFFF;\n",
              "    }\n",
              "  </style>\n",
              "\n",
              "      <script>\n",
              "        const buttonEl =\n",
              "          document.querySelector('#df-e418c5ed-52c3-4c50-b15c-b71f6a4be559 button.colab-df-convert');\n",
              "        buttonEl.style.display =\n",
              "          google.colab.kernel.accessAllowed ? 'block' : 'none';\n",
              "\n",
              "        async function convertToInteractive(key) {\n",
              "          const element = document.querySelector('#df-e418c5ed-52c3-4c50-b15c-b71f6a4be559');\n",
              "          const dataTable =\n",
              "            await google.colab.kernel.invokeFunction('convertToInteractive',\n",
              "                                                     [key], {});\n",
              "          if (!dataTable) return;\n",
              "\n",
              "          const docLinkHtml = 'Like what you see? Visit the ' +\n",
              "            '<a target=\"_blank\" href=https://colab.research.google.com/notebooks/data_table.ipynb>data table notebook</a>'\n",
              "            + ' to learn more about interactive tables.';\n",
              "          element.innerHTML = '';\n",
              "          dataTable['output_type'] = 'display_data';\n",
              "          await google.colab.output.renderOutput(dataTable, element);\n",
              "          const docLink = document.createElement('div');\n",
              "          docLink.innerHTML = docLinkHtml;\n",
              "          element.appendChild(docLink);\n",
              "        }\n",
              "      </script>\n",
              "    </div>\n",
              "  </div>\n",
              "  "
            ]
          },
          "metadata": {},
          "execution_count": 207
        }
      ]
    },
    {
      "cell_type": "code",
      "source": [
        "\"\"\"\n",
        "0 -- not disaster \n",
        "1 -- disaster\n",
        "\"\"\""
      ],
      "metadata": {
        "colab": {
          "base_uri": "https://localhost:8080/",
          "height": 35
        },
        "id": "JyDPaaJkqy6z",
        "outputId": "812f918a-3d9b-430c-b819-276516a0512f"
      },
      "id": "JyDPaaJkqy6z",
      "execution_count": 208,
      "outputs": [
        {
          "output_type": "execute_result",
          "data": {
            "text/plain": [
              "'\\n0 -- not disaster \\n1 -- disaster\\n'"
            ],
            "application/vnd.google.colaboratory.intrinsic+json": {
              "type": "string"
            }
          },
          "metadata": {},
          "execution_count": 208
        }
      ]
    },
    {
      "cell_type": "code",
      "source": [
        "most_wrong.tail()"
      ],
      "metadata": {
        "colab": {
          "base_uri": "https://localhost:8080/",
          "height": 337
        },
        "id": "O-10Dq00rCZb",
        "outputId": "8270ef80-5d0a-467e-b7e7-6ddb9462d6d3"
      },
      "id": "O-10Dq00rCZb",
      "execution_count": 209,
      "outputs": [
        {
          "output_type": "execute_result",
          "data": {
            "text/plain": [
              "                                                  text  target  pred  \\\n",
              "299  @LegacyOfTheSith @SagaciousSaber @Lordofbetray...       0   1.0   \n",
              "291  He made such a good point. White person coming...       0   1.0   \n",
              "285  @Azimel 'Screaming Mad Scientist deceased afte...       0   1.0   \n",
              "759  FedEx will no longer transport bioterror patho...       0   1.0   \n",
              "760  Crack in the path where I wiped out this morni...       0   1.0   \n",
              "\n",
              "     prediction_prob  \n",
              "299         0.553882  \n",
              "291         0.563367  \n",
              "285         0.628614  \n",
              "759         0.882016  \n",
              "760         0.657533  "
            ],
            "text/html": [
              "\n",
              "  <div id=\"df-16422b4e-d7f2-4c04-8dd2-5da9f1c8a349\">\n",
              "    <div class=\"colab-df-container\">\n",
              "      <div>\n",
              "<style scoped>\n",
              "    .dataframe tbody tr th:only-of-type {\n",
              "        vertical-align: middle;\n",
              "    }\n",
              "\n",
              "    .dataframe tbody tr th {\n",
              "        vertical-align: top;\n",
              "    }\n",
              "\n",
              "    .dataframe thead th {\n",
              "        text-align: right;\n",
              "    }\n",
              "</style>\n",
              "<table border=\"1\" class=\"dataframe\">\n",
              "  <thead>\n",
              "    <tr style=\"text-align: right;\">\n",
              "      <th></th>\n",
              "      <th>text</th>\n",
              "      <th>target</th>\n",
              "      <th>pred</th>\n",
              "      <th>prediction_prob</th>\n",
              "    </tr>\n",
              "  </thead>\n",
              "  <tbody>\n",
              "    <tr>\n",
              "      <th>299</th>\n",
              "      <td>@LegacyOfTheSith @SagaciousSaber @Lordofbetray...</td>\n",
              "      <td>0</td>\n",
              "      <td>1.0</td>\n",
              "      <td>0.553882</td>\n",
              "    </tr>\n",
              "    <tr>\n",
              "      <th>291</th>\n",
              "      <td>He made such a good point. White person coming...</td>\n",
              "      <td>0</td>\n",
              "      <td>1.0</td>\n",
              "      <td>0.563367</td>\n",
              "    </tr>\n",
              "    <tr>\n",
              "      <th>285</th>\n",
              "      <td>@Azimel 'Screaming Mad Scientist deceased afte...</td>\n",
              "      <td>0</td>\n",
              "      <td>1.0</td>\n",
              "      <td>0.628614</td>\n",
              "    </tr>\n",
              "    <tr>\n",
              "      <th>759</th>\n",
              "      <td>FedEx will no longer transport bioterror patho...</td>\n",
              "      <td>0</td>\n",
              "      <td>1.0</td>\n",
              "      <td>0.882016</td>\n",
              "    </tr>\n",
              "    <tr>\n",
              "      <th>760</th>\n",
              "      <td>Crack in the path where I wiped out this morni...</td>\n",
              "      <td>0</td>\n",
              "      <td>1.0</td>\n",
              "      <td>0.657533</td>\n",
              "    </tr>\n",
              "  </tbody>\n",
              "</table>\n",
              "</div>\n",
              "      <button class=\"colab-df-convert\" onclick=\"convertToInteractive('df-16422b4e-d7f2-4c04-8dd2-5da9f1c8a349')\"\n",
              "              title=\"Convert this dataframe to an interactive table.\"\n",
              "              style=\"display:none;\">\n",
              "        \n",
              "  <svg xmlns=\"http://www.w3.org/2000/svg\" height=\"24px\"viewBox=\"0 0 24 24\"\n",
              "       width=\"24px\">\n",
              "    <path d=\"M0 0h24v24H0V0z\" fill=\"none\"/>\n",
              "    <path d=\"M18.56 5.44l.94 2.06.94-2.06 2.06-.94-2.06-.94-.94-2.06-.94 2.06-2.06.94zm-11 1L8.5 8.5l.94-2.06 2.06-.94-2.06-.94L8.5 2.5l-.94 2.06-2.06.94zm10 10l.94 2.06.94-2.06 2.06-.94-2.06-.94-.94-2.06-.94 2.06-2.06.94z\"/><path d=\"M17.41 7.96l-1.37-1.37c-.4-.4-.92-.59-1.43-.59-.52 0-1.04.2-1.43.59L10.3 9.45l-7.72 7.72c-.78.78-.78 2.05 0 2.83L4 21.41c.39.39.9.59 1.41.59.51 0 1.02-.2 1.41-.59l7.78-7.78 2.81-2.81c.8-.78.8-2.07 0-2.86zM5.41 20L4 18.59l7.72-7.72 1.47 1.35L5.41 20z\"/>\n",
              "  </svg>\n",
              "      </button>\n",
              "      \n",
              "  <style>\n",
              "    .colab-df-container {\n",
              "      display:flex;\n",
              "      flex-wrap:wrap;\n",
              "      gap: 12px;\n",
              "    }\n",
              "\n",
              "    .colab-df-convert {\n",
              "      background-color: #E8F0FE;\n",
              "      border: none;\n",
              "      border-radius: 50%;\n",
              "      cursor: pointer;\n",
              "      display: none;\n",
              "      fill: #1967D2;\n",
              "      height: 32px;\n",
              "      padding: 0 0 0 0;\n",
              "      width: 32px;\n",
              "    }\n",
              "\n",
              "    .colab-df-convert:hover {\n",
              "      background-color: #E2EBFA;\n",
              "      box-shadow: 0px 1px 2px rgba(60, 64, 67, 0.3), 0px 1px 3px 1px rgba(60, 64, 67, 0.15);\n",
              "      fill: #174EA6;\n",
              "    }\n",
              "\n",
              "    [theme=dark] .colab-df-convert {\n",
              "      background-color: #3B4455;\n",
              "      fill: #D2E3FC;\n",
              "    }\n",
              "\n",
              "    [theme=dark] .colab-df-convert:hover {\n",
              "      background-color: #434B5C;\n",
              "      box-shadow: 0px 1px 3px 1px rgba(0, 0, 0, 0.15);\n",
              "      filter: drop-shadow(0px 1px 2px rgba(0, 0, 0, 0.3));\n",
              "      fill: #FFFFFF;\n",
              "    }\n",
              "  </style>\n",
              "\n",
              "      <script>\n",
              "        const buttonEl =\n",
              "          document.querySelector('#df-16422b4e-d7f2-4c04-8dd2-5da9f1c8a349 button.colab-df-convert');\n",
              "        buttonEl.style.display =\n",
              "          google.colab.kernel.accessAllowed ? 'block' : 'none';\n",
              "\n",
              "        async function convertToInteractive(key) {\n",
              "          const element = document.querySelector('#df-16422b4e-d7f2-4c04-8dd2-5da9f1c8a349');\n",
              "          const dataTable =\n",
              "            await google.colab.kernel.invokeFunction('convertToInteractive',\n",
              "                                                     [key], {});\n",
              "          if (!dataTable) return;\n",
              "\n",
              "          const docLinkHtml = 'Like what you see? Visit the ' +\n",
              "            '<a target=\"_blank\" href=https://colab.research.google.com/notebooks/data_table.ipynb>data table notebook</a>'\n",
              "            + ' to learn more about interactive tables.';\n",
              "          element.innerHTML = '';\n",
              "          dataTable['output_type'] = 'display_data';\n",
              "          await google.colab.output.renderOutput(dataTable, element);\n",
              "          const docLink = document.createElement('div');\n",
              "          docLink.innerHTML = docLinkHtml;\n",
              "          element.appendChild(docLink);\n",
              "        }\n",
              "      </script>\n",
              "    </div>\n",
              "  </div>\n",
              "  "
            ]
          },
          "metadata": {},
          "execution_count": 209
        }
      ]
    },
    {
      "cell_type": "code",
      "source": [
        "# checking the false positives\n",
        "for row in most_wrong[:10].itertuples():\n",
        "  _, text, target, pred, prediction_prob = row\n",
        "  print(f\"Target: {target}, Pred: {pred}, Prob: {prediction_prob}\")\n",
        "  print(f\"Text:\\n{text}\\n\")\n",
        "  print(\"----\\n\")"
      ],
      "metadata": {
        "colab": {
          "base_uri": "https://localhost:8080/"
        },
        "id": "mmahfNCIrX2Q",
        "outputId": "fbbb9a86-70ff-4fec-b5b6-1120da574b7f"
      },
      "id": "mmahfNCIrX2Q",
      "execution_count": 212,
      "outputs": [
        {
          "output_type": "stream",
          "name": "stdout",
          "text": [
            "Target: 1, Pred: 0.0, Prob: 0.17842212319374084\n",
            "Text:\n",
            "How to prepare your #property for a #storm:\n",
            "\n",
            "http://t.co/KhYqQsi6My http://t.co/G6Vs3XEinb\n",
            "\n",
            "----\n",
            "\n",
            "Target: 1, Pred: 0.0, Prob: 0.07691830396652222\n",
            "Text:\n",
            "@reriellechan HE WAS THE LICH KING'S FIRST CASUALTY BLOCK ME BACK I HATE YOU! http://t.co/0Gidg9U45J\n",
            "\n",
            "----\n",
            "\n",
            "Target: 1, Pred: 0.0, Prob: 0.13746079802513123\n",
            "Text:\n",
            "World War II book LIGHTNING JOE An Autobiography by General J. Lawton Collins http://t.co/R4khEH7iaf http://t.co/qSZgJfUutu\n",
            "\n",
            "----\n",
            "\n",
            "Target: 1, Pred: 0.0, Prob: 0.22138193249702454\n",
            "Text:\n",
            "The date for the release of EP03 DESOLATION is set. Stay tuned for more info while we finalise the schedule. #alt #electro #rock #comingsoon\n",
            "\n",
            "----\n",
            "\n",
            "Target: 1, Pred: 0.0, Prob: 0.49058860540390015\n",
            "Text:\n",
            "Tension In Bayelsa As Patience Jonathan Plans To Hijack APC PDP http://t.co/epABiNcZmJ http://t.co/1SgzGtgfw9\n",
            "\n",
            "----\n",
            "\n",
            "Target: 1, Pred: 0.0, Prob: 0.23626261949539185\n",
            "Text:\n",
            "Stupid women nearly collided into me today after she came out of a junction not looking. Still kept coming towards me till I beep my horn\n",
            "\n",
            "----\n",
            "\n",
            "Target: 1, Pred: 0.0, Prob: 0.10351529717445374\n",
            "Text:\n",
            "@Zak_Bagans this is Sabrina my dad rescued her from some dude who kept her in a cage. We've had her since I was 4 http://t.co/1k2PhQcuW8\n",
            "\n",
            "----\n",
            "\n",
            "Target: 1, Pred: 0.0, Prob: 0.3809145390987396\n",
            "Text:\n",
            "#Metepec #Mexico - ?NIGHT DISASTER?...E(Oficial) @ #NitClub #mÌ¼sica #mÌ¼sica http://t.co/WTfJF9jjzs\n",
            "\n",
            "----\n",
            "\n",
            "Target: 1, Pred: 0.0, Prob: 0.28210514783859253\n",
            "Text:\n",
            "Would a paramedic really do that? Leave someone inside a building that's about to collapse/blow up? @HalloIkBenWill\n",
            "\n",
            "----\n",
            "\n",
            "Target: 1, Pred: 0.0, Prob: 0.06780285388231277\n",
            "Text:\n",
            "Lucas Duda is Ghost Rider. Not the Nic Cage version but an actual 'engulfed in flames' badass. #Mets\n",
            "\n",
            "----\n",
            "\n"
          ]
        }
      ]
    },
    {
      "cell_type": "code",
      "source": [
        "test_df"
      ],
      "metadata": {
        "colab": {
          "base_uri": "https://localhost:8080/",
          "height": 503
        },
        "id": "U0CMFDjJsC3C",
        "outputId": "421f5c87-7c0f-4da3-e215-19985e1de1af"
      },
      "id": "U0CMFDjJsC3C",
      "execution_count": 213,
      "outputs": [
        {
          "output_type": "execute_result",
          "data": {
            "text/plain": [
              "         id keyword location  \\\n",
              "0         0     NaN      NaN   \n",
              "1         2     NaN      NaN   \n",
              "2         3     NaN      NaN   \n",
              "3         9     NaN      NaN   \n",
              "4        11     NaN      NaN   \n",
              "...     ...     ...      ...   \n",
              "3258  10861     NaN      NaN   \n",
              "3259  10865     NaN      NaN   \n",
              "3260  10868     NaN      NaN   \n",
              "3261  10874     NaN      NaN   \n",
              "3262  10875     NaN      NaN   \n",
              "\n",
              "                                                   text  \n",
              "0                    Just happened a terrible car crash  \n",
              "1     Heard about #earthquake is different cities, s...  \n",
              "2     there is a forest fire at spot pond, geese are...  \n",
              "3              Apocalypse lighting. #Spokane #wildfires  \n",
              "4         Typhoon Soudelor kills 28 in China and Taiwan  \n",
              "...                                                 ...  \n",
              "3258  EARTHQUAKE SAFETY LOS ANGELES ÛÒ SAFETY FASTE...  \n",
              "3259  Storm in RI worse than last hurricane. My city...  \n",
              "3260  Green Line derailment in Chicago http://t.co/U...  \n",
              "3261  MEG issues Hazardous Weather Outlook (HWO) htt...  \n",
              "3262  #CityofCalgary has activated its Municipal Eme...  \n",
              "\n",
              "[3263 rows x 4 columns]"
            ],
            "text/html": [
              "\n",
              "  <div id=\"df-53998353-9451-47ac-9f0e-f4732d047dd1\">\n",
              "    <div class=\"colab-df-container\">\n",
              "      <div>\n",
              "<style scoped>\n",
              "    .dataframe tbody tr th:only-of-type {\n",
              "        vertical-align: middle;\n",
              "    }\n",
              "\n",
              "    .dataframe tbody tr th {\n",
              "        vertical-align: top;\n",
              "    }\n",
              "\n",
              "    .dataframe thead th {\n",
              "        text-align: right;\n",
              "    }\n",
              "</style>\n",
              "<table border=\"1\" class=\"dataframe\">\n",
              "  <thead>\n",
              "    <tr style=\"text-align: right;\">\n",
              "      <th></th>\n",
              "      <th>id</th>\n",
              "      <th>keyword</th>\n",
              "      <th>location</th>\n",
              "      <th>text</th>\n",
              "    </tr>\n",
              "  </thead>\n",
              "  <tbody>\n",
              "    <tr>\n",
              "      <th>0</th>\n",
              "      <td>0</td>\n",
              "      <td>NaN</td>\n",
              "      <td>NaN</td>\n",
              "      <td>Just happened a terrible car crash</td>\n",
              "    </tr>\n",
              "    <tr>\n",
              "      <th>1</th>\n",
              "      <td>2</td>\n",
              "      <td>NaN</td>\n",
              "      <td>NaN</td>\n",
              "      <td>Heard about #earthquake is different cities, s...</td>\n",
              "    </tr>\n",
              "    <tr>\n",
              "      <th>2</th>\n",
              "      <td>3</td>\n",
              "      <td>NaN</td>\n",
              "      <td>NaN</td>\n",
              "      <td>there is a forest fire at spot pond, geese are...</td>\n",
              "    </tr>\n",
              "    <tr>\n",
              "      <th>3</th>\n",
              "      <td>9</td>\n",
              "      <td>NaN</td>\n",
              "      <td>NaN</td>\n",
              "      <td>Apocalypse lighting. #Spokane #wildfires</td>\n",
              "    </tr>\n",
              "    <tr>\n",
              "      <th>4</th>\n",
              "      <td>11</td>\n",
              "      <td>NaN</td>\n",
              "      <td>NaN</td>\n",
              "      <td>Typhoon Soudelor kills 28 in China and Taiwan</td>\n",
              "    </tr>\n",
              "    <tr>\n",
              "      <th>...</th>\n",
              "      <td>...</td>\n",
              "      <td>...</td>\n",
              "      <td>...</td>\n",
              "      <td>...</td>\n",
              "    </tr>\n",
              "    <tr>\n",
              "      <th>3258</th>\n",
              "      <td>10861</td>\n",
              "      <td>NaN</td>\n",
              "      <td>NaN</td>\n",
              "      <td>EARTHQUAKE SAFETY LOS ANGELES ÛÒ SAFETY FASTE...</td>\n",
              "    </tr>\n",
              "    <tr>\n",
              "      <th>3259</th>\n",
              "      <td>10865</td>\n",
              "      <td>NaN</td>\n",
              "      <td>NaN</td>\n",
              "      <td>Storm in RI worse than last hurricane. My city...</td>\n",
              "    </tr>\n",
              "    <tr>\n",
              "      <th>3260</th>\n",
              "      <td>10868</td>\n",
              "      <td>NaN</td>\n",
              "      <td>NaN</td>\n",
              "      <td>Green Line derailment in Chicago http://t.co/U...</td>\n",
              "    </tr>\n",
              "    <tr>\n",
              "      <th>3261</th>\n",
              "      <td>10874</td>\n",
              "      <td>NaN</td>\n",
              "      <td>NaN</td>\n",
              "      <td>MEG issues Hazardous Weather Outlook (HWO) htt...</td>\n",
              "    </tr>\n",
              "    <tr>\n",
              "      <th>3262</th>\n",
              "      <td>10875</td>\n",
              "      <td>NaN</td>\n",
              "      <td>NaN</td>\n",
              "      <td>#CityofCalgary has activated its Municipal Eme...</td>\n",
              "    </tr>\n",
              "  </tbody>\n",
              "</table>\n",
              "<p>3263 rows × 4 columns</p>\n",
              "</div>\n",
              "      <button class=\"colab-df-convert\" onclick=\"convertToInteractive('df-53998353-9451-47ac-9f0e-f4732d047dd1')\"\n",
              "              title=\"Convert this dataframe to an interactive table.\"\n",
              "              style=\"display:none;\">\n",
              "        \n",
              "  <svg xmlns=\"http://www.w3.org/2000/svg\" height=\"24px\"viewBox=\"0 0 24 24\"\n",
              "       width=\"24px\">\n",
              "    <path d=\"M0 0h24v24H0V0z\" fill=\"none\"/>\n",
              "    <path d=\"M18.56 5.44l.94 2.06.94-2.06 2.06-.94-2.06-.94-.94-2.06-.94 2.06-2.06.94zm-11 1L8.5 8.5l.94-2.06 2.06-.94-2.06-.94L8.5 2.5l-.94 2.06-2.06.94zm10 10l.94 2.06.94-2.06 2.06-.94-2.06-.94-.94-2.06-.94 2.06-2.06.94z\"/><path d=\"M17.41 7.96l-1.37-1.37c-.4-.4-.92-.59-1.43-.59-.52 0-1.04.2-1.43.59L10.3 9.45l-7.72 7.72c-.78.78-.78 2.05 0 2.83L4 21.41c.39.39.9.59 1.41.59.51 0 1.02-.2 1.41-.59l7.78-7.78 2.81-2.81c.8-.78.8-2.07 0-2.86zM5.41 20L4 18.59l7.72-7.72 1.47 1.35L5.41 20z\"/>\n",
              "  </svg>\n",
              "      </button>\n",
              "      \n",
              "  <style>\n",
              "    .colab-df-container {\n",
              "      display:flex;\n",
              "      flex-wrap:wrap;\n",
              "      gap: 12px;\n",
              "    }\n",
              "\n",
              "    .colab-df-convert {\n",
              "      background-color: #E8F0FE;\n",
              "      border: none;\n",
              "      border-radius: 50%;\n",
              "      cursor: pointer;\n",
              "      display: none;\n",
              "      fill: #1967D2;\n",
              "      height: 32px;\n",
              "      padding: 0 0 0 0;\n",
              "      width: 32px;\n",
              "    }\n",
              "\n",
              "    .colab-df-convert:hover {\n",
              "      background-color: #E2EBFA;\n",
              "      box-shadow: 0px 1px 2px rgba(60, 64, 67, 0.3), 0px 1px 3px 1px rgba(60, 64, 67, 0.15);\n",
              "      fill: #174EA6;\n",
              "    }\n",
              "\n",
              "    [theme=dark] .colab-df-convert {\n",
              "      background-color: #3B4455;\n",
              "      fill: #D2E3FC;\n",
              "    }\n",
              "\n",
              "    [theme=dark] .colab-df-convert:hover {\n",
              "      background-color: #434B5C;\n",
              "      box-shadow: 0px 1px 3px 1px rgba(0, 0, 0, 0.15);\n",
              "      filter: drop-shadow(0px 1px 2px rgba(0, 0, 0, 0.3));\n",
              "      fill: #FFFFFF;\n",
              "    }\n",
              "  </style>\n",
              "\n",
              "      <script>\n",
              "        const buttonEl =\n",
              "          document.querySelector('#df-53998353-9451-47ac-9f0e-f4732d047dd1 button.colab-df-convert');\n",
              "        buttonEl.style.display =\n",
              "          google.colab.kernel.accessAllowed ? 'block' : 'none';\n",
              "\n",
              "        async function convertToInteractive(key) {\n",
              "          const element = document.querySelector('#df-53998353-9451-47ac-9f0e-f4732d047dd1');\n",
              "          const dataTable =\n",
              "            await google.colab.kernel.invokeFunction('convertToInteractive',\n",
              "                                                     [key], {});\n",
              "          if (!dataTable) return;\n",
              "\n",
              "          const docLinkHtml = 'Like what you see? Visit the ' +\n",
              "            '<a target=\"_blank\" href=https://colab.research.google.com/notebooks/data_table.ipynb>data table notebook</a>'\n",
              "            + ' to learn more about interactive tables.';\n",
              "          element.innerHTML = '';\n",
              "          dataTable['output_type'] = 'display_data';\n",
              "          await google.colab.output.renderOutput(dataTable, element);\n",
              "          const docLink = document.createElement('div');\n",
              "          docLink.innerHTML = docLinkHtml;\n",
              "          element.appendChild(docLink);\n",
              "        }\n",
              "      </script>\n",
              "    </div>\n",
              "  </div>\n",
              "  "
            ]
          },
          "metadata": {},
          "execution_count": 213
        }
      ]
    },
    {
      "cell_type": "code",
      "source": [
        "# Visualizing the predictions on the test sentences\n",
        "test_sentences = test_df[\"text\"].to_list() \n",
        "test_samples = random.sample(test_sentences, 10)\n",
        "for test_sample in test_samples:\n",
        "  pred_prob =  tf.squeeze(model_6.predict([test_sample]))\n",
        "  print(f\"Pred: {int(pred)}, Prob: {pred_prob}\")\n",
        "  print(f\"Text:\\n{test_sample}\\n\")\n",
        "  print(\"-----------\\n\")"
      ],
      "metadata": {
        "colab": {
          "base_uri": "https://localhost:8080/"
        },
        "id": "S8k7pqPZtJrp",
        "outputId": "8aed5179-f181-45d9-d699-d43fde813f80"
      },
      "id": "S8k7pqPZtJrp",
      "execution_count": 215,
      "outputs": [
        {
          "output_type": "stream",
          "name": "stdout",
          "text": [
            "Pred: 0, Prob: 0.08563181012868881\n",
            "Text:\n",
            "?????? FREE!!! ÛÏThis book will blow your mindÛ_Û ??????\n",
            "\n",
            "'Suspense danger anger love and (most importantly)... http://t.co/nzN5nTPn75\n",
            "\n",
            "-----------\n",
            "\n",
            "Pred: 0, Prob: 0.3286467492580414\n",
            "Text:\n",
            "The move Saturday --&gt; #Mirage! 400 N. West st. Raleigh NC 21+ http://t.co/bXdaTWjNHS Tickets at: http://t.co/7hAnPcr5rK\n",
            "\n",
            "-----------\n",
            "\n",
            "Pred: 0, Prob: 0.7717787027359009\n",
            "Text:\n",
            "#Fracking #Ecocide Eyewitness to Extreme Weather: 11 Social Media Posts that Show Just How Crazy T... http://t.co/dEdDH8Rme8 #Revolution\n",
            "\n",
            "-----------\n",
            "\n",
            "Pred: 0, Prob: 0.25101813673973083\n",
            "Text:\n",
            "'Behold your house is being left to you desolate!' (Matthew 23:38 NASB)\n",
            "\n",
            "-----------\n",
            "\n",
            "Pred: 0, Prob: 0.26705846190452576\n",
            "Text:\n",
            "@st3ph007 do you think the pedagogy/practice is more important than the environment? #BFC630NZ walls can be 'flattened' in many ways\n",
            "\n",
            "-----------\n",
            "\n",
            "Pred: 0, Prob: 0.669942319393158\n",
            "Text:\n",
            "Be safe and be prepare from emergency kits to evacuation. Alertness esp women and children who are also @gmanews  https://t.co/3GALBowItN\n",
            "\n",
            "-----------\n",
            "\n",
            "Pred: 0, Prob: 0.9882493019104004\n",
            "Text:\n",
            "Debris Found in Indian Ocean could be Malaysia Flight 370! http://t.co/VUoJPrKUAX\n",
            "\n",
            "-----------\n",
            "\n",
            "Pred: 0, Prob: 0.26757609844207764\n",
            "Text:\n",
            "We all knew Cain wasn't going to die... It's either Val or someone is gonna collapse later on... #Emmerdale #SummerFate\n",
            "\n",
            "-----------\n",
            "\n",
            "Pred: 0, Prob: 0.7588724493980408\n",
            "Text:\n",
            "IF SUICIDE BOMBING WASTHE SMARTEST THING2 DO FOR ALLAH/GODJESUS/THE HOLY PROPHET MUHAMMAD COULD HAVE KILLEDSOMEBODY? http://t.co/tGfWuVVHxj\n",
            "\n",
            "-----------\n",
            "\n",
            "Pred: 0, Prob: 0.18566147983074188\n",
            "Text:\n",
            "@ChelseaVPeretti's bit on @meltdown_show was also gold.\n",
            "\n",
            "-----------\n",
            "\n"
          ]
        }
      ]
    },
    {
      "cell_type": "code",
      "source": [
        "# Speed/Score tradeoff"
      ],
      "metadata": {
        "id": "DV25PT3Ivd4U"
      },
      "id": "DV25PT3Ivd4U",
      "execution_count": 216,
      "outputs": []
    },
    {
      "cell_type": "code",
      "source": [
        "import time\n",
        "\n",
        "def prediction_timer(model, samples):\n",
        "  start =  time.perf_counter()\n",
        "  model.predict(samples)\n",
        "  end = time.perf_counter()\n",
        "  total_time = end-start \n",
        "  time_per_pred = total_time/len(samples)\n",
        "  return total_time, time_per_pred"
      ],
      "metadata": {
        "id": "DFk2r_IMv1w_"
      },
      "id": "DFk2r_IMv1w_",
      "execution_count": 217,
      "outputs": []
    },
    {
      "cell_type": "code",
      "source": [
        "model_6_total_pred_time, model_6_time_per_pred = prediction_timer(model=model_6,\n",
        "                                                            samples=val_sentences)\n",
        "model_6_total_pred_time, model_6_time_per_pred"
      ],
      "metadata": {
        "colab": {
          "base_uri": "https://localhost:8080/"
        },
        "id": "KIenvacaxOPB",
        "outputId": "1ead52fb-8bf7-4627-c3c4-2e7ac451fb68"
      },
      "id": "KIenvacaxOPB",
      "execution_count": 219,
      "outputs": [
        {
          "output_type": "execute_result",
          "data": {
            "text/plain": [
              "(0.8883599649998359, 0.0011658267257215694)"
            ]
          },
          "metadata": {},
          "execution_count": 219
        }
      ]
    },
    {
      "cell_type": "code",
      "source": [
        "baseline_total_pred_time, baseline_total_per_pred = prediction_timer(model=model_0,\n",
        "                                                                     samples=val_sentences)\n",
        "baseline_total_pred_time , baseline_total_per_pred"
      ],
      "metadata": {
        "colab": {
          "base_uri": "https://localhost:8080/"
        },
        "id": "5CFbBwDgxknn",
        "outputId": "17ff7e10-8437-414d-d9f3-65581e47de96"
      },
      "id": "5CFbBwDgxknn",
      "execution_count": 221,
      "outputs": [
        {
          "output_type": "execute_result",
          "data": {
            "text/plain": [
              "(0.07933067900012247, 0.00010410850262483264)"
            ]
          },
          "metadata": {},
          "execution_count": 221
        }
      ]
    },
    {
      "cell_type": "code",
      "source": [
        "# Visualizing time\n",
        "import matplotlib.pyplot as plt\n",
        "\n",
        "plt.figure(figsize=(10,7))\n",
        "plt.scatter(baseline_total_per_pred, baseline_results[\"f1\"], label=\"baseline\")\n",
        "plt.scatter(model_6_time_per_pred, model_6_res[\"f1\"], label=\"tf-hub-model_6\")\n",
        "plt.legend()\n",
        "plt.title(\"F1-score versus time per prediction\")\n",
        "plt.xlabel(\"Time per prediction\")\n",
        "plt.ylabel(\"F1 score\")"
      ],
      "metadata": {
        "colab": {
          "base_uri": "https://localhost:8080/",
          "height": 474
        },
        "id": "VCQyt-STyCyS",
        "outputId": "e923c6fa-2f3e-416f-b3d4-a94d4f977b91"
      },
      "id": "VCQyt-STyCyS",
      "execution_count": 224,
      "outputs": [
        {
          "output_type": "execute_result",
          "data": {
            "text/plain": [
              "Text(0, 0.5, 'F1 score')"
            ]
          },
          "metadata": {},
          "execution_count": 224
        },
        {
          "output_type": "display_data",
          "data": {
            "text/plain": [
              "<Figure size 720x504 with 1 Axes>"
            ],
            "image/png": "[encoded data removed]"
          },
          "metadata": {
            "needs_background": "light"
          }
        }
      ]
    },
    {
      "cell_type": "code",
      "source": [
        ""
      ],
      "metadata": {
        "id": "Mb1v_SpmzIej"
      },
      "id": "Mb1v_SpmzIej",
      "execution_count": null,
      "outputs": []
    }
  ],
  "metadata": {
    "kernelspec": {
      "display_name": "Python 3 (ipykernel)",
      "language": "python",
      "name": "python3"
    },
    "language_info": {
      "codemirror_mode": {
        "name": "ipython",
        "version": 3
      },
      "file_extension": ".py",
      "mimetype": "text/x-python",
      "name": "python",
      "nbconvert_exporter": "python",
      "pygments_lexer": "ipython3",
      "version": "3.9.12"
    },
    "colab": {
      "name": "NLP-reference-notes.ipynb",
      "provenance": []
    },
    "accelerator": "GPU",
    "gpuClass": "standard"
  },
  "nbformat": 4,
  "nbformat_minor": 5
}