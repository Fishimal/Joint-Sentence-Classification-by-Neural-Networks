{
 "cells": [
  {
   "cell_type": "code",
   "execution_count": 1,
   "id": "558da971",
   "metadata": {},
   "outputs": [],
   "source": [
    "import torch\n",
    "import numpy as np\n",
    "import os\n",
    "import torch.nn as nn\n",
    "import matplotlib.pyplot as plt\n",
    "import torch.nn.functional as F\n",
    "import torch.optim as optim"
   ]
  },
  {
   "cell_type": "code",
   "execution_count": 2,
   "id": "b8ff3f91",
   "metadata": {},
   "outputs": [
    {
     "name": "stdout",
     "output_type": "stream",
     "text": [
      "tensor([2, 2, 1])\n"
     ]
    }
   ],
   "source": [
    "# Torch tensors\n",
    "# Defining a one dimensional tensor\n",
    "a = torch.tensor([2,2,1])\n",
    "print(a)"
   ]
  },
  {
   "cell_type": "code",
   "execution_count": 3,
   "id": "5a2afe69",
   "metadata": {},
   "outputs": [
    {
     "name": "stdout",
     "output_type": "stream",
     "text": [
      "tensor([[1, 2, 3],\n",
      "        [4, 5, 6],\n",
      "        [7, 8, 9]])\n"
     ]
    }
   ],
   "source": [
    "# Defining a two dimensional tensor\n",
    "b = torch.tensor([[1,2,3],[4,5,6],[7,8,9]])\n",
    "print(b)"
   ]
  },
  {
   "cell_type": "code",
   "execution_count": 4,
   "id": "597d2a36",
   "metadata": {},
   "outputs": [
    {
     "name": "stdout",
     "output_type": "stream",
     "text": [
      "torch.Size([3])\n",
      "torch.Size([3, 3])\n",
      "torch.Size([3])\n",
      "torch.Size([3, 3])\n"
     ]
    }
   ],
   "source": [
    "# The size of the tensors \n",
    "print(a.shape)\n",
    "print(b.shape)\n",
    "print(a.size())\n",
    "print(b.size())"
   ]
  },
  {
   "cell_type": "code",
   "execution_count": 5,
   "id": "499cda29",
   "metadata": {},
   "outputs": [
    {
     "name": "stdout",
     "output_type": "stream",
     "text": [
      "3\n"
     ]
    }
   ],
   "source": [
    "#  Getting the Height/rows in b\n",
    "print(b.shape[0])"
   ]
  },
  {
   "cell_type": "code",
   "execution_count": 6,
   "id": "c549e730",
   "metadata": {},
   "outputs": [],
   "source": [
    "# Defining different datatypes of tensors\n",
    "# Float\n",
    "flo = torch.tensor([[1,2],[3,4]], dtype=torch.float)\n",
    "doub = torch.tensor([1,2], dtype=torch.double)"
   ]
  },
  {
   "cell_type": "code",
   "execution_count": 7,
   "id": "4754f736",
   "metadata": {},
   "outputs": [
    {
     "name": "stdout",
     "output_type": "stream",
     "text": [
      "torch.float32\n",
      "torch.float64\n"
     ]
    }
   ],
   "source": [
    "# Getting the datatypes for the tensors\n",
    "print(flo.dtype)\n",
    "print(doub.dtype)"
   ]
  },
  {
   "cell_type": "code",
   "execution_count": 8,
   "id": "3c21a216",
   "metadata": {},
   "outputs": [
    {
     "name": "stdout",
     "output_type": "stream",
     "text": [
      "tensor(2.5000)\n",
      "tensor(1.2910)\n"
     ]
    }
   ],
   "source": [
    "# Fetching the mean and the standard deviation of a tensor\n",
    "print(flo.mean())\n",
    "print(flo.std())"
   ]
  },
  {
   "cell_type": "code",
   "execution_count": 9,
   "id": "13d78e89",
   "metadata": {},
   "outputs": [
    {
     "name": "stdout",
     "output_type": "stream",
     "text": [
      "tensor([[1],\n",
      "        [2],\n",
      "        [3],\n",
      "        [4],\n",
      "        [5],\n",
      "        [6],\n",
      "        [7],\n",
      "        [8],\n",
      "        [9]])\n",
      "tensor([1, 2, 3, 4, 5, 6, 7, 8, 9])\n",
      "\n",
      " Tensor B after assigning new shape tensor([[1, 2, 3, 4, 5, 6, 7, 8, 9]])\n",
      "\n",
      " The shape of tensor B is torch.Size([1, 9])\n",
      "tensor([[[ 1.6023e-01,  1.5750e+00,  6.5956e-01, -2.5493e+00],\n",
      "         [ 5.5853e-01,  4.3019e-01, -5.2693e-01,  1.1088e+00],\n",
      "         [ 2.0028e+00, -1.9958e-01, -1.1857e+00, -9.9185e-02]],\n",
      "\n",
      "        [[ 1.8335e+00,  3.7628e-01, -6.3941e-01,  1.9322e-01],\n",
      "         [-1.7903e-03, -2.7687e-01,  7.0623e-02,  1.8332e+00],\n",
      "         [-1.5487e-01,  2.2725e-01,  2.2650e+00, -1.0756e+00]]])\n",
      "tensor([[ 1.6023e-01,  1.5750e+00,  6.5956e-01, -2.5493e+00,  5.5853e-01,\n",
      "          4.3019e-01, -5.2693e-01,  1.1088e+00,  2.0028e+00, -1.9958e-01,\n",
      "         -1.1857e+00, -9.9185e-02],\n",
      "        [ 1.8335e+00,  3.7628e-01, -6.3941e-01,  1.9322e-01, -1.7903e-03,\n",
      "         -2.7687e-01,  7.0623e-02,  1.8332e+00, -1.5487e-01,  2.2725e-01,\n",
      "          2.2650e+00, -1.0756e+00]])\n",
      "tensor([[ 1.6023e-01,  1.5750e+00,  6.5956e-01, -2.5493e+00,  5.5853e-01,\n",
      "          4.3019e-01, -5.2693e-01,  1.1088e+00,  2.0028e+00, -1.9958e-01,\n",
      "         -1.1857e+00, -9.9185e-02],\n",
      "        [ 1.8335e+00,  3.7628e-01, -6.3941e-01,  1.9322e-01, -1.7903e-03,\n",
      "         -2.7687e-01,  7.0623e-02,  1.8332e+00, -1.5487e-01,  2.2725e-01,\n",
      "          2.2650e+00, -1.0756e+00]])\n"
     ]
    }
   ],
   "source": [
    "# Reshaping the tensors\n",
    "# If one of the given dimension is given -1 then the size can be inferred which means if for \n",
    "# it is given -1,3 then python will find our which nos of other dimensions are required is to satisfy x,-3\n",
    "# Pytorch will find out the x\n",
    "\n",
    "print(b.view(-1,1))\n",
    "print(b.view(9))\n",
    "\n",
    "# Assigning b a new shape\n",
    "b = b.view(1,-1)\n",
    "print(\"\\n Tensor B after assigning new shape {}\".format(b))\n",
    "print(\"\\n The shape of tensor B is {}\".format(b.shape))\n",
    "\n",
    "# Creating a 3D tensor with 2 channels 3 rows and 2 columns\n",
    "thre_dm = torch.randn(2,3,4)\n",
    "print(thre_dm)\n",
    "print(thre_dm.view(2,12))\n",
    "print(thre_dm.view(2,-1))"
   ]
  },
  {
   "cell_type": "code",
   "execution_count": 10,
   "id": "af9266d1",
   "metadata": {},
   "outputs": [
    {
     "name": "stdout",
     "output_type": "stream",
     "text": [
      "tensor([[0.0670, 0.5547, 0.9140, 0.8071],\n",
      "        [0.5841, 0.4296, 0.7281, 0.2260],\n",
      "        [0.1264, 0.6269, 0.7978, 0.3751],\n",
      "        [0.5553, 0.8029, 0.6848, 0.9476]])\n"
     ]
    }
   ],
   "source": [
    "# Creating a matrix with random nos in a range of 0 and 1\n",
    "rand = torch.rand(4,4)\n",
    "print(rand)"
   ]
  },
  {
   "cell_type": "code",
   "execution_count": 11,
   "id": "df9c4a3d",
   "metadata": {},
   "outputs": [
    {
     "name": "stdout",
     "output_type": "stream",
     "text": [
      "tensor([[-0.6829,  1.0833,  0.3505,  1.4581],\n",
      "        [ 0.6012,  0.1172, -0.8787,  0.9079],\n",
      "        [ 1.9514,  0.6193, -0.2054,  0.2889],\n",
      "        [ 0.3713,  0.0578, -0.4878,  1.0025]])\n",
      "torch.float32\n"
     ]
    }
   ],
   "source": [
    "# Creating a matrix with random nos taken from a normal distribution with mean 0 and variance 1\n",
    "rand = torch.randn(4,4)\n",
    "print(rand)\n",
    "print(rand.dtype)"
   ]
  },
  {
   "cell_type": "code",
   "execution_count": 12,
   "id": "3d620ea3",
   "metadata": {},
   "outputs": [
    {
     "name": "stdout",
     "output_type": "stream",
     "text": [
      "tensor([8, 6, 9, 6, 7])\n",
      "torch.int64\n"
     ]
    }
   ],
   "source": [
    "# Creating a array of 5 random integers from values between 6 and 9 exclusive of 10\n",
    "in_arr = torch.randint(6,10, (5,))\n",
    "print(in_arr)\n",
    "print(in_arr.dtype)"
   ]
  },
  {
   "cell_type": "code",
   "execution_count": 13,
   "id": "71f6a8e3",
   "metadata": {},
   "outputs": [
    {
     "name": "stdout",
     "output_type": "stream",
     "text": [
      "tensor([[9, 8, 9],\n",
      "        [8, 8, 7],\n",
      "        [7, 6, 8]])\n",
      "torch.int64\n"
     ]
    }
   ],
   "source": [
    "# Creating a 2d array or matrix of size 3x3 filled with random integers from values between 6 and 9\n",
    "in_arr = torch.randint(6,10, (3,3))\n",
    "print(in_arr)\n",
    "print(in_arr.dtype)"
   ]
  },
  {
   "cell_type": "code",
   "execution_count": 14,
   "id": "c374d684",
   "metadata": {},
   "outputs": [
    {
     "name": "stdout",
     "output_type": "stream",
     "text": [
      "9\n"
     ]
    }
   ],
   "source": [
    "# Fetching the nos of the elements in the above matrix\n",
    "print(torch.numel(in_arr))"
   ]
  },
  {
   "cell_type": "code",
   "execution_count": 15,
   "id": "28e9a853",
   "metadata": {},
   "outputs": [
    {
     "name": "stdout",
     "output_type": "stream",
     "text": [
      "tensor([[0, 0, 0],\n",
      "        [0, 0, 0],\n",
      "        [0, 0, 0]])\n",
      "tensor([[1., 1., 1.],\n",
      "        [1., 1., 1.],\n",
      "        [1., 1., 1.]])\n",
      "torch.float32\n"
     ]
    }
   ],
   "source": [
    "# Creating a 3x3 matrix of zeros of dtype long\n",
    "z = torch.zeros(3,3, dtype=torch.long)\n",
    "print(z)\n",
    "# Creating a 3x3 matrix of ones\n",
    "x = torch.ones(3,3)\n",
    "print(x)\n",
    "print(x.dtype)"
   ]
  },
  {
   "cell_type": "code",
   "execution_count": 16,
   "id": "42d35ccc",
   "metadata": {},
   "outputs": [
    {
     "name": "stdout",
     "output_type": "stream",
     "text": [
      "tensor([[-0.3439, -0.8429, -0.8362],\n",
      "        [-0.3423, -0.9977, -0.0550],\n",
      "        [-0.0497,  1.2465, -0.0767]], dtype=torch.float64)\n",
      "tensor([[0.6561, 0.1571, 0.1638],\n",
      "        [0.6577, 0.0023, 0.9450],\n",
      "        [0.9503, 2.2465, 0.9233]], dtype=torch.float64)\n"
     ]
    },
    {
     "data": {
      "text/plain": [
       "tensor([[0.6561, 0.1571, 0.1638],\n",
       "        [0.6577, 0.0023, 0.9450],\n",
       "        [0.9503, 2.2465, 0.9233]])"
      ]
     },
     "execution_count": 16,
     "metadata": {},
     "output_type": "execute_result"
    }
   ],
   "source": [
    "# Converting the tensors data type\n",
    "xlike = torch.randn_like(x, dtype=torch.double)\n",
    "print(xlike)\n",
    "\n",
    "# Adding two tensors \n",
    "summation = torch.add(x,xlike)\n",
    "print(summation)\n",
    "\n",
    "# Inplace summation\n",
    "x.add_(xlike)"
   ]
  },
  {
   "cell_type": "code",
   "execution_count": 17,
   "id": "40b36e08",
   "metadata": {},
   "outputs": [
    {
     "name": "stdout",
     "output_type": "stream",
     "text": [
      "tensor([[0.6561, 0.1571, 0.1638],\n",
      "        [0.6577, 0.0023, 0.9450]])\n",
      "tensor([[0.6561, 0.1571],\n",
      "        [0.6577, 0.0023],\n",
      "        [0.9503, 2.2465]])\n",
      "tensor([[0.6561, 0.1571],\n",
      "        [0.6577, 0.0023],\n",
      "        [0.9503, 2.2465]])\n",
      "2.246495008468628\n",
      "tensor([0.9503, 2.2465, 0.9233])\n"
     ]
    }
   ],
   "source": [
    "# Slicing tensors\n",
    "print(x[:-1])\n",
    "print(x[:,:2])\n",
    "u = x[:,:2]\n",
    "print(u)\n",
    "u = x[2,1]\n",
    "print(u.item())\n",
    "print(x[2,:])"
   ]
  },
  {
   "cell_type": "code",
   "execution_count": 18,
   "id": "7c7685b6",
   "metadata": {},
   "outputs": [
    {
     "name": "stdout",
     "output_type": "stream",
     "text": [
      "tensor([1., 1., 1., 1., 1.])\n",
      "[1. 1. 1. 1. 1.]\n",
      "tensor([2., 2., 2., 2., 2.])\n",
      "[2. 2. 2. 2. 2.]\n"
     ]
    }
   ],
   "source": [
    "# Converting a torch tensor to a numpy array\n",
    "a = torch.ones(5)\n",
    "print(a)\n",
    "b = a.numpy()\n",
    "print(b)\n",
    "a.add_(1)\n",
    "# Here we can notice as soon as we perform any operation in the torch tensor, then numpy array also gets affected\n",
    "# This is called the numpy bridge\n",
    "print(a)\n",
    "print(b)"
   ]
  },
  {
   "cell_type": "code",
   "execution_count": 19,
   "id": "9f708933",
   "metadata": {},
   "outputs": [
    {
     "name": "stdout",
     "output_type": "stream",
     "text": [
      "[2. 2.]\n",
      "tensor([2., 2.], dtype=torch.float64)\n"
     ]
    }
   ],
   "source": [
    "# Converting a numnpy array to a torch tensor\n",
    "# Same thing we will also have a numpy bridge here\n",
    "a = np.ones(2)\n",
    "b = torch.from_numpy(a)\n",
    "np.add(a, 1, out=a)\n",
    "print(a)\n",
    "print(b)"
   ]
  },
  {
   "cell_type": "code",
   "execution_count": 20,
   "id": "892ee763",
   "metadata": {},
   "outputs": [
    {
     "name": "stdout",
     "output_type": "stream",
     "text": [
      "tensor([[0.6561, 0.1571, 0.1638],\n",
      "        [0.6577, 0.0023, 0.9450],\n",
      "        [0.9503, 2.2465, 0.9233]], device='cuda:0')\n"
     ]
    }
   ],
   "source": [
    "# Moving the tensors to cuda\n",
    "\n",
    "x = x.cuda()\n",
    "os.system('CUDA_LAUNCH_BLOCKING=1')\n",
    "print(x)"
   ]
  },
  {
   "cell_type": "code",
   "execution_count": 21,
   "id": "78ebeb08",
   "metadata": {},
   "outputs": [
    {
     "name": "stdout",
     "output_type": "stream",
     "text": [
      "tensor([2., 2.], device='cuda:0', dtype=torch.float64)\n"
     ]
    }
   ],
   "source": [
    "if torch.cuda.is_available():\n",
    "    add_sum = b.cuda()\n",
    "    print(add_sum)"
   ]
  },
  {
   "cell_type": "code",
   "execution_count": 22,
   "id": "d77acc36",
   "metadata": {},
   "outputs": [
    {
     "name": "stdout",
     "output_type": "stream",
     "text": [
      "tensor([2, 3, 4, 5, 6]) torch.int64\n"
     ]
    }
   ],
   "source": [
    "# Converting a list to a tensor\n",
    "ls = [2,3,4,5,6]\n",
    "to_ls = torch.tensor(ls)\n",
    "print(to_ls, to_ls.dtype)"
   ]
  },
  {
   "cell_type": "code",
   "execution_count": 23,
   "id": "4b152339",
   "metadata": {},
   "outputs": [
    {
     "name": "stdout",
     "output_type": "stream",
     "text": [
      "tensor([[-0.1050, -0.3182, -2.2723, -0.3760,  1.3621],\n",
      "        [ 1.1568, -0.0748,  0.5863,  0.3867, -1.1931],\n",
      "        [-0.7915,  0.0044,  0.8527, -0.7529,  0.3994],\n",
      "        [ 0.6735,  0.7433,  1.4823, -0.2562, -0.1389],\n",
      "        [-0.2914, -0.1774, -0.7977, -0.0773,  1.0795]])\n",
      "tensor([[1.4740, 1.8715, 0.1512],\n",
      "        [0.4369, 1.0803, 3.3154]])\n",
      "tensor([[ 1.4466,  0.7444,  0.1113,  1.1169, -0.3892],\n",
      "        [ 0.2282,  0.3581, -0.8974,  1.4496, -1.0758]])\n",
      "tensor([[ 1.4740,  1.8715,  0.1512,  1.4466,  0.7444,  0.1113,  1.1169, -0.3892],\n",
      "        [ 0.4369,  1.0803,  3.3154,  0.2282,  0.3581, -0.8974,  1.4496, -1.0758]])\n"
     ]
    }
   ],
   "source": [
    "# Concatenating tensors\n",
    "f1 = torch.randn(2,5)\n",
    "t2 = torch.randn(3,5)\n",
    "# Concatenating along rows\n",
    "con1 = torch.cat([f1, t2])\n",
    "print(con1)\n",
    "f2 = torch.randn(2,3)\n",
    "print(f2)\n",
    "f3 = torch.randn(2,5)\n",
    "print(f3)\n",
    "# Concatenating along 1 dim [columns]\n",
    "con3 = torch.cat([f2,f3], 1)\n",
    "print(con3)"
   ]
  },
  {
   "cell_type": "code",
   "execution_count": 24,
   "id": "a8f8f568",
   "metadata": {},
   "outputs": [
    {
     "name": "stdout",
     "output_type": "stream",
     "text": [
      "tensor([[1, 2, 3, 4, 5]])\n",
      "torch.Size([1, 5])\n",
      "tensor([[1],\n",
      "        [2],\n",
      "        [3],\n",
      "        [4],\n",
      "        [5]])\n",
      "torch.Size([5, 1])\n",
      "tensor([[[-0.0251,  0.0930, -0.6361,  0.9937],\n",
      "         [-0.3481,  1.6279,  2.4601, -0.2263],\n",
      "         [ 3.7515,  1.6264,  1.3808,  1.6174]],\n",
      "\n",
      "        [[ 0.6306,  0.4608,  0.3728,  1.9986],\n",
      "         [-0.3849, -1.3489, -0.0132,  1.4612],\n",
      "         [ 0.1159,  0.1843,  0.9930, -0.9553]]])\n",
      "tensor([[-0.6361,  2.4601,  1.3808],\n",
      "        [ 0.3728, -0.0132,  0.9930]])\n",
      "torch.Size([2, 3])\n",
      "tensor([[[-0.6361],\n",
      "         [ 2.4601],\n",
      "         [ 1.3808]],\n",
      "\n",
      "        [[ 0.3728],\n",
      "         [-0.0132],\n",
      "         [ 0.9930]]])\n",
      "torch.Size([2, 3, 1])\n"
     ]
    }
   ],
   "source": [
    "# Adding dimensions to the tensors\n",
    "ten1 = torch.tensor([1,2,3,4,5])\n",
    "ten2 = torch.unsqueeze(ten1, 0)\n",
    "print(ten2)\n",
    "print(ten2.shape)\n",
    "ten3 = torch.unsqueeze(ten1, 1)\n",
    "print(ten3)\n",
    "print(ten3.shape)\n",
    "ten4 = torch.randn(2,3,4)\n",
    "print(ten4)\n",
    "tenc = ten4[:,:,2]\n",
    "print(tenc)\n",
    "print(tenc.shape)\n",
    "tend = torch.unsqueeze(tenc, 2)\n",
    "print(tend)\n",
    "print(tend.shape)"
   ]
  },
  {
   "cell_type": "code",
   "execution_count": 25,
   "id": "d7d31550",
   "metadata": {},
   "outputs": [
    {
     "name": "stdout",
     "output_type": "stream",
     "text": [
      "tensor([5., 7., 9.], grad_fn=<AddBackward0>)\n",
      "<AddBackward0 object at 0x7fc128202c70>\n",
      "tensor(21., grad_fn=<SumBackward0>)\n",
      "<SumBackward0 object at 0x7fc128198d90>\n"
     ]
    }
   ],
   "source": [
    "# Autograd\n",
    "\n",
    "#  If autograd is set to true , then pytorch keeps track of the gradient \n",
    "x = torch.tensor([1., 2., 3], requires_grad=True)\n",
    "y = torch.tensor([4., 5., 6], requires_grad=True)\n",
    "\n",
    "# Computing the gradient\n",
    "z = x+y\n",
    "print(z)\n",
    "print(z.grad_fn)\n",
    "# If we keep on continuing\n",
    "s = z.sum()\n",
    "print(s)\n",
    "print(s.grad_fn)"
   ]
  },
  {
   "cell_type": "code",
   "execution_count": 26,
   "id": "362c51f6",
   "metadata": {},
   "outputs": [
    {
     "name": "stdout",
     "output_type": "stream",
     "text": [
      "tensor([1., 1., 1.])\n"
     ]
    }
   ],
   "source": [
    "# Lets backpropagate on s , we can fing the gradients of s with respect to x\n",
    "s.backward()\n",
    "print(x.grad)"
   ]
  },
  {
   "cell_type": "code",
   "execution_count": 27,
   "id": "28f3671e",
   "metadata": {},
   "outputs": [
    {
     "name": "stdout",
     "output_type": "stream",
     "text": [
      "False False\n",
      "None\n",
      "<AddBackward0 object at 0x7fc1281b8a90>\n",
      "True\n",
      "None\n",
      "True\n",
      "True\n",
      "False\n"
     ]
    }
   ],
   "source": [
    "# Default is requires_grad = false\n",
    "x = torch.randn(2,2)\n",
    "y = torch.randn(2,2)\n",
    "print(x.requires_grad, y.requires_grad)\n",
    "z = x+y\n",
    "# Thus we cant back prop\n",
    "print(z.grad_fn)\n",
    "# Another way of setting require grad to true\n",
    "x.requires_grad_()\n",
    "y.requires_grad_()\n",
    "z = x+y\n",
    "print(z.grad_fn)\n",
    "print(z.requires_grad)\n",
    "\n",
    "# Z has the computation history that can relate to x and y\n",
    "new_z = z.detach()\n",
    "print(new_z.grad_fn)\n",
    "# z.detach returns a tensor that shares the same storage as 'z' but with the computation history forgotten. \n",
    "# It doesnt know anything about how it was computed. In other words its tensor that has broken away from its past history\n",
    "\n",
    "# Stopping tensors to stop tracking history\n",
    "print(x.requires_grad)\n",
    "print((x+10).requires_grad)\n",
    "\n",
    "with torch.no_grad():\n",
    "    print((x+10).requires_grad)"
   ]
  },
  {
   "cell_type": "code",
   "execution_count": 28,
   "id": "d1d062d0",
   "metadata": {},
   "outputs": [],
   "source": [
    "# Loss functions\n",
    "pred = torch.randn(4,5)\n",
    "label = torch.randn(4,5)"
   ]
  },
  {
   "cell_type": "code",
   "execution_count": 29,
   "id": "2cd493e1",
   "metadata": {},
   "outputs": [],
   "source": [
    "# MSE\n",
    "mse = nn.MSELoss(reduction='none')"
   ]
  },
  {
   "cell_type": "code",
   "execution_count": 30,
   "id": "e189a709",
   "metadata": {},
   "outputs": [
    {
     "data": {
      "text/plain": [
       "tensor([[1.9810, 0.2865, 6.6115, 0.3218, 0.0325],\n",
       "        [0.6981, 7.4201, 1.8546, 0.3560, 0.5561],\n",
       "        [0.8834, 0.0298, 0.4145, 0.7851, 0.2178],\n",
       "        [0.1545, 4.2327, 0.0184, 0.0442, 1.6960]])"
      ]
     },
     "execution_count": 30,
     "metadata": {},
     "output_type": "execute_result"
    }
   ],
   "source": [
    "loss = mse(pred, label)\n",
    "loss"
   ]
  },
  {
   "cell_type": "code",
   "execution_count": 31,
   "id": "60d77de8",
   "metadata": {},
   "outputs": [
    {
     "data": {
      "text/plain": [
       "tensor(1.4297)"
      ]
     },
     "execution_count": 31,
     "metadata": {},
     "output_type": "execute_result"
    }
   ],
   "source": [
    "# mean reduction stands for the mean of all the above elemenets\n",
    "mse = nn.MSELoss(reduction='mean')\n",
    "loss= mse(pred, label)\n",
    "loss"
   ]
  },
  {
   "cell_type": "code",
   "execution_count": 32,
   "id": "8cbab178",
   "metadata": {},
   "outputs": [
    {
     "data": {
      "text/plain": [
       "tensor(28.5945)"
      ]
     },
     "execution_count": 32,
     "metadata": {},
     "output_type": "execute_result"
    }
   ],
   "source": [
    "# sum reduction stands for the sum of all the above elements\n",
    "mse = nn.MSELoss(reduction='sum')\n",
    "loss=mse(pred, label)\n",
    "loss"
   ]
  },
  {
   "cell_type": "code",
   "execution_count": 33,
   "id": "284f0894",
   "metadata": {},
   "outputs": [
    {
     "data": {
      "text/plain": [
       "tensor(1.4297)"
      ]
     },
     "execution_count": 33,
     "metadata": {},
     "output_type": "execute_result"
    }
   ],
   "source": [
    "# scratch implementation of mse\n",
    "mse = ((pred-label)**2).mean()\n",
    "mse"
   ]
  },
  {
   "cell_type": "code",
   "execution_count": 34,
   "id": "64252641",
   "metadata": {},
   "outputs": [
    {
     "data": {
      "text/plain": [
       "tensor(28.5945)"
      ]
     },
     "execution_count": 34,
     "metadata": {},
     "output_type": "execute_result"
    }
   ],
   "source": [
    "mse = ((pred-label)**2).sum()\n",
    "mse"
   ]
  },
  {
   "cell_type": "code",
   "execution_count": 35,
   "id": "dbb18b2c",
   "metadata": {},
   "outputs": [
    {
     "data": {
      "text/plain": [
       "tensor([[0., 0., 0., 1., 1.],\n",
       "        [0., 1., 1., 1., 0.],\n",
       "        [0., 1., 0., 1., 0.],\n",
       "        [1., 0., 0., 1., 0.]])"
      ]
     },
     "execution_count": 35,
     "metadata": {},
     "output_type": "execute_result"
    }
   ],
   "source": [
    "# Binary cross entropy \n",
    "label = torch.zeros(4,5).random_(0,2)\n",
    "label"
   ]
  },
  {
   "cell_type": "code",
   "execution_count": 36,
   "id": "8ef4ca83",
   "metadata": {},
   "outputs": [
    {
     "data": {
      "text/plain": [
       "tensor(0.6321)"
      ]
     },
     "execution_count": 36,
     "metadata": {},
     "output_type": "execute_result"
    }
   ],
   "source": [
    "sg = nn.Sigmoid()\n",
    "bce = nn.BCELoss(reduction='mean')\n",
    "bce(sg(pred), label)"
   ]
  },
  {
   "cell_type": "code",
   "execution_count": 37,
   "id": "fe03e360",
   "metadata": {},
   "outputs": [
    {
     "data": {
      "text/plain": [
       "tensor(0.6321)"
      ]
     },
     "execution_count": 37,
     "metadata": {},
     "output_type": "execute_result"
    }
   ],
   "source": [
    "# BCE with logit loss\n",
    "bce = nn.BCEWithLogitsLoss(reduction='mean')\n",
    "bce(pred, label)"
   ]
  },
  {
   "cell_type": "code",
   "execution_count": 38,
   "id": "2f9f5cf4",
   "metadata": {},
   "outputs": [],
   "source": [
    "# sigmoid implementation\n",
    "def sigmoid(x):\n",
    "    return 1 / (1 + np.exp(-x))"
   ]
  },
  {
   "cell_type": "code",
   "execution_count": 39,
   "id": "b1393c4a",
   "metadata": {},
   "outputs": [
    {
     "name": "stdout",
     "output_type": "stream",
     "text": [
      "0.6320796930010107\n"
     ]
    }
   ],
   "source": [
    "# scratch implemetation\n",
    "prednum = pred.numpy()\n",
    "lalnum = label.numpy()\n",
    "\n",
    "prednum = sigmoid(prednum)\n",
    "\n",
    "lossval = []\n",
    "for idx in range(len(lalnum)):\n",
    "    batchls = []\n",
    "    for idj in range(len(lalnum[0])):\n",
    "# if 1 then -log(x) or else -log(1-x)\n",
    "        batchls.append(-np.log(prednum[idx][idj]) if lalnum[idx][idj] == 1 else -np.log(1-prednum[idx][idj]))\n",
    "    lossval.append(batchls)\n",
    "print(np.mean(lossval))"
   ]
  },
  {
   "cell_type": "code",
   "execution_count": 40,
   "id": "8d8eab8e",
   "metadata": {},
   "outputs": [
    {
     "data": {
      "text/plain": [
       "tensor([[-0.1804,  0.3968,  0.4218, -0.1779, -0.4237],\n",
       "        [ 0.0198, -0.2462,  0.2215,  0.1925,  0.1229],\n",
       "        [ 0.2588,  0.3023,  0.2496, -0.2362, -0.0576],\n",
       "        [ 0.0679,  0.2334, -0.0396,  0.1865, -0.1797],\n",
       "        [-0.3542, -0.2577, -0.0367,  0.2796,  0.3810]])"
      ]
     },
     "execution_count": 40,
     "metadata": {},
     "output_type": "execute_result"
    }
   ],
   "source": [
    "#  Weight initialization\n",
    "layer = nn.Linear(5,5)\n",
    "layer.weight.data"
   ]
  },
  {
   "cell_type": "code",
   "execution_count": 41,
   "id": "9deb0a76",
   "metadata": {},
   "outputs": [
    {
     "data": {
      "text/plain": [
       "tensor([[0.7918, 1.4064, 2.0776, 0.6028, 2.9913],\n",
       "        [0.8960, 0.0197, 1.0561, 2.1800, 0.4154],\n",
       "        [0.4088, 0.1402, 0.1629, 1.9793, 2.6483],\n",
       "        [1.5799, 2.9148, 0.0184, 1.9702, 0.9856],\n",
       "        [1.1768, 2.4135, 1.3242, 1.9527, 1.1939]])"
      ]
     },
     "execution_count": 41,
     "metadata": {},
     "output_type": "execute_result"
    }
   ],
   "source": [
    "# uniform initialisation\n",
    "nn.init.uniform_(layer.weight.data ,a=0.0, b=3)"
   ]
  },
  {
   "cell_type": "code",
   "execution_count": 42,
   "id": "28782815",
   "metadata": {},
   "outputs": [
    {
     "data": {
      "text/plain": [
       "tensor([[-0.5188, -0.0626,  1.0640,  0.6333, -0.6768],\n",
       "        [-1.2347,  1.7053, -0.5528,  0.8424,  0.7748],\n",
       "        [-0.2201,  0.4752,  0.1237, -0.6788,  0.8233],\n",
       "        [-1.9601,  2.2643,  0.8814, -2.0502, -0.5281],\n",
       "        [ 1.2135,  0.9428,  0.9973,  0.2446,  0.3305]])"
      ]
     },
     "execution_count": 42,
     "metadata": {},
     "output_type": "execute_result"
    }
   ],
   "source": [
    "# normal distribution\n",
    "nn.init.normal_(layer.weight.data, mean=0.0, std=1)"
   ]
  },
  {
   "cell_type": "code",
   "execution_count": 43,
   "id": "7c9069f4",
   "metadata": {},
   "outputs": [
    {
     "data": {
      "text/plain": [
       "tensor([[-2.1224e-01, -2.0746e-01, -1.3756e-01,  6.9161e-02, -5.1677e-02],\n",
       "        [-2.4270e-01, -1.0059e-01, -1.1354e-01, -8.5728e-02, -6.0110e-02],\n",
       "        [ 4.3708e-01,  1.5464e-01,  3.6992e-02, -1.0428e-01,  1.4235e-01],\n",
       "        [-3.6803e-01, -1.9653e-01, -8.9830e-02,  1.5549e-01, -1.1940e-01],\n",
       "        [ 1.7435e-01, -2.6735e-01,  4.1588e-04,  1.4353e-01, -2.6328e-02]])"
      ]
     },
     "execution_count": 43,
     "metadata": {},
     "output_type": "execute_result"
    }
   ],
   "source": [
    "nn.init.normal_(layer.weight.data, mean=0.0, std=.2)"
   ]
  },
  {
   "cell_type": "code",
   "execution_count": 44,
   "id": "ac0df440",
   "metadata": {},
   "outputs": [
    {
     "data": {
      "text/plain": [
       "Parameter containing:\n",
       "tensor([0., 0., 0., 0., 0.], requires_grad=True)"
      ]
     },
     "execution_count": 44,
     "metadata": {},
     "output_type": "execute_result"
    }
   ],
   "source": [
    "# constant initialisation\n",
    "nn.init.constant_(layer.bias, 0)"
   ]
  },
  {
   "cell_type": "code",
   "execution_count": 45,
   "id": "4892d838",
   "metadata": {},
   "outputs": [
    {
     "data": {
      "text/plain": [
       "Parameter containing:\n",
       "tensor([0., 0., 0., 0., 0.], requires_grad=True)"
      ]
     },
     "execution_count": 45,
     "metadata": {},
     "output_type": "execute_result"
    }
   ],
   "source": [
    "nn.init.zeros_(layer.bias)"
   ]
  },
  {
   "cell_type": "code",
   "execution_count": 46,
   "id": "c9796ce3",
   "metadata": {},
   "outputs": [
    {
     "data": {
      "text/plain": [
       "Parameter containing:\n",
       "tensor([0., 0., 0., 0., 0.], requires_grad=True)"
      ]
     },
     "execution_count": 46,
     "metadata": {},
     "output_type": "execute_result"
    }
   ],
   "source": [
    "layer.bias"
   ]
  },
  {
   "cell_type": "code",
   "execution_count": 47,
   "id": "c6e013b6",
   "metadata": {},
   "outputs": [
    {
     "data": {
      "text/plain": [
       "tensor([[ 0.6773, -0.3838,  0.3977, -0.4679,  0.6079],\n",
       "        [ 0.5241, -0.2260, -0.1404, -0.7332, -0.6356],\n",
       "        [ 0.2622, -0.5332,  0.4018, -0.2893, -0.2626],\n",
       "        [-0.4242, -0.4560,  0.1710, -0.5473, -0.0701],\n",
       "        [-0.3019, -0.2038, -0.5544, -0.2788, -0.0056]])"
      ]
     },
     "execution_count": 47,
     "metadata": {},
     "output_type": "execute_result"
    }
   ],
   "source": [
    "# xavier initialisation\n",
    "nn.init.xavier_uniform_(layer.weight.data, gain=1)"
   ]
  },
  {
   "cell_type": "code",
   "execution_count": 48,
   "id": "bc260325",
   "metadata": {},
   "outputs": [
    {
     "data": {
      "text/plain": [
       "tensor([[ 0.3603,  0.1699, -0.5649,  0.2386,  0.2681],\n",
       "        [-0.3026, -0.9447,  0.1261, -0.1786, -0.3218],\n",
       "        [ 0.5850,  0.3312,  0.9935,  0.0377, -0.3226],\n",
       "        [ 1.3292,  0.0396,  0.7034,  0.3514, -0.3489],\n",
       "        [ 0.1567, -0.6849,  0.4877,  0.0022, -0.4356]])"
      ]
     },
     "execution_count": 48,
     "metadata": {},
     "output_type": "execute_result"
    }
   ],
   "source": [
    "nn.init.xavier_normal_(layer.weight.data, gain=1)"
   ]
  },
  {
   "cell_type": "code",
   "execution_count": 49,
   "id": "efe57667",
   "metadata": {},
   "outputs": [
    {
     "data": {
      "text/plain": [
       "(-3.117548724423624, 4.03848536172419, -2.798991839749053, 2.9364810308110822)"
      ]
     },
     "execution_count": 49,
     "metadata": {},
     "output_type": "execute_result"
    },
    {
     "data": {
      "image/png": "[encoded data removed]",
      "text/plain": [
       "<Figure size 640x480 with 1 Axes>"
      ]
     },
     "metadata": {},
     "output_type": "display_data"
    }
   ],
   "source": [
    "# Covariance and variance\n",
    "x = np.random.normal(0,1,400)\n",
    "y = np.random.normal(0,1,400)\n",
    "x = np.vstack((x,y)).T\n",
    "\n",
    "plt.scatter(x[:, 0], x[:, 1])\n",
    "plt.title('Generated Data')\n",
    "plt.axis('equal')"
   ]
  },
  {
   "cell_type": "code",
   "execution_count": 50,
   "id": "d935aa23",
   "metadata": {},
   "outputs": [
    {
     "data": {
      "text/plain": [
       "array([[1.09241119, 0.03601641],\n",
       "       [0.03601641, 0.86288319]])"
      ]
     },
     "execution_count": 50,
     "metadata": {},
     "output_type": "execute_result"
    }
   ],
   "source": [
    "def covar(x, y):\n",
    "    xbar, ybar = x.mean(), y.mean()\n",
    "    return np.sum((x - xbar)*(y - ybar))/(len(x) - 1)\n",
    "\n",
    "def covmat(x):\n",
    "    return np.array([[covar(x[0], x[0]), covar(x[0], x[1])], \\\n",
    "                    [covar(x[1], x[0]), covar(x[1], x[1])]])\n",
    "\n",
    "covmat(x.T)"
   ]
  },
  {
   "cell_type": "code",
   "execution_count": 53,
   "id": "79b9945f",
   "metadata": {},
   "outputs": [
    {
     "data": {
      "text/plain": [
       "tensor(2)"
      ]
     },
     "execution_count": 53,
     "metadata": {},
     "output_type": "execute_result"
    }
   ],
   "source": [
    "# Word embeddings\n",
    "\n",
    "word_to_idx = {\"I\": 0, \"am\": 1, \"sleeping\": 2}\n",
    "embeddings = nn.Embedding(3,7) # vocabulary, the size of the embedding\n",
    "word_idx = torch.tensor(word_to_idx['sleeping'])\n",
    "word_idx"
   ]
  },
  {
   "cell_type": "code",
   "execution_count": 54,
   "id": "682a7e39",
   "metadata": {},
   "outputs": [
    {
     "data": {
      "text/plain": [
       "(tensor([ 0.0111,  1.7243,  0.6112,  0.6892,  0.2345, -0.0238,  0.9954],\n",
       "        grad_fn=<EmbeddingBackward0>),\n",
       " torch.Size([7]))"
      ]
     },
     "execution_count": 54,
     "metadata": {},
     "output_type": "execute_result"
    }
   ],
   "source": [
    "sleeping = embeddings(word_idx)\n",
    "sleeping, sleeping.shape"
   ]
  },
  {
   "cell_type": "code",
   "execution_count": 55,
   "id": "e74652ec",
   "metadata": {},
   "outputs": [
    {
     "data": {
      "text/plain": [
       "(tensor([[-0.4126,  0.3562,  0.2998, -1.0634, -0.1848,  0.3449, -0.8742],\n",
       "         [-0.4836, -0.4488,  1.5102, -0.3390, -0.0412,  0.9581, -0.7166],\n",
       "         [ 0.0111,  1.7243,  0.6112,  0.6892,  0.2345, -0.0238,  0.9954]],\n",
       "        grad_fn=<EmbeddingBackward0>),\n",
       " torch.Size([3, 7]))"
      ]
     },
     "execution_count": 55,
     "metadata": {},
     "output_type": "execute_result"
    }
   ],
   "source": [
    "# The above presented values are random values and they are learnt by the model through training\n",
    "# We can use embedding pretrained models like glove and freeze the embedding weights, but it leads to the \n",
    "# same result\n",
    "\n",
    "all_indx = torch.tensor([word for word in range(3)], dtype=torch.long)\n",
    "all_word = embeddings(all_indx)\n",
    "all_word, all_word.shape"
   ]
  },
  {
   "cell_type": "code",
   "execution_count": null,
   "id": "b955d1a4",
   "metadata": {},
   "outputs": [],
   "source": []
  }
 ],
 "metadata": {
  "kernelspec": {
   "display_name": "Python 3 (ipykernel)",
   "language": "python",
   "name": "python3"
  },
  "language_info": {
   "codemirror_mode": {
    "name": "ipython",
    "version": 3
   },
   "file_extension": ".py",
   "mimetype": "text/x-python",
   "name": "python",
   "nbconvert_exporter": "python",
   "pygments_lexer": "ipython3",
   "version": "3.9.7"
  }
 },
 "nbformat": 4,
 "nbformat_minor": 5
}
