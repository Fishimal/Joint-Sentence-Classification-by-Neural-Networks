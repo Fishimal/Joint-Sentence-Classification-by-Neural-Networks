{
 "cells": [
  {
   "cell_type": "code",
   "execution_count": 50,
   "id": "558da971",
   "metadata": {},
   "outputs": [],
   "source": [
    "import torch\n",
    "import numpy as np\n",
    "import os\n",
    "import torch.nn as nn\n",
    "import matplotlib.pyplot as plt"
   ]
  },
  {
   "cell_type": "code",
   "execution_count": 2,
   "id": "b8ff3f91",
   "metadata": {},
   "outputs": [
    {
     "name": "stdout",
     "output_type": "stream",
     "text": [
      "tensor([2, 2, 1])\n"
     ]
    }
   ],
   "source": [
    "# Torch tensors\n",
    "# Defining a one dimensional tensor\n",
    "a = torch.tensor([2,2,1])\n",
    "print(a)"
   ]
  },
  {
   "cell_type": "code",
   "execution_count": 3,
   "id": "5a2afe69",
   "metadata": {},
   "outputs": [
    {
     "name": "stdout",
     "output_type": "stream",
     "text": [
      "tensor([[1, 2, 3],\n",
      "        [4, 5, 6],\n",
      "        [7, 8, 9]])\n"
     ]
    }
   ],
   "source": [
    "# Defining a two dimensional tensor\n",
    "b = torch.tensor([[1,2,3],[4,5,6],[7,8,9]])\n",
    "print(b)"
   ]
  },
  {
   "cell_type": "code",
   "execution_count": 4,
   "id": "597d2a36",
   "metadata": {},
   "outputs": [
    {
     "name": "stdout",
     "output_type": "stream",
     "text": [
      "torch.Size([3])\n",
      "torch.Size([3, 3])\n",
      "torch.Size([3])\n",
      "torch.Size([3, 3])\n"
     ]
    }
   ],
   "source": [
    "# The size of the tensors \n",
    "print(a.shape)\n",
    "print(b.shape)\n",
    "print(a.size())\n",
    "print(b.size())"
   ]
  },
  {
   "cell_type": "code",
   "execution_count": 5,
   "id": "499cda29",
   "metadata": {},
   "outputs": [
    {
     "name": "stdout",
     "output_type": "stream",
     "text": [
      "3\n"
     ]
    }
   ],
   "source": [
    "#  Getting the Height/rows in b\n",
    "print(b.shape[0])"
   ]
  },
  {
   "cell_type": "code",
   "execution_count": 6,
   "id": "c549e730",
   "metadata": {},
   "outputs": [],
   "source": [
    "# Defining different datatypes of tensors\n",
    "# Float\n",
    "flo = torch.tensor([[1,2],[3,4]], dtype=torch.float)\n",
    "doub = torch.tensor([1,2], dtype=torch.double)"
   ]
  },
  {
   "cell_type": "code",
   "execution_count": 7,
   "id": "4754f736",
   "metadata": {},
   "outputs": [
    {
     "name": "stdout",
     "output_type": "stream",
     "text": [
      "torch.float32\n",
      "torch.float64\n"
     ]
    }
   ],
   "source": [
    "# Getting the datatypes for the tensors\n",
    "print(flo.dtype)\n",
    "print(doub.dtype)"
   ]
  },
  {
   "cell_type": "code",
   "execution_count": 8,
   "id": "3c21a216",
   "metadata": {},
   "outputs": [
    {
     "name": "stdout",
     "output_type": "stream",
     "text": [
      "tensor(2.5000)\n",
      "tensor(1.2910)\n"
     ]
    }
   ],
   "source": [
    "# Fetching the mean and the standard deviation of a tensor\n",
    "print(flo.mean())\n",
    "print(flo.std())"
   ]
  },
  {
   "cell_type": "code",
   "execution_count": 9,
   "id": "13d78e89",
   "metadata": {},
   "outputs": [
    {
     "name": "stdout",
     "output_type": "stream",
     "text": [
      "tensor([[1],\n",
      "        [2],\n",
      "        [3],\n",
      "        [4],\n",
      "        [5],\n",
      "        [6],\n",
      "        [7],\n",
      "        [8],\n",
      "        [9]])\n",
      "tensor([1, 2, 3, 4, 5, 6, 7, 8, 9])\n",
      "\n",
      " Tensor B after assigning new shape tensor([[1, 2, 3, 4, 5, 6, 7, 8, 9]])\n",
      "\n",
      " The shape of tensor B is torch.Size([1, 9])\n",
      "tensor([[[ 0.9218, -0.1273,  0.1359, -0.3906],\n",
      "         [ 1.5530,  0.3040,  0.0974,  0.9020],\n",
      "         [-0.0335,  0.1928, -1.2140,  0.2898]],\n",
      "\n",
      "        [[-0.4068, -0.5293, -0.8100, -0.3921],\n",
      "         [-0.0164, -1.5986, -0.0046, -0.9006],\n",
      "         [-1.3915, -0.0742, -0.7223, -1.6977]]])\n",
      "tensor([[ 0.9218, -0.1273,  0.1359, -0.3906,  1.5530,  0.3040,  0.0974,  0.9020,\n",
      "         -0.0335,  0.1928, -1.2140,  0.2898],\n",
      "        [-0.4068, -0.5293, -0.8100, -0.3921, -0.0164, -1.5986, -0.0046, -0.9006,\n",
      "         -1.3915, -0.0742, -0.7223, -1.6977]])\n",
      "tensor([[ 0.9218, -0.1273,  0.1359, -0.3906,  1.5530,  0.3040,  0.0974,  0.9020,\n",
      "         -0.0335,  0.1928, -1.2140,  0.2898],\n",
      "        [-0.4068, -0.5293, -0.8100, -0.3921, -0.0164, -1.5986, -0.0046, -0.9006,\n",
      "         -1.3915, -0.0742, -0.7223, -1.6977]])\n"
     ]
    }
   ],
   "source": [
    "# Reshaping the tensors\n",
    "# If one of the given dimension is given -1 then the size can be inferred which means if for \n",
    "# it is given -1,3 then python will find our which nos of other dimensions are required is to satisfy x,-3\n",
    "# Pytorch will find out the x\n",
    "\n",
    "print(b.view(-1,1))\n",
    "print(b.view(9))\n",
    "\n",
    "# Assigning b a new shape\n",
    "b = b.view(1,-1)\n",
    "print(\"\\n Tensor B after assigning new shape {}\".format(b))\n",
    "print(\"\\n The shape of tensor B is {}\".format(b.shape))\n",
    "\n",
    "# Creating a 3D tensor with 2 channels 3 rows and 2 columns\n",
    "thre_dm = torch.randn(2,3,4)\n",
    "print(thre_dm)\n",
    "print(thre_dm.view(2,12))\n",
    "print(thre_dm.view(2,-1))"
   ]
  },
  {
   "cell_type": "code",
   "execution_count": 10,
   "id": "af9266d1",
   "metadata": {},
   "outputs": [
    {
     "name": "stdout",
     "output_type": "stream",
     "text": [
      "tensor([[0.8544, 0.2709, 0.6878, 0.8117],\n",
      "        [0.6530, 0.7651, 0.6083, 0.3963],\n",
      "        [0.6255, 0.4602, 0.3223, 0.3930],\n",
      "        [0.4456, 0.3622, 0.5339, 0.5416]])\n"
     ]
    }
   ],
   "source": [
    "# Creating a matrix with random nos in a range of 0 and 1\n",
    "rand = torch.rand(4,4)\n",
    "print(rand)"
   ]
  },
  {
   "cell_type": "code",
   "execution_count": 11,
   "id": "df9c4a3d",
   "metadata": {},
   "outputs": [
    {
     "name": "stdout",
     "output_type": "stream",
     "text": [
      "tensor([[-0.5453, -0.3186, -0.1749,  0.5474],\n",
      "        [-0.6428,  0.2398, -0.3015, -0.7371],\n",
      "        [ 1.7829, -0.5909,  0.6986, -0.5706],\n",
      "        [-0.4599, -0.8969,  0.7689,  0.3912]])\n",
      "torch.float32\n"
     ]
    }
   ],
   "source": [
    "# Creating a matrix with random nos taken from a normal distribution with mean 0 and variance 1\n",
    "rand = torch.randn(4,4)\n",
    "print(rand)\n",
    "print(rand.dtype)"
   ]
  },
  {
   "cell_type": "code",
   "execution_count": 12,
   "id": "3d620ea3",
   "metadata": {},
   "outputs": [
    {
     "name": "stdout",
     "output_type": "stream",
     "text": [
      "tensor([9, 7, 8, 6, 8])\n",
      "torch.int64\n"
     ]
    }
   ],
   "source": [
    "# Creating a array of 5 random integers from values between 6 and 9 exclusive of 10\n",
    "in_arr = torch.randint(6,10, (5,))\n",
    "print(in_arr)\n",
    "print(in_arr.dtype)"
   ]
  },
  {
   "cell_type": "code",
   "execution_count": 13,
   "id": "71f6a8e3",
   "metadata": {},
   "outputs": [
    {
     "name": "stdout",
     "output_type": "stream",
     "text": [
      "tensor([[6, 6, 8],\n",
      "        [9, 8, 9],\n",
      "        [8, 8, 9]])\n",
      "torch.int64\n"
     ]
    }
   ],
   "source": [
    "# Creating a 2d array or matrix of size 3x3 filled with random integers from values between 6 and 9\n",
    "in_arr = torch.randint(6,10, (3,3))\n",
    "print(in_arr)\n",
    "print(in_arr.dtype)"
   ]
  },
  {
   "cell_type": "code",
   "execution_count": 14,
   "id": "c374d684",
   "metadata": {},
   "outputs": [
    {
     "name": "stdout",
     "output_type": "stream",
     "text": [
      "9\n"
     ]
    }
   ],
   "source": [
    "# Fetching the nos of the elements in the above matrix\n",
    "print(torch.numel(in_arr))"
   ]
  },
  {
   "cell_type": "code",
   "execution_count": 15,
   "id": "28e9a853",
   "metadata": {},
   "outputs": [
    {
     "name": "stdout",
     "output_type": "stream",
     "text": [
      "tensor([[0, 0, 0],\n",
      "        [0, 0, 0],\n",
      "        [0, 0, 0]])\n",
      "tensor([[1., 1., 1.],\n",
      "        [1., 1., 1.],\n",
      "        [1., 1., 1.]])\n",
      "torch.float32\n"
     ]
    }
   ],
   "source": [
    "# Creating a 3x3 matrix of zeros of dtype long\n",
    "z = torch.zeros(3,3, dtype=torch.long)\n",
    "print(z)\n",
    "# Creating a 3x3 matrix of ones\n",
    "x = torch.ones(3,3)\n",
    "print(x)\n",
    "print(x.dtype)"
   ]
  },
  {
   "cell_type": "code",
   "execution_count": 16,
   "id": "42d35ccc",
   "metadata": {},
   "outputs": [
    {
     "name": "stdout",
     "output_type": "stream",
     "text": [
      "tensor([[ 0.6006,  0.4180,  0.0622],\n",
      "        [-0.0612,  0.5224,  2.1139],\n",
      "        [ 2.1131,  0.0614, -0.0425]], dtype=torch.float64)\n",
      "tensor([[1.6006, 1.4180, 1.0622],\n",
      "        [0.9388, 1.5224, 3.1139],\n",
      "        [3.1131, 1.0614, 0.9575]], dtype=torch.float64)\n"
     ]
    },
    {
     "data": {
      "text/plain": [
       "tensor([[1.6006, 1.4180, 1.0622],\n",
       "        [0.9388, 1.5224, 3.1139],\n",
       "        [3.1131, 1.0614, 0.9575]])"
      ]
     },
     "execution_count": 16,
     "metadata": {},
     "output_type": "execute_result"
    }
   ],
   "source": [
    "# Converting the tensors data type\n",
    "xlike = torch.randn_like(x, dtype=torch.double)\n",
    "print(xlike)\n",
    "\n",
    "# Adding two tensors \n",
    "summation = torch.add(x,xlike)\n",
    "print(summation)\n",
    "\n",
    "# Inplace summation\n",
    "x.add_(xlike)"
   ]
  },
  {
   "cell_type": "code",
   "execution_count": 17,
   "id": "40b36e08",
   "metadata": {},
   "outputs": [
    {
     "name": "stdout",
     "output_type": "stream",
     "text": [
      "tensor([[1.6006, 1.4180, 1.0622],\n",
      "        [0.9388, 1.5224, 3.1139]])\n",
      "tensor([[1.6006, 1.4180],\n",
      "        [0.9388, 1.5224],\n",
      "        [3.1131, 1.0614]])\n",
      "tensor([[1.6006, 1.4180],\n",
      "        [0.9388, 1.5224],\n",
      "        [3.1131, 1.0614]])\n",
      "1.061410665512085\n",
      "tensor([3.1131, 1.0614, 0.9575])\n"
     ]
    }
   ],
   "source": [
    "# Slicing tensors\n",
    "print(x[:-1])\n",
    "print(x[:,:2])\n",
    "u = x[:,:2]\n",
    "print(u)\n",
    "u = x[2,1]\n",
    "print(u.item())\n",
    "print(x[2,:])"
   ]
  },
  {
   "cell_type": "code",
   "execution_count": 18,
   "id": "7c7685b6",
   "metadata": {},
   "outputs": [
    {
     "name": "stdout",
     "output_type": "stream",
     "text": [
      "tensor([1., 1., 1., 1., 1.])\n",
      "[1. 1. 1. 1. 1.]\n",
      "tensor([2., 2., 2., 2., 2.])\n",
      "[2. 2. 2. 2. 2.]\n"
     ]
    }
   ],
   "source": [
    "# Converting a torch tensor to a numpy array\n",
    "a = torch.ones(5)\n",
    "print(a)\n",
    "b = a.numpy()\n",
    "print(b)\n",
    "a.add_(1)\n",
    "# Here we can notice as soon as we perform any operation in the torch tensor, then numpy array also gets affected\n",
    "# This is called the numpy bridge\n",
    "print(a)\n",
    "print(b)"
   ]
  },
  {
   "cell_type": "code",
   "execution_count": 19,
   "id": "9f708933",
   "metadata": {},
   "outputs": [
    {
     "name": "stdout",
     "output_type": "stream",
     "text": [
      "[2. 2.]\n",
      "tensor([2., 2.], dtype=torch.float64)\n"
     ]
    }
   ],
   "source": [
    "# Converting a numnpy array to a torch tensor\n",
    "# Same thing we will also have a numpy bridge here\n",
    "a = np.ones(2)\n",
    "b = torch.from_numpy(a)\n",
    "np.add(a, 1, out=a)\n",
    "print(a)\n",
    "print(b)"
   ]
  },
  {
   "cell_type": "code",
   "execution_count": 20,
   "id": "892ee763",
   "metadata": {},
   "outputs": [
    {
     "name": "stdout",
     "output_type": "stream",
     "text": [
      "tensor([[1.6006, 1.4180, 1.0622],\n",
      "        [0.9388, 1.5224, 3.1139],\n",
      "        [3.1131, 1.0614, 0.9575]], device='cuda:0')\n"
     ]
    }
   ],
   "source": [
    "# Moving the tensors to cuda\n",
    "\n",
    "x = x.cuda()\n",
    "os.system('CUDA_LAUNCH_BLOCKING=1')\n",
    "print(x)"
   ]
  },
  {
   "cell_type": "code",
   "execution_count": 21,
   "id": "78ebeb08",
   "metadata": {},
   "outputs": [
    {
     "name": "stdout",
     "output_type": "stream",
     "text": [
      "tensor([2., 2.], device='cuda:0', dtype=torch.float64)\n"
     ]
    }
   ],
   "source": [
    "if torch.cuda.is_available():\n",
    "    add_sum = b.cuda()\n",
    "    print(add_sum)"
   ]
  },
  {
   "cell_type": "code",
   "execution_count": 22,
   "id": "d77acc36",
   "metadata": {},
   "outputs": [
    {
     "name": "stdout",
     "output_type": "stream",
     "text": [
      "tensor([2, 3, 4, 5, 6]) torch.int64\n"
     ]
    }
   ],
   "source": [
    "# Converting a list to a tensor\n",
    "ls = [2,3,4,5,6]\n",
    "to_ls = torch.tensor(ls)\n",
    "print(to_ls, to_ls.dtype)"
   ]
  },
  {
   "cell_type": "code",
   "execution_count": 23,
   "id": "4b152339",
   "metadata": {},
   "outputs": [
    {
     "name": "stdout",
     "output_type": "stream",
     "text": [
      "tensor([[ 0.1315,  0.0880,  0.8459,  0.7107,  1.1639],\n",
      "        [-1.4233,  0.7311, -0.8022,  1.1813,  1.5910],\n",
      "        [-2.6963,  1.3371, -0.3827,  0.8806,  0.5575],\n",
      "        [-1.3884, -0.9468, -1.9054,  0.0059, -0.3503],\n",
      "        [ 0.1452, -1.0205,  0.9050, -1.6014, -1.3874]])\n",
      "tensor([[-0.8855, -0.1153, -0.3354],\n",
      "        [ 1.1418,  2.5658, -0.7193]])\n",
      "tensor([[ 0.6475,  0.6230,  0.8263, -1.5327,  1.1104],\n",
      "        [-0.5074,  1.8861,  0.0660,  1.0937, -1.5841]])\n",
      "tensor([[-0.8855, -0.1153, -0.3354,  0.6475,  0.6230,  0.8263, -1.5327,  1.1104],\n",
      "        [ 1.1418,  2.5658, -0.7193, -0.5074,  1.8861,  0.0660,  1.0937, -1.5841]])\n"
     ]
    }
   ],
   "source": [
    "# Concatenating tensors\n",
    "f1 = torch.randn(2,5)\n",
    "t2 = torch.randn(3,5)\n",
    "# Concatenating along rows\n",
    "con1 = torch.cat([f1, t2])\n",
    "print(con1)\n",
    "f2 = torch.randn(2,3)\n",
    "print(f2)\n",
    "f3 = torch.randn(2,5)\n",
    "print(f3)\n",
    "# Concatenating along 1 dim [columns]\n",
    "con3 = torch.cat([f2,f3], 1)\n",
    "print(con3)"
   ]
  },
  {
   "cell_type": "code",
   "execution_count": 24,
   "id": "a8f8f568",
   "metadata": {},
   "outputs": [
    {
     "name": "stdout",
     "output_type": "stream",
     "text": [
      "tensor([[1, 2, 3, 4, 5]])\n",
      "torch.Size([1, 5])\n",
      "tensor([[1],\n",
      "        [2],\n",
      "        [3],\n",
      "        [4],\n",
      "        [5]])\n",
      "torch.Size([5, 1])\n",
      "tensor([[[-2.1419,  0.4286, -0.2453,  0.7459],\n",
      "         [ 2.1113, -0.8660,  0.6109,  0.9460],\n",
      "         [ 0.4476, -0.3410, -1.0319,  0.3822]],\n",
      "\n",
      "        [[ 0.7804, -0.5357,  0.8792, -0.9682],\n",
      "         [-1.0523, -0.4457,  0.8164, -1.2127],\n",
      "         [ 0.2045,  1.2034, -1.0378,  0.5370]]])\n",
      "tensor([[-0.2453,  0.6109, -1.0319],\n",
      "        [ 0.8792,  0.8164, -1.0378]])\n",
      "torch.Size([2, 3])\n",
      "tensor([[[-0.2453],\n",
      "         [ 0.6109],\n",
      "         [-1.0319]],\n",
      "\n",
      "        [[ 0.8792],\n",
      "         [ 0.8164],\n",
      "         [-1.0378]]])\n",
      "torch.Size([2, 3, 1])\n"
     ]
    }
   ],
   "source": [
    "# Adding dimensions to the tensors\n",
    "ten1 = torch.tensor([1,2,3,4,5])\n",
    "ten2 = torch.unsqueeze(ten1, 0)\n",
    "print(ten2)\n",
    "print(ten2.shape)\n",
    "ten3 = torch.unsqueeze(ten1, 1)\n",
    "print(ten3)\n",
    "print(ten3.shape)\n",
    "ten4 = torch.randn(2,3,4)\n",
    "print(ten4)\n",
    "tenc = ten4[:,:,2]\n",
    "print(tenc)\n",
    "print(tenc.shape)\n",
    "tend = torch.unsqueeze(tenc, 2)\n",
    "print(tend)\n",
    "print(tend.shape)"
   ]
  },
  {
   "cell_type": "code",
   "execution_count": 25,
   "id": "d7d31550",
   "metadata": {},
   "outputs": [
    {
     "name": "stdout",
     "output_type": "stream",
     "text": [
      "tensor([5., 7., 9.], grad_fn=<AddBackward0>)\n",
      "<AddBackward0 object at 0x7f0a32ea3760>\n",
      "tensor(21., grad_fn=<SumBackward0>)\n",
      "<SumBackward0 object at 0x7f0a32efed30>\n"
     ]
    }
   ],
   "source": [
    "# Autograd\n",
    "\n",
    "#  If autograd is set to true , then pytorch keeps track of the gradient \n",
    "x = torch.tensor([1., 2., 3], requires_grad=True)\n",
    "y = torch.tensor([4., 5., 6], requires_grad=True)\n",
    "\n",
    "# Computing the gradient\n",
    "z = x+y\n",
    "print(z)\n",
    "print(z.grad_fn)\n",
    "# If we keep on continuing\n",
    "s = z.sum()\n",
    "print(s)\n",
    "print(s.grad_fn)"
   ]
  },
  {
   "cell_type": "code",
   "execution_count": 26,
   "id": "362c51f6",
   "metadata": {},
   "outputs": [
    {
     "name": "stdout",
     "output_type": "stream",
     "text": [
      "tensor([1., 1., 1.])\n"
     ]
    }
   ],
   "source": [
    "# Lets backpropagate on s , we can fing the gradients of s with respect to x\n",
    "s.backward()\n",
    "print(x.grad)"
   ]
  },
  {
   "cell_type": "code",
   "execution_count": 27,
   "id": "28f3671e",
   "metadata": {},
   "outputs": [
    {
     "name": "stdout",
     "output_type": "stream",
     "text": [
      "False False\n",
      "None\n",
      "<AddBackward0 object at 0x7f0a32e9fee0>\n",
      "True\n",
      "None\n",
      "True\n",
      "True\n",
      "False\n"
     ]
    }
   ],
   "source": [
    "# Default is requires_grad = false\n",
    "x = torch.randn(2,2)\n",
    "y = torch.randn(2,2)\n",
    "print(x.requires_grad, y.requires_grad)\n",
    "z = x+y\n",
    "# Thus we cant back prop\n",
    "print(z.grad_fn)\n",
    "# Another way of setting require grad to true\n",
    "x.requires_grad_()\n",
    "y.requires_grad_()\n",
    "z = x+y\n",
    "print(z.grad_fn)\n",
    "print(z.requires_grad)\n",
    "\n",
    "# Z has the computation history that can relate to x and y\n",
    "new_z = z.detach()\n",
    "print(new_z.grad_fn)\n",
    "# z.detach returns a tensor that shares the same storage as 'z' but with the computation history forgotten. \n",
    "# It doesnt know anything about how it was computed. In other words its tensor that has broken away from its past history\n",
    "\n",
    "# Stopping tensors to stop tracking history\n",
    "print(x.requires_grad)\n",
    "print((x+10).requires_grad)\n",
    "\n",
    "with torch.no_grad():\n",
    "    print((x+10).requires_grad)"
   ]
  },
  {
   "cell_type": "code",
   "execution_count": 28,
   "id": "d1d062d0",
   "metadata": {},
   "outputs": [],
   "source": [
    "# Loss functions\n",
    "pred = torch.randn(4,5)\n",
    "label = torch.randn(4,5)"
   ]
  },
  {
   "cell_type": "code",
   "execution_count": 29,
   "id": "2cd493e1",
   "metadata": {},
   "outputs": [],
   "source": [
    "# MSE\n",
    "mse = nn.MSELoss(reduction='none')"
   ]
  },
  {
   "cell_type": "code",
   "execution_count": 30,
   "id": "e189a709",
   "metadata": {},
   "outputs": [
    {
     "data": {
      "text/plain": [
       "tensor([[ 0.0221,  7.1051,  1.9265,  7.8066,  0.4435],\n",
       "        [ 0.4861,  0.0349,  1.8572,  1.9124,  1.7109],\n",
       "        [ 4.1024,  0.2917,  0.0307,  0.7809,  4.4441],\n",
       "        [ 2.4470,  1.3826, 15.9603,  0.0299,  5.2000]])"
      ]
     },
     "execution_count": 30,
     "metadata": {},
     "output_type": "execute_result"
    }
   ],
   "source": [
    "loss = mse(pred, label)\n",
    "loss"
   ]
  },
  {
   "cell_type": "code",
   "execution_count": 31,
   "id": "60d77de8",
   "metadata": {},
   "outputs": [
    {
     "data": {
      "text/plain": [
       "tensor(2.8987)"
      ]
     },
     "execution_count": 31,
     "metadata": {},
     "output_type": "execute_result"
    }
   ],
   "source": [
    "# mean reduction stands for the mean of all the above elemenets\n",
    "mse = nn.MSELoss(reduction='mean')\n",
    "loss= mse(pred, label)\n",
    "loss"
   ]
  },
  {
   "cell_type": "code",
   "execution_count": 32,
   "id": "8cbab178",
   "metadata": {},
   "outputs": [
    {
     "data": {
      "text/plain": [
       "tensor(57.9749)"
      ]
     },
     "execution_count": 32,
     "metadata": {},
     "output_type": "execute_result"
    }
   ],
   "source": [
    "# sum reduction stands for the sum of all the above elements\n",
    "mse = nn.MSELoss(reduction='sum')\n",
    "loss=mse(pred, label)\n",
    "loss"
   ]
  },
  {
   "cell_type": "code",
   "execution_count": 33,
   "id": "284f0894",
   "metadata": {},
   "outputs": [
    {
     "data": {
      "text/plain": [
       "tensor(2.8987)"
      ]
     },
     "execution_count": 33,
     "metadata": {},
     "output_type": "execute_result"
    }
   ],
   "source": [
    "# scratch implementation of mse\n",
    "mse = ((pred-label)**2).mean()\n",
    "mse"
   ]
  },
  {
   "cell_type": "code",
   "execution_count": 34,
   "id": "64252641",
   "metadata": {},
   "outputs": [
    {
     "data": {
      "text/plain": [
       "tensor(57.9749)"
      ]
     },
     "execution_count": 34,
     "metadata": {},
     "output_type": "execute_result"
    }
   ],
   "source": [
    "mse = ((pred-label)**2).sum()\n",
    "mse"
   ]
  },
  {
   "cell_type": "code",
   "execution_count": 35,
   "id": "dbb18b2c",
   "metadata": {},
   "outputs": [
    {
     "data": {
      "text/plain": [
       "tensor([[1., 1., 1., 0., 0.],\n",
       "        [1., 1., 0., 0., 1.],\n",
       "        [0., 1., 1., 1., 1.],\n",
       "        [0., 1., 1., 1., 1.]])"
      ]
     },
     "execution_count": 35,
     "metadata": {},
     "output_type": "execute_result"
    }
   ],
   "source": [
    "# Binary cross entropy \n",
    "label = torch.zeros(4,5).random_(0,2)\n",
    "label"
   ]
  },
  {
   "cell_type": "code",
   "execution_count": 36,
   "id": "8ef4ca83",
   "metadata": {},
   "outputs": [
    {
     "data": {
      "text/plain": [
       "tensor(0.9208)"
      ]
     },
     "execution_count": 36,
     "metadata": {},
     "output_type": "execute_result"
    }
   ],
   "source": [
    "sg = nn.Sigmoid()\n",
    "bce = nn.BCELoss(reduction='mean')\n",
    "bce(sg(pred), label)"
   ]
  },
  {
   "cell_type": "code",
   "execution_count": 37,
   "id": "fe03e360",
   "metadata": {},
   "outputs": [
    {
     "data": {
      "text/plain": [
       "tensor(0.9208)"
      ]
     },
     "execution_count": 37,
     "metadata": {},
     "output_type": "execute_result"
    }
   ],
   "source": [
    "# BCE with logit loss\n",
    "bce = nn.BCEWithLogitsLoss(reduction='mean')\n",
    "bce(pred, label)"
   ]
  },
  {
   "cell_type": "code",
   "execution_count": 38,
   "id": "2f9f5cf4",
   "metadata": {},
   "outputs": [],
   "source": [
    "# sigmoid implementation\n",
    "def sigmoid(x):\n",
    "    return 1 / (1 + np.exp(-x))"
   ]
  },
  {
   "cell_type": "code",
   "execution_count": 39,
   "id": "b1393c4a",
   "metadata": {},
   "outputs": [
    {
     "name": "stdout",
     "output_type": "stream",
     "text": [
      "0.9208129104458427\n"
     ]
    }
   ],
   "source": [
    "# scratch implemetation\n",
    "prednum = pred.numpy()\n",
    "lalnum = label.numpy()\n",
    "\n",
    "prednum = sigmoid(prednum)\n",
    "\n",
    "lossval = []\n",
    "for idx in range(len(lalnum)):\n",
    "    batchls = []\n",
    "    for idj in range(len(lalnum[0])):\n",
    "# if 1 then -log(x) or else -log(1-x)\n",
    "        batchls.append(-np.log(prednum[idx][idj]) if lalnum[idx][idj] == 1 else -np.log(1-prednum[idx][idj]))\n",
    "    lossval.append(batchls)\n",
    "print(np.mean(lossval))"
   ]
  },
  {
   "cell_type": "code",
   "execution_count": 40,
   "id": "8d8eab8e",
   "metadata": {},
   "outputs": [
    {
     "data": {
      "text/plain": [
       "tensor([[-0.3814, -0.2724, -0.2542,  0.3756, -0.2859],\n",
       "        [ 0.3896,  0.4067, -0.1429,  0.2462,  0.1640],\n",
       "        [ 0.4463,  0.0791,  0.2656,  0.3696,  0.1456],\n",
       "        [-0.3468, -0.4192, -0.3198,  0.3152,  0.2527],\n",
       "        [ 0.0368,  0.2342, -0.0506, -0.3337,  0.2766]])"
      ]
     },
     "execution_count": 40,
     "metadata": {},
     "output_type": "execute_result"
    }
   ],
   "source": [
    "#  Weight initialization\n",
    "layer = nn.Linear(5,5)\n",
    "layer.weight.data"
   ]
  },
  {
   "cell_type": "code",
   "execution_count": 41,
   "id": "9deb0a76",
   "metadata": {},
   "outputs": [
    {
     "data": {
      "text/plain": [
       "tensor([[1.3691, 2.1398, 2.8614, 0.4641, 2.0295],\n",
       "        [0.8014, 0.8236, 2.9797, 1.8146, 2.8411],\n",
       "        [0.5542, 1.2961, 2.0996, 1.5575, 1.3365],\n",
       "        [1.1968, 0.8677, 2.7389, 0.0718, 0.4885],\n",
       "        [2.5856, 0.6687, 1.4631, 0.6552, 2.0199]])"
      ]
     },
     "execution_count": 41,
     "metadata": {},
     "output_type": "execute_result"
    }
   ],
   "source": [
    "# uniform initialisation\n",
    "nn.init.uniform_(layer.weight.data ,a=0.0, b=3)"
   ]
  },
  {
   "cell_type": "code",
   "execution_count": 42,
   "id": "28782815",
   "metadata": {},
   "outputs": [
    {
     "data": {
      "text/plain": [
       "tensor([[-0.5740,  0.1513, -0.6379,  2.9177,  0.9774],\n",
       "        [ 0.2109, -0.3061,  0.0631, -0.9514,  0.1492],\n",
       "        [ 0.4870, -1.3114, -1.1103,  0.3462,  0.2890],\n",
       "        [-0.7393, -0.5447, -0.4231, -0.6614, -0.1907],\n",
       "        [ 0.6741, -1.1770, -0.1573, -0.7402,  0.4964]])"
      ]
     },
     "execution_count": 42,
     "metadata": {},
     "output_type": "execute_result"
    }
   ],
   "source": [
    "# normal distribution\n",
    "nn.init.normal_(layer.weight.data, mean=0.0, std=1)"
   ]
  },
  {
   "cell_type": "code",
   "execution_count": 43,
   "id": "7c9069f4",
   "metadata": {},
   "outputs": [
    {
     "data": {
      "text/plain": [
       "tensor([[ 0.0693, -0.1161,  0.1725, -0.1047,  0.2251],\n",
       "        [ 0.0636,  0.0514,  0.0909,  0.3122,  0.0079],\n",
       "        [ 0.0495, -0.1005,  0.3939,  0.0447, -0.1368],\n",
       "        [-0.0799,  0.2358,  0.0437, -0.1911,  0.1313],\n",
       "        [ 0.0388,  0.2241,  0.0596,  0.0941,  0.1032]])"
      ]
     },
     "execution_count": 43,
     "metadata": {},
     "output_type": "execute_result"
    }
   ],
   "source": [
    "nn.init.normal_(layer.weight.data, mean=0.0, std=.2)"
   ]
  },
  {
   "cell_type": "code",
   "execution_count": 44,
   "id": "ac0df440",
   "metadata": {},
   "outputs": [
    {
     "data": {
      "text/plain": [
       "Parameter containing:\n",
       "tensor([0., 0., 0., 0., 0.], requires_grad=True)"
      ]
     },
     "execution_count": 44,
     "metadata": {},
     "output_type": "execute_result"
    }
   ],
   "source": [
    "# constant initialisation\n",
    "nn.init.constant_(layer.bias, 0)"
   ]
  },
  {
   "cell_type": "code",
   "execution_count": 45,
   "id": "4892d838",
   "metadata": {},
   "outputs": [
    {
     "data": {
      "text/plain": [
       "Parameter containing:\n",
       "tensor([0., 0., 0., 0., 0.], requires_grad=True)"
      ]
     },
     "execution_count": 45,
     "metadata": {},
     "output_type": "execute_result"
    }
   ],
   "source": [
    "nn.init.zeros_(layer.bias)"
   ]
  },
  {
   "cell_type": "code",
   "execution_count": 46,
   "id": "c9796ce3",
   "metadata": {},
   "outputs": [
    {
     "data": {
      "text/plain": [
       "Parameter containing:\n",
       "tensor([0., 0., 0., 0., 0.], requires_grad=True)"
      ]
     },
     "execution_count": 46,
     "metadata": {},
     "output_type": "execute_result"
    }
   ],
   "source": [
    "layer.bias"
   ]
  },
  {
   "cell_type": "code",
   "execution_count": 47,
   "id": "c6e013b6",
   "metadata": {},
   "outputs": [
    {
     "data": {
      "text/plain": [
       "tensor([[ 0.4891, -0.2698,  0.5441,  0.3525,  0.0539],\n",
       "        [-0.2120, -0.1250,  0.0570,  0.7301, -0.5012],\n",
       "        [-0.7615,  0.1359, -0.4973,  0.3138,  0.7186],\n",
       "        [-0.3663, -0.1827, -0.6322,  0.4439, -0.2556],\n",
       "        [ 0.5084, -0.2820, -0.3332,  0.7460, -0.3313]])"
      ]
     },
     "execution_count": 47,
     "metadata": {},
     "output_type": "execute_result"
    }
   ],
   "source": [
    "# xavier initialisation\n",
    "nn.init.xavier_uniform_(layer.weight.data, gain=1)"
   ]
  },
  {
   "cell_type": "code",
   "execution_count": 48,
   "id": "bc260325",
   "metadata": {},
   "outputs": [
    {
     "data": {
      "text/plain": [
       "tensor([[-0.8141, -0.4382, -0.6488,  0.2655, -0.0064],\n",
       "        [ 0.0124, -0.1171, -0.2666,  0.0931, -0.3748],\n",
       "        [ 0.2836,  0.5549, -0.0261,  0.7827,  0.6315],\n",
       "        [ 0.3743, -0.7614, -0.1684,  0.7350, -0.0661],\n",
       "        [-0.1197, -0.1065, -0.6699, -0.3331, -0.6612]])"
      ]
     },
     "execution_count": 48,
     "metadata": {},
     "output_type": "execute_result"
    }
   ],
   "source": [
    "nn.init.xavier_normal_(layer.weight.data, gain=1)"
   ]
  },
  {
   "cell_type": "code",
   "execution_count": 51,
   "id": "efe57667",
   "metadata": {},
   "outputs": [
    {
     "data": {
      "text/plain": [
       "(-3.0207485142289436, 3.486952626492752, -3.41629434426241, 2.9644774545153467)"
      ]
     },
     "execution_count": 51,
     "metadata": {},
     "output_type": "execute_result"
    },
    {
     "data": {
      "image/png": "[encoded data removed]",
      "text/plain": [
       "<Figure size 640x480 with 1 Axes>"
      ]
     },
     "metadata": {},
     "output_type": "display_data"
    }
   ],
   "source": [
    "# Covariance and variance\n",
    "x = np.random.normal(0,1,400)\n",
    "y = np.random.normal(0,1,400)\n",
    "x = np.vstack((x,y)).T\n",
    "\n",
    "plt.scatter(x[:, 0], x[:, 1])\n",
    "plt.title('Generated Data')\n",
    "plt.axis('equal')"
   ]
  },
  {
   "cell_type": "code",
   "execution_count": 53,
   "id": "d935aa23",
   "metadata": {},
   "outputs": [
    {
     "data": {
      "text/plain": [
       "array([[ 0.98456193, -0.02995081],\n",
       "       [-0.02995081,  1.05990687]])"
      ]
     },
     "execution_count": 53,
     "metadata": {},
     "output_type": "execute_result"
    }
   ],
   "source": [
    "def covar(x, y):\n",
    "    xbar, ybar = x.mean(), y.mean()\n",
    "    return np.sum((x - xbar)*(y - ybar))/(len(x) - 1)\n",
    "\n",
    "def covmat(x):\n",
    "    return np.array([[covar(x[0], x[0]), covar(x[0], x[1])], \\\n",
    "                    [covar(x[1], x[0]), covar(x[1], x[1])]])\n",
    "\n",
    "covmat(x.T)"
   ]
  },
  {
   "cell_type": "code",
   "execution_count": null,
   "id": "79b9945f",
   "metadata": {},
   "outputs": [],
   "source": []
  }
 ],
 "metadata": {
  "kernelspec": {
   "display_name": "Python 3 (ipykernel)",
   "language": "python",
   "name": "python3"
  },
  "language_info": {
   "codemirror_mode": {
    "name": "ipython",
    "version": 3
   },
   "file_extension": ".py",
   "mimetype": "text/x-python",
   "name": "python",
   "nbconvert_exporter": "python",
   "pygments_lexer": "ipython3",
   "version": "3.9.7"
  }
 },
 "nbformat": 4,
 "nbformat_minor": 5
}
