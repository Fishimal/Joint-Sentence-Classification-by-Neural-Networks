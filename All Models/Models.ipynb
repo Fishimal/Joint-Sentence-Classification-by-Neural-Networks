{
 "cells": [
  {
   "cell_type": "code",
   "execution_count": 1,
   "id": "a5a33626",
   "metadata": {},
   "outputs": [],
   "source": [
    "#function to read the lines of a document\n",
    "from sklearn.metrics import accuracy_score,precision_recall_fscore_support\n",
    "\n",
    "def Read(file):\n",
    "    with open(file,'r') as f:\n",
    "        return f.readlines()\n",
    "    \n",
    "def preprocess_text_with_line_numbers(filename):\n",
    "   \n",
    "    input_lines = Read(filename)\n",
    "    abstract_lines = \"\"  # create an empty abstract\n",
    "    abstract_samples = []  # create an empty list of abstracts\n",
    "    \n",
    "    # Loop through each line in target file\n",
    "    for line in input_lines:\n",
    "        if line.startswith('###'):\n",
    "            abstract_id = line\n",
    "            abstract_lines = \"\" # reset abstract string\n",
    "        elif line.isspace():\n",
    "            abstract_line_split = abstract_lines.splitlines() # split abstract into separate lines\n",
    "            \n",
    "            # Iterate through each line in abstract and count them at the same time\n",
    "            for abstract_line_number,abstract_line in enumerate(abstract_line_split):\n",
    "                line_data = {} # create empty dict to store data from line\n",
    "                target_text_split = abstract_line.split('\\t') # split target label from text\n",
    "                line_data['target'] = target_text_split[0] # get target label\n",
    "                line_data[\"text\"] = target_text_split[1].lower() # get target text and lower it\n",
    "                line_data['line_number'] = abstract_line_number # what number line does the line appear in the abstract?\n",
    "                line_data['total_lines'] = len(abstract_line_split) - 1 # how many total lines are in the abstract? (start from 0)\n",
    "                abstract_samples.append(line_data)\n",
    "        \n",
    "        else:abstract_lines += line\n",
    "            \n",
    "    return abstract_samples              \n",
    "\n",
    "\n",
    "def calculate_results(y_true,y_pred):\n",
    "    # Calculate model accuracy\n",
    "    model_accuracy=accuracy_score(y_true,y_pred)*100\n",
    "    # Calculate model precision, recall and f1 score using \"weighted\" average\n",
    "    model_precision,model_recall,model_f1,_ = precision_recall_fscore_support(y_true,y_pred,average=\"weighted\")\n",
    "    model_results = {\"accuracy\": model_accuracy,\n",
    "                    \"precision\": model_precision,\n",
    "                    \"recall\": model_recall,\n",
    "                    \"f1-score\": model_f1}\n",
    "    \n",
    "    return model_results\n"
   ]
  },
  {
   "cell_type": "code",
   "execution_count": 2,
   "id": "a4376405",
   "metadata": {},
   "outputs": [],
   "source": [
    "import pandas as pd"
   ]
  },
  {
   "cell_type": "code",
   "execution_count": 3,
   "id": "268181db",
   "metadata": {},
   "outputs": [],
   "source": [
    "# Get data from file and preprocess it\n",
    "train_df = pd.DataFrame(preprocess_text_with_line_numbers(\"20k_abstracts_numbers_with_@/train.txt\"))\n",
    "val_df = pd.DataFrame(preprocess_text_with_line_numbers(\"20k_abstracts_numbers_with_@/dev.txt\"))\n",
    "test_df = pd.DataFrame(preprocess_text_with_line_numbers(\"20k_abstracts_numbers_with_@/test.txt\"))"
   ]
  },
  {
   "cell_type": "code",
   "execution_count": 4,
   "id": "9ebb0ebd",
   "metadata": {},
   "outputs": [
    {
     "data": {
      "text/plain": [
       "(180040, 30212, 30135)"
      ]
     },
     "execution_count": 4,
     "metadata": {},
     "output_type": "execute_result"
    }
   ],
   "source": [
    "# Convert abstract text lines into lists \n",
    "train_sentences = train_df[\"text\"].to_list()\n",
    "val_sentences = val_df[\"text\"].to_list()\n",
    "test_sentences = test_df[\"text\"].to_list()\n",
    "len(train_sentences), len(val_sentences), len(test_sentences)"
   ]
  },
  {
   "cell_type": "code",
   "execution_count": 5,
   "id": "edb4542c",
   "metadata": {},
   "outputs": [
    {
     "data": {
      "text/plain": [
       "['to investigate the efficacy of @ weeks of daily low-dose oral prednisolone in improving pain , mobility , and systemic low-grade inflammation in the short term and whether the effect would be sustained at @ weeks in older adults with moderate to severe knee osteoarthritis ( oa ) .',\n",
       " 'a total of @ patients with primary knee oa were randomized @:@ ; @ received @ mg/day of prednisolone and @ received placebo for @ weeks .',\n",
       " 'outcome measures included pain reduction and improvement in function scores and systemic inflammation markers .',\n",
       " 'pain was assessed using the visual analog pain scale ( @-@ mm ) .',\n",
       " 'secondary outcome measures included the western ontario and mcmaster universities osteoarthritis index scores , patient global assessment ( pga ) of the severity of knee oa , and @-min walk distance ( @mwd ) .',\n",
       " 'serum levels of interleukin @ ( il-@ ) , il-@ , tumor necrosis factor ( tnf ) - , and high-sensitivity c-reactive protein ( hscrp ) were measured .',\n",
       " 'there was a clinically relevant reduction in the intervention group compared to the placebo group for knee pain , physical function , pga , and @mwd at @ weeks .',\n",
       " 'the mean difference between treatment arms ( @ % ci ) was @ ( @-@ @ ) , p < @ ; @ ( @-@ @ ) , p < @ ; @ ( @-@ @ ) , p < @ ; and @ ( @-@ @ ) , p < @ , respectively .',\n",
       " 'further , there was a clinically relevant reduction in the serum levels of il-@ , il-@ , tnf - , and hscrp at @ weeks in the intervention group when compared to the placebo group .',\n",
       " 'these differences remained significant at @ weeks .']"
      ]
     },
     "execution_count": 5,
     "metadata": {},
     "output_type": "execute_result"
    }
   ],
   "source": [
    "train_sentences[:10]"
   ]
  },
  {
   "cell_type": "code",
   "execution_count": 6,
   "id": "5e9049d5",
   "metadata": {},
   "outputs": [
    {
     "data": {
      "text/html": [
       "<div>\n",
       "<style scoped>\n",
       "    .dataframe tbody tr th:only-of-type {\n",
       "        vertical-align: middle;\n",
       "    }\n",
       "\n",
       "    .dataframe tbody tr th {\n",
       "        vertical-align: top;\n",
       "    }\n",
       "\n",
       "    .dataframe thead th {\n",
       "        text-align: right;\n",
       "    }\n",
       "</style>\n",
       "<table border=\"1\" class=\"dataframe\">\n",
       "  <thead>\n",
       "    <tr style=\"text-align: right;\">\n",
       "      <th></th>\n",
       "      <th>target</th>\n",
       "      <th>text</th>\n",
       "      <th>line_number</th>\n",
       "      <th>total_lines</th>\n",
       "    </tr>\n",
       "  </thead>\n",
       "  <tbody>\n",
       "    <tr>\n",
       "      <th>0</th>\n",
       "      <td>OBJECTIVE</td>\n",
       "      <td>to investigate the efficacy of @ weeks of dail...</td>\n",
       "      <td>0</td>\n",
       "      <td>11</td>\n",
       "    </tr>\n",
       "    <tr>\n",
       "      <th>1</th>\n",
       "      <td>METHODS</td>\n",
       "      <td>a total of @ patients with primary knee oa wer...</td>\n",
       "      <td>1</td>\n",
       "      <td>11</td>\n",
       "    </tr>\n",
       "    <tr>\n",
       "      <th>2</th>\n",
       "      <td>METHODS</td>\n",
       "      <td>outcome measures included pain reduction and i...</td>\n",
       "      <td>2</td>\n",
       "      <td>11</td>\n",
       "    </tr>\n",
       "    <tr>\n",
       "      <th>3</th>\n",
       "      <td>METHODS</td>\n",
       "      <td>pain was assessed using the visual analog pain...</td>\n",
       "      <td>3</td>\n",
       "      <td>11</td>\n",
       "    </tr>\n",
       "    <tr>\n",
       "      <th>4</th>\n",
       "      <td>METHODS</td>\n",
       "      <td>secondary outcome measures included the wester...</td>\n",
       "      <td>4</td>\n",
       "      <td>11</td>\n",
       "    </tr>\n",
       "    <tr>\n",
       "      <th>...</th>\n",
       "      <td>...</td>\n",
       "      <td>...</td>\n",
       "      <td>...</td>\n",
       "      <td>...</td>\n",
       "    </tr>\n",
       "    <tr>\n",
       "      <th>180035</th>\n",
       "      <td>RESULTS</td>\n",
       "      <td>for the absolute change in percent atheroma vo...</td>\n",
       "      <td>7</td>\n",
       "      <td>11</td>\n",
       "    </tr>\n",
       "    <tr>\n",
       "      <th>180036</th>\n",
       "      <td>RESULTS</td>\n",
       "      <td>for pav , a significantly greater percentage o...</td>\n",
       "      <td>8</td>\n",
       "      <td>11</td>\n",
       "    </tr>\n",
       "    <tr>\n",
       "      <th>180037</th>\n",
       "      <td>RESULTS</td>\n",
       "      <td>both strategies had acceptable side effect pro...</td>\n",
       "      <td>9</td>\n",
       "      <td>11</td>\n",
       "    </tr>\n",
       "    <tr>\n",
       "      <th>180038</th>\n",
       "      <td>CONCLUSIONS</td>\n",
       "      <td>compared with standard statin monotherapy , th...</td>\n",
       "      <td>10</td>\n",
       "      <td>11</td>\n",
       "    </tr>\n",
       "    <tr>\n",
       "      <th>180039</th>\n",
       "      <td>CONCLUSIONS</td>\n",
       "      <td>( plaque regression with cholesterol absorptio...</td>\n",
       "      <td>11</td>\n",
       "      <td>11</td>\n",
       "    </tr>\n",
       "  </tbody>\n",
       "</table>\n",
       "<p>180040 rows × 4 columns</p>\n",
       "</div>"
      ],
      "text/plain": [
       "             target                                               text  \\\n",
       "0         OBJECTIVE  to investigate the efficacy of @ weeks of dail...   \n",
       "1           METHODS  a total of @ patients with primary knee oa wer...   \n",
       "2           METHODS  outcome measures included pain reduction and i...   \n",
       "3           METHODS  pain was assessed using the visual analog pain...   \n",
       "4           METHODS  secondary outcome measures included the wester...   \n",
       "...             ...                                                ...   \n",
       "180035      RESULTS  for the absolute change in percent atheroma vo...   \n",
       "180036      RESULTS  for pav , a significantly greater percentage o...   \n",
       "180037      RESULTS  both strategies had acceptable side effect pro...   \n",
       "180038  CONCLUSIONS  compared with standard statin monotherapy , th...   \n",
       "180039  CONCLUSIONS  ( plaque regression with cholesterol absorptio...   \n",
       "\n",
       "        line_number  total_lines  \n",
       "0                 0           11  \n",
       "1                 1           11  \n",
       "2                 2           11  \n",
       "3                 3           11  \n",
       "4                 4           11  \n",
       "...             ...          ...  \n",
       "180035            7           11  \n",
       "180036            8           11  \n",
       "180037            9           11  \n",
       "180038           10           11  \n",
       "180039           11           11  \n",
       "\n",
       "[180040 rows x 4 columns]"
      ]
     },
     "execution_count": 6,
     "metadata": {},
     "output_type": "execute_result"
    }
   ],
   "source": [
    "train_df"
   ]
  },
  {
   "cell_type": "code",
   "execution_count": 7,
   "id": "f7c2cc02",
   "metadata": {},
   "outputs": [
    {
     "name": "stdout",
     "output_type": "stream",
     "text": [
      "METHODS        59353\n",
      "RESULTS        57953\n",
      "CONCLUSIONS    27168\n",
      "BACKGROUND     21727\n",
      "OBJECTIVE      13839\n",
      "Name: target, dtype: int64\n"
     ]
    },
    {
     "data": {
      "image/png": "[encoded data removed]",
      "text/plain": [
       "<Figure size 432x288 with 1 Axes>"
      ]
     },
     "metadata": {
      "needs_background": "light"
     },
     "output_type": "display_data"
    }
   ],
   "source": [
    "print(train_df.target.value_counts())\n",
    "train_df.target.value_counts().plot.bar();"
   ]
  },
  {
   "cell_type": "code",
   "execution_count": 8,
   "id": "a40383ba",
   "metadata": {},
   "outputs": [],
   "source": [
    "import seaborn as sns\n",
    "import matplotlib.pyplot as plt"
   ]
  },
  {
   "cell_type": "code",
   "execution_count": 9,
   "id": "34e47f2f",
   "metadata": {},
   "outputs": [
    {
     "name": "stderr",
     "output_type": "stream",
     "text": [
      "C:\\Users\\user\\AppData\\Local\\Programs\\Python\\Python310\\lib\\site-packages\\seaborn\\_decorators.py:36: FutureWarning: Pass the following variable as a keyword arg: x. From version 0.12, the only valid positional argument will be `data`, and passing other arguments without an explicit keyword will result in an error or misinterpretation.\n",
      "  warnings.warn(\n"
     ]
    },
    {
     "data": {
      "text/plain": [
       "<AxesSubplot:xlabel='target', ylabel='count'>"
      ]
     },
     "execution_count": 9,
     "metadata": {},
     "output_type": "execute_result"
    },
    {
     "data": {
      "image/png": "[encoded data removed]",
      "text/plain": [
       "<Figure size 720x504 with 1 Axes>"
      ]
     },
     "metadata": {
      "needs_background": "light"
     },
     "output_type": "display_data"
    }
   ],
   "source": [
    "train_df['target'].value_counts()\n",
    "plt.figure(figsize=(10,7))\n",
    "sns.countplot('target',data=train_df)"
   ]
  },
  {
   "cell_type": "markdown",
   "id": "bcf447ed",
   "metadata": {},
   "source": [
    "# Make numeric labels (ML models require numeric labels)                                            "
   ]
  },
  {
   "cell_type": "code",
   "execution_count": 10,
   "id": "07c5a8f1",
   "metadata": {},
   "outputs": [
    {
     "data": {
      "text/plain": [
       "array([[0., 0., 0., 1., 0.],\n",
       "       [0., 0., 1., 0., 0.],\n",
       "       [0., 0., 1., 0., 0.],\n",
       "       ...,\n",
       "       [0., 0., 0., 0., 1.],\n",
       "       [0., 1., 0., 0., 0.],\n",
       "       [0., 1., 0., 0., 0.]])"
      ]
     },
     "execution_count": 10,
     "metadata": {},
     "output_type": "execute_result"
    }
   ],
   "source": [
    "from sklearn.preprocessing import OneHotEncoder\n",
    "one_hot_encoder = OneHotEncoder(sparse=False)\n",
    "train_labels_one_hot = one_hot_encoder.fit_transform(train_df[\"target\"].to_numpy().reshape(-1,1))\n",
    "val_labels_one_hot = one_hot_encoder.transform(val_df['target'].to_numpy().reshape(-1,1))\n",
    "test_labels_one_hot = one_hot_encoder.transform(test_df['target'].to_numpy().reshape(-1,1))\n",
    "\n",
    "train_labels_one_hot"
   ]
  },
  {
   "cell_type": "code",
   "execution_count": 11,
   "id": "9b037646",
   "metadata": {},
   "outputs": [
    {
     "data": {
      "text/plain": [
       "(array([3, 2, 2, ..., 4, 1, 1]),\n",
       " array([0, 0, 3, ..., 4, 1, 1]),\n",
       " array([0, 4, 4, ..., 4, 4, 1]))"
      ]
     },
     "execution_count": 11,
     "metadata": {},
     "output_type": "execute_result"
    }
   ],
   "source": [
    "# Extract labels (\"target\" columns) and encode them into integers \n",
    "from sklearn.preprocessing import LabelEncoder\n",
    "label_encoder = LabelEncoder()\n",
    "train_labels_encoded = label_encoder.fit_transform(train_df['target'].to_numpy())\n",
    "val_labels_encoded = label_encoder.fit_transform(val_df['target'].to_numpy())\n",
    "test_labels_encoded = label_encoder.fit_transform(test_df['target'].to_numpy())\n",
    "\n",
    "# Check what training labels look like\n",
    "train_labels_encoded , val_labels_encoded , test_labels_encoded"
   ]
  },
  {
   "cell_type": "code",
   "execution_count": 12,
   "id": "818e2c3b",
   "metadata": {},
   "outputs": [
    {
     "data": {
      "text/plain": [
       "(5,\n",
       " array(['BACKGROUND', 'CONCLUSIONS', 'METHODS', 'OBJECTIVE', 'RESULTS'],\n",
       "       dtype=object))"
      ]
     },
     "execution_count": 12,
     "metadata": {},
     "output_type": "execute_result"
    }
   ],
   "source": [
    "class_names = label_encoder.classes_\n",
    "num_classes = len(label_encoder.classes_)\n",
    "num_classes, class_names"
   ]
  },
  {
   "cell_type": "code",
   "execution_count": 13,
   "id": "6181e8e3",
   "metadata": {},
   "outputs": [],
   "source": [
    "from sklearn.feature_extraction.text import TfidfVectorizer\n",
    "from sklearn.naive_bayes import MultinomialNB\n",
    "from sklearn.pipeline import Pipeline\n",
    "\n",
    "# Create a pipeline\n",
    "model_0 = Pipeline([\n",
    "    (\"tf-idf\",TfidfVectorizer()),\n",
    "    (\"clf\",MultinomialNB())\n",
    "])\n",
    "\n",
    "# Fit the pipeline to the training data\n",
    "model_0.fit(X=train_sentences,y=train_labels_encoded);"
   ]
  },
  {
   "cell_type": "code",
   "execution_count": 14,
   "id": "a56d59df",
   "metadata": {},
   "outputs": [
    {
     "data": {
      "text/plain": [
       "0.7218323844829869"
      ]
     },
     "execution_count": 14,
     "metadata": {},
     "output_type": "execute_result"
    }
   ],
   "source": [
    "# Evaluate baseline on validation dataset\n",
    "model_0.score(X=val_sentences,y=val_labels_encoded)"
   ]
  },
  {
   "cell_type": "code",
   "execution_count": 15,
   "id": "4e75d2c9",
   "metadata": {},
   "outputs": [
    {
     "data": {
      "text/plain": [
       "array([4, 1, 3, ..., 4, 4, 1])"
      ]
     },
     "execution_count": 15,
     "metadata": {},
     "output_type": "execute_result"
    }
   ],
   "source": [
    "baseline_preds = model_0.predict(val_sentences)\n",
    "baseline_preds"
   ]
  },
  {
   "cell_type": "code",
   "execution_count": 16,
   "id": "ba0aa897",
   "metadata": {},
   "outputs": [
    {
     "data": {
      "text/plain": [
       "{'accuracy': 72.1832384482987,\n",
       " 'precision': 0.7186466952323352,\n",
       " 'recall': 0.7218323844829869,\n",
       " 'f1-score': 0.6989250353450294}"
      ]
     },
     "execution_count": 16,
     "metadata": {},
     "output_type": "execute_result"
    }
   ],
   "source": [
    "# Calculate baseline results\n",
    "baseline_results = calculate_results(y_true=val_labels_encoded,y_pred=baseline_preds)\n",
    "baseline_results"
   ]
  },
  {
   "cell_type": "code",
   "execution_count": 17,
   "id": "afee991c",
   "metadata": {},
   "outputs": [],
   "source": [
    "import pickle\n",
    "pickle.dump(model_0, open('model_0_tfidf_MNB', 'wb'))"
   ]
  },
  {
   "cell_type": "code",
   "execution_count": 18,
   "id": "78498f40",
   "metadata": {},
   "outputs": [],
   "source": [
    "s = '''WLAN, Access Point (AP) and its asso-\n",
    "ciated mobile stations (MSs) forms a basic service set (BSS). In\n",
    "\n",
    "such network a continuous service coverage with an acceptable\n",
    "throughput while the MSs roam around the network is highly\n",
    "desirable. Limited size of WLAN BSSs with increased deployment\n",
    "results more transmission overlapping and frequent hand-offs.\n",
    "This significantly increases the delay. On the other hand, selection\n",
    "of appropriate target AP is another major issue as it crucially\n",
    "determines the obtained throughput. In this paper we propose a\n",
    "load aware channel probing (LACP) towards an efficient hand-off\n",
    "\n",
    "addressing these two issues simultaneously. Based on the accumu-\n",
    "lated load on the APs in range the proposed approach efficiently\n",
    "\n",
    "reduces the probe-count during hand-off by avoiding unnecessary\n",
    "channel probing and selects the appropriate destination AP.\n",
    "The objective is to reduce the hand-off delay and enhanced\n",
    "obtained throughput. We first present a motivational example\n",
    "then develop an elegant algorithm. The novelty of the idea is\n",
    "established through extensive simulations. We have shown that\n",
    "the performance of the proposed approach is highly comparable\n",
    "to the other approaches from existing literature.''' \n",
    "l= [' '.join(i.split()) for i in s.split('.')][:-1]"
   ]
  },
  {
   "cell_type": "code",
   "execution_count": 19,
   "id": "7fb6b1e5",
   "metadata": {},
   "outputs": [
    {
     "data": {
      "text/plain": [
       "array([2, 0, 4, 4, 0, 1, 1, 2, 2, 1, 0])"
      ]
     },
     "execution_count": 19,
     "metadata": {},
     "output_type": "execute_result"
    }
   ],
   "source": [
    "model_0.predict(l)"
   ]
  },
  {
   "cell_type": "code",
   "execution_count": 20,
   "id": "a03784d2",
   "metadata": {},
   "outputs": [],
   "source": [
    "d = {0:'BACKGROUND', 1:'CONCLUSIONS', 2:'METHODS', 3:'OBJECTIVE', 4:'RESULTS'}\n",
    "i = model_0.predict(l).tolist()\n",
    "res=[]\n",
    "for m,n in zip(i,l):\n",
    "    lst = []\n",
    "    target,val = d[m],n\n",
    "    lst.append(target)\n",
    "    lst.append(val)\n",
    "    res.append(lst)\n",
    "df = pd.DataFrame(res, columns=['Target', 'Value'])\n",
    "    "
   ]
  },
  {
   "cell_type": "code",
   "execution_count": 21,
   "id": "dd6915d9",
   "metadata": {},
   "outputs": [
    {
     "data": {
      "text/html": [
       "<div>\n",
       "<style scoped>\n",
       "    .dataframe tbody tr th:only-of-type {\n",
       "        vertical-align: middle;\n",
       "    }\n",
       "\n",
       "    .dataframe tbody tr th {\n",
       "        vertical-align: top;\n",
       "    }\n",
       "\n",
       "    .dataframe thead th {\n",
       "        text-align: right;\n",
       "    }\n",
       "</style>\n",
       "<table border=\"1\" class=\"dataframe\">\n",
       "  <thead>\n",
       "    <tr style=\"text-align: right;\">\n",
       "      <th></th>\n",
       "      <th>Target</th>\n",
       "      <th>Value</th>\n",
       "    </tr>\n",
       "  </thead>\n",
       "  <tbody>\n",
       "    <tr>\n",
       "      <th>0</th>\n",
       "      <td>METHODS</td>\n",
       "      <td>WLAN, Access Point (AP) and its asso- ciated m...</td>\n",
       "    </tr>\n",
       "    <tr>\n",
       "      <th>1</th>\n",
       "      <td>BACKGROUND</td>\n",
       "      <td>In such network a continuous service coverage ...</td>\n",
       "    </tr>\n",
       "    <tr>\n",
       "      <th>2</th>\n",
       "      <td>RESULTS</td>\n",
       "      <td>Limited size of WLAN BSSs with increased deplo...</td>\n",
       "    </tr>\n",
       "    <tr>\n",
       "      <th>3</th>\n",
       "      <td>RESULTS</td>\n",
       "      <td>This significantly increases the delay</td>\n",
       "    </tr>\n",
       "    <tr>\n",
       "      <th>4</th>\n",
       "      <td>BACKGROUND</td>\n",
       "      <td>On the other hand, selection of appropriate ta...</td>\n",
       "    </tr>\n",
       "    <tr>\n",
       "      <th>5</th>\n",
       "      <td>CONCLUSIONS</td>\n",
       "      <td>In this paper we propose a load aware channel ...</td>\n",
       "    </tr>\n",
       "    <tr>\n",
       "      <th>6</th>\n",
       "      <td>CONCLUSIONS</td>\n",
       "      <td>Based on the accumu- lated load on the APs in ...</td>\n",
       "    </tr>\n",
       "    <tr>\n",
       "      <th>7</th>\n",
       "      <td>METHODS</td>\n",
       "      <td>The objective is to reduce the hand-off delay ...</td>\n",
       "    </tr>\n",
       "    <tr>\n",
       "      <th>8</th>\n",
       "      <td>METHODS</td>\n",
       "      <td>We first present a motivational example then d...</td>\n",
       "    </tr>\n",
       "    <tr>\n",
       "      <th>9</th>\n",
       "      <td>CONCLUSIONS</td>\n",
       "      <td>The novelty of the idea is established through...</td>\n",
       "    </tr>\n",
       "    <tr>\n",
       "      <th>10</th>\n",
       "      <td>BACKGROUND</td>\n",
       "      <td>We have shown that the performance of the prop...</td>\n",
       "    </tr>\n",
       "  </tbody>\n",
       "</table>\n",
       "</div>"
      ],
      "text/plain": [
       "         Target                                              Value\n",
       "0       METHODS  WLAN, Access Point (AP) and its asso- ciated m...\n",
       "1    BACKGROUND  In such network a continuous service coverage ...\n",
       "2       RESULTS  Limited size of WLAN BSSs with increased deplo...\n",
       "3       RESULTS             This significantly increases the delay\n",
       "4    BACKGROUND  On the other hand, selection of appropriate ta...\n",
       "5   CONCLUSIONS  In this paper we propose a load aware channel ...\n",
       "6   CONCLUSIONS  Based on the accumu- lated load on the APs in ...\n",
       "7       METHODS  The objective is to reduce the hand-off delay ...\n",
       "8       METHODS  We first present a motivational example then d...\n",
       "9   CONCLUSIONS  The novelty of the idea is established through...\n",
       "10   BACKGROUND  We have shown that the performance of the prop..."
      ]
     },
     "execution_count": 21,
     "metadata": {},
     "output_type": "execute_result"
    }
   ],
   "source": [
    "df"
   ]
  },
  {
   "cell_type": "code",
   "execution_count": 22,
   "id": "ca8aa37d",
   "metadata": {},
   "outputs": [
    {
     "data": {
      "text/html": [
       "<div>\n",
       "<style scoped>\n",
       "    .dataframe tbody tr th:only-of-type {\n",
       "        vertical-align: middle;\n",
       "    }\n",
       "\n",
       "    .dataframe tbody tr th {\n",
       "        vertical-align: top;\n",
       "    }\n",
       "\n",
       "    .dataframe thead th {\n",
       "        text-align: right;\n",
       "    }\n",
       "</style>\n",
       "<table border=\"1\" class=\"dataframe\">\n",
       "  <thead>\n",
       "    <tr style=\"text-align: right;\">\n",
       "      <th></th>\n",
       "      <th>Target</th>\n",
       "      <th>Value</th>\n",
       "    </tr>\n",
       "  </thead>\n",
       "  <tbody>\n",
       "    <tr>\n",
       "      <th>0</th>\n",
       "      <td>BACKGROUND</td>\n",
       "      <td>[In such network a continuous service coverage...</td>\n",
       "    </tr>\n",
       "    <tr>\n",
       "      <th>1</th>\n",
       "      <td>CONCLUSIONS</td>\n",
       "      <td>[In this paper we propose a load aware channel...</td>\n",
       "    </tr>\n",
       "    <tr>\n",
       "      <th>2</th>\n",
       "      <td>METHODS</td>\n",
       "      <td>[WLAN, Access Point (AP) and its asso- ciated ...</td>\n",
       "    </tr>\n",
       "    <tr>\n",
       "      <th>3</th>\n",
       "      <td>RESULTS</td>\n",
       "      <td>[Limited size of WLAN BSSs with increased depl...</td>\n",
       "    </tr>\n",
       "  </tbody>\n",
       "</table>\n",
       "</div>"
      ],
      "text/plain": [
       "        Target                                              Value\n",
       "0   BACKGROUND  [In such network a continuous service coverage...\n",
       "1  CONCLUSIONS  [In this paper we propose a load aware channel...\n",
       "2      METHODS  [WLAN, Access Point (AP) and its asso- ciated ...\n",
       "3      RESULTS  [Limited size of WLAN BSSs with increased depl..."
      ]
     },
     "execution_count": 22,
     "metadata": {},
     "output_type": "execute_result"
    }
   ],
   "source": [
    "df = df['Value'].groupby([df.Target]).apply(list).reset_index()\n",
    "df"
   ]
  },
  {
   "cell_type": "code",
   "execution_count": 23,
   "id": "6351c49c",
   "metadata": {},
   "outputs": [
    {
     "data": {
      "text/plain": [
       "array([list(['In such network a continuous service coverage with an acceptable throughput while the MSs roam around the network is highly desirable', 'On the other hand, selection of appropriate target AP is another major issue as it crucially determines the obtained throughput', 'We have shown that the performance of the proposed approach is highly comparable to the other approaches from existing literature']),\n",
       "       list(['In this paper we propose a load aware channel probing (LACP) towards an efficient hand-off addressing these two issues simultaneously', 'Based on the accumu- lated load on the APs in range the proposed approach efficiently reduces the probe-count during hand-off by avoiding unnecessary channel probing and selects the appropriate destination AP', 'The novelty of the idea is established through extensive simulations']),\n",
       "       list(['WLAN, Access Point (AP) and its asso- ciated mobile stations (MSs) forms a basic service set (BSS)', 'The objective is to reduce the hand-off delay and enhanced obtained throughput', 'We first present a motivational example then develop an elegant algorithm']),\n",
       "       list(['Limited size of WLAN BSSs with increased deployment results more transmission overlapping and frequent hand-offs', 'This significantly increases the delay'])],\n",
       "      dtype=object)"
      ]
     },
     "execution_count": 23,
     "metadata": {},
     "output_type": "execute_result"
    }
   ],
   "source": [
    "df['Value'].values"
   ]
  },
  {
   "cell_type": "markdown",
   "id": "158858f9",
   "metadata": {},
   "source": [
    "# Model 1 Convo1D"
   ]
  },
  {
   "cell_type": "code",
   "execution_count": 24,
   "id": "4a046375",
   "metadata": {},
   "outputs": [],
   "source": [
    "import numpy as np\n",
    "import tensorflow as tf\n",
    "from tensorflow.keras import layers"
   ]
  },
  {
   "cell_type": "code",
   "execution_count": 25,
   "id": "47a2e296",
   "metadata": {},
   "outputs": [
    {
     "data": {
      "text/plain": [
       "26.338269273494777"
      ]
     },
     "execution_count": 25,
     "metadata": {},
     "output_type": "execute_result"
    }
   ],
   "source": [
    "# How long is each sentence on average?\n",
    "sent_lens = [len(sentence.split()) for sentence in train_sentences]\n",
    "avg_sent_lens = np.mean(sent_lens)\n",
    "avg_sent_lens\n",
    "# har sentence me average 26 words hai"
   ]
  },
  {
   "cell_type": "code",
   "execution_count": 26,
   "id": "8d941a05",
   "metadata": {},
   "outputs": [
    {
     "data": {
      "text/plain": [
       "(array([1.5999e+05, 1.8760e+04, 1.1510e+03, 9.9000e+01, 2.8000e+01,\n",
       "        1.0000e+01, 2.0000e+00]),\n",
       " array([  1.        ,  43.14285714,  85.28571429, 127.42857143,\n",
       "        169.57142857, 211.71428571, 253.85714286, 296.        ]),\n",
       " <BarContainer object of 7 artists>)"
      ]
     },
     "execution_count": 26,
     "metadata": {},
     "output_type": "execute_result"
    },
    {
     "data": {
      "image/png": "[encoded data removed]",
      "text/plain": [
       "<Figure size 432x288 with 1 Axes>"
      ]
     },
     "metadata": {
      "needs_background": "light"
     },
     "output_type": "display_data"
    }
   ],
   "source": [
    "import matplotlib.pyplot as plt\n",
    "plt.hist(sent_lens,bins=7)"
   ]
  },
  {
   "cell_type": "code",
   "execution_count": 27,
   "id": "1304f186",
   "metadata": {},
   "outputs": [
    {
     "data": {
      "text/plain": [
       "55"
      ]
     },
     "execution_count": 27,
     "metadata": {},
     "output_type": "execute_result"
    }
   ],
   "source": [
    "output_seq_len = int(np.percentile(sent_lens,95))\n",
    "output_seq_len"
   ]
  },
  {
   "cell_type": "code",
   "execution_count": 28,
   "id": "fa94e761",
   "metadata": {},
   "outputs": [],
   "source": [
    "# 68k vocabulary size hai\n",
    "max_tokens = 68000\n",
    "max_token_length = 55"
   ]
  },
  {
   "cell_type": "code",
   "execution_count": 29,
   "id": "911e33a7",
   "metadata": {},
   "outputs": [],
   "source": [
    "from tensorflow.keras.layers.experimental.preprocessing import TextVectorization\n",
    "\n",
    "text_vectorizer = TextVectorization(max_tokens=max_tokens, # number of words in vocabulary\n",
    "                                output_sequence_length=max_token_length)  # desired output length of vectorized sequences"
   ]
  },
  {
   "cell_type": "code",
   "execution_count": 30,
   "id": "bc15a482",
   "metadata": {},
   "outputs": [],
   "source": [
    "text_vectorizer.adapt(train_sentences)"
   ]
  },
  {
   "cell_type": "code",
   "execution_count": 31,
   "id": "e3e79b37",
   "metadata": {},
   "outputs": [
    {
     "name": "stdout",
     "output_type": "stream",
     "text": [
      "Text:\n",
      " there were no differences between the groups in terms of clinical data , except tumour stage , which was more advanced in the high-ligation group ( p = @ ) .\n",
      "\n",
      "Length of text: 31\n",
      "\n",
      "Vectorized text:\n",
      " [[   61     9    33   102    30     2    24     5   614     4    47   100\n",
      "   1081  1749   531   126    10    69   588     5     2 38325    13    14\n",
      "      0     0     0     0     0     0     0     0     0     0     0     0\n",
      "      0     0     0     0     0     0     0     0     0     0     0     0\n",
      "      0     0     0     0     0     0     0]]\n"
     ]
    }
   ],
   "source": [
    "import random\n",
    "target_sentence = random.choice(train_sentences)\n",
    "print(f\"Text:\\n {target_sentence}\")\n",
    "print(f\"\\nLength of text: {len(target_sentence.split())}\")\n",
    "print(f\"\\nVectorized text:\\n {text_vectorizer([target_sentence])}\")"
   ]
  },
  {
   "cell_type": "code",
   "execution_count": 32,
   "id": "8c18ed4c",
   "metadata": {},
   "outputs": [],
   "source": [
    "#text_vectorizer('Brother Car Bike Cars Sister Mother Boy Girl')"
   ]
  },
  {
   "cell_type": "code",
   "execution_count": 33,
   "id": "28819172",
   "metadata": {},
   "outputs": [
    {
     "data": {
      "text/plain": [
       "(64841,\n",
       " ['', '[UNK]', 'the', 'and', 'of'],\n",
       " ['aainduced', 'aaigroup', 'aachener', 'aachen', 'aaacp'])"
      ]
     },
     "execution_count": 33,
     "metadata": {},
     "output_type": "execute_result"
    }
   ],
   "source": [
    "a = text_vectorizer.get_vocabulary()\n",
    "len(a),a[:5],a[-5:]"
   ]
  },
  {
   "cell_type": "code",
   "execution_count": 34,
   "id": "096094d9",
   "metadata": {},
   "outputs": [
    {
     "name": "stdout",
     "output_type": "stream",
     "text": [
      "Sentence before vectorization:\n",
      "there were no differences between the groups in terms of clinical data , except tumour stage , which was more advanced in the high-ligation group ( p = @ ) .\n",
      "\n",
      "Sentence after vectorization (before embedding):\n",
      "[[   61     9    33   102    30     2    24     5   614     4    47   100\n",
      "   1081  1749   531   126    10    69   588     5     2 38325    13    14\n",
      "      0     0     0     0     0     0     0     0     0     0     0     0\n",
      "      0     0     0     0     0     0     0     0     0     0     0     0\n",
      "      0     0     0     0     0     0     0]]\n",
      "\n",
      "Sentence after embedding:\n",
      "[[[ 0.02601102 -0.04906195  0.02056846 ...  0.02442059  0.03326763\n",
      "    0.03258094]\n",
      "  [ 0.03009829  0.02883946 -0.02359685 ...  0.01718214  0.04443095\n",
      "    0.00802362]\n",
      "  [-0.02141457  0.03966577 -0.00920556 ... -0.04815021  0.01061258\n",
      "    0.02475375]\n",
      "  ...\n",
      "  [ 0.01746089  0.03267049 -0.01112397 ... -0.03250869  0.04383978\n",
      "   -0.03421547]\n",
      "  [ 0.01746089  0.03267049 -0.01112397 ... -0.03250869  0.04383978\n",
      "   -0.03421547]\n",
      "  [ 0.01746089  0.03267049 -0.01112397 ... -0.03250869  0.04383978\n",
      "   -0.03421547]]]\n",
      "\n",
      "Embedded sentence shape: (1, 55, 256)\n"
     ]
    }
   ],
   "source": [
    "token_embed = layers.Embedding(input_dim=len(a),# length of vocabulary\n",
    "                              output_dim=256,\n",
    "                              mask_zero=True, # Use masking to handle variable sequence lengths (save space)\n",
    "                              name=\"token_embedding\")\n",
    "\n",
    "# Show example embedding\n",
    "print(f\"Sentence before vectorization:\\n{target_sentence}\\n\")\n",
    "vectorized_sentence = text_vectorizer([target_sentence])\n",
    "print(f\"Sentence after vectorization (before embedding):\\n{vectorized_sentence}\\n\")\n",
    "embedded_sentence = token_embed(vectorized_sentence)\n",
    "print(f\"Sentence after embedding:\\n{embedded_sentence}\\n\")\n",
    "print(f\"Embedded sentence shape: {embedded_sentence.shape}\")"
   ]
  },
  {
   "cell_type": "code",
   "execution_count": null,
   "id": "c0dd6948",
   "metadata": {},
   "outputs": [],
   "source": []
  },
  {
   "cell_type": "code",
   "execution_count": 35,
   "id": "b24376c1",
   "metadata": {},
   "outputs": [
    {
     "data": {
      "text/plain": [
       "<TensorSliceDataset element_spec=(TensorSpec(shape=(), dtype=tf.string, name=None), TensorSpec(shape=(5,), dtype=tf.float64, name=None))>"
      ]
     },
     "execution_count": 35,
     "metadata": {},
     "output_type": "execute_result"
    }
   ],
   "source": [
    "# Turn our data into TensorFlow Datasets\n",
    "train_dataset = tf.data.Dataset.from_tensor_slices((train_sentences,train_labels_one_hot))\n",
    "valid_dataset = tf.data.Dataset.from_tensor_slices((val_sentences,val_labels_one_hot))\n",
    "test_dataset = tf.data.Dataset.from_tensor_slices((test_sentences,test_labels_one_hot))\n",
    "\n",
    "train_dataset"
   ]
  },
  {
   "cell_type": "code",
   "execution_count": 36,
   "id": "8647e592",
   "metadata": {},
   "outputs": [
    {
     "data": {
      "text/plain": [
       "<PrefetchDataset element_spec=(TensorSpec(shape=(None,), dtype=tf.string, name=None), TensorSpec(shape=(None, 5), dtype=tf.float64, name=None))>"
      ]
     },
     "execution_count": 36,
     "metadata": {},
     "output_type": "execute_result"
    }
   ],
   "source": [
    "# Take the TensorSliceDataset's and turn them into prefetched batches\n",
    "train_dataset = train_dataset.batch(32).prefetch(tf.data.AUTOTUNE)\n",
    "valid_dataset = valid_dataset.batch(32).prefetch(tf.data.AUTOTUNE)\n",
    "test_dataset = test_dataset.batch(32).prefetch(tf.data.AUTOTUNE)\n",
    "\n",
    "train_dataset"
   ]
  },
  {
   "cell_type": "code",
   "execution_count": 37,
   "id": "d991834d",
   "metadata": {},
   "outputs": [],
   "source": [
    "# Create 1D convolutional model to process sequences\n",
    "inputs = layers.Input(shape=(1,),dtype=tf.string)\n",
    "text_vectors = text_vectorizer(inputs) # vectorize text inputs\n",
    "token_embeddings = token_embed(text_vectors) # create embedding\n",
    "x = layers.Conv1D(64,kernel_size=5,padding=\"same\",activation=\"relu\")(token_embeddings)\n",
    "x=layers.GlobalAveragePooling1D()(x) # condense the output of our feature vector\n",
    "outputs = layers.Dense(num_classes,activation=\"softmax\")(x)\n",
    "model_1 = tf.keras.Model(inputs,outputs)\n",
    "\n",
    "model_1.compile(loss=\"categorical_crossentropy\",\n",
    "               optimizer=tf.keras.optimizers.Adam(),\n",
    "               metrics=['accuracy'])"
   ]
  },
  {
   "cell_type": "code",
   "execution_count": 38,
   "id": "17df7df7",
   "metadata": {},
   "outputs": [
    {
     "name": "stdout",
     "output_type": "stream",
     "text": [
      "Model: \"model\"\n",
      "_________________________________________________________________\n",
      " Layer (type)                Output Shape              Param #   \n",
      "=================================================================\n",
      " input_1 (InputLayer)        [(None, 1)]               0         \n",
      "                                                                 \n",
      " text_vectorization (TextVec  (None, 55)               0         \n",
      " torization)                                                     \n",
      "                                                                 \n",
      " token_embedding (Embedding)  (None, 55, 256)          16599296  \n",
      "                                                                 \n",
      " conv1d (Conv1D)             (None, 55, 64)            81984     \n",
      "                                                                 \n",
      " global_average_pooling1d (G  (None, 64)               0         \n",
      " lobalAveragePooling1D)                                          \n",
      "                                                                 \n",
      " dense (Dense)               (None, 5)                 325       \n",
      "                                                                 \n",
      "=================================================================\n",
      "Total params: 16,681,605\n",
      "Trainable params: 16,681,605\n",
      "Non-trainable params: 0\n",
      "_________________________________________________________________\n"
     ]
    }
   ],
   "source": [
    "model_1.summary()"
   ]
  },
  {
   "cell_type": "code",
   "execution_count": 39,
   "id": "4195e5e6",
   "metadata": {},
   "outputs": [
    {
     "name": "stdout",
     "output_type": "stream",
     "text": [
      "Epoch 1/5\n",
      "1125/1125 [==============================] - 318s 282ms/step - loss: 0.7508 - accuracy: 0.7128 - val_loss: 0.6100 - val_accuracy: 0.7794\n",
      "Epoch 2/5\n",
      "1125/1125 [==============================] - 339s 301ms/step - loss: 0.5876 - accuracy: 0.7889 - val_loss: 0.5582 - val_accuracy: 0.8024\n",
      "Epoch 3/5\n",
      "1125/1125 [==============================] - 326s 290ms/step - loss: 0.5756 - accuracy: 0.7946 - val_loss: 0.5344 - val_accuracy: 0.8135\n",
      "Epoch 4/5\n",
      "1125/1125 [==============================] - 321s 285ms/step - loss: 0.5409 - accuracy: 0.8078 - val_loss: 0.5183 - val_accuracy: 0.8161\n",
      "Epoch 5/5\n",
      "1125/1125 [==============================] - 323s 287ms/step - loss: 0.5350 - accuracy: 0.8104 - val_loss: 0.5236 - val_accuracy: 0.8123\n"
     ]
    }
   ],
   "source": [
    "model_1_history = model_1.fit(train_dataset,\n",
    "                              steps_per_epoch = int(0.2*len(train_dataset)),\n",
    "                              epochs=5,\n",
    "                              validation_data=valid_dataset,\n",
    "                              validation_steps=int(0.2*len(valid_dataset)))"
   ]
  },
  {
   "cell_type": "code",
   "execution_count": 40,
   "id": "9a16a394",
   "metadata": {},
   "outputs": [
    {
     "name": "stdout",
     "output_type": "stream",
     "text": [
      "945/945 [==============================] - 8s 8ms/step - loss: 0.5267 - accuracy: 0.8116\n"
     ]
    },
    {
     "data": {
      "text/plain": [
       "[0.5266614556312561, 0.8116311430931091]"
      ]
     },
     "execution_count": 40,
     "metadata": {},
     "output_type": "execute_result"
    }
   ],
   "source": [
    "model_1.evaluate(valid_dataset)"
   ]
  },
  {
   "cell_type": "code",
   "execution_count": 41,
   "id": "76a073d8",
   "metadata": {},
   "outputs": [
    {
     "name": "stdout",
     "output_type": "stream",
     "text": [
      "945/945 [==============================] - 8s 8ms/step\n"
     ]
    },
    {
     "data": {
      "text/plain": [
       "array([[5.57684124e-01, 1.04631945e-01, 1.22684218e-01, 1.58765420e-01,\n",
       "        5.62342927e-02],\n",
       "       [5.07422149e-01, 2.35563844e-01, 7.80455815e-03, 2.21511737e-01,\n",
       "        2.76976898e-02],\n",
       "       [2.21910790e-01, 5.79888979e-03, 1.14151090e-03, 7.71083355e-01,\n",
       "        6.54372416e-05],\n",
       "       ...,\n",
       "       [3.15878424e-06, 1.17544027e-04, 1.66459335e-03, 5.19157538e-06,\n",
       "        9.98209476e-01],\n",
       "       [1.07474878e-01, 4.07939732e-01, 1.58317879e-01, 7.35454261e-02,\n",
       "        2.52722144e-01],\n",
       "       [2.87872925e-02, 9.41649020e-01, 2.42682900e-02, 7.53978558e-04,\n",
       "        4.54130257e-03]], dtype=float32)"
      ]
     },
     "execution_count": 41,
     "metadata": {},
     "output_type": "execute_result"
    }
   ],
   "source": [
    "model_1_pred_probs = model_1.predict(valid_dataset)\n",
    "model_1_pred_probs"
   ]
  },
  {
   "cell_type": "code",
   "execution_count": 42,
   "id": "c5011a23",
   "metadata": {},
   "outputs": [
    {
     "data": {
      "text/plain": [
       "<tf.Tensor: shape=(30212,), dtype=int64, numpy=array([0, 0, 3, ..., 4, 1, 1], dtype=int64)>"
      ]
     },
     "execution_count": 42,
     "metadata": {},
     "output_type": "execute_result"
    }
   ],
   "source": [
    "model_1_preds = tf.argmax(model_1_pred_probs, axis=1)\n",
    "model_1_preds"
   ]
  },
  {
   "cell_type": "code",
   "execution_count": 43,
   "id": "caf49e1a",
   "metadata": {},
   "outputs": [
    {
     "data": {
      "text/plain": [
       "{'accuracy': 81.1631139944393,\n",
       " 'precision': 0.8087281713167872,\n",
       " 'recall': 0.811631139944393,\n",
       " 'f1-score': 0.8078007085694875}"
      ]
     },
     "execution_count": 43,
     "metadata": {},
     "output_type": "execute_result"
    }
   ],
   "source": [
    "model_1_results = calculate_results(y_true=val_labels_encoded,\n",
    "                                    y_pred=model_1_preds)\n",
    "model_1_results"
   ]
  },
  {
   "cell_type": "code",
   "execution_count": 58,
   "id": "2470754e",
   "metadata": {},
   "outputs": [
    {
     "name": "stdout",
     "output_type": "stream",
     "text": [
      "1/1 [==============================] - 0s 44ms/step\n"
     ]
    }
   ],
   "source": [
    "pred = model_1.predict(l)"
   ]
  },
  {
   "cell_type": "code",
   "execution_count": 60,
   "id": "6992190a",
   "metadata": {},
   "outputs": [
    {
     "data": {
      "text/plain": [
       "<tf.Tensor: shape=(11,), dtype=int64, numpy=array([2, 0, 1, 1, 2, 0, 1, 0, 2, 4, 0], dtype=int64)>"
      ]
     },
     "execution_count": 60,
     "metadata": {},
     "output_type": "execute_result"
    }
   ],
   "source": [
    "tf.argmax(pred, axis=1)"
   ]
  },
  {
   "cell_type": "code",
   "execution_count": 61,
   "id": "f1e5c6ed",
   "metadata": {},
   "outputs": [],
   "source": [
    "pickle.dump(model_0, open('model_1_Conv1D_TokenEmbedding', 'wb'))"
   ]
  }
 ],
 "metadata": {
  "kernelspec": {
   "display_name": "Python 3 (ipykernel)",
   "language": "python",
   "name": "python3"
  },
  "language_info": {
   "codemirror_mode": {
    "name": "ipython",
    "version": 3
   },
   "file_extension": ".py",
   "mimetype": "text/x-python",
   "name": "python",
   "nbconvert_exporter": "python",
   "pygments_lexer": "ipython3",
   "version": "3.10.5"
  }
 },
 "nbformat": 4,
 "nbformat_minor": 5
}
